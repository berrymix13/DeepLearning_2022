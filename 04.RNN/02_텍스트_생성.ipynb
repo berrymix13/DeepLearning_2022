{
  "nbformat": 4,
  "nbformat_minor": 0,
  "metadata": {
    "colab": {
      "name": "02_텍스트 생성.ipynb",
      "provenance": []
    },
    "kernelspec": {
      "name": "python3",
      "display_name": "Python 3"
    },
    "language_info": {
      "name": "python"
    }
  },
  "cells": [
    {
      "cell_type": "markdown",
      "source": [
        "# RNN을 이용한 텍스트 생성"
      ],
      "metadata": {
        "id": "u5mV5cYv86V8"
      }
    },
    {
      "cell_type": "code",
      "source": [
        "import numpy as np\n",
        "import tensorflow as tf\n",
        "seed = 2022\n",
        "np.random.seed(seed)\n",
        "tf.random.set_seed(seed)"
      ],
      "metadata": {
        "id": "STWmzhMK9BBH"
      },
      "execution_count": 2,
      "outputs": []
    },
    {
      "cell_type": "code",
      "execution_count": 3,
      "metadata": {
        "id": "FiQu0Dct8uil"
      },
      "outputs": [],
      "source": [
        "text = '''경마장에 있는 말이 뛰고 있다.\n",
        "그의 말이 법이다.\n",
        "가는 말이 고와야 오는 말이 곱다.'''"
      ]
    },
    {
      "cell_type": "markdown",
      "source": [
        "## 1.텍스트전처리\n",
        "- keras와 sklearn이 다름"
      ],
      "metadata": {
        "id": "FfsUsRpA9aLk"
      }
    },
    {
      "cell_type": "code",
      "source": [
        "from tensorflow.keras.preprocessing.text import Tokenizer           # X\n",
        "from tensorflow.keras.preprocessing.sequence import pad_sequences   # X\n",
        "from tensorflow.keras.utils import to_categorical                   # y"
      ],
      "metadata": {
        "id": "EQ4V89O09Rt9"
      },
      "execution_count": 4,
      "outputs": []
    },
    {
      "cell_type": "markdown",
      "source": [
        "### 1.1.단어 집합 생성"
      ],
      "metadata": {
        "id": "LjtF4njr919L"
      }
    },
    {
      "cell_type": "code",
      "source": [
        "token = Tokenizer()\n",
        "token.fit_on_texts([text])        # 머신러닝에서의 fit_transform"
      ],
      "metadata": {
        "id": "AAqfhKuY9xEm"
      },
      "execution_count": 5,
      "outputs": []
    },
    {
      "cell_type": "code",
      "source": [
        "# BOW 같은 효과\n",
        "#   특징\n",
        "#    1) 가나다 순서가 아닌, 많이 나온 순서로 되어있음\n",
        "#    2) index가 1부터 메겨짐. (timesteps라는 제약 때운)\n",
        "#       어떤 데이터는 채우고 어떤 데이터는 자름.\n",
        "#       채우는 것을 padding이라고 하고, 보통 0으로 채움\n",
        "#       padding 시 0이 사용되기 때문에 단어 매핑이 1부터 시작함\n",
        "token.word_index"
      ],
      "metadata": {
        "colab": {
          "base_uri": "https://localhost:8080/"
        },
        "id": "Owx-bkmT-Ih-",
        "outputId": "7c38295d-5712-4034-c340-358b2883540e"
      },
      "execution_count": 6,
      "outputs": [
        {
          "output_type": "execute_result",
          "data": {
            "text/plain": [
              "{'가는': 8,\n",
              " '경마장에': 2,\n",
              " '고와야': 9,\n",
              " '곱다': 11,\n",
              " '그의': 6,\n",
              " '뛰고': 4,\n",
              " '말이': 1,\n",
              " '법이다': 7,\n",
              " '오는': 10,\n",
              " '있는': 3,\n",
              " '있다': 5}"
            ]
          },
          "metadata": {},
          "execution_count": 6
        }
      ]
    },
    {
      "cell_type": "code",
      "source": [
        "# 단어 집합 크기\n",
        "vocab_size = len(token.word_index) + 1      # 0때문에 1을 더해줘야 됨.\n",
        "vocab_size"
      ],
      "metadata": {
        "colab": {
          "base_uri": "https://localhost:8080/"
        },
        "id": "x8wOw0mK-M9V",
        "outputId": "44c2a453-b7c2-4cc4-b09a-1717299c40a8"
      },
      "execution_count": 7,
      "outputs": [
        {
          "output_type": "execute_result",
          "data": {
            "text/plain": [
              "12"
            ]
          },
          "metadata": {},
          "execution_count": 7
        }
      ]
    },
    {
      "cell_type": "code",
      "source": [
        "token.texts_to_sequences(['그의 말이 법이다.'])"
      ],
      "metadata": {
        "colab": {
          "base_uri": "https://localhost:8080/"
        },
        "id": "F0CSneTTAT1G",
        "outputId": "d744017b-a747-4b2e-e2fd-c1d815a5698b"
      },
      "execution_count": 8,
      "outputs": [
        {
          "output_type": "execute_result",
          "data": {
            "text/plain": [
              "[[6, 1, 7]]"
            ]
          },
          "metadata": {},
          "execution_count": 8
        }
      ]
    },
    {
      "cell_type": "code",
      "source": [
        "# Corpus를 인코딩한 결과\n",
        "for line in text.split('\\n'):\n",
        "    encoded = token.texts_to_sequences([line])[0]  # 항상 리스트로 감쌀 것\n",
        "    print(encoded)"
      ],
      "metadata": {
        "colab": {
          "base_uri": "https://localhost:8080/"
        },
        "id": "gNcK4x8WBY81",
        "outputId": "823d1bc9-2d0c-4a18-e32b-cbe04362dbd8"
      },
      "execution_count": 9,
      "outputs": [
        {
          "output_type": "stream",
          "name": "stdout",
          "text": [
            "[2, 3, 1, 4, 5]\n",
            "[6, 1, 7]\n",
            "[8, 1, 9, 10, 1, 11]\n"
          ]
        }
      ]
    },
    {
      "cell_type": "markdown",
      "source": [
        "## 2.Sequence 생성"
      ],
      "metadata": {
        "id": "hEmPF-Z5CIX-"
      }
    },
    {
      "cell_type": "code",
      "source": [
        "sequences = []\n",
        "for line in text.split('\\n'):\n",
        "    encoded = token.texts_to_sequences([line])[0] \n",
        "    for i in range(1, len(encoded)):\n",
        "        sequences.append(encoded[:i+1])\n",
        "sequences"
      ],
      "metadata": {
        "colab": {
          "base_uri": "https://localhost:8080/"
        },
        "id": "OxWVsMgpB1w-",
        "outputId": "4aab5f27-fb26-4120-956d-c6e4704c82cf"
      },
      "execution_count": 12,
      "outputs": [
        {
          "output_type": "execute_result",
          "data": {
            "text/plain": [
              "[[2, 3],\n",
              " [2, 3, 1],\n",
              " [2, 3, 1, 4],\n",
              " [2, 3, 1, 4, 5],\n",
              " [6, 1],\n",
              " [6, 1, 7],\n",
              " [8, 1],\n",
              " [8, 1, 9],\n",
              " [8, 1, 9, 10],\n",
              " [8, 1, 9, 10, 1],\n",
              " [8, 1, 9, 10, 1, 11]]"
            ]
          },
          "metadata": {},
          "execution_count": 12
        }
      ]
    },
    {
      "cell_type": "code",
      "source": [
        "# sequence 중 가장 긴 것\n",
        "max_len = max(len(seq) for seq in sequences)\n",
        "max_len"
      ],
      "metadata": {
        "colab": {
          "base_uri": "https://localhost:8080/"
        },
        "id": "JxuMWs7AD1oX",
        "outputId": "9bd43840-99bd-49ae-d455-b67ed8b482a5"
      },
      "execution_count": 15,
      "outputs": [
        {
          "output_type": "execute_result",
          "data": {
            "text/plain": [
              "6"
            ]
          },
          "metadata": {},
          "execution_count": 15
        }
      ]
    },
    {
      "cell_type": "markdown",
      "source": [
        "### 2.1. Padding\n",
        "- 전체 샘플 길이를 max_len에 맞추도록 0을 추가\n",
        "- 앞 부분에 0을 채울것\n",
        "- 앞 쪽을 채우는 pre 옵션이 default 값임"
      ],
      "metadata": {
        "id": "hOS4hpc8HB9k"
      }
    },
    {
      "cell_type": "code",
      "source": [
        "sequences = pad_sequences(sequences, maxlen = max_len, padding = 'pre') # padding = 'pre'는 안써줘도 됨\n",
        "sequences"
      ],
      "metadata": {
        "colab": {
          "base_uri": "https://localhost:8080/"
        },
        "id": "-7LW2xp1GbLu",
        "outputId": "fb1e34f8-f58c-48ef-cdf0-40bc7cb53c83"
      },
      "execution_count": 16,
      "outputs": [
        {
          "output_type": "execute_result",
          "data": {
            "text/plain": [
              "array([[ 0,  0,  0,  0,  2,  3],\n",
              "       [ 0,  0,  0,  2,  3,  1],\n",
              "       [ 0,  0,  2,  3,  1,  4],\n",
              "       [ 0,  2,  3,  1,  4,  5],\n",
              "       [ 0,  0,  0,  0,  6,  1],\n",
              "       [ 0,  0,  0,  6,  1,  7],\n",
              "       [ 0,  0,  0,  0,  8,  1],\n",
              "       [ 0,  0,  0,  8,  1,  9],\n",
              "       [ 0,  0,  8,  1,  9, 10],\n",
              "       [ 0,  8,  1,  9, 10,  1],\n",
              "       [ 8,  1,  9, 10,  1, 11]], dtype=int32)"
            ]
          },
          "metadata": {},
          "execution_count": 16
        }
      ]
    },
    {
      "cell_type": "code",
      "source": [
        "X = sequences[:, :-1]\n",
        "y = sequences[:, -1]\n",
        "X.shape, y.shape"
      ],
      "metadata": {
        "colab": {
          "base_uri": "https://localhost:8080/"
        },
        "id": "ZK6zQtfeIK-W",
        "outputId": "4a309f90-e39e-458c-9853-d7e7e785d0b5"
      },
      "execution_count": 23,
      "outputs": [
        {
          "output_type": "execute_result",
          "data": {
            "text/plain": [
              "((11, 5), (11,))"
            ]
          },
          "metadata": {},
          "execution_count": 23
        }
      ]
    },
    {
      "cell_type": "code",
      "source": [
        "Y = to_categorical(y)\n",
        "Y.shape"
      ],
      "metadata": {
        "colab": {
          "base_uri": "https://localhost:8080/"
        },
        "id": "Y-hz5kk9IWa1",
        "outputId": "2091c6c1-f29f-4e99-e06d-315678e2ab8b"
      },
      "execution_count": 24,
      "outputs": [
        {
          "output_type": "execute_result",
          "data": {
            "text/plain": [
              "(11, 12)"
            ]
          },
          "metadata": {},
          "execution_count": 24
        }
      ]
    },
    {
      "cell_type": "markdown",
      "source": [
        "## 3.모델\n",
        "1. Embedding : 밀집벡터 형태로 바꿈\n",
        "     - 문장의 개수(3) * 단어의 수(11)에서 11보다 차원을 줄임\n",
        "     - 노드 수 의 고민이 사라짐?\n",
        "2. SimpleRNN\n",
        "3. Dense"
      ],
      "metadata": {
        "id": "So8cNHi2IabD"
      }
    },
    {
      "cell_type": "code",
      "source": [
        "from tensorflow.keras.models import Sequential\n",
        "from tensorflow.keras.layers import Embedding, SimpleRNN, Dense "
      ],
      "metadata": {
        "id": "0PimVGc1IshP"
      },
      "execution_count": 26,
      "outputs": []
    },
    {
      "cell_type": "code",
      "source": [
        "# Embedding = 4, SimpleRNN = 32\n",
        "model = Sequential([\n",
        "    Embedding(input_dim=vocab_size, output_dim=4, input_length = max_len - 1),\n",
        "    SimpleRNN(units = 32),\n",
        "    Dense(vocab_size, activation = 'softmax')\n",
        "])\n",
        "model.summary()"
      ],
      "metadata": {
        "colab": {
          "base_uri": "https://localhost:8080/"
        },
        "id": "KQ7KTdIUH5ge",
        "outputId": "6acecdcd-f8ff-4305-980d-883ebcbcf234"
      },
      "execution_count": 27,
      "outputs": [
        {
          "output_type": "stream",
          "name": "stdout",
          "text": [
            "Model: \"sequential\"\n",
            "_________________________________________________________________\n",
            " Layer (type)                Output Shape              Param #   \n",
            "=================================================================\n",
            " embedding (Embedding)       (None, 5, 4)              48        \n",
            "                                                                 \n",
            " simple_rnn (SimpleRNN)      (None, 32)                1184      \n",
            "                                                                 \n",
            " dense (Dense)               (None, 12)                396       \n",
            "                                                                 \n",
            "=================================================================\n",
            "Total params: 1,628\n",
            "Trainable params: 1,628\n",
            "Non-trainable params: 0\n",
            "_________________________________________________________________\n"
          ]
        }
      ]
    },
    {
      "cell_type": "code",
      "source": [
        "(4  + 32) * 32 + 32\n",
        "# Embedding의 개수 4가 RNN 입장에서는 feature 개수가 됨(input)dim\n",
        "# 그렇게 때문에 RNN에서는 이제 unit의 수만 써주면 됨"
      ],
      "metadata": {
        "colab": {
          "base_uri": "https://localhost:8080/"
        },
        "id": "tWt1HbfAN3Ne",
        "outputId": "f383132b-e6eb-40d1-f509-03123078817d"
      },
      "execution_count": 44,
      "outputs": [
        {
          "output_type": "execute_result",
          "data": {
            "text/plain": [
              "1184"
            ]
          },
          "metadata": {},
          "execution_count": 44
        }
      ]
    },
    {
      "cell_type": "code",
      "source": [
        "model.compile('adam', 'categorical_crossentropy', metrics=['accuracy'])"
      ],
      "metadata": {
        "id": "7Oatu6aKKO-w"
      },
      "execution_count": 28,
      "outputs": []
    },
    {
      "cell_type": "code",
      "source": [
        "hist = model.fit(X, Y, epochs = 200, verbose = 0)"
      ],
      "metadata": {
        "id": "4FpZjQMsKiMN"
      },
      "execution_count": 29,
      "outputs": []
    },
    {
      "cell_type": "code",
      "source": [
        "hist.history['accuracy'][-1]"
      ],
      "metadata": {
        "colab": {
          "base_uri": "https://localhost:8080/"
        },
        "id": "XTzaOgErKqb-",
        "outputId": "3b617ade-6502-4f1a-d735-f4c0b5032d82"
      },
      "execution_count": 31,
      "outputs": [
        {
          "output_type": "execute_result",
          "data": {
            "text/plain": [
              "1.0"
            ]
          },
          "metadata": {},
          "execution_count": 31
        }
      ]
    },
    {
      "cell_type": "markdown",
      "source": [
        "### 3.1.모델검증"
      ],
      "metadata": {
        "id": "5Ce8sl5LLCMC"
      }
    },
    {
      "cell_type": "code",
      "source": [
        "from my_util import sentence_generation\n",
        "sentence_generation(model, token, max_len, '경마장에', 5)\n",
        "# 모델, 토크나이저, maxlenm 현재 단어, 반복횟수"
      ],
      "metadata": {
        "colab": {
          "base_uri": "https://localhost:8080/",
          "height": 36
        },
        "id": "J931oXpQK7TW",
        "outputId": "00a3c15c-9820-4045-9039-f18248d016c1"
      },
      "execution_count": 34,
      "outputs": [
        {
          "output_type": "execute_result",
          "data": {
            "text/plain": [
              "'경마장에 있는 말이 뛰고 있다 곱다'"
            ],
            "application/vnd.google.colaboratory.intrinsic+json": {
              "type": "string"
            }
          },
          "metadata": {},
          "execution_count": 34
        }
      ]
    },
    {
      "cell_type": "code",
      "source": [
        "sentence_generation(model, token, max_len, '가는', 5)"
      ],
      "metadata": {
        "colab": {
          "base_uri": "https://localhost:8080/",
          "height": 36
        },
        "id": "9p781UOUMIQ4",
        "outputId": "d56473ab-d2b9-4423-fca2-27f5fa869249"
      },
      "execution_count": 35,
      "outputs": [
        {
          "output_type": "execute_result",
          "data": {
            "text/plain": [
              "'가는 말이 고와야 오는 말이 곱다'"
            ],
            "application/vnd.google.colaboratory.intrinsic+json": {
              "type": "string"
            }
          },
          "metadata": {},
          "execution_count": 35
        }
      ]
    },
    {
      "cell_type": "code",
      "source": [
        "sentence_generation(model, token, max_len, '오는', 2)"
      ],
      "metadata": {
        "colab": {
          "base_uri": "https://localhost:8080/",
          "height": 36
        },
        "id": "_7MruTT4MWlW",
        "outputId": "ea22fd0d-754c-405d-f876-438eacf15e16"
      },
      "execution_count": 39,
      "outputs": [
        {
          "output_type": "execute_result",
          "data": {
            "text/plain": [
              "'오는 말이 말이'"
            ],
            "application/vnd.google.colaboratory.intrinsic+json": {
              "type": "string"
            }
          },
          "metadata": {},
          "execution_count": 39
        }
      ]
    },
    {
      "cell_type": "markdown",
      "source": [
        "## 4.모델변화\n",
        "- Embedding vector 개수 [2, 4, 6]\n",
        "- RNN 유닛 개수 [24, 32, 48]"
      ],
      "metadata": {
        "id": "BqA08ZtWMicj"
      }
    },
    {
      "cell_type": "code",
      "source": [
        "for n_embed in [2, 4, 6]:\n",
        "    for n_unit in [24, 32, 48]:\n",
        "        model = Sequential([\n",
        "            Embedding(input_dim = vocab_size, output_dim = n_embed, input_length = max_len - 1),\n",
        "            SimpleRNN(units = n_unit),\n",
        "            Dense(vocab_size, activation = 'softmax')\n",
        "        ])\n",
        "        model.compile('adam', 'categorical_crossentropy', metrics=['accuracy'])\n",
        "        hist = model.fit(X, Y, epochs = 200, verbose = 0)\n",
        "        print('='*20)\n",
        "        print(f'Embedding vector :{n_embed}, RNN_unit :{n_unit}')\n",
        "        print(f'정확도{hist.history[\"accuracy\"][-1]:.4f}')\n",
        "        print(sentence_generation(model, token, max_len, '경마장에', 4))\n",
        "        print(sentence_generation(model, token, max_len, '그의', 2))\n",
        "        print(sentence_generation(model, token, max_len, '가는', 5))\n",
        "        print()"
      ],
      "metadata": {
        "colab": {
          "base_uri": "https://localhost:8080/"
        },
        "id": "H_ix22xLMaV-",
        "outputId": "5ab1f928-875f-43da-fee8-d9479c490a95"
      },
      "execution_count": 42,
      "outputs": [
        {
          "output_type": "stream",
          "name": "stdout",
          "text": [
            "====================\n",
            "Embedding vector :2, RNN_unit :24\n",
            "정확도0.9091\n",
            "경마장에 말이 말이 뛰고 있다\n",
            "그의 말이 법이다\n",
            "가는 말이 고와야 오는 말이 곱다\n",
            "\n",
            "====================\n",
            "Embedding vector :2, RNN_unit :32\n",
            "정확도0.8182\n",
            "경마장에 말이 말이 뛰고 있다\n",
            "그의 말이 법이다\n",
            "가는 말이 말이 말이 말이 곱다\n",
            "\n",
            "====================\n",
            "Embedding vector :2, RNN_unit :48\n",
            "정확도1.0000\n",
            "경마장에 있는 말이 뛰고 있다\n",
            "그의 말이 법이다\n",
            "가는 말이 고와야 오는 말이 곱다\n",
            "\n",
            "====================\n",
            "Embedding vector :4, RNN_unit :24\n",
            "정확도0.9091\n",
            "경마장에 말이 말이 뛰고 있다\n",
            "그의 말이 법이다\n",
            "가는 말이 고와야 오는 말이 곱다\n",
            "\n",
            "====================\n",
            "Embedding vector :4, RNN_unit :32\n",
            "정확도0.9091\n",
            "경마장에 말이 법이다 오는 말이\n",
            "그의 말이 법이다\n",
            "가는 말이 고와야 오는 말이 곱다\n",
            "\n",
            "====================\n",
            "Embedding vector :4, RNN_unit :48\n",
            "정확도0.9091\n",
            "경마장에 말이 말이 뛰고 있다\n",
            "그의 말이 법이다\n",
            "가는 말이 고와야 오는 말이 곱다\n",
            "\n",
            "====================\n",
            "Embedding vector :6, RNN_unit :24\n",
            "정확도1.0000\n",
            "경마장에 있는 말이 뛰고 있다\n",
            "그의 말이 법이다\n",
            "가는 말이 고와야 오는 말이 곱다\n",
            "\n",
            "====================\n",
            "Embedding vector :6, RNN_unit :32\n",
            "정확도1.0000\n",
            "경마장에 있는 말이 뛰고 있다\n",
            "그의 말이 법이다\n",
            "가는 말이 고와야 오는 말이 곱다\n",
            "\n",
            "====================\n",
            "Embedding vector :6, RNN_unit :48\n",
            "정확도1.0000\n",
            "경마장에 있는 말이 뛰고 있다\n",
            "그의 말이 법이다\n",
            "가는 말이 고와야 오는 말이 곱다\n",
            "\n"
          ]
        }
      ]
    },
    {
      "cell_type": "code",
      "source": [
        ""
      ],
      "metadata": {
        "id": "3dgbjGYMPzL_"
      },
      "execution_count": null,
      "outputs": []
    }
  ]
}