{
  "nbformat": 4,
  "nbformat_minor": 0,
  "metadata": {
    "colab": {
      "name": "31_ReutersNews_LSTM.ipynb",
      "provenance": [],
      "collapsed_sections": []
    },
    "kernelspec": {
      "name": "python3",
      "display_name": "Python 3"
    },
    "language_info": {
      "name": "python"
    },
    "accelerator": "GPU"
  },
  "cells": [
    {
      "cell_type": "markdown",
      "source": [
        "# 로이터 뉴스 분류하기 - LSTM"
      ],
      "metadata": {
        "id": "VsKoQ5kpLQz5"
      }
    },
    {
      "cell_type": "markdown",
      "source": [
        "## 1.데이터탐색"
      ],
      "metadata": {
        "id": "21b3tE0yLXAT"
      }
    },
    {
      "cell_type": "code",
      "execution_count": 1,
      "metadata": {
        "id": "lF_3Y33qK0n9"
      },
      "outputs": [],
      "source": [
        "import numpy as np\n",
        "import seaborn as sns\n",
        "import matplotlib.pyplot as plt\n",
        "from tensorflow.keras.datasets import reuters"
      ]
    },
    {
      "cell_type": "code",
      "source": [
        "import warnings\n",
        "warnings.filterwarnings('ignore')"
      ],
      "metadata": {
        "id": "8Y6cXF_AOgOJ"
      },
      "execution_count": 2,
      "outputs": []
    },
    {
      "cell_type": "code",
      "source": [
        "(X_train, y_train), (X_test, y_test) = reuters.load_data()\n",
        "len(X_train),len(X_test) "
      ],
      "metadata": {
        "colab": {
          "base_uri": "https://localhost:8080/"
        },
        "id": "iUjhKSrCLkTi",
        "outputId": "51aff353-c497-49fc-a770-41667d301a8a"
      },
      "execution_count": 2,
      "outputs": [
        {
          "output_type": "stream",
          "name": "stdout",
          "text": [
            "Downloading data from https://storage.googleapis.com/tensorflow/tf-keras-datasets/reuters.npz\n",
            "2113536/2110848 [==============================] - 0s 0us/step\n",
            "2121728/2110848 [==============================] - 0s 0us/step\n"
          ]
        },
        {
          "output_type": "execute_result",
          "data": {
            "text/plain": [
              "(8982, 2246)"
            ]
          },
          "metadata": {},
          "execution_count": 2
        }
      ]
    },
    {
      "cell_type": "code",
      "source": [
        "# 카테고리 개수\n",
        "max(y_train) + 1"
      ],
      "metadata": {
        "colab": {
          "base_uri": "https://localhost:8080/"
        },
        "id": "yGrS4d33Lut7",
        "outputId": "9976e030-dd22-4c82-ecab-18f6c78ebd88"
      },
      "execution_count": 6,
      "outputs": [
        {
          "output_type": "execute_result",
          "data": {
            "text/plain": [
              "46"
            ]
          },
          "metadata": {},
          "execution_count": 6
        }
      ]
    },
    {
      "cell_type": "code",
      "source": [
        "# 첫 번째 뉴스 \n",
        "print(X_train[0])"
      ],
      "metadata": {
        "colab": {
          "base_uri": "https://localhost:8080/"
        },
        "id": "bYeiBKuhL0vj",
        "outputId": "44671a53-7db6-4a29-f59c-7a404aad67da"
      },
      "execution_count": 7,
      "outputs": [
        {
          "output_type": "stream",
          "name": "stdout",
          "text": [
            "[1, 27595, 28842, 8, 43, 10, 447, 5, 25, 207, 270, 5, 3095, 111, 16, 369, 186, 90, 67, 7, 89, 5, 19, 102, 6, 19, 124, 15, 90, 67, 84, 22, 482, 26, 7, 48, 4, 49, 8, 864, 39, 209, 154, 6, 151, 6, 83, 11, 15, 22, 155, 11, 15, 7, 48, 9, 4579, 1005, 504, 6, 258, 6, 272, 11, 15, 22, 134, 44, 11, 15, 16, 8, 197, 1245, 90, 67, 52, 29, 209, 30, 32, 132, 6, 109, 15, 17, 12]\n"
          ]
        }
      ]
    },
    {
      "cell_type": "code",
      "source": [
        "type(reuters.get_word_index())"
      ],
      "metadata": {
        "colab": {
          "base_uri": "https://localhost:8080/"
        },
        "id": "7dcByIW-MCJD",
        "outputId": "7c44c252-3809-44f5-992e-03e01fb45bc2"
      },
      "execution_count": 9,
      "outputs": [
        {
          "output_type": "stream",
          "name": "stdout",
          "text": [
            "Downloading data from https://storage.googleapis.com/tensorflow/tf-keras-datasets/reuters_word_index.json\n",
            "557056/550378 [==============================] - 0s 0us/step\n",
            "565248/550378 [==============================] - 0s 0us/step\n"
          ]
        },
        {
          "output_type": "execute_result",
          "data": {
            "text/plain": [
              "dict"
            ]
          },
          "metadata": {},
          "execution_count": 9
        }
      ]
    },
    {
      "cell_type": "code",
      "source": [
        "reuters.get_word_index()['the']"
      ],
      "metadata": {
        "colab": {
          "base_uri": "https://localhost:8080/"
        },
        "id": "Z1OmsUNRME6U",
        "outputId": "9e9bc7de-9b1b-483a-b727-0e2f113f5b5f"
      },
      "execution_count": 10,
      "outputs": [
        {
          "output_type": "execute_result",
          "data": {
            "text/plain": [
              "1"
            ]
          },
          "metadata": {},
          "execution_count": 10
        }
      ]
    },
    {
      "cell_type": "code",
      "source": [
        "index_word = {}\n",
        "for key, value in reuters.get_word_index().items():\n",
        "    index_word[value] = key\n",
        "len(index_word)"
      ],
      "metadata": {
        "colab": {
          "base_uri": "https://localhost:8080/"
        },
        "id": "zvq0TFnPMaxK",
        "outputId": "ebb62763-f5fc-47d1-8c4c-0c45a8d0e71a"
      },
      "execution_count": 11,
      "outputs": [
        {
          "output_type": "execute_result",
          "data": {
            "text/plain": [
              "30979"
            ]
          },
          "metadata": {},
          "execution_count": 11
        }
      ]
    },
    {
      "cell_type": "code",
      "source": [
        "# 첫 번째 기사\n",
        "' '.join(index_word[index] for index in X_train[0])"
      ],
      "metadata": {
        "colab": {
          "base_uri": "https://localhost:8080/",
          "height": 94
        },
        "id": "eNCHQRs4Mwyb",
        "outputId": "d0ddcfd4-3610-456b-a4da-c1f628f2d6be"
      },
      "execution_count": 12,
      "outputs": [
        {
          "output_type": "execute_result",
          "data": {
            "text/plain": [
              "'the wattie nondiscriminatory mln loss for plc said at only ended said commonwealth could 1 traders now april 0 a after said from 1985 and from foreign 000 april 0 prices its account year a but in this mln home an states earlier and rise and revs vs 000 its 16 vs 000 a but 3 psbr oils several and shareholders and dividend vs 000 its all 4 vs 000 1 mln agreed largely april 0 are 2 states will billion total and against 000 pct dlrs'"
            ],
            "application/vnd.google.colaboratory.intrinsic+json": {
              "type": "string"
            }
          },
          "metadata": {},
          "execution_count": 12
        }
      ]
    },
    {
      "cell_type": "code",
      "source": [
        "# 뉴스 기사의 길이\n",
        "max(len(s) for s in X_train), sum(map(len, X_train)) / len(X_train)"
      ],
      "metadata": {
        "colab": {
          "base_uri": "https://localhost:8080/"
        },
        "id": "Ca-abBECNI8N",
        "outputId": "2d72ddbb-05d6-4920-eff8-837191d9a40a"
      },
      "execution_count": 17,
      "outputs": [
        {
          "output_type": "execute_result",
          "data": {
            "text/plain": [
              "(2376, 145.5398574927633)"
            ]
          },
          "metadata": {},
          "execution_count": 17
        }
      ]
    },
    {
      "cell_type": "code",
      "source": [
        "plt.hist([len(s) for s in X_train], bins = 50)\n",
        "plt.xlabel('length of samples')\n",
        "plt.ylabel('number of samples')\n",
        "plt.show()"
      ],
      "metadata": {
        "colab": {
          "base_uri": "https://localhost:8080/",
          "height": 279
        },
        "id": "iXNRT-KbNI-9",
        "outputId": "030f5571-8987-4301-bac7-c6118e34d905"
      },
      "execution_count": 23,
      "outputs": [
        {
          "output_type": "display_data",
          "data": {
            "text/plain": [
              "<Figure size 432x288 with 1 Axes>"
            ],
            "image/png": "[encoded data removed]"
          },
          "metadata": {
            "needs_background": "light"
          }
        }
      ]
    },
    {
      "cell_type": "code",
      "source": [
        "# 뉴스 그룹의 분포\n",
        "plt.figure(figsize = (12, 5))\n",
        "sns.countplot(y_train);"
      ],
      "metadata": {
        "colab": {
          "base_uri": "https://localhost:8080/",
          "height": 320
        },
        "id": "8JupFA1UN1pr",
        "outputId": "b69b017c-68a8-43c5-9f7a-3068b87bbcc9"
      },
      "execution_count": 27,
      "outputs": [
        {
          "output_type": "display_data",
          "data": {
            "text/plain": [
              "<Figure size 864x360 with 1 Axes>"
            ],
            "image/png": "[encoded data removed]"
          },
          "metadata": {
            "needs_background": "light"
          }
        }
      ]
    },
    {
      "cell_type": "markdown",
      "source": [
        "### LSTM으로 로이터 뉴스 분류\n",
        "- 문장 길이 : 100단어(최대 2,376)\n",
        "- 단어 : 빈도수 기준 1000단어(총 단어 수 : 30,979)"
      ],
      "metadata": {
        "id": "MrIretX0PepH"
      }
    },
    {
      "cell_type": "code",
      "source": [
        "sentence = [len(s) for s in X_train if len(s) <= 100]\n",
        "len(sentence)"
      ],
      "metadata": {
        "colab": {
          "base_uri": "https://localhost:8080/"
        },
        "id": "-VskfSwQOcre",
        "outputId": "9d561536-f719-40cf-f5e5-aa886c4d6c1c"
      },
      "execution_count": 29,
      "outputs": [
        {
          "output_type": "execute_result",
          "data": {
            "text/plain": [
              "4834"
            ]
          },
          "metadata": {},
          "execution_count": 29
        }
      ]
    },
    {
      "cell_type": "code",
      "source": [
        "max_words = 1000\n",
        "max_len = 100\n",
        "(X_train, y_train), (X_test, y_test) = reuters.load_data(\n",
        "    num_words = max_words, test_split = 0.2\n",
        ")"
      ],
      "metadata": {
        "colab": {
          "base_uri": "https://localhost:8080/"
        },
        "id": "MAD-ZQG-QIaU",
        "outputId": "ab2d2bbd-7ef3-43e7-baae-67e73668d29a"
      },
      "execution_count": 3,
      "outputs": [
        {
          "output_type": "stream",
          "name": "stdout",
          "text": [
            "Downloading data from https://storage.googleapis.com/tensorflow/tf-keras-datasets/reuters.npz\n",
            "2113536/2110848 [==============================] - 0s 0us/step\n",
            "2121728/2110848 [==============================] - 0s 0us/step\n"
          ]
        }
      ]
    },
    {
      "cell_type": "code",
      "source": [
        "import tensorflow as tf\n",
        "seed = 2022\n",
        "np.random.seed(seed)\n",
        "tf.random.set_seed(seed)"
      ],
      "metadata": {
        "id": "MitQu09OQdCE"
      },
      "execution_count": 4,
      "outputs": []
    },
    {
      "cell_type": "code",
      "source": [
        "from tensorflow.keras.models import Sequential, load_model\n",
        "from tensorflow.keras.layers import Embedding, LSTM, Dense \n",
        "from tensorflow.keras.callbacks import ModelCheckpoint, EarlyStopping\n",
        "from tensorflow.keras.preprocessing.sequence import pad_sequences\n",
        "from tensorflow.keras.utils import to_categorical"
      ],
      "metadata": {
        "id": "WkNgo9YcRPaj"
      },
      "execution_count": 5,
      "outputs": []
    },
    {
      "cell_type": "code",
      "source": [
        "X_train = pad_sequences(X_train, maxlen = max_len)\n",
        "X_test = pad_sequences(X_test, maxlen = max_len)\n",
        "# 이게 뭐임\n",
        "Y_train = to_categorical(y_train)\n",
        "Y_test = to_categorical(y_test)"
      ],
      "metadata": {
        "id": "T_w3L6ccRkDr"
      },
      "execution_count": 6,
      "outputs": []
    },
    {
      "cell_type": "code",
      "source": [
        "X_test.shape, X_train.shape, Y_test.shape, Y_train.shape, "
      ],
      "metadata": {
        "colab": {
          "base_uri": "https://localhost:8080/"
        },
        "id": "bUpRMMOFR3J0",
        "outputId": "6de55b5a-b4db-40cf-b5e2-a739cecf819f"
      },
      "execution_count": 7,
      "outputs": [
        {
          "output_type": "execute_result",
          "data": {
            "text/plain": [
              "((2246, 100), (8982, 100), (2246, 46), (8982, 46))"
            ]
          },
          "metadata": {},
          "execution_count": 7
        }
      ]
    },
    {
      "cell_type": "markdown",
      "source": [
        "## 3.모델정의 및 설정, 학습"
      ],
      "metadata": {
        "id": "jD3ScGjuSD_C"
      }
    },
    {
      "cell_type": "code",
      "source": [
        "model = Sequential([\n",
        "    Embedding(max_words, 64, input_length=max_len),\n",
        "    LSTM(100),\n",
        "    Dense(46, activation = 'softmax')\n",
        "])\n",
        "model.summary()"
      ],
      "metadata": {
        "colab": {
          "base_uri": "https://localhost:8080/"
        },
        "id": "lEXK2o8mR8yK",
        "outputId": "3bb53d0e-012d-4e90-a1f3-512d99b07e10"
      },
      "execution_count": 8,
      "outputs": [
        {
          "output_type": "stream",
          "name": "stdout",
          "text": [
            "Model: \"sequential\"\n",
            "_________________________________________________________________\n",
            " Layer (type)                Output Shape              Param #   \n",
            "=================================================================\n",
            " embedding (Embedding)       (None, 100, 64)           64000     \n",
            "                                                                 \n",
            " lstm (LSTM)                 (None, 100)               66000     \n",
            "                                                                 \n",
            " dense (Dense)               (None, 46)                4646      \n",
            "                                                                 \n",
            "=================================================================\n",
            "Total params: 134,646\n",
            "Trainable params: 134,646\n",
            "Non-trainable params: 0\n",
            "_________________________________________________________________\n"
          ]
        }
      ]
    },
    {
      "cell_type": "code",
      "source": [
        "model.compile('adam', 'categorical_crossentropy',['accuracy'])"
      ],
      "metadata": {
        "id": "ZcPy_2tXStHD"
      },
      "execution_count": 9,
      "outputs": []
    },
    {
      "cell_type": "code",
      "source": [
        "model_path = 'best-truters-lstm.h5'\n",
        "mc = ModelCheckpoint(model_path, verbose=1, save_best_only=True)\n",
        "es = EarlyStopping(patience=20)"
      ],
      "metadata": {
        "id": "yyzevZUlS7QT"
      },
      "execution_count": 14,
      "outputs": []
    },
    {
      "cell_type": "code",
      "source": [
        "hist = model.fit(\n",
        "    X_train, Y_train, validation_split = 0.2,\n",
        "    epochs = 100, batch_size = 128, callbacks = [mc, es]\n",
        ")"
      ],
      "metadata": {
        "colab": {
          "base_uri": "https://localhost:8080/"
        },
        "id": "t6Ox5bINTPN7",
        "outputId": "ae5f20b0-eadc-464e-b9b8-7ebb5be3d00e"
      },
      "execution_count": 15,
      "outputs": [
        {
          "output_type": "stream",
          "name": "stdout",
          "text": [
            "Epoch 1/100\n",
            "55/57 [===========================>..] - ETA: 0s - loss: 0.7063 - accuracy: 0.8190\n",
            "Epoch 1: val_loss improved from inf to 1.34641, saving model to best-truters-lstm.h5\n",
            "57/57 [==============================] - 1s 14ms/step - loss: 0.7068 - accuracy: 0.8188 - val_loss: 1.3464 - val_accuracy: 0.6973\n",
            "Epoch 2/100\n",
            "56/57 [============================>.] - ETA: 0s - loss: 0.7097 - accuracy: 0.8150\n",
            "Epoch 2: val_loss improved from 1.34641 to 1.32553, saving model to best-truters-lstm.h5\n",
            "57/57 [==============================] - 1s 12ms/step - loss: 0.7103 - accuracy: 0.8149 - val_loss: 1.3255 - val_accuracy: 0.7117\n",
            "Epoch 3/100\n",
            "55/57 [===========================>..] - ETA: 0s - loss: 0.6832 - accuracy: 0.8264\n",
            "Epoch 3: val_loss did not improve from 1.32553\n",
            "57/57 [==============================] - 1s 13ms/step - loss: 0.6833 - accuracy: 0.8264 - val_loss: 1.3342 - val_accuracy: 0.7101\n",
            "Epoch 4/100\n",
            "56/57 [============================>.] - ETA: 0s - loss: 0.6262 - accuracy: 0.8422\n",
            "Epoch 4: val_loss did not improve from 1.32553\n",
            "57/57 [==============================] - 1s 12ms/step - loss: 0.6264 - accuracy: 0.8422 - val_loss: 1.3438 - val_accuracy: 0.6962\n",
            "Epoch 5/100\n",
            "54/57 [===========================>..] - ETA: 0s - loss: 0.6113 - accuracy: 0.8465\n",
            "Epoch 5: val_loss did not improve from 1.32553\n",
            "57/57 [==============================] - 1s 11ms/step - loss: 0.6106 - accuracy: 0.8468 - val_loss: 1.3662 - val_accuracy: 0.7168\n",
            "Epoch 6/100\n",
            "57/57 [==============================] - ETA: 0s - loss: 0.5952 - accuracy: 0.8515\n",
            "Epoch 6: val_loss did not improve from 1.32553\n",
            "57/57 [==============================] - 1s 13ms/step - loss: 0.5952 - accuracy: 0.8515 - val_loss: 1.3683 - val_accuracy: 0.7023\n",
            "Epoch 7/100\n",
            "54/57 [===========================>..] - ETA: 0s - loss: 0.6324 - accuracy: 0.8375\n",
            "Epoch 7: val_loss did not improve from 1.32553\n",
            "57/57 [==============================] - 1s 11ms/step - loss: 0.6303 - accuracy: 0.8381 - val_loss: 1.3761 - val_accuracy: 0.7078\n",
            "Epoch 8/100\n",
            "52/57 [==========================>...] - ETA: 0s - loss: 0.5917 - accuracy: 0.8483\n",
            "Epoch 8: val_loss did not improve from 1.32553\n",
            "57/57 [==============================] - 1s 11ms/step - loss: 0.5934 - accuracy: 0.8480 - val_loss: 1.3727 - val_accuracy: 0.7073\n",
            "Epoch 9/100\n",
            "52/57 [==========================>...] - ETA: 0s - loss: 0.5366 - accuracy: 0.8648\n",
            "Epoch 9: val_loss did not improve from 1.32553\n",
            "57/57 [==============================] - 1s 11ms/step - loss: 0.5467 - accuracy: 0.8621 - val_loss: 1.3692 - val_accuracy: 0.7195\n",
            "Epoch 10/100\n",
            "56/57 [============================>.] - ETA: 0s - loss: 0.5406 - accuracy: 0.8670\n",
            "Epoch 10: val_loss did not improve from 1.32553\n",
            "57/57 [==============================] - 1s 11ms/step - loss: 0.5402 - accuracy: 0.8672 - val_loss: 1.4274 - val_accuracy: 0.7101\n",
            "Epoch 11/100\n",
            "52/57 [==========================>...] - ETA: 0s - loss: 0.5382 - accuracy: 0.8642\n",
            "Epoch 11: val_loss did not improve from 1.32553\n",
            "57/57 [==============================] - 1s 11ms/step - loss: 0.5372 - accuracy: 0.8651 - val_loss: 1.4032 - val_accuracy: 0.7101\n",
            "Epoch 12/100\n",
            "57/57 [==============================] - ETA: 0s - loss: 0.4897 - accuracy: 0.8810\n",
            "Epoch 12: val_loss did not improve from 1.32553\n",
            "57/57 [==============================] - 1s 11ms/step - loss: 0.4897 - accuracy: 0.8810 - val_loss: 1.4296 - val_accuracy: 0.7179\n",
            "Epoch 13/100\n",
            "53/57 [==========================>...] - ETA: 0s - loss: 0.4792 - accuracy: 0.8791\n",
            "Epoch 13: val_loss did not improve from 1.32553\n",
            "57/57 [==============================] - 1s 11ms/step - loss: 0.4800 - accuracy: 0.8788 - val_loss: 1.4616 - val_accuracy: 0.7117\n",
            "Epoch 14/100\n",
            "53/57 [==========================>...] - ETA: 0s - loss: 0.4732 - accuracy: 0.8802\n",
            "Epoch 14: val_loss did not improve from 1.32553\n",
            "57/57 [==============================] - 1s 11ms/step - loss: 0.4749 - accuracy: 0.8800 - val_loss: 1.4455 - val_accuracy: 0.7028\n",
            "Epoch 15/100\n",
            "54/57 [===========================>..] - ETA: 0s - loss: 0.4718 - accuracy: 0.8838\n",
            "Epoch 15: val_loss did not improve from 1.32553\n",
            "57/57 [==============================] - 1s 11ms/step - loss: 0.4707 - accuracy: 0.8842 - val_loss: 1.4479 - val_accuracy: 0.7112\n",
            "Epoch 16/100\n",
            "53/57 [==========================>...] - ETA: 0s - loss: 0.4796 - accuracy: 0.8802\n",
            "Epoch 16: val_loss did not improve from 1.32553\n",
            "57/57 [==============================] - 1s 11ms/step - loss: 0.4773 - accuracy: 0.8804 - val_loss: 1.4838 - val_accuracy: 0.7123\n",
            "Epoch 17/100\n",
            "52/57 [==========================>...] - ETA: 0s - loss: 0.4411 - accuracy: 0.8861\n",
            "Epoch 17: val_loss did not improve from 1.32553\n",
            "57/57 [==============================] - 1s 11ms/step - loss: 0.4466 - accuracy: 0.8857 - val_loss: 1.5070 - val_accuracy: 0.7012\n",
            "Epoch 18/100\n",
            "54/57 [===========================>..] - ETA: 0s - loss: 0.4219 - accuracy: 0.8951\n",
            "Epoch 18: val_loss did not improve from 1.32553\n",
            "57/57 [==============================] - 1s 11ms/step - loss: 0.4235 - accuracy: 0.8941 - val_loss: 1.5207 - val_accuracy: 0.7145\n",
            "Epoch 19/100\n",
            "52/57 [==========================>...] - ETA: 0s - loss: 0.4237 - accuracy: 0.8948\n",
            "Epoch 19: val_loss did not improve from 1.32553\n",
            "57/57 [==============================] - 1s 11ms/step - loss: 0.4215 - accuracy: 0.8959 - val_loss: 1.5252 - val_accuracy: 0.7067\n",
            "Epoch 20/100\n",
            "55/57 [===========================>..] - ETA: 0s - loss: 0.4230 - accuracy: 0.8936\n",
            "Epoch 20: val_loss did not improve from 1.32553\n",
            "57/57 [==============================] - 1s 16ms/step - loss: 0.4212 - accuracy: 0.8939 - val_loss: 1.5327 - val_accuracy: 0.7117\n",
            "Epoch 21/100\n",
            "54/57 [===========================>..] - ETA: 0s - loss: 0.3886 - accuracy: 0.9044\n",
            "Epoch 21: val_loss did not improve from 1.32553\n",
            "57/57 [==============================] - 1s 15ms/step - loss: 0.3849 - accuracy: 0.9051 - val_loss: 1.5452 - val_accuracy: 0.7023\n",
            "Epoch 22/100\n",
            "54/57 [===========================>..] - ETA: 0s - loss: 0.3668 - accuracy: 0.9087\n",
            "Epoch 22: val_loss did not improve from 1.32553\n",
            "57/57 [==============================] - 1s 15ms/step - loss: 0.3684 - accuracy: 0.9083 - val_loss: 1.5498 - val_accuracy: 0.7067\n"
          ]
        }
      ]
    },
    {
      "cell_type": "code",
      "source": [
        "best_model = load_model(model_path)\n",
        "best_model.evaluate(X_test, Y_test)"
      ],
      "metadata": {
        "colab": {
          "base_uri": "https://localhost:8080/"
        },
        "id": "VuRE-E9gTauL",
        "outputId": "83a76b64-1513-450d-f6e4-8f925bb921fe"
      },
      "execution_count": 17,
      "outputs": [
        {
          "output_type": "stream",
          "name": "stdout",
          "text": [
            "71/71 [==============================] - 1s 6ms/step - loss: 1.3506 - accuracy: 0.6986\n"
          ]
        },
        {
          "output_type": "execute_result",
          "data": {
            "text/plain": [
              "[1.3506227731704712, 0.6985752582550049]"
            ]
          },
          "metadata": {},
          "execution_count": 17
        }
      ]
    },
    {
      "cell_type": "markdown",
      "source": [
        "### 학습과정 시각화"
      ],
      "metadata": {
        "id": "fVkqor_gUyRu"
      }
    },
    {
      "cell_type": "code",
      "source": [
        "import matplotlib.pyplot as plt\n",
        "\n",
        "y_acc = hist.history['accuracy']\n",
        "y_loss = hist.history['loss']\n",
        "xs = np.arange(1, len(y_acc)+1)\n",
        "\n",
        "plt.plot(xs, y_acc, label = 'acc')\n",
        "plt.plot(xs, y_loss, label = 'loss')\n",
        "plt.legend(), plt.grid(linestyle = ':')\n",
        "plt.show()"
      ],
      "metadata": {
        "colab": {
          "base_uri": "https://localhost:8080/",
          "height": 265
        },
        "id": "9FcSiDajUta7",
        "outputId": "e3d4535f-f44c-49e5-8582-c10dead28e9e"
      },
      "execution_count": 18,
      "outputs": [
        {
          "output_type": "display_data",
          "data": {
            "text/plain": [
              "<Figure size 432x288 with 1 Axes>"
            ],
            "image/png": "[encoded data removed]"
          },
          "metadata": {
            "needs_background": "light"
          }
        }
      ]
    }
  ]
}