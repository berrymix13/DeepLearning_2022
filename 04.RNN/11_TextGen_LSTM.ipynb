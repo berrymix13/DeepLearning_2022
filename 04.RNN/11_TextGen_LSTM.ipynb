{
  "nbformat": 4,
  "nbformat_minor": 0,
  "metadata": {
    "colab": {
      "name": "11_TextGen_LSTM.ipynb",
      "provenance": [],
      "collapsed_sections": []
    },
    "kernelspec": {
      "name": "python3",
      "display_name": "Python 3"
    },
    "language_info": {
      "name": "python"
    },
    "accelerator": "GPU"
  },
  "cells": [
    {
      "cell_type": "markdown",
      "source": [
        "# LSTM을 이용한 텍스트 생성\n",
        "- 데이터 : kaggle _NewYork Time Comments"
      ],
      "metadata": {
        "id": "L8fKmG4HlXwZ"
      }
    },
    {
      "cell_type": "code",
      "execution_count": null,
      "metadata": {
        "id": "dvH5Lj7klS3h"
      },
      "outputs": [],
      "source": [
        "import numpy as np\n",
        "import pandas as pd"
      ]
    },
    {
      "cell_type": "code",
      "source": [
        "df = pd.read_csv('ArticlesApril2018.csv', encoding = 'latin1')\n",
        "df.head(3)"
      ],
      "metadata": {
        "colab": {
          "base_uri": "https://localhost:8080/",
          "height": 468
        },
        "id": "au5YNi8mlvko",
        "outputId": "bcc16bce-ef92-4a8e-d015-da8b0d389378"
      },
      "execution_count": null,
      "outputs": [
        {
          "output_type": "execute_result",
          "data": {
            "text/plain": [
              "                  articleID  articleWordCount            byline documentType  \\\n",
              "0  5adf6684068401528a2aa69b               781    By JOHN BRANCH      article   \n",
              "1  5adf653f068401528a2aa697               656  By LISA FRIEDMAN      article   \n",
              "2  5adf4626068401528a2aa628              2427     By PETE WELLS      article   \n",
              "\n",
              "                                            headline  \\\n",
              "0  Former N.F.L. Cheerleadersâ Settlement Offer...   \n",
              "1  E.P.A. to Unveil a New Rule. Its Effect: Less ...   \n",
              "2                            The New Noma, Explained   \n",
              "\n",
              "                                            keywords  multimedia  newDesk  \\\n",
              "0  ['Workplace Hazards and Violations', 'Football...          68   Sports   \n",
              "1  ['Environmental Protection Agency', 'Pruitt, S...          68  Climate   \n",
              "2  ['Restaurants', 'Noma (Copenhagen, Restaurant)...          66   Dining   \n",
              "\n",
              "   printPage              pubDate   sectionName  \\\n",
              "0          0  2018-04-24 17:16:49  Pro Football   \n",
              "1          0  2018-04-24 17:11:21       Unknown   \n",
              "2          0  2018-04-24 14:58:44       Unknown   \n",
              "\n",
              "                                             snippet              source  \\\n",
              "0  âI understand that they could meet with us, ...  The New York Times   \n",
              "1  The agency plans to publish a new regulation T...  The New York Times   \n",
              "2  Whatâs it like to eat at the second incarnat...  The New York Times   \n",
              "\n",
              "  typeOfMaterial                                             webURL  \n",
              "0           News  https://www.nytimes.com/2018/04/24/sports/foot...  \n",
              "1           News  https://www.nytimes.com/2018/04/24/climate/epa...  \n",
              "2           News  https://www.nytimes.com/2018/04/24/dining/noma...  "
            ],
            "text/html": [
              "\n",
              "  <div id=\"df-3b8cca61-e385-4ec0-bde2-f143133cc4b8\">\n",
              "    <div class=\"colab-df-container\">\n",
              "      <div>\n",
              "<style scoped>\n",
              "    .dataframe tbody tr th:only-of-type {\n",
              "        vertical-align: middle;\n",
              "    }\n",
              "\n",
              "    .dataframe tbody tr th {\n",
              "        vertical-align: top;\n",
              "    }\n",
              "\n",
              "    .dataframe thead th {\n",
              "        text-align: right;\n",
              "    }\n",
              "</style>\n",
              "<table border=\"1\" class=\"dataframe\">\n",
              "  <thead>\n",
              "    <tr style=\"text-align: right;\">\n",
              "      <th></th>\n",
              "      <th>articleID</th>\n",
              "      <th>articleWordCount</th>\n",
              "      <th>byline</th>\n",
              "      <th>documentType</th>\n",
              "      <th>headline</th>\n",
              "      <th>keywords</th>\n",
              "      <th>multimedia</th>\n",
              "      <th>newDesk</th>\n",
              "      <th>printPage</th>\n",
              "      <th>pubDate</th>\n",
              "      <th>sectionName</th>\n",
              "      <th>snippet</th>\n",
              "      <th>source</th>\n",
              "      <th>typeOfMaterial</th>\n",
              "      <th>webURL</th>\n",
              "    </tr>\n",
              "  </thead>\n",
              "  <tbody>\n",
              "    <tr>\n",
              "      <th>0</th>\n",
              "      <td>5adf6684068401528a2aa69b</td>\n",
              "      <td>781</td>\n",
              "      <td>By JOHN BRANCH</td>\n",
              "      <td>article</td>\n",
              "      <td>Former N.F.L. Cheerleadersâ Settlement Offer...</td>\n",
              "      <td>['Workplace Hazards and Violations', 'Football...</td>\n",
              "      <td>68</td>\n",
              "      <td>Sports</td>\n",
              "      <td>0</td>\n",
              "      <td>2018-04-24 17:16:49</td>\n",
              "      <td>Pro Football</td>\n",
              "      <td>âI understand that they could meet with us, ...</td>\n",
              "      <td>The New York Times</td>\n",
              "      <td>News</td>\n",
              "      <td>https://www.nytimes.com/2018/04/24/sports/foot...</td>\n",
              "    </tr>\n",
              "    <tr>\n",
              "      <th>1</th>\n",
              "      <td>5adf653f068401528a2aa697</td>\n",
              "      <td>656</td>\n",
              "      <td>By LISA FRIEDMAN</td>\n",
              "      <td>article</td>\n",
              "      <td>E.P.A. to Unveil a New Rule. Its Effect: Less ...</td>\n",
              "      <td>['Environmental Protection Agency', 'Pruitt, S...</td>\n",
              "      <td>68</td>\n",
              "      <td>Climate</td>\n",
              "      <td>0</td>\n",
              "      <td>2018-04-24 17:11:21</td>\n",
              "      <td>Unknown</td>\n",
              "      <td>The agency plans to publish a new regulation T...</td>\n",
              "      <td>The New York Times</td>\n",
              "      <td>News</td>\n",
              "      <td>https://www.nytimes.com/2018/04/24/climate/epa...</td>\n",
              "    </tr>\n",
              "    <tr>\n",
              "      <th>2</th>\n",
              "      <td>5adf4626068401528a2aa628</td>\n",
              "      <td>2427</td>\n",
              "      <td>By PETE WELLS</td>\n",
              "      <td>article</td>\n",
              "      <td>The New Noma, Explained</td>\n",
              "      <td>['Restaurants', 'Noma (Copenhagen, Restaurant)...</td>\n",
              "      <td>66</td>\n",
              "      <td>Dining</td>\n",
              "      <td>0</td>\n",
              "      <td>2018-04-24 14:58:44</td>\n",
              "      <td>Unknown</td>\n",
              "      <td>Whatâs it like to eat at the second incarnat...</td>\n",
              "      <td>The New York Times</td>\n",
              "      <td>News</td>\n",
              "      <td>https://www.nytimes.com/2018/04/24/dining/noma...</td>\n",
              "    </tr>\n",
              "  </tbody>\n",
              "</table>\n",
              "</div>\n",
              "      <button class=\"colab-df-convert\" onclick=\"convertToInteractive('df-3b8cca61-e385-4ec0-bde2-f143133cc4b8')\"\n",
              "              title=\"Convert this dataframe to an interactive table.\"\n",
              "              style=\"display:none;\">\n",
              "        \n",
              "  <svg xmlns=\"http://www.w3.org/2000/svg\" height=\"24px\"viewBox=\"0 0 24 24\"\n",
              "       width=\"24px\">\n",
              "    <path d=\"M0 0h24v24H0V0z\" fill=\"none\"/>\n",
              "    <path d=\"M18.56 5.44l.94 2.06.94-2.06 2.06-.94-2.06-.94-.94-2.06-.94 2.06-2.06.94zm-11 1L8.5 8.5l.94-2.06 2.06-.94-2.06-.94L8.5 2.5l-.94 2.06-2.06.94zm10 10l.94 2.06.94-2.06 2.06-.94-2.06-.94-.94-2.06-.94 2.06-2.06.94z\"/><path d=\"M17.41 7.96l-1.37-1.37c-.4-.4-.92-.59-1.43-.59-.52 0-1.04.2-1.43.59L10.3 9.45l-7.72 7.72c-.78.78-.78 2.05 0 2.83L4 21.41c.39.39.9.59 1.41.59.51 0 1.02-.2 1.41-.59l7.78-7.78 2.81-2.81c.8-.78.8-2.07 0-2.86zM5.41 20L4 18.59l7.72-7.72 1.47 1.35L5.41 20z\"/>\n",
              "  </svg>\n",
              "      </button>\n",
              "      \n",
              "  <style>\n",
              "    .colab-df-container {\n",
              "      display:flex;\n",
              "      flex-wrap:wrap;\n",
              "      gap: 12px;\n",
              "    }\n",
              "\n",
              "    .colab-df-convert {\n",
              "      background-color: #E8F0FE;\n",
              "      border: none;\n",
              "      border-radius: 50%;\n",
              "      cursor: pointer;\n",
              "      display: none;\n",
              "      fill: #1967D2;\n",
              "      height: 32px;\n",
              "      padding: 0 0 0 0;\n",
              "      width: 32px;\n",
              "    }\n",
              "\n",
              "    .colab-df-convert:hover {\n",
              "      background-color: #E2EBFA;\n",
              "      box-shadow: 0px 1px 2px rgba(60, 64, 67, 0.3), 0px 1px 3px 1px rgba(60, 64, 67, 0.15);\n",
              "      fill: #174EA6;\n",
              "    }\n",
              "\n",
              "    [theme=dark] .colab-df-convert {\n",
              "      background-color: #3B4455;\n",
              "      fill: #D2E3FC;\n",
              "    }\n",
              "\n",
              "    [theme=dark] .colab-df-convert:hover {\n",
              "      background-color: #434B5C;\n",
              "      box-shadow: 0px 1px 3px 1px rgba(0, 0, 0, 0.15);\n",
              "      filter: drop-shadow(0px 1px 2px rgba(0, 0, 0, 0.3));\n",
              "      fill: #FFFFFF;\n",
              "    }\n",
              "  </style>\n",
              "\n",
              "      <script>\n",
              "        const buttonEl =\n",
              "          document.querySelector('#df-3b8cca61-e385-4ec0-bde2-f143133cc4b8 button.colab-df-convert');\n",
              "        buttonEl.style.display =\n",
              "          google.colab.kernel.accessAllowed ? 'block' : 'none';\n",
              "\n",
              "        async function convertToInteractive(key) {\n",
              "          const element = document.querySelector('#df-3b8cca61-e385-4ec0-bde2-f143133cc4b8');\n",
              "          const dataTable =\n",
              "            await google.colab.kernel.invokeFunction('convertToInteractive',\n",
              "                                                     [key], {});\n",
              "          if (!dataTable) return;\n",
              "\n",
              "          const docLinkHtml = 'Like what you see? Visit the ' +\n",
              "            '<a target=\"_blank\" href=https://colab.research.google.com/notebooks/data_table.ipynb>data table notebook</a>'\n",
              "            + ' to learn more about interactive tables.';\n",
              "          element.innerHTML = '';\n",
              "          dataTable['output_type'] = 'display_data';\n",
              "          await google.colab.output.renderOutput(dataTable, element);\n",
              "          const docLink = document.createElement('div');\n",
              "          docLink.innerHTML = docLinkHtml;\n",
              "          element.appendChild(docLink);\n",
              "        }\n",
              "      </script>\n",
              "    </div>\n",
              "  </div>\n",
              "  "
            ]
          },
          "metadata": {},
          "execution_count": 3
        }
      ]
    },
    {
      "cell_type": "markdown",
      "source": [
        "## 1.데이터 전처리 : 헤드라인만 사용"
      ],
      "metadata": {
        "id": "YwpZSKOkmIVh"
      }
    },
    {
      "cell_type": "code",
      "source": [
        "df.headline.isna().sum()"
      ],
      "metadata": {
        "colab": {
          "base_uri": "https://localhost:8080/"
        },
        "id": "10vPqMJ3l3MB",
        "outputId": "77886988-42b2-4c5b-db3b-0de178f41376"
      },
      "execution_count": null,
      "outputs": [
        {
          "output_type": "execute_result",
          "data": {
            "text/plain": [
              "0"
            ]
          },
          "metadata": {},
          "execution_count": 4
        }
      ]
    },
    {
      "cell_type": "code",
      "source": [
        "headlines = df.headline.values.tolist()\n",
        "headlines[:4]"
      ],
      "metadata": {
        "colab": {
          "base_uri": "https://localhost:8080/"
        },
        "id": "X9tmW0dWmQ-Z",
        "outputId": "31cdc8e4-56fd-4cfe-a09a-fea6a77a550f"
      },
      "execution_count": null,
      "outputs": [
        {
          "output_type": "execute_result",
          "data": {
            "text/plain": [
              "['Former N.F.L. Cheerleadersâ\\x80\\x99 Settlement Offer: $1 and a Meeting With Goodell',\n",
              " 'E.P.A. to Unveil a New Rule. Its Effect: Less Science in Policymaking.',\n",
              " 'The New Noma, Explained',\n",
              " 'Unknown']"
            ]
          },
          "metadata": {},
          "execution_count": 5
        }
      ]
    },
    {
      "cell_type": "code",
      "source": [
        "# Unknown 제거\n",
        "headlines = [line for line in df.headline.values if line != 'Unknown']\n",
        "len(headlines)"
      ],
      "metadata": {
        "colab": {
          "base_uri": "https://localhost:8080/"
        },
        "id": "_bsnSCwymago",
        "outputId": "0859f605-3318-4115-c56d-a114beaee5cc"
      },
      "execution_count": null,
      "outputs": [
        {
          "output_type": "execute_result",
          "data": {
            "text/plain": [
              "1214"
            ]
          },
          "metadata": {},
          "execution_count": 6
        }
      ]
    },
    {
      "cell_type": "code",
      "source": [
        "# encoding, 구둣점 제거, 소문자로 변환\n",
        "import re\n",
        "\n",
        "def preprocessing(s):\n",
        "    s = s.encode('utf8').decode('ascii', 'ignore')\n",
        "    s = re.sub('[^A-Za-z0-9 ]', '', s)\n",
        "    return s.lower()"
      ],
      "metadata": {
        "id": "Ba9lflb5nDgx"
      },
      "execution_count": null,
      "outputs": []
    },
    {
      "cell_type": "code",
      "source": [
        "headlines = [preprocessing(line) for line in headlines]\n",
        "headlines[:4]"
      ],
      "metadata": {
        "colab": {
          "base_uri": "https://localhost:8080/"
        },
        "id": "VjP9uIZhoFq7",
        "outputId": "a01d9877-2a7b-4130-eb4d-2e73b34ce831"
      },
      "execution_count": null,
      "outputs": [
        {
          "output_type": "execute_result",
          "data": {
            "text/plain": [
              "['former nfl cheerleaders settlement offer 1 and a meeting with goodell',\n",
              " 'epa to unveil a new rule its effect less science in policymaking',\n",
              " 'the new noma explained',\n",
              " 'how a bag of texas dirt  became a times tradition']"
            ]
          },
          "metadata": {},
          "execution_count": 8
        }
      ]
    },
    {
      "cell_type": "markdown",
      "source": [
        "### 1.2 keras 텍스트 전처리"
      ],
      "metadata": {
        "id": "8pL-p1VWopNT"
      }
    },
    {
      "cell_type": "code",
      "source": [
        "from tensorflow.keras.preprocessing.text import Tokenizer           # X\n",
        "from tensorflow.keras.preprocessing.sequence import pad_sequences   # X\n",
        "from tensorflow.keras.utils import to_categorical                   # y"
      ],
      "metadata": {
        "id": "FGLnmCHyoNFI"
      },
      "execution_count": null,
      "outputs": []
    },
    {
      "cell_type": "code",
      "source": [
        "token = Tokenizer()\n",
        "token.fit_on_texts(headlines)        # 머신러닝에서의 fit_transform"
      ],
      "metadata": {
        "id": "HmLbyqyAosvC"
      },
      "execution_count": null,
      "outputs": []
    },
    {
      "cell_type": "code",
      "source": [
        "# 단어 집합 크기\n",
        "vocab_size = len(token.word_index) + 1      # 0때문에 1을 더해줘야 됨.\n",
        "vocab_size"
      ],
      "metadata": {
        "colab": {
          "base_uri": "https://localhost:8080/"
        },
        "id": "ov6Cz3N7pGVG",
        "outputId": "1448966b-4c86-4537-a5df-2c5546efdbee"
      },
      "execution_count": null,
      "outputs": [
        {
          "output_type": "execute_result",
          "data": {
            "text/plain": [
              "3494"
            ]
          },
          "metadata": {},
          "execution_count": 11
        }
      ]
    },
    {
      "cell_type": "markdown",
      "source": [
        "## 2.Sequence 생성"
      ],
      "metadata": {
        "id": "dF47ye2lrYtx"
      }
    },
    {
      "cell_type": "code",
      "source": [
        "sequences = []\n",
        "for line in headlines:\n",
        "    encoded = token.texts_to_sequences([line])[0] \n",
        "    for i in range(1, len(encoded)):\n",
        "        sequences.append(encoded[:i+1])\n",
        "sequences[:10]"
      ],
      "metadata": {
        "colab": {
          "base_uri": "https://localhost:8080/"
        },
        "id": "jyf-BiZ4pGXT",
        "outputId": "85b60535-74d2-45d4-fbbf-3a3c036c5743"
      },
      "execution_count": null,
      "outputs": [
        {
          "output_type": "execute_result",
          "data": {
            "text/plain": [
              "[[99, 269],\n",
              " [99, 269, 371],\n",
              " [99, 269, 371, 1115],\n",
              " [99, 269, 371, 1115, 582],\n",
              " [99, 269, 371, 1115, 582, 52],\n",
              " [99, 269, 371, 1115, 582, 52, 7],\n",
              " [99, 269, 371, 1115, 582, 52, 7, 2],\n",
              " [99, 269, 371, 1115, 582, 52, 7, 2, 372],\n",
              " [99, 269, 371, 1115, 582, 52, 7, 2, 372, 10],\n",
              " [99, 269, 371, 1115, 582, 52, 7, 2, 372, 10, 1116]]"
            ]
          },
          "metadata": {},
          "execution_count": 12
        }
      ]
    },
    {
      "cell_type": "code",
      "source": [
        "# sequence 중 가장 긴 것\n",
        "max_len = max(len(seq) for seq in sequences)\n",
        "max_len"
      ],
      "metadata": {
        "colab": {
          "base_uri": "https://localhost:8080/"
        },
        "id": "Gq6LDHWfpkgx",
        "outputId": "701ffd71-f96b-4a82-f5e4-23e832e7f5c2"
      },
      "execution_count": null,
      "outputs": [
        {
          "output_type": "execute_result",
          "data": {
            "text/plain": [
              "24"
            ]
          },
          "metadata": {},
          "execution_count": 13
        }
      ]
    },
    {
      "cell_type": "markdown",
      "source": [
        "### 2.1. Padding\n",
        "- 전체 샘플 길이를 max_len에 맞추도록 0을 추가\n",
        "- 앞 부분에 0을 채울것\n",
        "- 앞 쪽을 채우는 pre 옵션이 default 값임"
      ],
      "metadata": {
        "id": "hOS4hpc8HB9k"
      }
    },
    {
      "cell_type": "code",
      "source": [
        "sequences = pad_sequences(sequences, maxlen = max_len, padding = 'pre') # padding = 'pre'는 안써줘도 됨\n",
        "sequences[:3]"
      ],
      "metadata": {
        "colab": {
          "base_uri": "https://localhost:8080/"
        },
        "id": "-7LW2xp1GbLu",
        "outputId": "374243c3-ce6d-44e2-f4a2-8541b9897eb9"
      },
      "execution_count": null,
      "outputs": [
        {
          "output_type": "execute_result",
          "data": {
            "text/plain": [
              "array([[   0,    0,    0,    0,    0,    0,    0,    0,    0,    0,    0,\n",
              "           0,    0,    0,    0,    0,    0,    0,    0,    0,    0,    0,\n",
              "          99,  269],\n",
              "       [   0,    0,    0,    0,    0,    0,    0,    0,    0,    0,    0,\n",
              "           0,    0,    0,    0,    0,    0,    0,    0,    0,    0,   99,\n",
              "         269,  371],\n",
              "       [   0,    0,    0,    0,    0,    0,    0,    0,    0,    0,    0,\n",
              "           0,    0,    0,    0,    0,    0,    0,    0,    0,   99,  269,\n",
              "         371, 1115]], dtype=int32)"
            ]
          },
          "metadata": {},
          "execution_count": 14
        }
      ]
    },
    {
      "cell_type": "code",
      "source": [
        "X = sequences[:, :-1]\n",
        "Y = to_categorical(sequences[:, -1])\n",
        "X.shape, Y.shape"
      ],
      "metadata": {
        "colab": {
          "base_uri": "https://localhost:8080/"
        },
        "id": "ZK6zQtfeIK-W",
        "outputId": "79363234-1fd9-4285-ae79-20f3cf0a4e92"
      },
      "execution_count": null,
      "outputs": [
        {
          "output_type": "execute_result",
          "data": {
            "text/plain": [
              "((7803, 23), (7803, 3494))"
            ]
          },
          "metadata": {},
          "execution_count": 15
        }
      ]
    },
    {
      "cell_type": "markdown",
      "source": [
        "## 3.모델\n",
        "1. Embedding : 밀집벡터 형태로 바꿈\n",
        "     - 문장의 개수(3) * 단어의 수(11)에서 11보다 차원을 줄임\n",
        "     - 노드 수 의 고민이 사라짐?\n",
        "2. LSTM\n",
        "3. Dense"
      ],
      "metadata": {
        "id": "So8cNHi2IabD"
      }
    },
    {
      "cell_type": "code",
      "source": [
        "import numpy as np\n",
        "import tensorflow as tf\n",
        "seed = 2022\n",
        "np.random.seed(seed)\n",
        "tf.random.set_seed(seed)"
      ],
      "metadata": {
        "id": "Z0zj8O25qatZ"
      },
      "execution_count": null,
      "outputs": []
    },
    {
      "cell_type": "code",
      "source": [
        "from tensorflow.keras.models import Sequential\n",
        "from tensorflow.keras.layers import Embedding, LSTM, Dense "
      ],
      "metadata": {
        "id": "0PimVGc1IshP"
      },
      "execution_count": null,
      "outputs": []
    },
    {
      "cell_type": "code",
      "source": [
        "# Embedding     : 3494개를 10개로 줄임\n",
        "# LSTM          : 128개\n",
        "model = Sequential([\n",
        "    Embedding(vocab_size, 10, input_length = max_len-1),\n",
        "    LSTM(units = 128),\n",
        "    Dense(vocab_size, activation = 'softmax')\n",
        "])\n",
        "model.summary()"
      ],
      "metadata": {
        "colab": {
          "base_uri": "https://localhost:8080/"
        },
        "id": "KQ7KTdIUH5ge",
        "outputId": "b567f64c-5633-4b39-b082-5bbd4a133872"
      },
      "execution_count": null,
      "outputs": [
        {
          "output_type": "stream",
          "name": "stdout",
          "text": [
            "Model: \"sequential_1\"\n",
            "_________________________________________________________________\n",
            " Layer (type)                Output Shape              Param #   \n",
            "=================================================================\n",
            " embedding_1 (Embedding)     (None, 23, 10)            34940     \n",
            "                                                                 \n",
            " lstm_1 (LSTM)               (None, 128)               71168     \n",
            "                                                                 \n",
            " dense_1 (Dense)             (None, 3494)              450726    \n",
            "                                                                 \n",
            "=================================================================\n",
            "Total params: 556,834\n",
            "Trainable params: 556,834\n",
            "Non-trainable params: 0\n",
            "_________________________________________________________________\n"
          ]
        }
      ]
    },
    {
      "cell_type": "code",
      "source": [
        "model.compile('adam', 'categorical_crossentropy', metrics=['accuracy'])"
      ],
      "metadata": {
        "id": "7Oatu6aKKO-w"
      },
      "execution_count": null,
      "outputs": []
    },
    {
      "cell_type": "code",
      "source": [
        "%time hist = model.fit(X, Y, epochs = 200, verbose =0)"
      ],
      "metadata": {
        "id": "4FpZjQMsKiMN",
        "colab": {
          "base_uri": "https://localhost:8080/"
        },
        "outputId": "14bc8fa8-ef76-493d-e802-f5ded5c08138"
      },
      "execution_count": null,
      "outputs": [
        {
          "output_type": "stream",
          "name": "stdout",
          "text": [
            "CPU times: user 5min 14s, sys: 30.7 s, total: 5min 45s\n",
            "Wall time: 4min 18s\n"
          ]
        }
      ]
    },
    {
      "cell_type": "code",
      "source": [
        "hist.history['accuracy'][-1]"
      ],
      "metadata": {
        "colab": {
          "base_uri": "https://localhost:8080/"
        },
        "id": "XTzaOgErKqb-",
        "outputId": "4fba2fbc-c7d4-4f9f-8b89-1775c4fd050f"
      },
      "execution_count": null,
      "outputs": [
        {
          "output_type": "execute_result",
          "data": {
            "text/plain": [
              "0.9158016443252563"
            ]
          },
          "metadata": {},
          "execution_count": 34
        }
      ]
    },
    {
      "cell_type": "markdown",
      "source": [
        "### 3.1.모델검증"
      ],
      "metadata": {
        "id": "5Ce8sl5LLCMC"
      }
    },
    {
      "cell_type": "code",
      "source": [
        "from my_util import sentence_generation\n",
        "sentence_generation(model, token, max_len, 'former', 8)\n",
        "# 모델, 토크나이저, maxlenm 현재 단어, 반복횟수"
      ],
      "metadata": {
        "colab": {
          "base_uri": "https://localhost:8080/",
          "height": 36
        },
        "id": "J931oXpQK7TW",
        "outputId": "0ce7623b-f11f-4abf-a0f0-9de8c8538734"
      },
      "execution_count": null,
      "outputs": [
        {
          "output_type": "execute_result",
          "data": {
            "text/plain": [
              "'former cheney aide is pardoned by trump in cia'"
            ],
            "application/vnd.google.colaboratory.intrinsic+json": {
              "type": "string"
            }
          },
          "metadata": {},
          "execution_count": 35
        }
      ]
    },
    {
      "cell_type": "code",
      "source": [
        "sentence_generation(model, token, max_len, 'epa', 8)"
      ],
      "metadata": {
        "colab": {
          "base_uri": "https://localhost:8080/",
          "height": 36
        },
        "id": "9p781UOUMIQ4",
        "outputId": "31eb7bcd-b9c9-4133-d0a9-703c1bc79bb1"
      },
      "execution_count": null,
      "outputs": [
        {
          "output_type": "execute_result",
          "data": {
            "text/plain": [
              "'epa to unveil a new rule its effect less'"
            ],
            "application/vnd.google.colaboratory.intrinsic+json": {
              "type": "string"
            }
          },
          "metadata": {},
          "execution_count": 36
        }
      ]
    },
    {
      "cell_type": "code",
      "source": [
        "sentence_generation(model, token, max_len, 'how', 8)"
      ],
      "metadata": {
        "colab": {
          "base_uri": "https://localhost:8080/",
          "height": 36
        },
        "id": "_7MruTT4MWlW",
        "outputId": "eb3e8416-1322-418b-88c7-37bc6b593db6"
      },
      "execution_count": null,
      "outputs": [
        {
          "output_type": "execute_result",
          "data": {
            "text/plain": [
              "'how to make facebook more accountable to live in'"
            ],
            "application/vnd.google.colaboratory.intrinsic+json": {
              "type": "string"
            }
          },
          "metadata": {},
          "execution_count": 37
        }
      ]
    },
    {
      "cell_type": "markdown",
      "source": [
        "### 3.2.훈련과정 시각화"
      ],
      "metadata": {
        "id": "1xxV0zl0wTsO"
      }
    },
    {
      "cell_type": "code",
      "source": [
        "import matplotlib.pyplot as plt\n",
        "\n",
        "y_acc = hist.history['accuracy']\n",
        "y_loss = hist.history['loss']\n",
        "xs = np.arange(1, len(y_acc)+1)\n",
        "\n",
        "plt.plot(xs, y_acc, label = 'acc')\n",
        "plt.plot(xs, y_loss, label = 'loss')\n",
        "plt.legend(), plt.grid(linestyle = ':')\n",
        "plt.show()"
      ],
      "metadata": {
        "colab": {
          "base_uri": "https://localhost:8080/",
          "height": 269
        },
        "id": "MHywBwLAvzFq",
        "outputId": "3eb5c6da-dd4d-4cd2-9048-453d3322e982"
      },
      "execution_count": null,
      "outputs": [
        {
          "output_type": "display_data",
          "data": {
            "text/plain": [
              "<Figure size 432x288 with 1 Axes>"
            ],
            "image/png": "[encoded data removed]"
          },
          "metadata": {
            "needs_background": "light"
          }
        }
      ]
    }
  ]
}