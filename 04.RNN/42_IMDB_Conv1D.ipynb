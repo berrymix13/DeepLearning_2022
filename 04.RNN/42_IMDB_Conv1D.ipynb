{
  "nbformat": 4,
  "nbformat_minor": 0,
  "metadata": {
    "colab": {
      "name": "42_IMDB_Conv1D.ipynb",
      "provenance": [],
      "collapsed_sections": []
    },
    "kernelspec": {
      "name": "python3",
      "display_name": "Python 3"
    },
    "language_info": {
      "name": "python"
    },
    "accelerator": "GPU"
  },
  "cells": [
    {
      "cell_type": "markdown",
      "source": [
        "# Keras - IMDB 영화리뷰 감성분석(LSTM + CNN)\n",
        "- Embedding\n",
        "- Conv1D\n",
        "    - Conv1D\n",
        "    - Conv1D + conv1D\n",
        "    - Conv1D + LSTM + Dense\n",
        "    - Conv1D + Dense + Dense\n",
        "- Maxpooling\n",
        "- LSTM\n",
        "- Dencs"
      ],
      "metadata": {
        "id": "wuBB_YVK2RGc"
      }
    },
    {
      "cell_type": "code",
      "execution_count": 4,
      "metadata": {
        "id": "hJ-nqCYj2Kmt"
      },
      "outputs": [],
      "source": [
        "import numpy as np\n",
        "import pandas as pd\n",
        "import matplotlib.pyplot as plt\n",
        "import warnings\n",
        "warnings.filterwarnings('ignore')"
      ]
    },
    {
      "cell_type": "code",
      "source": [
        "import tensorflow as tf\n",
        "seed = 2022\n",
        "np.random.seed(seed)\n",
        "tf.random.set_seed(seed)"
      ],
      "metadata": {
        "id": "7lVSjs-p4wMD"
      },
      "execution_count": 5,
      "outputs": []
    },
    {
      "cell_type": "code",
      "source": [
        "from tensorflow.keras.datasets import imdb\n",
        "from tensorflow.keras.models import Sequential, load_model\n",
        "from tensorflow.keras.layers import Embedding, LSTM, Dense, Dropout\n",
        "from tensorflow.keras.layers import Conv1D, MaxPooling1D, GlobalMaxPooling1D\n",
        "from tensorflow.keras.callbacks import ModelCheckpoint, EarlyStopping\n",
        "from tensorflow.keras.preprocessing.sequence import pad_sequences\n",
        "from sklearn.model_selection import train_test_split"
      ],
      "metadata": {
        "id": "083RBj9c3ZZ7"
      },
      "execution_count": 6,
      "outputs": []
    },
    {
      "cell_type": "code",
      "source": [
        "# (X_train, y_train), (_, _) = imdb.load_data(num_words = 10000)\n",
        "num_words = 10000\n",
        "(X_train, y_train), (_, _) = imdb.load_data(num_words = num_words)"
      ],
      "metadata": {
        "id": "tz2Nl0Fe49Rr",
        "colab": {
          "base_uri": "https://localhost:8080/"
        },
        "outputId": "008c62b9-add7-42cf-dcce-0b5341897a48"
      },
      "execution_count": 7,
      "outputs": [
        {
          "output_type": "stream",
          "name": "stdout",
          "text": [
            "Downloading data from https://storage.googleapis.com/tensorflow/tf-keras-datasets/imdb.npz\n",
            "17465344/17464789 [==============================] - 0s 0us/step\n",
            "17473536/17464789 [==============================] - 0s 0us/step\n"
          ]
        }
      ]
    },
    {
      "cell_type": "code",
      "source": [
        "X_train, X_test, y_train, y_test = train_test_split(\n",
        "    X_train, y_train, stratify = y_train, test_size = 0.2, random_state=seed\n",
        ")\n",
        "X_train.shape, X_test.shape, y_train.shape, y_test.shape"
      ],
      "metadata": {
        "colab": {
          "base_uri": "https://localhost:8080/"
        },
        "id": "lXL80kKW5Jj-",
        "outputId": "6a707d21-27fa-4747-c3ff-3c0e8a578d91"
      },
      "execution_count": 8,
      "outputs": [
        {
          "output_type": "execute_result",
          "data": {
            "text/plain": [
              "((20000,), (5000,), (20000,), (5000,))"
            ]
          },
          "metadata": {},
          "execution_count": 8
        }
      ]
    },
    {
      "cell_type": "markdown",
      "source": [
        "### pad_sequences"
      ],
      "metadata": {
        "id": "xkNWuXuP5r5K"
      }
    },
    {
      "cell_type": "code",
      "source": [
        "max_len = 500\n",
        "X_train = pad_sequences(X_train, maxlen = max_len)\n",
        "X_test = pad_sequences(X_test, maxlen = max_len)\n",
        "X_train.shape, X_test.shape"
      ],
      "metadata": {
        "colab": {
          "base_uri": "https://localhost:8080/"
        },
        "id": "uc0pcxFU5bQp",
        "outputId": "b0dd7577-58e2-447f-f6e5-28f07d74a0be"
      },
      "execution_count": 9,
      "outputs": [
        {
          "output_type": "execute_result",
          "data": {
            "text/plain": [
              "((20000, 500), (5000, 500))"
            ]
          },
          "metadata": {},
          "execution_count": 9
        }
      ]
    },
    {
      "cell_type": "markdown",
      "source": [
        "## Case1. Conv1D + Conv1D\n",
        "- 단어 빈도 수 : 10,000개 (총 88,584)\n",
        "- 리뷰 최대 단어 길이 : 500개 (총 2,984)\n"
      ],
      "metadata": {
        "id": "SS_YPefv3jG2"
      }
    },
    {
      "cell_type": "code",
      "source": [
        "model1 = Sequential([\n",
        "    Embedding(num_words, 120, input_length=max_len),\n",
        "    Dropout(0.5),\n",
        "    Conv1D(64, 7, activation = 'relu'),\n",
        "    MaxPooling1D(7),\n",
        "    Conv1D(64, 5, activation = 'relu'),\n",
        "    MaxPooling1D(5),\n",
        "    GlobalMaxPooling1D(),   #flatten\n",
        "    Dense(1, activation='sigmoid')\n",
        "])\n",
        "model1.summary()"
      ],
      "metadata": {
        "colab": {
          "base_uri": "https://localhost:8080/"
        },
        "id": "lJBBPrRv5__t",
        "outputId": "f576c8b2-cfb4-464c-a558-3e4a4c264d90"
      },
      "execution_count": 10,
      "outputs": [
        {
          "output_type": "stream",
          "name": "stdout",
          "text": [
            "Model: \"sequential\"\n",
            "_________________________________________________________________\n",
            " Layer (type)                Output Shape              Param #   \n",
            "=================================================================\n",
            " embedding (Embedding)       (None, 500, 120)          1200000   \n",
            "                                                                 \n",
            " dropout (Dropout)           (None, 500, 120)          0         \n",
            "                                                                 \n",
            " conv1d (Conv1D)             (None, 494, 64)           53824     \n",
            "                                                                 \n",
            " max_pooling1d (MaxPooling1D  (None, 70, 64)           0         \n",
            " )                                                               \n",
            "                                                                 \n",
            " conv1d_1 (Conv1D)           (None, 66, 64)            20544     \n",
            "                                                                 \n",
            " max_pooling1d_1 (MaxPooling  (None, 13, 64)           0         \n",
            " 1D)                                                             \n",
            "                                                                 \n",
            " global_max_pooling1d (Globa  (None, 64)               0         \n",
            " lMaxPooling1D)                                                  \n",
            "                                                                 \n",
            " dense (Dense)               (None, 1)                 65        \n",
            "                                                                 \n",
            "=================================================================\n",
            "Total params: 1,274,433\n",
            "Trainable params: 1,274,433\n",
            "Non-trainable params: 0\n",
            "_________________________________________________________________\n"
          ]
        }
      ]
    },
    {
      "cell_type": "code",
      "source": [
        "model1.compile('adam', 'binary_crossentropy', ['accuracy'])"
      ],
      "metadata": {
        "id": "wSKpQMH768qr"
      },
      "execution_count": 11,
      "outputs": []
    },
    {
      "cell_type": "code",
      "source": [
        "model_path1 = 'best-imbd-Conv1d_v1.h5'\n",
        "mc1 = ModelCheckpoint(model_path1, verbose=1, save_best_only=True)\n",
        "es1 = EarlyStopping(patience=5)"
      ],
      "metadata": {
        "id": "ry-rEWzE7G_T"
      },
      "execution_count": 12,
      "outputs": []
    },
    {
      "cell_type": "code",
      "source": [
        "hist1 = model1.fit(X_train, y_train, validation_split = 0.2,\n",
        "                 epochs = 30, batch_size = 60, callbacks = [mc1, es1])"
      ],
      "metadata": {
        "colab": {
          "base_uri": "https://localhost:8080/"
        },
        "id": "KoRas3uD7QwH",
        "outputId": "cc4525ce-d333-40c1-f84b-7a56d4d1096f"
      },
      "execution_count": 13,
      "outputs": [
        {
          "output_type": "stream",
          "name": "stdout",
          "text": [
            "Epoch 1/30\n",
            "267/267 [==============================] - ETA: 0s - loss: 0.5463 - accuracy: 0.6816\n",
            "Epoch 1: val_loss improved from inf to 0.35939, saving model to best-imbd-Conv1d_v1.h5\n",
            "267/267 [==============================] - 17s 12ms/step - loss: 0.5463 - accuracy: 0.6816 - val_loss: 0.3594 - val_accuracy: 0.8485\n",
            "Epoch 2/30\n",
            "262/267 [============================>.] - ETA: 0s - loss: 0.2766 - accuracy: 0.8868\n",
            "Epoch 2: val_loss improved from 0.35939 to 0.32018, saving model to best-imbd-Conv1d_v1.h5\n",
            "267/267 [==============================] - 3s 10ms/step - loss: 0.2776 - accuracy: 0.8864 - val_loss: 0.3202 - val_accuracy: 0.8645\n",
            "Epoch 3/30\n",
            "267/267 [==============================] - ETA: 0s - loss: 0.1833 - accuracy: 0.9307\n",
            "Epoch 3: val_loss did not improve from 0.32018\n",
            "267/267 [==============================] - 3s 10ms/step - loss: 0.1833 - accuracy: 0.9307 - val_loss: 0.3368 - val_accuracy: 0.8658\n",
            "Epoch 4/30\n",
            "262/267 [============================>.] - ETA: 0s - loss: 0.1202 - accuracy: 0.9557\n",
            "Epoch 4: val_loss did not improve from 0.32018\n",
            "267/267 [==============================] - 3s 10ms/step - loss: 0.1204 - accuracy: 0.9556 - val_loss: 0.3812 - val_accuracy: 0.8612\n",
            "Epoch 5/30\n",
            "262/267 [============================>.] - ETA: 0s - loss: 0.0769 - accuracy: 0.9738\n",
            "Epoch 5: val_loss did not improve from 0.32018\n",
            "267/267 [==============================] - 3s 11ms/step - loss: 0.0773 - accuracy: 0.9732 - val_loss: 0.4706 - val_accuracy: 0.8643\n",
            "Epoch 6/30\n",
            "263/267 [============================>.] - ETA: 0s - loss: 0.0478 - accuracy: 0.9836\n",
            "Epoch 6: val_loss did not improve from 0.32018\n",
            "267/267 [==============================] - 3s 11ms/step - loss: 0.0483 - accuracy: 0.9835 - val_loss: 0.5430 - val_accuracy: 0.8637\n",
            "Epoch 7/30\n",
            "267/267 [==============================] - ETA: 0s - loss: 0.0288 - accuracy: 0.9910\n",
            "Epoch 7: val_loss did not improve from 0.32018\n",
            "267/267 [==============================] - 3s 11ms/step - loss: 0.0288 - accuracy: 0.9910 - val_loss: 0.7026 - val_accuracy: 0.8575\n"
          ]
        }
      ]
    },
    {
      "cell_type": "markdown",
      "source": [
        "### result : 86.60"
      ],
      "metadata": {
        "id": "P3CruaFVJUJx"
      }
    },
    {
      "cell_type": "code",
      "source": [
        "best_model1 = load_model(model_path1)\n",
        "best_model1.evaluate(X_test, y_test)"
      ],
      "metadata": {
        "colab": {
          "base_uri": "https://localhost:8080/"
        },
        "id": "mO9D7-g87jXL",
        "outputId": "e20ef9cb-11e3-4bd0-a9b4-a0f3a9e857fd"
      },
      "execution_count": 14,
      "outputs": [
        {
          "output_type": "stream",
          "name": "stdout",
          "text": [
            "157/157 [==============================] - 1s 4ms/step - loss: 0.3135 - accuracy: 0.8660\n"
          ]
        },
        {
          "output_type": "execute_result",
          "data": {
            "text/plain": [
              "[0.31354641914367676, 0.8659999966621399]"
            ]
          },
          "metadata": {},
          "execution_count": 14
        }
      ]
    },
    {
      "cell_type": "code",
      "source": [
        ""
      ],
      "metadata": {
        "id": "mpbIxIt38mSY"
      },
      "execution_count": 14,
      "outputs": []
    },
    {
      "cell_type": "markdown",
      "source": [
        "## Case2. Conv1D + LSTM\n",
        "- 단어 빈도 수 : 10,000개 (총 88,584)\n",
        "- 리뷰 최대 단어 길이 : 500개 (총 2,984)\n"
      ],
      "metadata": {
        "id": "v5cwbGssGa7M"
      }
    },
    {
      "cell_type": "code",
      "source": [
        "model2 = Sequential([\n",
        "    Embedding(num_words, 120, input_length=max_len),\n",
        "    Dropout(0.5),\n",
        "    Conv1D(64, 5, activation = 'relu'),\n",
        "    MaxPooling1D(5),\n",
        "    LSTM(100),\n",
        "    Dense(1, activation='sigmoid')\n",
        "])\n",
        "model2.summary()"
      ],
      "metadata": {
        "colab": {
          "base_uri": "https://localhost:8080/"
        },
        "outputId": "af2d7a9f-fa14-430f-9d22-db480e602691",
        "id": "1iBz9lCuGa7M"
      },
      "execution_count": 15,
      "outputs": [
        {
          "output_type": "stream",
          "name": "stdout",
          "text": [
            "Model: \"sequential_1\"\n",
            "_________________________________________________________________\n",
            " Layer (type)                Output Shape              Param #   \n",
            "=================================================================\n",
            " embedding_1 (Embedding)     (None, 500, 120)          1200000   \n",
            "                                                                 \n",
            " dropout_1 (Dropout)         (None, 500, 120)          0         \n",
            "                                                                 \n",
            " conv1d_2 (Conv1D)           (None, 496, 64)           38464     \n",
            "                                                                 \n",
            " max_pooling1d_2 (MaxPooling  (None, 99, 64)           0         \n",
            " 1D)                                                             \n",
            "                                                                 \n",
            " lstm (LSTM)                 (None, 100)               66000     \n",
            "                                                                 \n",
            " dense_1 (Dense)             (None, 1)                 101       \n",
            "                                                                 \n",
            "=================================================================\n",
            "Total params: 1,304,565\n",
            "Trainable params: 1,304,565\n",
            "Non-trainable params: 0\n",
            "_________________________________________________________________\n"
          ]
        }
      ]
    },
    {
      "cell_type": "code",
      "source": [
        "model2.compile('adam', 'binary_crossentropy', ['accuracy'])\n",
        "\n",
        "model_path2 = 'best-imbd-Conv1d_v2.h5'\n",
        "mc2 = ModelCheckpoint(model_path2, verbose=1, save_best_only=True)\n",
        "es2 = EarlyStopping(patience=5)\n",
        "\n",
        "hist2 = model2.fit(X_train, y_train, validation_split = 0.2,\n",
        "                 epochs = 30, batch_size = 60, callbacks = [mc2, es2])"
      ],
      "metadata": {
        "colab": {
          "base_uri": "https://localhost:8080/"
        },
        "id": "euxjrIbQIBX5",
        "outputId": "3eb74bd1-6109-4650-d706-273089986f78"
      },
      "execution_count": 16,
      "outputs": [
        {
          "output_type": "stream",
          "name": "stdout",
          "text": [
            "Epoch 1/30\n",
            "267/267 [==============================] - ETA: 0s - loss: 0.4412 - accuracy: 0.7676\n",
            "Epoch 1: val_loss improved from inf to 0.32012, saving model to best-imbd-Conv1d_v2.h5\n",
            "267/267 [==============================] - 7s 18ms/step - loss: 0.4412 - accuracy: 0.7676 - val_loss: 0.3201 - val_accuracy: 0.8775\n",
            "Epoch 2/30\n",
            "264/267 [============================>.] - ETA: 0s - loss: 0.2096 - accuracy: 0.9207\n",
            "Epoch 2: val_loss improved from 0.32012 to 0.26013, saving model to best-imbd-Conv1d_v2.h5\n",
            "267/267 [==============================] - 4s 15ms/step - loss: 0.2108 - accuracy: 0.9203 - val_loss: 0.2601 - val_accuracy: 0.8992\n",
            "Epoch 3/30\n",
            "264/267 [============================>.] - ETA: 0s - loss: 0.1331 - accuracy: 0.9531\n",
            "Epoch 3: val_loss did not improve from 0.26013\n",
            "267/267 [==============================] - 4s 15ms/step - loss: 0.1334 - accuracy: 0.9529 - val_loss: 0.3008 - val_accuracy: 0.8850\n",
            "Epoch 4/30\n",
            "267/267 [==============================] - ETA: 0s - loss: 0.0895 - accuracy: 0.9690\n",
            "Epoch 4: val_loss did not improve from 0.26013\n",
            "267/267 [==============================] - 4s 15ms/step - loss: 0.0895 - accuracy: 0.9690 - val_loss: 0.3231 - val_accuracy: 0.8742\n",
            "Epoch 5/30\n",
            "267/267 [==============================] - ETA: 0s - loss: 0.0650 - accuracy: 0.9781\n",
            "Epoch 5: val_loss did not improve from 0.26013\n",
            "267/267 [==============================] - 6s 21ms/step - loss: 0.0650 - accuracy: 0.9781 - val_loss: 0.3634 - val_accuracy: 0.8865\n",
            "Epoch 6/30\n",
            "267/267 [==============================] - ETA: 0s - loss: 0.0441 - accuracy: 0.9868\n",
            "Epoch 6: val_loss did not improve from 0.26013\n",
            "267/267 [==============================] - 4s 15ms/step - loss: 0.0441 - accuracy: 0.9868 - val_loss: 0.4000 - val_accuracy: 0.8808\n",
            "Epoch 7/30\n",
            "264/267 [============================>.] - ETA: 0s - loss: 0.0389 - accuracy: 0.9878\n",
            "Epoch 7: val_loss did not improve from 0.26013\n",
            "267/267 [==============================] - 4s 16ms/step - loss: 0.0391 - accuracy: 0.9878 - val_loss: 0.4484 - val_accuracy: 0.8852\n"
          ]
        }
      ]
    },
    {
      "cell_type": "markdown",
      "source": [
        "### result : 88.89"
      ],
      "metadata": {
        "id": "sRFyzMmVJaXD"
      }
    },
    {
      "cell_type": "code",
      "source": [
        "best_model2 = load_model(model_path2)\n",
        "best_model2.evaluate(X_test, y_test)"
      ],
      "metadata": {
        "colab": {
          "base_uri": "https://localhost:8080/"
        },
        "id": "5LxAe951IGyH",
        "outputId": "346e6c15-8c13-48b8-fcd1-a2401bac2e2f"
      },
      "execution_count": 17,
      "outputs": [
        {
          "output_type": "stream",
          "name": "stdout",
          "text": [
            "157/157 [==============================] - 1s 5ms/step - loss: 0.2742 - accuracy: 0.8888\n"
          ]
        },
        {
          "output_type": "execute_result",
          "data": {
            "text/plain": [
              "[0.2742072641849518, 0.8888000249862671]"
            ]
          },
          "metadata": {},
          "execution_count": 17
        }
      ]
    },
    {
      "cell_type": "markdown",
      "source": [
        "## Case3. Conv1D + Dense\n",
        "- 단어 빈도 수 : 10,000개 (총 88,584)\n",
        "- 리뷰 최대 단어 길이 : 500개 (총 2,984)\n"
      ],
      "metadata": {
        "id": "hKjdadBJHZ8f"
      }
    },
    {
      "cell_type": "code",
      "source": [
        "model3 = Sequential([\n",
        "    Embedding(num_words, 120, input_length=max_len),\n",
        "    Dropout(0.5),\n",
        "    Conv1D(64, 5, activation = 'relu'),\n",
        "    MaxPooling1D(5),\n",
        "    GlobalMaxPooling1D(),\n",
        "    Dense(100, activation='relu'),\n",
        "    Dense(1, activation='sigmoid')\n",
        "])\n",
        "model3.summary()"
      ],
      "metadata": {
        "colab": {
          "base_uri": "https://localhost:8080/"
        },
        "outputId": "892581b0-ba16-4399-c588-22d9ec6051dc",
        "id": "MdQL9l15HZ8g"
      },
      "execution_count": 18,
      "outputs": [
        {
          "output_type": "stream",
          "name": "stdout",
          "text": [
            "Model: \"sequential_2\"\n",
            "_________________________________________________________________\n",
            " Layer (type)                Output Shape              Param #   \n",
            "=================================================================\n",
            " embedding_2 (Embedding)     (None, 500, 120)          1200000   \n",
            "                                                                 \n",
            " dropout_2 (Dropout)         (None, 500, 120)          0         \n",
            "                                                                 \n",
            " conv1d_3 (Conv1D)           (None, 496, 64)           38464     \n",
            "                                                                 \n",
            " max_pooling1d_3 (MaxPooling  (None, 99, 64)           0         \n",
            " 1D)                                                             \n",
            "                                                                 \n",
            " global_max_pooling1d_1 (Glo  (None, 64)               0         \n",
            " balMaxPooling1D)                                                \n",
            "                                                                 \n",
            " dense_2 (Dense)             (None, 100)               6500      \n",
            "                                                                 \n",
            " dense_3 (Dense)             (None, 1)                 101       \n",
            "                                                                 \n",
            "=================================================================\n",
            "Total params: 1,245,065\n",
            "Trainable params: 1,245,065\n",
            "Non-trainable params: 0\n",
            "_________________________________________________________________\n"
          ]
        }
      ]
    },
    {
      "cell_type": "code",
      "source": [
        "model3.compile('adam', 'binary_crossentropy', ['accuracy'])\n",
        "\n",
        "model_path3 = 'best-imbd-Conv1d_v3.h5'\n",
        "mc3 = ModelCheckpoint(model_path3, verbose=1, save_best_only=True)\n",
        "es3 = EarlyStopping(patience=5)\n",
        "\n",
        "hist3 = model3.fit(X_train, y_train, validation_split = 0.2,\n",
        "                 epochs = 30, batch_size = 60, callbacks = [mc3, es3])"
      ],
      "metadata": {
        "colab": {
          "base_uri": "https://localhost:8080/"
        },
        "id": "cb6SletCHyYs",
        "outputId": "7231327b-35da-4c84-db10-7d8e162083b0"
      },
      "execution_count": 19,
      "outputs": [
        {
          "output_type": "stream",
          "name": "stdout",
          "text": [
            "Epoch 1/30\n",
            "262/267 [============================>.] - ETA: 0s - loss: 0.5648 - accuracy: 0.6789\n",
            "Epoch 1: val_loss improved from inf to 0.37521, saving model to best-imbd-Conv1d_v3.h5\n",
            "267/267 [==============================] - 3s 10ms/step - loss: 0.5614 - accuracy: 0.6815 - val_loss: 0.3752 - val_accuracy: 0.8335\n",
            "Epoch 2/30\n",
            "266/267 [============================>.] - ETA: 0s - loss: 0.2968 - accuracy: 0.8762\n",
            "Epoch 2: val_loss improved from 0.37521 to 0.28540, saving model to best-imbd-Conv1d_v3.h5\n",
            "267/267 [==============================] - 3s 10ms/step - loss: 0.2972 - accuracy: 0.8761 - val_loss: 0.2854 - val_accuracy: 0.8830\n",
            "Epoch 3/30\n",
            "262/267 [============================>.] - ETA: 0s - loss: 0.1919 - accuracy: 0.9277\n",
            "Epoch 3: val_loss improved from 0.28540 to 0.27936, saving model to best-imbd-Conv1d_v3.h5\n",
            "267/267 [==============================] - 3s 10ms/step - loss: 0.1918 - accuracy: 0.9277 - val_loss: 0.2794 - val_accuracy: 0.8870\n",
            "Epoch 4/30\n",
            "262/267 [============================>.] - ETA: 0s - loss: 0.1171 - accuracy: 0.9585\n",
            "Epoch 4: val_loss did not improve from 0.27936\n",
            "267/267 [==============================] - 2s 9ms/step - loss: 0.1172 - accuracy: 0.9584 - val_loss: 0.3013 - val_accuracy: 0.8888\n",
            "Epoch 5/30\n",
            "261/267 [============================>.] - ETA: 0s - loss: 0.0765 - accuracy: 0.9736\n",
            "Epoch 5: val_loss did not improve from 0.27936\n",
            "267/267 [==============================] - 2s 9ms/step - loss: 0.0770 - accuracy: 0.9732 - val_loss: 0.3470 - val_accuracy: 0.8857\n",
            "Epoch 6/30\n",
            "264/267 [============================>.] - ETA: 0s - loss: 0.0468 - accuracy: 0.9855\n",
            "Epoch 6: val_loss did not improve from 0.27936\n",
            "267/267 [==============================] - 2s 9ms/step - loss: 0.0472 - accuracy: 0.9852 - val_loss: 0.3997 - val_accuracy: 0.8823\n",
            "Epoch 7/30\n",
            "263/267 [============================>.] - ETA: 0s - loss: 0.0298 - accuracy: 0.9911\n",
            "Epoch 7: val_loss did not improve from 0.27936\n",
            "267/267 [==============================] - 2s 9ms/step - loss: 0.0302 - accuracy: 0.9909 - val_loss: 0.4850 - val_accuracy: 0.8767\n",
            "Epoch 8/30\n",
            "266/267 [============================>.] - ETA: 0s - loss: 0.0273 - accuracy: 0.9909\n",
            "Epoch 8: val_loss did not improve from 0.27936\n",
            "267/267 [==============================] - 2s 9ms/step - loss: 0.0272 - accuracy: 0.9909 - val_loss: 0.4521 - val_accuracy: 0.8885\n"
          ]
        }
      ]
    },
    {
      "cell_type": "markdown",
      "source": [
        "### result : 88.70"
      ],
      "metadata": {
        "id": "h3gbnAI0JfRD"
      }
    },
    {
      "cell_type": "code",
      "source": [
        "best_model3 = load_model(model_path3)\n",
        "best_model3.evaluate(X_test, y_test)"
      ],
      "metadata": {
        "colab": {
          "base_uri": "https://localhost:8080/"
        },
        "id": "scPBsd5lIZ-u",
        "outputId": "6811e44b-3fc1-49e0-dec6-c643bf0aa6ec"
      },
      "execution_count": 20,
      "outputs": [
        {
          "output_type": "stream",
          "name": "stdout",
          "text": [
            "157/157 [==============================] - 1s 3ms/step - loss: 0.2866 - accuracy: 0.8870\n"
          ]
        },
        {
          "output_type": "execute_result",
          "data": {
            "text/plain": [
              "[0.286623477935791, 0.8870000243186951]"
            ]
          },
          "metadata": {},
          "execution_count": 20
        }
      ]
    }
  ]
}