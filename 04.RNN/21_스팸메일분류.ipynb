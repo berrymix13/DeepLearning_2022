{
  "nbformat": 4,
  "nbformat_minor": 0,
  "metadata": {
    "colab": {
      "name": "21_스팸메일분류.ipynb",
      "provenance": [],
      "collapsed_sections": []
    },
    "kernelspec": {
      "name": "python3",
      "display_name": "Python 3"
    },
    "language_info": {
      "name": "python"
    },
    "accelerator": "GPU"
  },
  "cells": [
    {
      "cell_type": "markdown",
      "source": [
        "# < Simple RNN >\n",
        "- Data  : Kaggle_"
      ],
      "metadata": {
        "id": "DGSQF5jg-gNV"
      }
    },
    {
      "cell_type": "code",
      "execution_count": 1,
      "metadata": {
        "id": "mQZPfaOp-WZC"
      },
      "outputs": [],
      "source": [
        "import numpy as np\n",
        "import pandas as pd\n",
        "import matplotlib.pyplot as plt\n",
        "import warnings\n",
        "warnings.filterwarnings('ignore')\n",
        "\n",
        "url = 'https://raw.githubusercontent.com/ukairia777/tensorflow-nlp-tutorial/main/10.%20RNN%20Text%20Classification/dataset/spam.csv'"
      ]
    },
    {
      "cell_type": "code",
      "source": [
        "df = pd.read_csv(url, encoding = 'latin1')\n",
        "df.head(3)"
      ],
      "metadata": {
        "colab": {
          "base_uri": "https://localhost:8080/",
          "height": 143
        },
        "id": "Qecs4Yjg-2Ac",
        "outputId": "e3098227-c0c9-42cf-87d3-b688e41afea4"
      },
      "execution_count": 2,
      "outputs": [
        {
          "output_type": "execute_result",
          "data": {
            "text/plain": [
              "     v1                                                 v2 Unnamed: 2  \\\n",
              "0   ham  Go until jurong point, crazy.. Available only ...        NaN   \n",
              "1   ham                      Ok lar... Joking wif u oni...        NaN   \n",
              "2  spam  Free entry in 2 a wkly comp to win FA Cup fina...        NaN   \n",
              "\n",
              "  Unnamed: 3 Unnamed: 4  \n",
              "0        NaN        NaN  \n",
              "1        NaN        NaN  \n",
              "2        NaN        NaN  "
            ],
            "text/html": [
              "\n",
              "  <div id=\"df-79990671-ffd5-4e12-b111-ad900768f5bb\">\n",
              "    <div class=\"colab-df-container\">\n",
              "      <div>\n",
              "<style scoped>\n",
              "    .dataframe tbody tr th:only-of-type {\n",
              "        vertical-align: middle;\n",
              "    }\n",
              "\n",
              "    .dataframe tbody tr th {\n",
              "        vertical-align: top;\n",
              "    }\n",
              "\n",
              "    .dataframe thead th {\n",
              "        text-align: right;\n",
              "    }\n",
              "</style>\n",
              "<table border=\"1\" class=\"dataframe\">\n",
              "  <thead>\n",
              "    <tr style=\"text-align: right;\">\n",
              "      <th></th>\n",
              "      <th>v1</th>\n",
              "      <th>v2</th>\n",
              "      <th>Unnamed: 2</th>\n",
              "      <th>Unnamed: 3</th>\n",
              "      <th>Unnamed: 4</th>\n",
              "    </tr>\n",
              "  </thead>\n",
              "  <tbody>\n",
              "    <tr>\n",
              "      <th>0</th>\n",
              "      <td>ham</td>\n",
              "      <td>Go until jurong point, crazy.. Available only ...</td>\n",
              "      <td>NaN</td>\n",
              "      <td>NaN</td>\n",
              "      <td>NaN</td>\n",
              "    </tr>\n",
              "    <tr>\n",
              "      <th>1</th>\n",
              "      <td>ham</td>\n",
              "      <td>Ok lar... Joking wif u oni...</td>\n",
              "      <td>NaN</td>\n",
              "      <td>NaN</td>\n",
              "      <td>NaN</td>\n",
              "    </tr>\n",
              "    <tr>\n",
              "      <th>2</th>\n",
              "      <td>spam</td>\n",
              "      <td>Free entry in 2 a wkly comp to win FA Cup fina...</td>\n",
              "      <td>NaN</td>\n",
              "      <td>NaN</td>\n",
              "      <td>NaN</td>\n",
              "    </tr>\n",
              "  </tbody>\n",
              "</table>\n",
              "</div>\n",
              "      <button class=\"colab-df-convert\" onclick=\"convertToInteractive('df-79990671-ffd5-4e12-b111-ad900768f5bb')\"\n",
              "              title=\"Convert this dataframe to an interactive table.\"\n",
              "              style=\"display:none;\">\n",
              "        \n",
              "  <svg xmlns=\"http://www.w3.org/2000/svg\" height=\"24px\"viewBox=\"0 0 24 24\"\n",
              "       width=\"24px\">\n",
              "    <path d=\"M0 0h24v24H0V0z\" fill=\"none\"/>\n",
              "    <path d=\"M18.56 5.44l.94 2.06.94-2.06 2.06-.94-2.06-.94-.94-2.06-.94 2.06-2.06.94zm-11 1L8.5 8.5l.94-2.06 2.06-.94-2.06-.94L8.5 2.5l-.94 2.06-2.06.94zm10 10l.94 2.06.94-2.06 2.06-.94-2.06-.94-.94-2.06-.94 2.06-2.06.94z\"/><path d=\"M17.41 7.96l-1.37-1.37c-.4-.4-.92-.59-1.43-.59-.52 0-1.04.2-1.43.59L10.3 9.45l-7.72 7.72c-.78.78-.78 2.05 0 2.83L4 21.41c.39.39.9.59 1.41.59.51 0 1.02-.2 1.41-.59l7.78-7.78 2.81-2.81c.8-.78.8-2.07 0-2.86zM5.41 20L4 18.59l7.72-7.72 1.47 1.35L5.41 20z\"/>\n",
              "  </svg>\n",
              "      </button>\n",
              "      \n",
              "  <style>\n",
              "    .colab-df-container {\n",
              "      display:flex;\n",
              "      flex-wrap:wrap;\n",
              "      gap: 12px;\n",
              "    }\n",
              "\n",
              "    .colab-df-convert {\n",
              "      background-color: #E8F0FE;\n",
              "      border: none;\n",
              "      border-radius: 50%;\n",
              "      cursor: pointer;\n",
              "      display: none;\n",
              "      fill: #1967D2;\n",
              "      height: 32px;\n",
              "      padding: 0 0 0 0;\n",
              "      width: 32px;\n",
              "    }\n",
              "\n",
              "    .colab-df-convert:hover {\n",
              "      background-color: #E2EBFA;\n",
              "      box-shadow: 0px 1px 2px rgba(60, 64, 67, 0.3), 0px 1px 3px 1px rgba(60, 64, 67, 0.15);\n",
              "      fill: #174EA6;\n",
              "    }\n",
              "\n",
              "    [theme=dark] .colab-df-convert {\n",
              "      background-color: #3B4455;\n",
              "      fill: #D2E3FC;\n",
              "    }\n",
              "\n",
              "    [theme=dark] .colab-df-convert:hover {\n",
              "      background-color: #434B5C;\n",
              "      box-shadow: 0px 1px 3px 1px rgba(0, 0, 0, 0.15);\n",
              "      filter: drop-shadow(0px 1px 2px rgba(0, 0, 0, 0.3));\n",
              "      fill: #FFFFFF;\n",
              "    }\n",
              "  </style>\n",
              "\n",
              "      <script>\n",
              "        const buttonEl =\n",
              "          document.querySelector('#df-79990671-ffd5-4e12-b111-ad900768f5bb button.colab-df-convert');\n",
              "        buttonEl.style.display =\n",
              "          google.colab.kernel.accessAllowed ? 'block' : 'none';\n",
              "\n",
              "        async function convertToInteractive(key) {\n",
              "          const element = document.querySelector('#df-79990671-ffd5-4e12-b111-ad900768f5bb');\n",
              "          const dataTable =\n",
              "            await google.colab.kernel.invokeFunction('convertToInteractive',\n",
              "                                                     [key], {});\n",
              "          if (!dataTable) return;\n",
              "\n",
              "          const docLinkHtml = 'Like what you see? Visit the ' +\n",
              "            '<a target=\"_blank\" href=https://colab.research.google.com/notebooks/data_table.ipynb>data table notebook</a>'\n",
              "            + ' to learn more about interactive tables.';\n",
              "          element.innerHTML = '';\n",
              "          dataTable['output_type'] = 'display_data';\n",
              "          await google.colab.output.renderOutput(dataTable, element);\n",
              "          const docLink = document.createElement('div');\n",
              "          docLink.innerHTML = docLinkHtml;\n",
              "          element.appendChild(docLink);\n",
              "        }\n",
              "      </script>\n",
              "    </div>\n",
              "  </div>\n",
              "  "
            ]
          },
          "metadata": {},
          "execution_count": 2
        }
      ]
    },
    {
      "cell_type": "markdown",
      "source": [
        "## 1.데이터 전처리"
      ],
      "metadata": {
        "id": "P-LbFBBb_K8a"
      }
    },
    {
      "cell_type": "code",
      "source": [
        "# Selection : v1, v2\n",
        "df = df[['v1', 'v2']]"
      ],
      "metadata": {
        "id": "clkEnsvt-896"
      },
      "execution_count": 3,
      "outputs": []
    },
    {
      "cell_type": "code",
      "source": [
        "# null check\n",
        "df.isna().sum()"
      ],
      "metadata": {
        "colab": {
          "base_uri": "https://localhost:8080/"
        },
        "id": "kzMary2O_VwR",
        "outputId": "3c538edc-5243-41ff-a54b-2db67a0c4fec"
      },
      "execution_count": 4,
      "outputs": [
        {
          "output_type": "execute_result",
          "data": {
            "text/plain": [
              "v1    0\n",
              "v2    0\n",
              "dtype: int64"
            ]
          },
          "metadata": {},
          "execution_count": 4
        }
      ]
    },
    {
      "cell_type": "code",
      "source": [
        "# duplicate check\n",
        "df.shape, df.v2.nunique()"
      ],
      "metadata": {
        "colab": {
          "base_uri": "https://localhost:8080/"
        },
        "id": "Uu51CZl8_dzb",
        "outputId": "2b5c7e3b-26fc-4148-f554-4c0b46b716b6"
      },
      "execution_count": 5,
      "outputs": [
        {
          "output_type": "execute_result",
          "data": {
            "text/plain": [
              "((5572, 2), 5169)"
            ]
          },
          "metadata": {},
          "execution_count": 5
        }
      ]
    },
    {
      "cell_type": "code",
      "source": [
        "df.drop_duplicates(subset = ['v2'], inplace = True)\n",
        "df.shape"
      ],
      "metadata": {
        "colab": {
          "base_uri": "https://localhost:8080/"
        },
        "id": "VLv1CSq3_umy",
        "outputId": "aee42280-27cb-4fed-ead9-95bc82bb6b73"
      },
      "execution_count": 6,
      "outputs": [
        {
          "output_type": "execute_result",
          "data": {
            "text/plain": [
              "(5169, 2)"
            ]
          },
          "metadata": {},
          "execution_count": 6
        }
      ]
    },
    {
      "cell_type": "code",
      "source": [
        "# ['ham', 'spam'] => [0, 1]\n",
        "df.v1 = df.v1.replace(['ham', 'spam'], [0, 1])\n",
        "df.head(3)"
      ],
      "metadata": {
        "colab": {
          "base_uri": "https://localhost:8080/",
          "height": 143
        },
        "id": "jXsyPxJx_7Ct",
        "outputId": "74d6dbd7-8ea6-458e-d621-2ea53cc76917"
      },
      "execution_count": 7,
      "outputs": [
        {
          "output_type": "execute_result",
          "data": {
            "text/plain": [
              "   v1                                                 v2\n",
              "0   0  Go until jurong point, crazy.. Available only ...\n",
              "1   0                      Ok lar... Joking wif u oni...\n",
              "2   1  Free entry in 2 a wkly comp to win FA Cup fina..."
            ],
            "text/html": [
              "\n",
              "  <div id=\"df-a3a3ec55-1614-42d1-86e5-215969110be6\">\n",
              "    <div class=\"colab-df-container\">\n",
              "      <div>\n",
              "<style scoped>\n",
              "    .dataframe tbody tr th:only-of-type {\n",
              "        vertical-align: middle;\n",
              "    }\n",
              "\n",
              "    .dataframe tbody tr th {\n",
              "        vertical-align: top;\n",
              "    }\n",
              "\n",
              "    .dataframe thead th {\n",
              "        text-align: right;\n",
              "    }\n",
              "</style>\n",
              "<table border=\"1\" class=\"dataframe\">\n",
              "  <thead>\n",
              "    <tr style=\"text-align: right;\">\n",
              "      <th></th>\n",
              "      <th>v1</th>\n",
              "      <th>v2</th>\n",
              "    </tr>\n",
              "  </thead>\n",
              "  <tbody>\n",
              "    <tr>\n",
              "      <th>0</th>\n",
              "      <td>0</td>\n",
              "      <td>Go until jurong point, crazy.. Available only ...</td>\n",
              "    </tr>\n",
              "    <tr>\n",
              "      <th>1</th>\n",
              "      <td>0</td>\n",
              "      <td>Ok lar... Joking wif u oni...</td>\n",
              "    </tr>\n",
              "    <tr>\n",
              "      <th>2</th>\n",
              "      <td>1</td>\n",
              "      <td>Free entry in 2 a wkly comp to win FA Cup fina...</td>\n",
              "    </tr>\n",
              "  </tbody>\n",
              "</table>\n",
              "</div>\n",
              "      <button class=\"colab-df-convert\" onclick=\"convertToInteractive('df-a3a3ec55-1614-42d1-86e5-215969110be6')\"\n",
              "              title=\"Convert this dataframe to an interactive table.\"\n",
              "              style=\"display:none;\">\n",
              "        \n",
              "  <svg xmlns=\"http://www.w3.org/2000/svg\" height=\"24px\"viewBox=\"0 0 24 24\"\n",
              "       width=\"24px\">\n",
              "    <path d=\"M0 0h24v24H0V0z\" fill=\"none\"/>\n",
              "    <path d=\"M18.56 5.44l.94 2.06.94-2.06 2.06-.94-2.06-.94-.94-2.06-.94 2.06-2.06.94zm-11 1L8.5 8.5l.94-2.06 2.06-.94-2.06-.94L8.5 2.5l-.94 2.06-2.06.94zm10 10l.94 2.06.94-2.06 2.06-.94-2.06-.94-.94-2.06-.94 2.06-2.06.94z\"/><path d=\"M17.41 7.96l-1.37-1.37c-.4-.4-.92-.59-1.43-.59-.52 0-1.04.2-1.43.59L10.3 9.45l-7.72 7.72c-.78.78-.78 2.05 0 2.83L4 21.41c.39.39.9.59 1.41.59.51 0 1.02-.2 1.41-.59l7.78-7.78 2.81-2.81c.8-.78.8-2.07 0-2.86zM5.41 20L4 18.59l7.72-7.72 1.47 1.35L5.41 20z\"/>\n",
              "  </svg>\n",
              "      </button>\n",
              "      \n",
              "  <style>\n",
              "    .colab-df-container {\n",
              "      display:flex;\n",
              "      flex-wrap:wrap;\n",
              "      gap: 12px;\n",
              "    }\n",
              "\n",
              "    .colab-df-convert {\n",
              "      background-color: #E8F0FE;\n",
              "      border: none;\n",
              "      border-radius: 50%;\n",
              "      cursor: pointer;\n",
              "      display: none;\n",
              "      fill: #1967D2;\n",
              "      height: 32px;\n",
              "      padding: 0 0 0 0;\n",
              "      width: 32px;\n",
              "    }\n",
              "\n",
              "    .colab-df-convert:hover {\n",
              "      background-color: #E2EBFA;\n",
              "      box-shadow: 0px 1px 2px rgba(60, 64, 67, 0.3), 0px 1px 3px 1px rgba(60, 64, 67, 0.15);\n",
              "      fill: #174EA6;\n",
              "    }\n",
              "\n",
              "    [theme=dark] .colab-df-convert {\n",
              "      background-color: #3B4455;\n",
              "      fill: #D2E3FC;\n",
              "    }\n",
              "\n",
              "    [theme=dark] .colab-df-convert:hover {\n",
              "      background-color: #434B5C;\n",
              "      box-shadow: 0px 1px 3px 1px rgba(0, 0, 0, 0.15);\n",
              "      filter: drop-shadow(0px 1px 2px rgba(0, 0, 0, 0.3));\n",
              "      fill: #FFFFFF;\n",
              "    }\n",
              "  </style>\n",
              "\n",
              "      <script>\n",
              "        const buttonEl =\n",
              "          document.querySelector('#df-a3a3ec55-1614-42d1-86e5-215969110be6 button.colab-df-convert');\n",
              "        buttonEl.style.display =\n",
              "          google.colab.kernel.accessAllowed ? 'block' : 'none';\n",
              "\n",
              "        async function convertToInteractive(key) {\n",
              "          const element = document.querySelector('#df-a3a3ec55-1614-42d1-86e5-215969110be6');\n",
              "          const dataTable =\n",
              "            await google.colab.kernel.invokeFunction('convertToInteractive',\n",
              "                                                     [key], {});\n",
              "          if (!dataTable) return;\n",
              "\n",
              "          const docLinkHtml = 'Like what you see? Visit the ' +\n",
              "            '<a target=\"_blank\" href=https://colab.research.google.com/notebooks/data_table.ipynb>data table notebook</a>'\n",
              "            + ' to learn more about interactive tables.';\n",
              "          element.innerHTML = '';\n",
              "          dataTable['output_type'] = 'display_data';\n",
              "          await google.colab.output.renderOutput(dataTable, element);\n",
              "          const docLink = document.createElement('div');\n",
              "          docLink.innerHTML = docLinkHtml;\n",
              "          element.appendChild(docLink);\n",
              "        }\n",
              "      </script>\n",
              "    </div>\n",
              "  </div>\n",
              "  "
            ]
          },
          "metadata": {},
          "execution_count": 7
        }
      ]
    },
    {
      "cell_type": "code",
      "source": [
        "# Ham / spam 분포\n",
        "df.v1.value_counts()"
      ],
      "metadata": {
        "colab": {
          "base_uri": "https://localhost:8080/"
        },
        "id": "4VtCkPZVAZem",
        "outputId": "11481bcc-5c75-4097-942e-aac56a5b8510"
      },
      "execution_count": 8,
      "outputs": [
        {
          "output_type": "execute_result",
          "data": {
            "text/plain": [
              "0    4516\n",
              "1     653\n",
              "Name: v1, dtype: int64"
            ]
          },
          "metadata": {},
          "execution_count": 8
        }
      ]
    },
    {
      "cell_type": "code",
      "source": [
        "# 전처리 완료 데이터 저장\n",
        "df.to_csv('Ham_Spam.csv', index = False)"
      ],
      "metadata": {
        "id": "_faJUOsNAntj"
      },
      "execution_count": 9,
      "outputs": []
    },
    {
      "cell_type": "code",
      "source": [
        "x, y = df.v2.values, df.v1.values\n",
        "x.shape, y.shape"
      ],
      "metadata": {
        "colab": {
          "base_uri": "https://localhost:8080/"
        },
        "id": "j5Ya0uENBC4L",
        "outputId": "ab52b6b5-a77f-42a9-caec-49abc2bee773"
      },
      "execution_count": 10,
      "outputs": [
        {
          "output_type": "execute_result",
          "data": {
            "text/plain": [
              "((5169,), (5169,))"
            ]
          },
          "metadata": {},
          "execution_count": 10
        }
      ]
    },
    {
      "cell_type": "markdown",
      "source": [
        "### 1.2.Keras Text Preprocessing"
      ],
      "metadata": {
        "id": "ECdDVAJ3BTO8"
      }
    },
    {
      "cell_type": "markdown",
      "source": [
        "#### 1.2.1.preprocessing함수 생성(re.sub)"
      ],
      "metadata": {
        "id": "7s6jPR9kCxla"
      }
    },
    {
      "cell_type": "code",
      "source": [
        "from tensorflow.keras.preprocessing.text import Tokenizer\n",
        "from tensorflow.keras.preprocessing.sequence import pad_sequences"
      ],
      "metadata": {
        "id": "ZyOspFWdBLcC"
      },
      "execution_count": 11,
      "outputs": []
    },
    {
      "cell_type": "code",
      "source": [
        "import re\n",
        "def preprocessing(text):\n",
        "    text = text.encode('utf8').decode('ascii', 'ignore')\n",
        "    text = re.sub('[^A-Za-z0-9 ]', '', text)\n",
        "    return text.lower()"
      ],
      "metadata": {
        "id": "fsxAawygBkBk"
      },
      "execution_count": 12,
      "outputs": []
    },
    {
      "cell_type": "code",
      "source": [
        "x[0]"
      ],
      "metadata": {
        "colab": {
          "base_uri": "https://localhost:8080/",
          "height": 36
        },
        "id": "jOMMYk_6B_Ax",
        "outputId": "95dcd9cc-0f46-422c-eb5b-76ebcac7f252"
      },
      "execution_count": 13,
      "outputs": [
        {
          "output_type": "execute_result",
          "data": {
            "text/plain": [
              "'Go until jurong point, crazy.. Available only in bugis n great world la e buffet... Cine there got amore wat...'"
            ],
            "application/vnd.google.colaboratory.intrinsic+json": {
              "type": "string"
            }
          },
          "metadata": {},
          "execution_count": 13
        }
      ]
    },
    {
      "cell_type": "code",
      "source": [
        "X_data = [preprocessing(line) for line in x]\n",
        "X_data[2]"
      ],
      "metadata": {
        "colab": {
          "base_uri": "https://localhost:8080/",
          "height": 36
        },
        "id": "kFPbwg2UB6_S",
        "outputId": "9e8d2379-0080-47e4-867f-537ba72674fa"
      },
      "execution_count": 14,
      "outputs": [
        {
          "output_type": "execute_result",
          "data": {
            "text/plain": [
              "'free entry in 2 a wkly comp to win fa cup final tkts 21st may 2005 text fa to 87121 to receive entry questionstd txt ratetcs apply 08452810075over18s'"
            ],
            "application/vnd.google.colaboratory.intrinsic+json": {
              "type": "string"
            }
          },
          "metadata": {},
          "execution_count": 14
        }
      ]
    },
    {
      "cell_type": "markdown",
      "source": [
        "#### 1.2.2.단어집합 생성 및 크기 확인"
      ],
      "metadata": {
        "id": "BQVZriezCYFN"
      }
    },
    {
      "cell_type": "code",
      "source": [
        "token = Tokenizer()\n",
        "token.fit_on_texts(X_data) "
      ],
      "metadata": {
        "id": "AhYbB0f4CL_s"
      },
      "execution_count": 15,
      "outputs": []
    },
    {
      "cell_type": "code",
      "source": [
        "# 단어 집합 크기\n",
        "vocab_size = len(token.word_index) + 1      # 0때문에 1을 더해줘야 됨.\n",
        "vocab_size"
      ],
      "metadata": {
        "colab": {
          "base_uri": "https://localhost:8080/"
        },
        "id": "IKLxd3RmCj4r",
        "outputId": "154c399e-70c3-44f8-8a58-45c74d542e82"
      },
      "execution_count": 16,
      "outputs": [
        {
          "output_type": "execute_result",
          "data": {
            "text/plain": [
              "9479"
            ]
          },
          "metadata": {},
          "execution_count": 16
        }
      ]
    },
    {
      "cell_type": "markdown",
      "source": [
        "## 2.Sequences 생성"
      ],
      "metadata": {
        "id": "3m0CuOAOC6wt"
      }
    },
    {
      "cell_type": "code",
      "source": [
        "sequences = token.texts_to_sequences(X_data)\n",
        "print(sequences[2])"
      ],
      "metadata": {
        "colab": {
          "base_uri": "https://localhost:8080/"
        },
        "id": "gXrEIlIkCoLb",
        "outputId": "d4a38d3d-1b01-45c3-cc53-3bfefc2cff1a"
      },
      "execution_count": 17,
      "outputs": [
        {
          "output_type": "stream",
          "name": "stdout",
          "text": [
            "[54, 508, 8, 22, 4, 959, 960, 2, 217, 2566, 1291, 664, 2567, 2568, 268, 2569, 71, 2566, 2, 2570, 2, 336, 508, 3839, 84, 3840, 424, 3841]\n"
          ]
        }
      ]
    },
    {
      "cell_type": "code",
      "source": [
        "max_len = max(len(seq) for seq in sequences)\n",
        "max_len"
      ],
      "metadata": {
        "colab": {
          "base_uri": "https://localhost:8080/"
        },
        "id": "8ewX-kNSCveG",
        "outputId": "305fc8eb-de71-458b-a35b-3f45e60b5735"
      },
      "execution_count": 18,
      "outputs": [
        {
          "output_type": "execute_result",
          "data": {
            "text/plain": [
              "171"
            ]
          },
          "metadata": {},
          "execution_count": 18
        }
      ]
    },
    {
      "cell_type": "code",
      "source": [
        "# 전체 seq를 Max_len 길이에 맞게 0을 padding함\n",
        "data = pad_sequences(sequences, maxlen = max_len)"
      ],
      "metadata": {
        "id": "A_yJ9GqtDLr7"
      },
      "execution_count": 19,
      "outputs": []
    },
    {
      "cell_type": "markdown",
      "source": [
        "## 3.train/test set 분리"
      ],
      "metadata": {
        "id": "dsUTw9D3Y1N8"
      }
    },
    {
      "cell_type": "code",
      "source": [
        "from sklearn.model_selection import train_test_split\n",
        "X_train, X_test, y_train, y_test = train_test_split(\n",
        "    data, y, stratify = y, test_size = 0.2, random_state = 2022\n",
        ")\n",
        "X_train.shape, X_test.shape, y_train.shape, y_test.shape"
      ],
      "metadata": {
        "id": "PpwB6dRdEWYr",
        "colab": {
          "base_uri": "https://localhost:8080/"
        },
        "outputId": "606b5f9e-c37f-419d-e6b2-55883ee6b7d1"
      },
      "execution_count": 20,
      "outputs": [
        {
          "output_type": "execute_result",
          "data": {
            "text/plain": [
              "((4135, 171), (1034, 171), (4135,), (1034,))"
            ]
          },
          "metadata": {},
          "execution_count": 20
        }
      ]
    },
    {
      "cell_type": "markdown",
      "source": [
        "## 4.모델 설정 및 평가"
      ],
      "metadata": {
        "id": "AOkLZwe_i4KY"
      }
    },
    {
      "cell_type": "code",
      "source": [
        "from tensorflow.keras.models import Sequential, load_model\n",
        "from tensorflow.keras.layers import Embedding, SimpleRNN, Dense\n",
        "from tensorflow.keras.callbacks import ModelCheckpoint, EarlyStopping"
      ],
      "metadata": {
        "id": "jAijVqslZKJ7"
      },
      "execution_count": 21,
      "outputs": []
    },
    {
      "cell_type": "code",
      "source": [
        "model = Sequential([\n",
        "    Embedding(vocab_size, 32, input_length=max_len),\n",
        "    SimpleRNN(32),\n",
        "    Dense(1, activation = 'sigmoid')\n",
        "])\n",
        "model.summary()"
      ],
      "metadata": {
        "colab": {
          "base_uri": "https://localhost:8080/"
        },
        "id": "fgkuNK_JZhlc",
        "outputId": "bc11aa53-db2e-4c4b-b281-8ebc50b60850"
      },
      "execution_count": 37,
      "outputs": [
        {
          "output_type": "stream",
          "name": "stdout",
          "text": [
            "Model: \"sequential\"\n",
            "_________________________________________________________________\n",
            " Layer (type)                Output Shape              Param #   \n",
            "=================================================================\n",
            " embedding (Embedding)       (None, 171, 32)           303328    \n",
            "                                                                 \n",
            " simple_rnn (SimpleRNN)      (None, 32)                2080      \n",
            "                                                                 \n",
            " dense (Dense)               (None, 1)                 33        \n",
            "                                                                 \n",
            "=================================================================\n",
            "Total params: 305,441\n",
            "Trainable params: 305,441\n",
            "Non-trainable params: 0\n",
            "_________________________________________________________________\n"
          ]
        }
      ]
    },
    {
      "cell_type": "code",
      "source": [
        "model.compile('adam', 'binary_crossentropy', ['accuracy'])"
      ],
      "metadata": {
        "id": "F1dkKC_nf7Rj"
      },
      "execution_count": 38,
      "outputs": []
    },
    {
      "cell_type": "code",
      "source": [
        "model_path = 'best-spam-rnn.h5'\n",
        "mc = ModelCheckpoint(model_path, verbose = 1, save_best_only=True)\n",
        "es = EarlyStopping(patience = 15)"
      ],
      "metadata": {
        "id": "UJIVeK_lgYdQ"
      },
      "execution_count": 40,
      "outputs": []
    },
    {
      "cell_type": "code",
      "source": [
        "hist = model.fit(X_train, y_train, validation_split = 0.2,\n",
        "                 epochs = 100, batch_size = 64, callbacks = [mc, es])"
      ],
      "metadata": {
        "colab": {
          "base_uri": "https://localhost:8080/"
        },
        "id": "M94epZqmgrRL",
        "outputId": "13f7bee9-3dc2-461b-8bd8-1a0a37f903f3"
      },
      "execution_count": 41,
      "outputs": [
        {
          "output_type": "stream",
          "name": "stdout",
          "text": [
            "Epoch 1/100\n",
            "52/52 [==============================] - ETA: 0s - loss: 0.4228 - accuracy: 0.8464\n",
            "Epoch 1: val_loss improved from inf to 0.32299, saving model to best-spam-rnn.h5\n",
            "52/52 [==============================] - 8s 100ms/step - loss: 0.4228 - accuracy: 0.8464 - val_loss: 0.3230 - val_accuracy: 0.8948\n",
            "Epoch 2/100\n",
            "52/52 [==============================] - ETA: 0s - loss: 0.2953 - accuracy: 0.9045\n",
            "Epoch 2: val_loss improved from 0.32299 to 0.20887, saving model to best-spam-rnn.h5\n",
            "52/52 [==============================] - 5s 92ms/step - loss: 0.2953 - accuracy: 0.9045 - val_loss: 0.2089 - val_accuracy: 0.9553\n",
            "Epoch 3/100\n",
            "52/52 [==============================] - ETA: 0s - loss: 0.1188 - accuracy: 0.9770\n",
            "Epoch 3: val_loss improved from 0.20887 to 0.11021, saving model to best-spam-rnn.h5\n",
            "52/52 [==============================] - 5s 96ms/step - loss: 0.1188 - accuracy: 0.9770 - val_loss: 0.1102 - val_accuracy: 0.9722\n",
            "Epoch 4/100\n",
            "52/52 [==============================] - ETA: 0s - loss: 0.0566 - accuracy: 0.9900\n",
            "Epoch 4: val_loss improved from 0.11021 to 0.10132, saving model to best-spam-rnn.h5\n",
            "52/52 [==============================] - 5s 98ms/step - loss: 0.0566 - accuracy: 0.9900 - val_loss: 0.1013 - val_accuracy: 0.9710\n",
            "Epoch 5/100\n",
            "52/52 [==============================] - ETA: 0s - loss: 0.0318 - accuracy: 0.9952\n",
            "Epoch 5: val_loss improved from 0.10132 to 0.08308, saving model to best-spam-rnn.h5\n",
            "52/52 [==============================] - 5s 90ms/step - loss: 0.0318 - accuracy: 0.9952 - val_loss: 0.0831 - val_accuracy: 0.9710\n",
            "Epoch 6/100\n",
            "52/52 [==============================] - ETA: 0s - loss: 0.0206 - accuracy: 0.9973\n",
            "Epoch 6: val_loss improved from 0.08308 to 0.07673, saving model to best-spam-rnn.h5\n",
            "52/52 [==============================] - 5s 93ms/step - loss: 0.0206 - accuracy: 0.9973 - val_loss: 0.0767 - val_accuracy: 0.9734\n",
            "Epoch 7/100\n",
            "52/52 [==============================] - ETA: 0s - loss: 0.0137 - accuracy: 0.9988\n",
            "Epoch 7: val_loss improved from 0.07673 to 0.06997, saving model to best-spam-rnn.h5\n",
            "52/52 [==============================] - 5s 91ms/step - loss: 0.0137 - accuracy: 0.9988 - val_loss: 0.0700 - val_accuracy: 0.9794\n",
            "Epoch 8/100\n",
            "52/52 [==============================] - ETA: 0s - loss: 0.0095 - accuracy: 0.9991\n",
            "Epoch 8: val_loss did not improve from 0.06997\n",
            "52/52 [==============================] - 5s 93ms/step - loss: 0.0095 - accuracy: 0.9991 - val_loss: 0.0706 - val_accuracy: 0.9794\n",
            "Epoch 9/100\n",
            "52/52 [==============================] - ETA: 0s - loss: 0.0074 - accuracy: 0.9994\n",
            "Epoch 9: val_loss did not improve from 0.06997\n",
            "52/52 [==============================] - 5s 95ms/step - loss: 0.0074 - accuracy: 0.9994 - val_loss: 0.0773 - val_accuracy: 0.9770\n",
            "Epoch 10/100\n",
            "52/52 [==============================] - ETA: 0s - loss: 0.0651 - accuracy: 0.9761\n",
            "Epoch 10: val_loss did not improve from 0.06997\n",
            "52/52 [==============================] - 5s 91ms/step - loss: 0.0651 - accuracy: 0.9761 - val_loss: 0.9444 - val_accuracy: 0.6106\n",
            "Epoch 11/100\n",
            "52/52 [==============================] - ETA: 0s - loss: 0.2892 - accuracy: 0.8782\n",
            "Epoch 11: val_loss did not improve from 0.06997\n",
            "52/52 [==============================] - 5s 95ms/step - loss: 0.2892 - accuracy: 0.8782 - val_loss: 0.1298 - val_accuracy: 0.9637\n",
            "Epoch 12/100\n",
            "52/52 [==============================] - ETA: 0s - loss: 0.0493 - accuracy: 0.9885\n",
            "Epoch 12: val_loss did not improve from 0.06997\n",
            "52/52 [==============================] - 5s 99ms/step - loss: 0.0493 - accuracy: 0.9885 - val_loss: 0.1119 - val_accuracy: 0.9674\n",
            "Epoch 13/100\n",
            "52/52 [==============================] - ETA: 0s - loss: 0.0292 - accuracy: 0.9940\n",
            "Epoch 13: val_loss did not improve from 0.06997\n",
            "52/52 [==============================] - 5s 91ms/step - loss: 0.0292 - accuracy: 0.9940 - val_loss: 0.1068 - val_accuracy: 0.9674\n",
            "Epoch 14/100\n",
            "52/52 [==============================] - ETA: 0s - loss: 0.0203 - accuracy: 0.9967\n",
            "Epoch 14: val_loss did not improve from 0.06997\n",
            "52/52 [==============================] - 5s 95ms/step - loss: 0.0203 - accuracy: 0.9967 - val_loss: 0.1039 - val_accuracy: 0.9698\n",
            "Epoch 15/100\n",
            "52/52 [==============================] - ETA: 0s - loss: 0.0151 - accuracy: 0.9985\n",
            "Epoch 15: val_loss did not improve from 0.06997\n",
            "52/52 [==============================] - 5s 94ms/step - loss: 0.0151 - accuracy: 0.9985 - val_loss: 0.1026 - val_accuracy: 0.9686\n",
            "Epoch 16/100\n",
            "52/52 [==============================] - ETA: 0s - loss: 0.0117 - accuracy: 0.9994\n",
            "Epoch 16: val_loss did not improve from 0.06997\n",
            "52/52 [==============================] - 5s 95ms/step - loss: 0.0117 - accuracy: 0.9994 - val_loss: 0.1016 - val_accuracy: 0.9710\n",
            "Epoch 17/100\n",
            "52/52 [==============================] - ETA: 0s - loss: 0.0094 - accuracy: 0.9994\n",
            "Epoch 17: val_loss did not improve from 0.06997\n",
            "52/52 [==============================] - 5s 90ms/step - loss: 0.0094 - accuracy: 0.9994 - val_loss: 0.1015 - val_accuracy: 0.9686\n",
            "Epoch 18/100\n",
            "52/52 [==============================] - ETA: 0s - loss: 0.0078 - accuracy: 0.9994\n",
            "Epoch 18: val_loss did not improve from 0.06997\n",
            "52/52 [==============================] - 5s 93ms/step - loss: 0.0078 - accuracy: 0.9994 - val_loss: 0.1010 - val_accuracy: 0.9686\n",
            "Epoch 19/100\n",
            "52/52 [==============================] - ETA: 0s - loss: 0.0065 - accuracy: 0.9994\n",
            "Epoch 19: val_loss did not improve from 0.06997\n",
            "52/52 [==============================] - 5s 90ms/step - loss: 0.0065 - accuracy: 0.9994 - val_loss: 0.1011 - val_accuracy: 0.9698\n",
            "Epoch 20/100\n",
            "52/52 [==============================] - ETA: 0s - loss: 0.0056 - accuracy: 0.9994\n",
            "Epoch 20: val_loss did not improve from 0.06997\n",
            "52/52 [==============================] - 5s 91ms/step - loss: 0.0056 - accuracy: 0.9994 - val_loss: 0.1012 - val_accuracy: 0.9722\n",
            "Epoch 21/100\n",
            "52/52 [==============================] - ETA: 0s - loss: 0.0048 - accuracy: 0.9997\n",
            "Epoch 21: val_loss did not improve from 0.06997\n",
            "52/52 [==============================] - 5s 95ms/step - loss: 0.0048 - accuracy: 0.9997 - val_loss: 0.1016 - val_accuracy: 0.9722\n",
            "Epoch 22/100\n",
            "52/52 [==============================] - ETA: 0s - loss: 0.0042 - accuracy: 0.9997\n",
            "Epoch 22: val_loss did not improve from 0.06997\n",
            "52/52 [==============================] - 5s 92ms/step - loss: 0.0042 - accuracy: 0.9997 - val_loss: 0.1021 - val_accuracy: 0.9746\n"
          ]
        }
      ]
    },
    {
      "cell_type": "code",
      "source": [
        "best_model = load_model(model_path)\n",
        "best_model.evaluate(X_test, y_test)"
      ],
      "metadata": {
        "colab": {
          "base_uri": "https://localhost:8080/"
        },
        "id": "_lVinKTtg5nz",
        "outputId": "49fba284-8e57-4dc7-a0f0-07e0a0e5c6f2"
      },
      "execution_count": 42,
      "outputs": [
        {
          "output_type": "stream",
          "name": "stdout",
          "text": [
            "33/33 [==============================] - 1s 21ms/step - loss: 0.0751 - accuracy: 0.9787\n"
          ]
        },
        {
          "output_type": "execute_result",
          "data": {
            "text/plain": [
              "[0.07514862716197968, 0.978723406791687]"
            ]
          },
          "metadata": {},
          "execution_count": 42
        }
      ]
    },
    {
      "cell_type": "code",
      "source": [
        "y_acc = hist.history['accuracy']\n",
        "y_vloss = hist.history['val_loss']\n",
        "xs = np.arange(1, len(y_acc)+1)\n",
        "\n",
        "plt.plot(xs, y_acc, label='train accuracy')\n",
        "plt.plot(xs, y_vloss, label='validation loss')\n",
        "plt.legend(), plt.grid()\n",
        "plt.xlabel('Epoch')\n",
        "plt.show()"
      ],
      "metadata": {
        "colab": {
          "base_uri": "https://localhost:8080/",
          "height": 279
        },
        "id": "T4ohVUKFhLme",
        "outputId": "b08ae007-a49a-4c91-a34e-5c1c69f84c82"
      },
      "execution_count": 44,
      "outputs": [
        {
          "output_type": "display_data",
          "data": {
            "text/plain": [
              "<Figure size 432x288 with 1 Axes>"
            ],
            "image/png": "[encoded data removed]"
          },
          "metadata": {
            "needs_background": "light"
          }
        }
      ]
    },
    {
      "cell_type": "markdown",
      "source": [
        "### 4.1.accuracy 대신 recall - 78.62\n",
        "- 실제 스팸중 모델이 스팸이라고 예측한 비율\n",
        "    - 모델이 스팸이라고 예측했는데 실제 스팸인(accuracy)와 다름"
      ],
      "metadata": {
        "id": "E3xWXrvhiyic"
      }
    },
    {
      "cell_type": "code",
      "source": [
        "from tensorflow.keras.metrics import Recall, Precision"
      ],
      "metadata": {
        "id": "pm65Nwq5j9t2"
      },
      "execution_count": 22,
      "outputs": []
    },
    {
      "cell_type": "code",
      "source": [
        "model.compile('adam', 'binary_crossentropy', Recall(name='recall'))"
      ],
      "metadata": {
        "id": "tN7sba2yhY3u"
      },
      "execution_count": 53,
      "outputs": []
    },
    {
      "cell_type": "code",
      "source": [
        "model_path = 'best-spam-rnn-recall.h5'\n",
        "mc = ModelCheckpoint(model_path, verbose = 1, save_best_only=True)\n",
        "es = EarlyStopping(patience = 15)"
      ],
      "metadata": {
        "id": "oYImPreCjDw1"
      },
      "execution_count": 54,
      "outputs": []
    },
    {
      "cell_type": "code",
      "source": [
        "hist = model.fit(X_train, y_train, validation_split = 0.2,\n",
        "                 epochs = 100, batch_size = 64, callbacks = [mc, es])"
      ],
      "metadata": {
        "colab": {
          "base_uri": "https://localhost:8080/"
        },
        "outputId": "1f503ace-f5cc-45d2-e4d9-6fe9ddbfc0d9",
        "id": "qsuVAa-5jDw6"
      },
      "execution_count": 55,
      "outputs": [
        {
          "output_type": "stream",
          "name": "stdout",
          "text": [
            "Epoch 1/100\n",
            "51/52 [============================>.] - ETA: 0s - loss: 0.0022 - recall: 1.0000\n",
            "Epoch 1: val_loss improved from inf to 0.10516, saving model to best-spam-rnn-recall.h5\n",
            "52/52 [==============================] - 4s 57ms/step - loss: 0.0022 - recall: 1.0000 - val_loss: 0.1052 - val_recall: 0.7471\n",
            "Epoch 2/100\n",
            "51/52 [============================>.] - ETA: 0s - loss: 6.9473e-04 - recall: 1.0000\n",
            "Epoch 2: val_loss did not improve from 0.10516\n",
            "52/52 [==============================] - 3s 50ms/step - loss: 6.9400e-04 - recall: 1.0000 - val_loss: 0.1164 - val_recall: 0.7931\n",
            "Epoch 3/100\n",
            "52/52 [==============================] - ETA: 0s - loss: 3.4146e-04 - recall: 1.0000\n",
            "Epoch 3: val_loss did not improve from 0.10516\n",
            "52/52 [==============================] - 3s 50ms/step - loss: 3.4146e-04 - recall: 1.0000 - val_loss: 0.1354 - val_recall: 0.7126\n",
            "Epoch 4/100\n",
            "52/52 [==============================] - ETA: 0s - loss: 1.8578e-04 - recall: 1.0000\n",
            "Epoch 4: val_loss improved from 0.10516 to 0.09934, saving model to best-spam-rnn-recall.h5\n",
            "52/52 [==============================] - 3s 50ms/step - loss: 1.8578e-04 - recall: 1.0000 - val_loss: 0.0993 - val_recall: 0.7931\n",
            "Epoch 5/100\n",
            "51/52 [============================>.] - ETA: 0s - loss: 1.3685e-04 - recall: 1.0000\n",
            "Epoch 5: val_loss did not improve from 0.09934\n",
            "52/52 [==============================] - 3s 49ms/step - loss: 1.3626e-04 - recall: 1.0000 - val_loss: 0.1211 - val_recall: 0.7356\n",
            "Epoch 6/100\n",
            "51/52 [============================>.] - ETA: 0s - loss: 1.1149e-04 - recall: 1.0000\n",
            "Epoch 6: val_loss did not improve from 0.09934\n",
            "52/52 [==============================] - 3s 51ms/step - loss: 1.1096e-04 - recall: 1.0000 - val_loss: 0.1220 - val_recall: 0.7471\n",
            "Epoch 7/100\n",
            "52/52 [==============================] - ETA: 0s - loss: 1.1767e-04 - recall: 1.0000\n",
            "Epoch 7: val_loss did not improve from 0.09934\n",
            "52/52 [==============================] - 3s 51ms/step - loss: 1.1767e-04 - recall: 1.0000 - val_loss: 0.1184 - val_recall: 0.7701\n",
            "Epoch 8/100\n",
            "52/52 [==============================] - ETA: 0s - loss: 7.5465e-05 - recall: 1.0000\n",
            "Epoch 8: val_loss did not improve from 0.09934\n",
            "52/52 [==============================] - 3s 50ms/step - loss: 7.5465e-05 - recall: 1.0000 - val_loss: 0.1166 - val_recall: 0.7701\n",
            "Epoch 9/100\n",
            "52/52 [==============================] - ETA: 0s - loss: 5.6230e-05 - recall: 1.0000\n",
            "Epoch 9: val_loss did not improve from 0.09934\n",
            "52/52 [==============================] - 3s 49ms/step - loss: 5.6230e-05 - recall: 1.0000 - val_loss: 0.1146 - val_recall: 0.7816\n",
            "Epoch 10/100\n",
            "52/52 [==============================] - ETA: 0s - loss: 4.4713e-05 - recall: 1.0000\n",
            "Epoch 10: val_loss did not improve from 0.09934\n",
            "52/52 [==============================] - 3s 49ms/step - loss: 4.4713e-05 - recall: 1.0000 - val_loss: 0.1158 - val_recall: 0.7931\n",
            "Epoch 11/100\n",
            "52/52 [==============================] - ETA: 0s - loss: 3.7030e-05 - recall: 1.0000\n",
            "Epoch 11: val_loss did not improve from 0.09934\n",
            "52/52 [==============================] - 3s 49ms/step - loss: 3.7030e-05 - recall: 1.0000 - val_loss: 0.1180 - val_recall: 0.7931\n",
            "Epoch 12/100\n",
            "51/52 [============================>.] - ETA: 0s - loss: 3.2105e-05 - recall: 1.0000\n",
            "Epoch 12: val_loss did not improve from 0.09934\n",
            "52/52 [==============================] - 3s 49ms/step - loss: 3.2007e-05 - recall: 1.0000 - val_loss: 0.1173 - val_recall: 0.7931\n",
            "Epoch 13/100\n",
            "52/52 [==============================] - ETA: 0s - loss: 2.7536e-05 - recall: 1.0000\n",
            "Epoch 13: val_loss did not improve from 0.09934\n",
            "52/52 [==============================] - 3s 49ms/step - loss: 2.7536e-05 - recall: 1.0000 - val_loss: 0.1202 - val_recall: 0.7931\n",
            "Epoch 14/100\n",
            "52/52 [==============================] - ETA: 0s - loss: 2.4578e-05 - recall: 1.0000\n",
            "Epoch 14: val_loss did not improve from 0.09934\n",
            "52/52 [==============================] - 3s 50ms/step - loss: 2.4578e-05 - recall: 1.0000 - val_loss: 0.1204 - val_recall: 0.7931\n",
            "Epoch 15/100\n",
            "52/52 [==============================] - ETA: 0s - loss: 2.1687e-05 - recall: 1.0000\n",
            "Epoch 15: val_loss did not improve from 0.09934\n",
            "52/52 [==============================] - 3s 50ms/step - loss: 2.1687e-05 - recall: 1.0000 - val_loss: 0.1216 - val_recall: 0.7931\n",
            "Epoch 16/100\n",
            "51/52 [============================>.] - ETA: 0s - loss: 1.9575e-05 - recall: 1.0000\n",
            "Epoch 16: val_loss did not improve from 0.09934\n",
            "52/52 [==============================] - 3s 50ms/step - loss: 1.9609e-05 - recall: 1.0000 - val_loss: 0.1233 - val_recall: 0.7931\n",
            "Epoch 17/100\n",
            "52/52 [==============================] - ETA: 0s - loss: 1.7724e-05 - recall: 1.0000\n",
            "Epoch 17: val_loss did not improve from 0.09934\n",
            "52/52 [==============================] - 3s 51ms/step - loss: 1.7724e-05 - recall: 1.0000 - val_loss: 0.1239 - val_recall: 0.7931\n",
            "Epoch 18/100\n",
            "52/52 [==============================] - ETA: 0s - loss: 1.6047e-05 - recall: 1.0000\n",
            "Epoch 18: val_loss did not improve from 0.09934\n",
            "52/52 [==============================] - 3s 50ms/step - loss: 1.6047e-05 - recall: 1.0000 - val_loss: 0.1268 - val_recall: 0.7931\n",
            "Epoch 19/100\n",
            "52/52 [==============================] - ETA: 0s - loss: 1.4592e-05 - recall: 1.0000\n",
            "Epoch 19: val_loss did not improve from 0.09934\n",
            "52/52 [==============================] - 3s 50ms/step - loss: 1.4592e-05 - recall: 1.0000 - val_loss: 0.1259 - val_recall: 0.8161\n"
          ]
        }
      ]
    },
    {
      "cell_type": "code",
      "source": [
        "best_model_recall = load_model(model_path)\n",
        "best_model_recall.evaluate(X_test, y_test)"
      ],
      "metadata": {
        "colab": {
          "base_uri": "https://localhost:8080/"
        },
        "outputId": "9d4295a4-421a-4926-d178-60a04e659783",
        "id": "ZP_LDxcejDw7"
      },
      "execution_count": 56,
      "outputs": [
        {
          "output_type": "stream",
          "name": "stdout",
          "text": [
            "33/33 [==============================] - 1s 12ms/step - loss: 0.1231 - recall: 0.7863\n"
          ]
        },
        {
          "output_type": "execute_result",
          "data": {
            "text/plain": [
              "[0.1230911985039711, 0.7862595319747925]"
            ]
          },
          "metadata": {},
          "execution_count": 56
        }
      ]
    },
    {
      "cell_type": "markdown",
      "source": [
        "## 4.1 LSTM(32) - 89.31"
      ],
      "metadata": {
        "id": "6SljTBnahWSh"
      }
    },
    {
      "cell_type": "code",
      "source": [
        "from tensorflow.keras.layers import LSTM, GRU"
      ],
      "metadata": {
        "id": "_y_49o4Phgzi"
      },
      "execution_count": 24,
      "outputs": []
    },
    {
      "cell_type": "code",
      "source": [
        "model2 = Sequential([\n",
        "    Embedding(vocab_size, 32, input_length=max_len),\n",
        "    LSTM(32),\n",
        "    Dense(1, activation = 'sigmoid')\n",
        "])\n",
        "model2.summary()"
      ],
      "metadata": {
        "colab": {
          "base_uri": "https://localhost:8080/"
        },
        "outputId": "78628117-804d-40bf-9be5-63002e3ef5da",
        "id": "khtH2t6chY3t"
      },
      "execution_count": 58,
      "outputs": [
        {
          "output_type": "stream",
          "name": "stdout",
          "text": [
            "Model: \"sequential_2\"\n",
            "_________________________________________________________________\n",
            " Layer (type)                Output Shape              Param #   \n",
            "=================================================================\n",
            " embedding_2 (Embedding)     (None, 171, 32)           303328    \n",
            "                                                                 \n",
            " lstm_1 (LSTM)               (None, 32)                8320      \n",
            "                                                                 \n",
            " dense_2 (Dense)             (None, 1)                 33        \n",
            "                                                                 \n",
            "=================================================================\n",
            "Total params: 311,681\n",
            "Trainable params: 311,681\n",
            "Non-trainable params: 0\n",
            "_________________________________________________________________\n"
          ]
        }
      ]
    },
    {
      "cell_type": "code",
      "source": [
        "model_path2 = 'best-spam-rnn_v2.h5'\n",
        "mc = ModelCheckpoint(model_path2, verbose = 1, save_best_only=True)\n",
        "es = EarlyStopping(patience = 15)"
      ],
      "metadata": {
        "id": "VqAOI7j3hY3u"
      },
      "execution_count": 59,
      "outputs": []
    },
    {
      "cell_type": "code",
      "source": [
        "model2.compile('adam', 'binary_crossentropy', Recall(name='recall'))"
      ],
      "metadata": {
        "id": "9E8mNOksqoep"
      },
      "execution_count": 61,
      "outputs": []
    },
    {
      "cell_type": "code",
      "source": [
        "hist2 = model2.fit(X_train, y_train, validation_split = 0.2,\n",
        "                 epochs = 100, batch_size = 64, callbacks = [mc, es])"
      ],
      "metadata": {
        "colab": {
          "base_uri": "https://localhost:8080/"
        },
        "outputId": "29870461-2bad-47c7-9ef5-8bed558b40af",
        "id": "f_Sw-6TShY3u"
      },
      "execution_count": 62,
      "outputs": [
        {
          "output_type": "stream",
          "name": "stdout",
          "text": [
            "Epoch 1/100\n",
            "52/52 [==============================] - ETA: 0s - loss: 0.4379 - recall: 0.0184\n",
            "Epoch 1: val_loss improved from inf to 0.24118, saving model to best-spam-rnn_v2.h5\n",
            "52/52 [==============================] - 9s 114ms/step - loss: 0.4379 - recall: 0.0184 - val_loss: 0.2412 - val_recall: 0.0000e+00\n",
            "Epoch 2/100\n",
            "52/52 [==============================] - ETA: 0s - loss: 0.1462 - recall: 0.6253\n",
            "Epoch 2: val_loss improved from 0.24118 to 0.08914, saving model to best-spam-rnn_v2.h5\n",
            "52/52 [==============================] - 5s 103ms/step - loss: 0.1462 - recall: 0.6253 - val_loss: 0.0891 - val_recall: 0.8506\n",
            "Epoch 3/100\n",
            "52/52 [==============================] - ETA: 0s - loss: 0.0616 - recall: 0.9172\n",
            "Epoch 3: val_loss improved from 0.08914 to 0.08184, saving model to best-spam-rnn_v2.h5\n",
            "52/52 [==============================] - 5s 103ms/step - loss: 0.0616 - recall: 0.9172 - val_loss: 0.0818 - val_recall: 0.8391\n",
            "Epoch 4/100\n",
            "52/52 [==============================] - ETA: 0s - loss: 0.0362 - recall: 0.9563\n",
            "Epoch 4: val_loss improved from 0.08184 to 0.07093, saving model to best-spam-rnn_v2.h5\n",
            "52/52 [==============================] - 5s 103ms/step - loss: 0.0362 - recall: 0.9563 - val_loss: 0.0709 - val_recall: 0.9080\n",
            "Epoch 5/100\n",
            "52/52 [==============================] - ETA: 0s - loss: 0.0203 - recall: 0.9839\n",
            "Epoch 5: val_loss did not improve from 0.07093\n",
            "52/52 [==============================] - 5s 103ms/step - loss: 0.0203 - recall: 0.9839 - val_loss: 0.0819 - val_recall: 0.9310\n",
            "Epoch 6/100\n",
            "52/52 [==============================] - ETA: 0s - loss: 0.0148 - recall: 0.9885\n",
            "Epoch 6: val_loss did not improve from 0.07093\n",
            "52/52 [==============================] - 5s 104ms/step - loss: 0.0148 - recall: 0.9885 - val_loss: 0.0751 - val_recall: 0.8621\n",
            "Epoch 7/100\n",
            "52/52 [==============================] - ETA: 0s - loss: 0.0110 - recall: 0.9908\n",
            "Epoch 7: val_loss did not improve from 0.07093\n",
            "52/52 [==============================] - 5s 102ms/step - loss: 0.0110 - recall: 0.9908 - val_loss: 0.0840 - val_recall: 0.9195\n",
            "Epoch 8/100\n",
            "52/52 [==============================] - ETA: 0s - loss: 0.0092 - recall: 0.9885\n",
            "Epoch 8: val_loss did not improve from 0.07093\n",
            "52/52 [==============================] - 6s 120ms/step - loss: 0.0092 - recall: 0.9885 - val_loss: 0.0760 - val_recall: 0.8851\n",
            "Epoch 9/100\n",
            "52/52 [==============================] - ETA: 0s - loss: 0.0049 - recall: 0.9977\n",
            "Epoch 9: val_loss did not improve from 0.07093\n",
            "52/52 [==============================] - 5s 102ms/step - loss: 0.0049 - recall: 0.9977 - val_loss: 0.0825 - val_recall: 0.8966\n",
            "Epoch 10/100\n",
            "52/52 [==============================] - ETA: 0s - loss: 0.0037 - recall: 0.9977\n",
            "Epoch 10: val_loss did not improve from 0.07093\n",
            "52/52 [==============================] - 5s 103ms/step - loss: 0.0037 - recall: 0.9977 - val_loss: 0.0866 - val_recall: 0.8966\n",
            "Epoch 11/100\n",
            "52/52 [==============================] - ETA: 0s - loss: 0.0029 - recall: 0.9977\n",
            "Epoch 11: val_loss did not improve from 0.07093\n",
            "52/52 [==============================] - 5s 101ms/step - loss: 0.0029 - recall: 0.9977 - val_loss: 0.0928 - val_recall: 0.8966\n",
            "Epoch 12/100\n",
            "52/52 [==============================] - ETA: 0s - loss: 0.0024 - recall: 0.9977\n",
            "Epoch 12: val_loss did not improve from 0.07093\n",
            "52/52 [==============================] - 5s 101ms/step - loss: 0.0024 - recall: 0.9977 - val_loss: 0.0976 - val_recall: 0.8966\n",
            "Epoch 13/100\n",
            "52/52 [==============================] - ETA: 0s - loss: 0.0021 - recall: 0.9977\n",
            "Epoch 13: val_loss did not improve from 0.07093\n",
            "52/52 [==============================] - 5s 102ms/step - loss: 0.0021 - recall: 0.9977 - val_loss: 0.0920 - val_recall: 0.8966\n",
            "Epoch 14/100\n",
            "52/52 [==============================] - ETA: 0s - loss: 0.0016 - recall: 0.9977\n",
            "Epoch 14: val_loss did not improve from 0.07093\n",
            "52/52 [==============================] - 5s 104ms/step - loss: 0.0016 - recall: 0.9977 - val_loss: 0.0929 - val_recall: 0.8966\n",
            "Epoch 15/100\n",
            "52/52 [==============================] - ETA: 0s - loss: 0.0013 - recall: 0.9977\n",
            "Epoch 15: val_loss did not improve from 0.07093\n",
            "52/52 [==============================] - 5s 102ms/step - loss: 0.0013 - recall: 0.9977 - val_loss: 0.0954 - val_recall: 0.8966\n",
            "Epoch 16/100\n",
            "52/52 [==============================] - ETA: 0s - loss: 0.0010 - recall: 0.9977\n",
            "Epoch 16: val_loss did not improve from 0.07093\n",
            "52/52 [==============================] - 5s 102ms/step - loss: 0.0010 - recall: 0.9977 - val_loss: 0.0926 - val_recall: 0.8851\n",
            "Epoch 17/100\n",
            "52/52 [==============================] - ETA: 0s - loss: 8.8753e-04 - recall: 1.0000\n",
            "Epoch 17: val_loss did not improve from 0.07093\n",
            "52/52 [==============================] - 5s 102ms/step - loss: 8.8753e-04 - recall: 1.0000 - val_loss: 0.1105 - val_recall: 0.8966\n",
            "Epoch 18/100\n",
            "52/52 [==============================] - ETA: 0s - loss: 7.3320e-04 - recall: 1.0000\n",
            "Epoch 18: val_loss did not improve from 0.07093\n",
            "52/52 [==============================] - 5s 102ms/step - loss: 7.3320e-04 - recall: 1.0000 - val_loss: 0.1039 - val_recall: 0.8966\n",
            "Epoch 19/100\n",
            "52/52 [==============================] - ETA: 0s - loss: 7.2559e-04 - recall: 1.0000\n",
            "Epoch 19: val_loss did not improve from 0.07093\n",
            "52/52 [==============================] - 5s 104ms/step - loss: 7.2559e-04 - recall: 1.0000 - val_loss: 0.1024 - val_recall: 0.8966\n"
          ]
        }
      ]
    },
    {
      "cell_type": "code",
      "source": [
        "best_model2 = load_model(model_path2)\n",
        "best_model2.evaluate(X_test, y_test)"
      ],
      "metadata": {
        "colab": {
          "base_uri": "https://localhost:8080/"
        },
        "id": "IIk6HkYJhY3v",
        "outputId": "854ec58c-2a09-42a8-a1be-260c2292d045"
      },
      "execution_count": 63,
      "outputs": [
        {
          "output_type": "stream",
          "name": "stdout",
          "text": [
            "33/33 [==============================] - 1s 18ms/step - loss: 0.0650 - recall: 0.8931\n"
          ]
        },
        {
          "output_type": "execute_result",
          "data": {
            "text/plain": [
              "[0.06499695032835007, 0.8931297659873962]"
            ]
          },
          "metadata": {},
          "execution_count": 63
        }
      ]
    },
    {
      "cell_type": "markdown",
      "source": [
        "## 4.2 LSTM(32-64) - 89.31"
      ],
      "metadata": {
        "id": "Vd-zsteqrJGR"
      }
    },
    {
      "cell_type": "code",
      "source": [
        "model3 = Sequential([\n",
        "    Embedding(vocab_size, 32, input_length=max_len),\n",
        "    LSTM(64),\n",
        "    Dense(1, activation = 'sigmoid')\n",
        "])\n",
        "model3.summary()"
      ],
      "metadata": {
        "colab": {
          "base_uri": "https://localhost:8080/"
        },
        "outputId": "1fe58fe2-2967-4913-e3df-2ed2e54784ec",
        "id": "1EnPkA4PrJGS"
      },
      "execution_count": 65,
      "outputs": [
        {
          "output_type": "stream",
          "name": "stdout",
          "text": [
            "Model: \"sequential_4\"\n",
            "_________________________________________________________________\n",
            " Layer (type)                Output Shape              Param #   \n",
            "=================================================================\n",
            " embedding_4 (Embedding)     (None, 171, 32)           303328    \n",
            "                                                                 \n",
            " lstm_3 (LSTM)               (None, 64)                24832     \n",
            "                                                                 \n",
            " dense_4 (Dense)             (None, 1)                 65        \n",
            "                                                                 \n",
            "=================================================================\n",
            "Total params: 328,225\n",
            "Trainable params: 328,225\n",
            "Non-trainable params: 0\n",
            "_________________________________________________________________\n"
          ]
        }
      ]
    },
    {
      "cell_type": "code",
      "source": [
        "model_path3 = 'best-spam-rnn_v3.h5'\n",
        "mc = ModelCheckpoint(model_path3, verbose = 1, save_best_only=True)\n",
        "es = EarlyStopping(patience = 15)"
      ],
      "metadata": {
        "id": "hGIHjrlGrJGT"
      },
      "execution_count": 66,
      "outputs": []
    },
    {
      "cell_type": "code",
      "source": [
        "model3.compile('adam', 'binary_crossentropy', Recall(name='recall'))"
      ],
      "metadata": {
        "id": "IAqqoqztrJGT"
      },
      "execution_count": 67,
      "outputs": []
    },
    {
      "cell_type": "code",
      "source": [
        "hist3 = model3.fit(X_train, y_train, validation_split = 0.2,\n",
        "                 epochs = 100, batch_size = 64, callbacks = [mc, es])"
      ],
      "metadata": {
        "colab": {
          "base_uri": "https://localhost:8080/"
        },
        "outputId": "1b4948f3-2c91-4e3a-987f-f3e69334e5ea",
        "id": "v8Ed1xntrJGT"
      },
      "execution_count": 68,
      "outputs": [
        {
          "output_type": "stream",
          "name": "stdout",
          "text": [
            "Epoch 1/100\n",
            "52/52 [==============================] - ETA: 0s - loss: 0.4076 - recall: 0.0184\n",
            "Epoch 1: val_loss improved from inf to 0.19376, saving model to best-spam-rnn_v3.h5\n",
            "52/52 [==============================] - 16s 236ms/step - loss: 0.4076 - recall: 0.0184 - val_loss: 0.1938 - val_recall: 0.1839\n",
            "Epoch 2/100\n",
            "52/52 [==============================] - ETA: 0s - loss: 0.1188 - recall: 0.7540\n",
            "Epoch 2: val_loss improved from 0.19376 to 0.09724, saving model to best-spam-rnn_v3.h5\n",
            "52/52 [==============================] - 9s 175ms/step - loss: 0.1188 - recall: 0.7540 - val_loss: 0.0972 - val_recall: 0.7241\n",
            "Epoch 3/100\n",
            "52/52 [==============================] - ETA: 0s - loss: 0.0415 - recall: 0.9379\n",
            "Epoch 3: val_loss improved from 0.09724 to 0.07143, saving model to best-spam-rnn_v3.h5\n",
            "52/52 [==============================] - 9s 178ms/step - loss: 0.0415 - recall: 0.9379 - val_loss: 0.0714 - val_recall: 0.8736\n",
            "Epoch 4/100\n",
            "52/52 [==============================] - ETA: 0s - loss: 0.0208 - recall: 0.9770\n",
            "Epoch 4: val_loss did not improve from 0.07143\n",
            "52/52 [==============================] - 11s 216ms/step - loss: 0.0208 - recall: 0.9770 - val_loss: 0.0826 - val_recall: 0.8851\n",
            "Epoch 5/100\n",
            "52/52 [==============================] - ETA: 0s - loss: 0.0232 - recall: 0.9517\n",
            "Epoch 5: val_loss did not improve from 0.07143\n",
            "52/52 [==============================] - 8s 149ms/step - loss: 0.0232 - recall: 0.9517 - val_loss: 0.0731 - val_recall: 0.7816\n",
            "Epoch 6/100\n",
            "52/52 [==============================] - ETA: 0s - loss: 0.0222 - recall: 0.9701\n",
            "Epoch 6: val_loss improved from 0.07143 to 0.06029, saving model to best-spam-rnn_v3.h5\n",
            "52/52 [==============================] - 8s 152ms/step - loss: 0.0222 - recall: 0.9701 - val_loss: 0.0603 - val_recall: 0.8851\n",
            "Epoch 7/100\n",
            "52/52 [==============================] - ETA: 0s - loss: 0.0090 - recall: 0.9839\n",
            "Epoch 7: val_loss did not improve from 0.06029\n",
            "52/52 [==============================] - 8s 150ms/step - loss: 0.0090 - recall: 0.9839 - val_loss: 0.0645 - val_recall: 0.8851\n",
            "Epoch 8/100\n",
            "52/52 [==============================] - ETA: 0s - loss: 0.0065 - recall: 0.9931\n",
            "Epoch 8: val_loss did not improve from 0.06029\n",
            "52/52 [==============================] - 8s 151ms/step - loss: 0.0065 - recall: 0.9931 - val_loss: 0.0670 - val_recall: 0.8851\n",
            "Epoch 9/100\n",
            "52/52 [==============================] - ETA: 0s - loss: 0.0036 - recall: 0.9954\n",
            "Epoch 9: val_loss did not improve from 0.06029\n",
            "52/52 [==============================] - 8s 150ms/step - loss: 0.0036 - recall: 0.9954 - val_loss: 0.0737 - val_recall: 0.8851\n",
            "Epoch 10/100\n",
            "52/52 [==============================] - ETA: 0s - loss: 0.0029 - recall: 0.9977\n",
            "Epoch 10: val_loss did not improve from 0.06029\n",
            "52/52 [==============================] - 9s 176ms/step - loss: 0.0029 - recall: 0.9977 - val_loss: 0.0742 - val_recall: 0.8851\n",
            "Epoch 11/100\n",
            "52/52 [==============================] - ETA: 0s - loss: 0.0023 - recall: 0.9977\n",
            "Epoch 11: val_loss did not improve from 0.06029\n",
            "52/52 [==============================] - 16s 318ms/step - loss: 0.0023 - recall: 0.9977 - val_loss: 0.0760 - val_recall: 0.8851\n",
            "Epoch 12/100\n",
            "52/52 [==============================] - ETA: 0s - loss: 0.0020 - recall: 0.9977\n",
            "Epoch 12: val_loss did not improve from 0.06029\n",
            "52/52 [==============================] - 14s 267ms/step - loss: 0.0020 - recall: 0.9977 - val_loss: 0.0779 - val_recall: 0.8851\n",
            "Epoch 13/100\n",
            "52/52 [==============================] - ETA: 0s - loss: 0.0016 - recall: 0.9977\n",
            "Epoch 13: val_loss did not improve from 0.06029\n",
            "52/52 [==============================] - 8s 157ms/step - loss: 0.0016 - recall: 0.9977 - val_loss: 0.0804 - val_recall: 0.8966\n",
            "Epoch 14/100\n",
            "52/52 [==============================] - ETA: 0s - loss: 0.0013 - recall: 0.9977\n",
            "Epoch 14: val_loss did not improve from 0.06029\n",
            "52/52 [==============================] - 8s 149ms/step - loss: 0.0013 - recall: 0.9977 - val_loss: 0.0803 - val_recall: 0.8966\n",
            "Epoch 15/100\n",
            "52/52 [==============================] - ETA: 0s - loss: 0.0011 - recall: 0.9977\n",
            "Epoch 15: val_loss did not improve from 0.06029\n",
            "52/52 [==============================] - 8s 151ms/step - loss: 0.0011 - recall: 0.9977 - val_loss: 0.0824 - val_recall: 0.8966\n",
            "Epoch 16/100\n",
            "52/52 [==============================] - ETA: 0s - loss: 8.7077e-04 - recall: 0.9977\n",
            "Epoch 16: val_loss did not improve from 0.06029\n",
            "52/52 [==============================] - 8s 154ms/step - loss: 8.7077e-04 - recall: 0.9977 - val_loss: 0.0840 - val_recall: 0.8966\n",
            "Epoch 17/100\n",
            "52/52 [==============================] - ETA: 0s - loss: 7.5668e-04 - recall: 0.9977\n",
            "Epoch 17: val_loss did not improve from 0.06029\n",
            "52/52 [==============================] - 8s 155ms/step - loss: 7.5668e-04 - recall: 0.9977 - val_loss: 0.0861 - val_recall: 0.8966\n",
            "Epoch 18/100\n",
            "52/52 [==============================] - ETA: 0s - loss: 5.9967e-04 - recall: 0.9977\n",
            "Epoch 18: val_loss did not improve from 0.06029\n",
            "52/52 [==============================] - 8s 151ms/step - loss: 5.9967e-04 - recall: 0.9977 - val_loss: 0.0885 - val_recall: 0.8966\n",
            "Epoch 19/100\n",
            "52/52 [==============================] - ETA: 0s - loss: 4.8805e-04 - recall: 1.0000\n",
            "Epoch 19: val_loss did not improve from 0.06029\n",
            "52/52 [==============================] - 8s 153ms/step - loss: 4.8805e-04 - recall: 1.0000 - val_loss: 0.0909 - val_recall: 0.8966\n",
            "Epoch 20/100\n",
            "52/52 [==============================] - ETA: 0s - loss: 4.0649e-04 - recall: 1.0000\n",
            "Epoch 20: val_loss did not improve from 0.06029\n",
            "52/52 [==============================] - 8s 152ms/step - loss: 4.0649e-04 - recall: 1.0000 - val_loss: 0.0925 - val_recall: 0.8966\n",
            "Epoch 21/100\n",
            "52/52 [==============================] - ETA: 0s - loss: 3.3673e-04 - recall: 1.0000\n",
            "Epoch 21: val_loss did not improve from 0.06029\n",
            "52/52 [==============================] - 9s 178ms/step - loss: 3.3673e-04 - recall: 1.0000 - val_loss: 0.0921 - val_recall: 0.8966\n"
          ]
        }
      ]
    },
    {
      "cell_type": "code",
      "source": [
        "best_model3 = load_model(model_path3)\n",
        "best_model3.evaluate(X_test, y_test)"
      ],
      "metadata": {
        "colab": {
          "base_uri": "https://localhost:8080/"
        },
        "id": "8i0A4K4jrJGT",
        "outputId": "9fdedc81-2bbc-4c6f-a768-5acdcfed0981"
      },
      "execution_count": 69,
      "outputs": [
        {
          "output_type": "stream",
          "name": "stdout",
          "text": [
            "33/33 [==============================] - 2s 25ms/step - loss: 0.0596 - recall: 0.8931\n"
          ]
        },
        {
          "output_type": "execute_result",
          "data": {
            "text/plain": [
              "[0.059578437358140945, 0.8931297659873962]"
            ]
          },
          "metadata": {},
          "execution_count": 69
        }
      ]
    },
    {
      "cell_type": "markdown",
      "source": [
        "## 4.3 LSTM(64-64)  - 90.07"
      ],
      "metadata": {
        "id": "bs4s43kZrsz-"
      }
    },
    {
      "cell_type": "code",
      "source": [
        "model4 = Sequential([\n",
        "    Embedding(vocab_size, 64, input_length=max_len),\n",
        "    LSTM(64),\n",
        "    Dense(1, activation = 'sigmoid')\n",
        "])\n",
        "model4.summary()"
      ],
      "metadata": {
        "colab": {
          "base_uri": "https://localhost:8080/"
        },
        "outputId": "75004822-96d1-4b93-8ecc-4f6382af4fbc",
        "id": "iddAUXxTrs0D"
      },
      "execution_count": 25,
      "outputs": [
        {
          "output_type": "stream",
          "name": "stdout",
          "text": [
            "Model: \"sequential\"\n",
            "_________________________________________________________________\n",
            " Layer (type)                Output Shape              Param #   \n",
            "=================================================================\n",
            " embedding_1 (Embedding)     (None, 171, 64)           606656    \n",
            "                                                                 \n",
            " lstm (LSTM)                 (None, 64)                33024     \n",
            "                                                                 \n",
            " dense (Dense)               (None, 1)                 65        \n",
            "                                                                 \n",
            "=================================================================\n",
            "Total params: 639,745\n",
            "Trainable params: 639,745\n",
            "Non-trainable params: 0\n",
            "_________________________________________________________________\n"
          ]
        }
      ]
    },
    {
      "cell_type": "code",
      "source": [
        "model_path4 = 'best-spam-rnn_v4.h5'\n",
        "mc = ModelCheckpoint(model_path4, verbose = 1, save_best_only=True)\n",
        "es = EarlyStopping(patience = 15)"
      ],
      "metadata": {
        "id": "89AVLtsdrs0D"
      },
      "execution_count": 26,
      "outputs": []
    },
    {
      "cell_type": "code",
      "source": [
        "model4.compile('adam', 'binary_crossentropy', Recall(name='recall'))"
      ],
      "metadata": {
        "id": "7M-Ua5zfrs0D"
      },
      "execution_count": 27,
      "outputs": []
    },
    {
      "cell_type": "code",
      "source": [
        "hist4 = model4.fit(X_train, y_train, validation_split = 0.2,\n",
        "                 epochs = 100, batch_size = 64, callbacks = [mc, es])"
      ],
      "metadata": {
        "colab": {
          "base_uri": "https://localhost:8080/"
        },
        "outputId": "c795d827-e7cb-4b31-da70-15f59cbac296",
        "id": "ALEzj07Ers0D"
      },
      "execution_count": 28,
      "outputs": [
        {
          "output_type": "stream",
          "name": "stdout",
          "text": [
            "Epoch 1/100\n",
            "50/52 [===========================>..] - ETA: 0s - loss: 0.3774 - recall: 0.0786\n",
            "Epoch 1: val_loss improved from inf to 0.13627, saving model to best-spam-rnn_v4.h5\n",
            "52/52 [==============================] - 9s 26ms/step - loss: 0.3727 - recall: 0.0828 - val_loss: 0.1363 - val_recall: 0.6667\n",
            "Epoch 2/100\n",
            "50/52 [===========================>..] - ETA: 0s - loss: 0.0866 - recall: 0.8753\n",
            "Epoch 2: val_loss improved from 0.13627 to 0.07395, saving model to best-spam-rnn_v4.h5\n",
            "52/52 [==============================] - 1s 14ms/step - loss: 0.0856 - recall: 0.8759 - val_loss: 0.0739 - val_recall: 0.7816\n",
            "Epoch 3/100\n",
            "51/52 [============================>.] - ETA: 0s - loss: 0.0298 - recall: 0.9674\n",
            "Epoch 3: val_loss improved from 0.07395 to 0.07088, saving model to best-spam-rnn_v4.h5\n",
            "52/52 [==============================] - 1s 14ms/step - loss: 0.0296 - recall: 0.9678 - val_loss: 0.0709 - val_recall: 0.8966\n",
            "Epoch 4/100\n",
            "48/52 [==========================>...] - ETA: 0s - loss: 0.0168 - recall: 0.9804\n",
            "Epoch 4: val_loss did not improve from 0.07088\n",
            "52/52 [==============================] - 1s 14ms/step - loss: 0.0160 - recall: 0.9816 - val_loss: 0.0823 - val_recall: 0.9080\n",
            "Epoch 5/100\n",
            "48/52 [==========================>...] - ETA: 0s - loss: 0.0087 - recall: 0.9902\n",
            "Epoch 5: val_loss did not improve from 0.07088\n",
            "52/52 [==============================] - 1s 13ms/step - loss: 0.0086 - recall: 0.9908 - val_loss: 0.0803 - val_recall: 0.8736\n",
            "Epoch 6/100\n",
            "50/52 [===========================>..] - ETA: 0s - loss: 0.0065 - recall: 0.9905\n",
            "Epoch 6: val_loss did not improve from 0.07088\n",
            "52/52 [==============================] - 1s 13ms/step - loss: 0.0063 - recall: 0.9908 - val_loss: 0.0901 - val_recall: 0.8966\n",
            "Epoch 7/100\n",
            "51/52 [============================>.] - ETA: 0s - loss: 0.0028 - recall: 0.9977\n",
            "Epoch 7: val_loss did not improve from 0.07088\n",
            "52/52 [==============================] - 1s 13ms/step - loss: 0.0028 - recall: 0.9977 - val_loss: 0.0866 - val_recall: 0.8966\n",
            "Epoch 8/100\n",
            "49/52 [===========================>..] - ETA: 0s - loss: 0.0010 - recall: 1.0000\n",
            "Epoch 8: val_loss did not improve from 0.07088\n",
            "52/52 [==============================] - 1s 13ms/step - loss: 0.0019 - recall: 0.9977 - val_loss: 0.0940 - val_recall: 0.8966\n",
            "Epoch 9/100\n",
            "49/52 [===========================>..] - ETA: 0s - loss: 0.0068 - recall: 0.9951\n",
            "Epoch 9: val_loss did not improve from 0.07088\n",
            "52/52 [==============================] - 1s 13ms/step - loss: 0.0072 - recall: 0.9954 - val_loss: 0.0748 - val_recall: 0.8851\n",
            "Epoch 10/100\n",
            "50/52 [===========================>..] - ETA: 0s - loss: 0.0033 - recall: 0.9952\n",
            "Epoch 10: val_loss did not improve from 0.07088\n",
            "52/52 [==============================] - 1s 13ms/step - loss: 0.0032 - recall: 0.9954 - val_loss: 0.1066 - val_recall: 0.9195\n",
            "Epoch 11/100\n",
            "49/52 [===========================>..] - ETA: 0s - loss: 0.0014 - recall: 0.9976\n",
            "Epoch 11: val_loss did not improve from 0.07088\n",
            "52/52 [==============================] - 1s 13ms/step - loss: 0.0014 - recall: 0.9977 - val_loss: 0.1029 - val_recall: 0.9195\n",
            "Epoch 12/100\n",
            "50/52 [===========================>..] - ETA: 0s - loss: 8.3854e-04 - recall: 1.0000\n",
            "Epoch 12: val_loss did not improve from 0.07088\n",
            "52/52 [==============================] - 1s 13ms/step - loss: 8.2751e-04 - recall: 1.0000 - val_loss: 0.0955 - val_recall: 0.8966\n",
            "Epoch 13/100\n",
            "49/52 [===========================>..] - ETA: 0s - loss: 7.7614e-04 - recall: 0.9976\n",
            "Epoch 13: val_loss did not improve from 0.07088\n",
            "52/52 [==============================] - 1s 14ms/step - loss: 7.6294e-04 - recall: 0.9977 - val_loss: 0.1038 - val_recall: 0.8966\n",
            "Epoch 14/100\n",
            "48/52 [==========================>...] - ETA: 0s - loss: 5.2101e-04 - recall: 1.0000\n",
            "Epoch 14: val_loss did not improve from 0.07088\n",
            "52/52 [==============================] - 1s 13ms/step - loss: 5.0477e-04 - recall: 1.0000 - val_loss: 0.1021 - val_recall: 0.8966\n",
            "Epoch 15/100\n",
            "50/52 [===========================>..] - ETA: 0s - loss: 4.1211e-04 - recall: 1.0000\n",
            "Epoch 15: val_loss did not improve from 0.07088\n",
            "52/52 [==============================] - 1s 13ms/step - loss: 4.1285e-04 - recall: 1.0000 - val_loss: 0.1015 - val_recall: 0.8966\n",
            "Epoch 16/100\n",
            "49/52 [===========================>..] - ETA: 0s - loss: 3.6633e-04 - recall: 1.0000\n",
            "Epoch 16: val_loss did not improve from 0.07088\n",
            "52/52 [==============================] - 1s 13ms/step - loss: 3.5843e-04 - recall: 1.0000 - val_loss: 0.1029 - val_recall: 0.8966\n",
            "Epoch 17/100\n",
            "49/52 [===========================>..] - ETA: 0s - loss: 3.0086e-04 - recall: 1.0000\n",
            "Epoch 17: val_loss did not improve from 0.07088\n",
            "52/52 [==============================] - 1s 13ms/step - loss: 2.9513e-04 - recall: 1.0000 - val_loss: 0.1053 - val_recall: 0.8966\n",
            "Epoch 18/100\n",
            "50/52 [===========================>..] - ETA: 0s - loss: 2.7569e-04 - recall: 1.0000\n",
            "Epoch 18: val_loss did not improve from 0.07088\n",
            "52/52 [==============================] - 1s 13ms/step - loss: 2.7292e-04 - recall: 1.0000 - val_loss: 0.1041 - val_recall: 0.8966\n"
          ]
        }
      ]
    },
    {
      "cell_type": "code",
      "source": [
        "best_model4 = load_model(model_path4)\n",
        "best_model4.evaluate(X_test, y_test)"
      ],
      "metadata": {
        "colab": {
          "base_uri": "https://localhost:8080/"
        },
        "id": "6sDduAAurs0D",
        "outputId": "88006ffc-147f-4812-f875-88121406ac12"
      },
      "execution_count": 29,
      "outputs": [
        {
          "output_type": "stream",
          "name": "stdout",
          "text": [
            "33/33 [==============================] - 1s 8ms/step - loss: 0.0559 - recall: 0.9008\n"
          ]
        },
        {
          "output_type": "execute_result",
          "data": {
            "text/plain": [
              "[0.05590334162116051, 0.9007633328437805]"
            ]
          },
          "metadata": {},
          "execution_count": 29
        }
      ]
    },
    {
      "cell_type": "markdown",
      "source": [
        "## 4.3 LSTM(64-32) - 90.07"
      ],
      "metadata": {
        "id": "uzvQ3hxcsEv2"
      }
    },
    {
      "cell_type": "code",
      "source": [
        "model4 = Sequential([\n",
        "    Embedding(vocab_size, 64, input_length=max_len),\n",
        "    LSTM(32),\n",
        "    Dense(1, activation = 'sigmoid')\n",
        "])\n",
        "model4.summary()"
      ],
      "metadata": {
        "colab": {
          "base_uri": "https://localhost:8080/"
        },
        "outputId": "960c003a-9a33-4563-c850-309b865b92c1",
        "id": "I9CSXejbsEv2"
      },
      "execution_count": 30,
      "outputs": [
        {
          "output_type": "stream",
          "name": "stdout",
          "text": [
            "Model: \"sequential_1\"\n",
            "_________________________________________________________________\n",
            " Layer (type)                Output Shape              Param #   \n",
            "=================================================================\n",
            " embedding_2 (Embedding)     (None, 171, 64)           606656    \n",
            "                                                                 \n",
            " lstm_1 (LSTM)               (None, 32)                12416     \n",
            "                                                                 \n",
            " dense_1 (Dense)             (None, 1)                 33        \n",
            "                                                                 \n",
            "=================================================================\n",
            "Total params: 619,105\n",
            "Trainable params: 619,105\n",
            "Non-trainable params: 0\n",
            "_________________________________________________________________\n"
          ]
        }
      ]
    },
    {
      "cell_type": "code",
      "source": [
        "model_path4 = 'best-spam-rnn_v4.h5'\n",
        "mc = ModelCheckpoint(model_path4, verbose = 1, save_best_only=True)\n",
        "es = EarlyStopping(patience = 15)"
      ],
      "metadata": {
        "id": "NfM2nH_2sEv3"
      },
      "execution_count": 31,
      "outputs": []
    },
    {
      "cell_type": "code",
      "source": [
        "model4.compile('adam', 'binary_crossentropy', Recall(name='recall'))"
      ],
      "metadata": {
        "id": "mmrsvTYVsEv3"
      },
      "execution_count": 32,
      "outputs": []
    },
    {
      "cell_type": "code",
      "source": [
        "hist4 = model4.fit(X_train, y_train, validation_split = 0.2,\n",
        "                 epochs = 100, batch_size = 64, callbacks = [mc, es])"
      ],
      "metadata": {
        "colab": {
          "base_uri": "https://localhost:8080/"
        },
        "outputId": "b7949497-fdf1-4c33-d509-89ba22274342",
        "id": "vUuydL3lsEv3"
      },
      "execution_count": 33,
      "outputs": [
        {
          "output_type": "stream",
          "name": "stdout",
          "text": [
            "Epoch 1/100\n",
            "49/52 [===========================>..] - ETA: 0s - loss: 0.4463 - recall: 0.0270\n",
            "Epoch 1: val_loss improved from inf to 0.19570, saving model to best-spam-rnn_v4.h5\n",
            "52/52 [==============================] - 3s 25ms/step - loss: 0.4375 - recall: 0.0276 - val_loss: 0.1957 - val_recall: 0.2529\n",
            "Epoch 2/100\n",
            "50/52 [===========================>..] - ETA: 0s - loss: 0.1235 - recall: 0.7434\n",
            "Epoch 2: val_loss improved from 0.19570 to 0.08855, saving model to best-spam-rnn_v4.h5\n",
            "52/52 [==============================] - 1s 13ms/step - loss: 0.1229 - recall: 0.7494 - val_loss: 0.0886 - val_recall: 0.8391\n",
            "Epoch 3/100\n",
            "48/52 [==========================>...] - ETA: 0s - loss: 0.0546 - recall: 0.9412\n",
            "Epoch 3: val_loss improved from 0.08855 to 0.07027, saving model to best-spam-rnn_v4.h5\n",
            "52/52 [==============================] - 1s 14ms/step - loss: 0.0526 - recall: 0.9425 - val_loss: 0.0703 - val_recall: 0.8851\n",
            "Epoch 4/100\n",
            "51/52 [============================>.] - ETA: 0s - loss: 0.0266 - recall: 0.9766\n",
            "Epoch 4: val_loss improved from 0.07027 to 0.06817, saving model to best-spam-rnn_v4.h5\n",
            "52/52 [==============================] - 1s 14ms/step - loss: 0.0265 - recall: 0.9770 - val_loss: 0.0682 - val_recall: 0.8966\n",
            "Epoch 5/100\n",
            "50/52 [===========================>..] - ETA: 0s - loss: 0.0158 - recall: 0.9880\n",
            "Epoch 5: val_loss did not improve from 0.06817\n",
            "52/52 [==============================] - 1s 13ms/step - loss: 0.0169 - recall: 0.9862 - val_loss: 0.0759 - val_recall: 0.8966\n",
            "Epoch 6/100\n",
            "50/52 [===========================>..] - ETA: 0s - loss: 0.0102 - recall: 0.9930\n",
            "Epoch 6: val_loss did not improve from 0.06817\n",
            "52/52 [==============================] - 1s 13ms/step - loss: 0.0100 - recall: 0.9931 - val_loss: 0.0753 - val_recall: 0.8851\n",
            "Epoch 7/100\n",
            "51/52 [============================>.] - ETA: 0s - loss: 0.0057 - recall: 0.9953\n",
            "Epoch 7: val_loss did not improve from 0.06817\n",
            "52/52 [==============================] - 1s 13ms/step - loss: 0.0057 - recall: 0.9954 - val_loss: 0.0811 - val_recall: 0.8851\n",
            "Epoch 8/100\n",
            "50/52 [===========================>..] - ETA: 0s - loss: 0.0046 - recall: 0.9952\n",
            "Epoch 8: val_loss did not improve from 0.06817\n",
            "52/52 [==============================] - 1s 13ms/step - loss: 0.0045 - recall: 0.9954 - val_loss: 0.0891 - val_recall: 0.9080\n",
            "Epoch 9/100\n",
            "50/52 [===========================>..] - ETA: 0s - loss: 0.0022 - recall: 0.9976\n",
            "Epoch 9: val_loss did not improve from 0.06817\n",
            "52/52 [==============================] - 1s 13ms/step - loss: 0.0022 - recall: 0.9977 - val_loss: 0.0858 - val_recall: 0.8966\n",
            "Epoch 10/100\n",
            "51/52 [============================>.] - ETA: 0s - loss: 0.0016 - recall: 0.9977\n",
            "Epoch 10: val_loss did not improve from 0.06817\n",
            "52/52 [==============================] - 1s 12ms/step - loss: 0.0016 - recall: 0.9977 - val_loss: 0.0919 - val_recall: 0.8966\n",
            "Epoch 11/100\n",
            "49/52 [===========================>..] - ETA: 0s - loss: 0.0013 - recall: 1.0000\n",
            "Epoch 11: val_loss did not improve from 0.06817\n",
            "52/52 [==============================] - 1s 13ms/step - loss: 0.0012 - recall: 1.0000 - val_loss: 0.0980 - val_recall: 0.8851\n",
            "Epoch 12/100\n",
            "51/52 [============================>.] - ETA: 0s - loss: 9.8983e-04 - recall: 1.0000\n",
            "Epoch 12: val_loss did not improve from 0.06817\n",
            "52/52 [==============================] - 1s 13ms/step - loss: 9.8712e-04 - recall: 1.0000 - val_loss: 0.0994 - val_recall: 0.8851\n",
            "Epoch 13/100\n",
            "51/52 [============================>.] - ETA: 0s - loss: 8.9536e-04 - recall: 1.0000\n",
            "Epoch 13: val_loss did not improve from 0.06817\n",
            "52/52 [==============================] - 1s 13ms/step - loss: 8.9517e-04 - recall: 1.0000 - val_loss: 0.1047 - val_recall: 0.8851\n",
            "Epoch 14/100\n",
            "48/52 [==========================>...] - ETA: 0s - loss: 7.3007e-04 - recall: 1.0000\n",
            "Epoch 14: val_loss did not improve from 0.06817\n",
            "52/52 [==============================] - 1s 14ms/step - loss: 7.2465e-04 - recall: 1.0000 - val_loss: 0.1124 - val_recall: 0.8851\n",
            "Epoch 15/100\n",
            "48/52 [==========================>...] - ETA: 0s - loss: 6.1683e-04 - recall: 1.0000\n",
            "Epoch 15: val_loss did not improve from 0.06817\n",
            "52/52 [==============================] - 1s 13ms/step - loss: 6.0652e-04 - recall: 1.0000 - val_loss: 0.1172 - val_recall: 0.8851\n",
            "Epoch 16/100\n",
            "50/52 [===========================>..] - ETA: 0s - loss: 5.1786e-04 - recall: 1.0000\n",
            "Epoch 16: val_loss did not improve from 0.06817\n",
            "52/52 [==============================] - 1s 14ms/step - loss: 5.1859e-04 - recall: 1.0000 - val_loss: 0.1198 - val_recall: 0.8851\n",
            "Epoch 17/100\n",
            "51/52 [============================>.] - ETA: 0s - loss: 4.9745e-04 - recall: 1.0000\n",
            "Epoch 17: val_loss did not improve from 0.06817\n",
            "52/52 [==============================] - 1s 13ms/step - loss: 4.9831e-04 - recall: 1.0000 - val_loss: 0.1038 - val_recall: 0.8736\n",
            "Epoch 18/100\n",
            "50/52 [===========================>..] - ETA: 0s - loss: 4.5422e-04 - recall: 1.0000\n",
            "Epoch 18: val_loss did not improve from 0.06817\n",
            "52/52 [==============================] - 1s 13ms/step - loss: 4.5003e-04 - recall: 1.0000 - val_loss: 0.1119 - val_recall: 0.8736\n",
            "Epoch 19/100\n",
            "50/52 [===========================>..] - ETA: 0s - loss: 3.8783e-04 - recall: 1.0000\n",
            "Epoch 19: val_loss did not improve from 0.06817\n",
            "52/52 [==============================] - 1s 13ms/step - loss: 3.9084e-04 - recall: 1.0000 - val_loss: 0.1202 - val_recall: 0.8736\n"
          ]
        }
      ]
    },
    {
      "cell_type": "code",
      "source": [
        "best_model4 = load_model(model_path4)\n",
        "best_model4.evaluate(X_test, y_test)"
      ],
      "metadata": {
        "colab": {
          "base_uri": "https://localhost:8080/"
        },
        "id": "uTsUBGHGsEv3",
        "outputId": "ca40234c-b3f6-4f8b-cbe6-92628fdd67c9"
      },
      "execution_count": 34,
      "outputs": [
        {
          "output_type": "stream",
          "name": "stdout",
          "text": [
            "33/33 [==============================] - 1s 8ms/step - loss: 0.0627 - recall: 0.9008\n"
          ]
        },
        {
          "output_type": "execute_result",
          "data": {
            "text/plain": [
              "[0.06271927058696747, 0.9007633328437805]"
            ]
          },
          "metadata": {},
          "execution_count": 34
        }
      ]
    },
    {
      "cell_type": "markdown",
      "source": [
        "## 4.4 LSTM(128-64) - 85.49\n",
        "- Embedding 시 적당히 큰 숫자를 사용하는게 좋음"
      ],
      "metadata": {
        "id": "m8byxXItsuRV"
      }
    },
    {
      "cell_type": "code",
      "source": [
        "model5 = Sequential([\n",
        "    Embedding(vocab_size, 128, input_length=max_len),\n",
        "    LSTM(64),\n",
        "    Dense(1, activation = 'sigmoid')\n",
        "])\n",
        "model5.summary()"
      ],
      "metadata": {
        "colab": {
          "base_uri": "https://localhost:8080/"
        },
        "outputId": "fc854601-ad82-4fcc-83a5-da17ed730d1c",
        "id": "zvDdfMSbsuRa"
      },
      "execution_count": 40,
      "outputs": [
        {
          "output_type": "stream",
          "name": "stdout",
          "text": [
            "Model: \"sequential_3\"\n",
            "_________________________________________________________________\n",
            " Layer (type)                Output Shape              Param #   \n",
            "=================================================================\n",
            " embedding_4 (Embedding)     (None, 171, 128)          1213312   \n",
            "                                                                 \n",
            " lstm_3 (LSTM)               (None, 64)                49408     \n",
            "                                                                 \n",
            " dense_3 (Dense)             (None, 1)                 65        \n",
            "                                                                 \n",
            "=================================================================\n",
            "Total params: 1,262,785\n",
            "Trainable params: 1,262,785\n",
            "Non-trainable params: 0\n",
            "_________________________________________________________________\n"
          ]
        }
      ]
    },
    {
      "cell_type": "code",
      "source": [
        "model_path5 = 'best-spam-rnn_v5.h5'\n",
        "mc = ModelCheckpoint(model_path5, verbose = 1, save_best_only=True)\n",
        "es = EarlyStopping(patience = 15)"
      ],
      "metadata": {
        "id": "4JHwf7HcsuRa"
      },
      "execution_count": 41,
      "outputs": []
    },
    {
      "cell_type": "code",
      "source": [
        "model5.compile('adam', 'binary_crossentropy', Recall(name='recall'))"
      ],
      "metadata": {
        "id": "1AkYc0EcsuRa"
      },
      "execution_count": 42,
      "outputs": []
    },
    {
      "cell_type": "code",
      "source": [
        "hist5 = model5.fit(X_train, y_train, validation_split = 0.2,\n",
        "                 epochs = 100, batch_size = 64, callbacks = [mc, es])"
      ],
      "metadata": {
        "colab": {
          "base_uri": "https://localhost:8080/"
        },
        "outputId": "fdf54711-9c87-4347-b10e-0c25c05c1883",
        "id": "l5v4oPcxsuRa"
      },
      "execution_count": 43,
      "outputs": [
        {
          "output_type": "stream",
          "name": "stdout",
          "text": [
            "Epoch 1/100\n",
            "51/52 [============================>.] - ETA: 0s - loss: 0.3251 - recall: 0.2209\n",
            "Epoch 1: val_loss improved from inf to 0.10707, saving model to best-spam-rnn_v5.h5\n",
            "52/52 [==============================] - 3s 26ms/step - loss: 0.3225 - recall: 0.2253 - val_loss: 0.1071 - val_recall: 0.7816\n",
            "Epoch 2/100\n",
            "50/52 [===========================>..] - ETA: 0s - loss: 0.0648 - recall: 0.9045\n",
            "Epoch 2: val_loss improved from 0.10707 to 0.06924, saving model to best-spam-rnn_v5.h5\n",
            "52/52 [==============================] - 1s 14ms/step - loss: 0.0650 - recall: 0.9034 - val_loss: 0.0692 - val_recall: 0.8506\n",
            "Epoch 3/100\n",
            "49/52 [===========================>..] - ETA: 0s - loss: 0.0276 - recall: 0.9593\n",
            "Epoch 3: val_loss did not improve from 0.06924\n",
            "52/52 [==============================] - 1s 14ms/step - loss: 0.0264 - recall: 0.9609 - val_loss: 0.0727 - val_recall: 0.8966\n",
            "Epoch 4/100\n",
            "49/52 [===========================>..] - ETA: 0s - loss: 0.0137 - recall: 0.9855\n",
            "Epoch 4: val_loss did not improve from 0.06924\n",
            "52/52 [==============================] - 1s 15ms/step - loss: 0.0131 - recall: 0.9862 - val_loss: 0.0840 - val_recall: 0.8966\n",
            "Epoch 5/100\n",
            "50/52 [===========================>..] - ETA: 0s - loss: 0.0091 - recall: 0.9882\n",
            "Epoch 5: val_loss did not improve from 0.06924\n",
            "52/52 [==============================] - 1s 14ms/step - loss: 0.0089 - recall: 0.9885 - val_loss: 0.0740 - val_recall: 0.8966\n",
            "Epoch 6/100\n",
            "50/52 [===========================>..] - ETA: 0s - loss: 0.0053 - recall: 0.9929\n",
            "Epoch 6: val_loss did not improve from 0.06924\n",
            "52/52 [==============================] - 1s 14ms/step - loss: 0.0052 - recall: 0.9931 - val_loss: 0.0945 - val_recall: 0.8966\n",
            "Epoch 7/100\n",
            "52/52 [==============================] - ETA: 0s - loss: 0.0036 - recall: 0.9977\n",
            "Epoch 7: val_loss did not improve from 0.06924\n",
            "52/52 [==============================] - 1s 14ms/step - loss: 0.0036 - recall: 0.9977 - val_loss: 0.0844 - val_recall: 0.8966\n",
            "Epoch 8/100\n",
            "49/52 [===========================>..] - ETA: 0s - loss: 0.0019 - recall: 0.9976\n",
            "Epoch 8: val_loss did not improve from 0.06924\n",
            "52/52 [==============================] - 1s 15ms/step - loss: 0.0019 - recall: 0.9977 - val_loss: 0.0887 - val_recall: 0.8966\n",
            "Epoch 9/100\n",
            "50/52 [===========================>..] - ETA: 0s - loss: 0.0012 - recall: 0.9976\n",
            "Epoch 9: val_loss did not improve from 0.06924\n",
            "52/52 [==============================] - 1s 14ms/step - loss: 0.0012 - recall: 0.9977 - val_loss: 0.0908 - val_recall: 0.8966\n",
            "Epoch 10/100\n",
            "52/52 [==============================] - ETA: 0s - loss: 5.9906e-04 - recall: 1.0000\n",
            "Epoch 10: val_loss did not improve from 0.06924\n",
            "52/52 [==============================] - 1s 16ms/step - loss: 5.9906e-04 - recall: 1.0000 - val_loss: 0.1033 - val_recall: 0.8966\n",
            "Epoch 11/100\n",
            "49/52 [===========================>..] - ETA: 0s - loss: 4.9736e-04 - recall: 1.0000\n",
            "Epoch 11: val_loss did not improve from 0.06924\n",
            "52/52 [==============================] - 1s 15ms/step - loss: 4.9374e-04 - recall: 1.0000 - val_loss: 0.1034 - val_recall: 0.8966\n",
            "Epoch 12/100\n",
            "52/52 [==============================] - ETA: 0s - loss: 4.2096e-04 - recall: 1.0000\n",
            "Epoch 12: val_loss did not improve from 0.06924\n",
            "52/52 [==============================] - 2s 29ms/step - loss: 4.2096e-04 - recall: 1.0000 - val_loss: 0.1083 - val_recall: 0.8966\n",
            "Epoch 13/100\n",
            "52/52 [==============================] - ETA: 0s - loss: 2.8571e-04 - recall: 1.0000\n",
            "Epoch 13: val_loss did not improve from 0.06924\n",
            "52/52 [==============================] - 2s 33ms/step - loss: 2.8571e-04 - recall: 1.0000 - val_loss: 0.1157 - val_recall: 0.8966\n",
            "Epoch 14/100\n",
            "52/52 [==============================] - ETA: 0s - loss: 2.6020e-04 - recall: 1.0000\n",
            "Epoch 14: val_loss did not improve from 0.06924\n",
            "52/52 [==============================] - 1s 25ms/step - loss: 2.6020e-04 - recall: 1.0000 - val_loss: 0.1213 - val_recall: 0.8966\n",
            "Epoch 15/100\n",
            "51/52 [============================>.] - ETA: 0s - loss: 2.8768e-04 - recall: 1.0000\n",
            "Epoch 15: val_loss did not improve from 0.06924\n",
            "52/52 [==============================] - 1s 28ms/step - loss: 2.8662e-04 - recall: 1.0000 - val_loss: 0.0936 - val_recall: 0.8966\n",
            "Epoch 16/100\n",
            "49/52 [===========================>..] - ETA: 0s - loss: 2.3261e-04 - recall: 1.0000\n",
            "Epoch 16: val_loss did not improve from 0.06924\n",
            "52/52 [==============================] - 1s 22ms/step - loss: 2.2975e-04 - recall: 1.0000 - val_loss: 0.1042 - val_recall: 0.8966\n",
            "Epoch 17/100\n",
            "52/52 [==============================] - ETA: 0s - loss: 1.7741e-04 - recall: 1.0000\n",
            "Epoch 17: val_loss did not improve from 0.06924\n",
            "52/52 [==============================] - 1s 14ms/step - loss: 1.7741e-04 - recall: 1.0000 - val_loss: 0.1118 - val_recall: 0.8966\n"
          ]
        }
      ]
    },
    {
      "cell_type": "code",
      "source": [
        "best_model5 = load_model(model_path5)\n",
        "best_model5.evaluate(X_test, y_test)"
      ],
      "metadata": {
        "colab": {
          "base_uri": "https://localhost:8080/"
        },
        "id": "exCMf6_-suRa",
        "outputId": "0778c6f4-7ae1-405d-f337-c7625fb5ef4e"
      },
      "execution_count": 44,
      "outputs": [
        {
          "output_type": "stream",
          "name": "stdout",
          "text": [
            "33/33 [==============================] - 1s 8ms/step - loss: 0.0703 - recall: 0.8550\n"
          ]
        },
        {
          "output_type": "execute_result",
          "data": {
            "text/plain": [
              "[0.07034305483102798, 0.8549618124961853]"
            ]
          },
          "metadata": {},
          "execution_count": 44
        }
      ]
    },
    {
      "cell_type": "markdown",
      "source": [
        "## 4.5 GRU (32-32) - 88.54"
      ],
      "metadata": {
        "id": "iwoi3X4us_WR"
      }
    },
    {
      "cell_type": "code",
      "source": [
        "model6 = Sequential([\n",
        "    Embedding(vocab_size, 32, input_length=max_len),\n",
        "    GRU(32),\n",
        "    Dense(1, activation = 'sigmoid')\n",
        "])\n",
        "model6.summary()"
      ],
      "metadata": {
        "colab": {
          "base_uri": "https://localhost:8080/"
        },
        "outputId": "b884bdd2-2592-4f0e-e307-55007ef08cd1",
        "id": "O2mUyEoitEjC"
      },
      "execution_count": 45,
      "outputs": [
        {
          "output_type": "stream",
          "name": "stdout",
          "text": [
            "Model: \"sequential_4\"\n",
            "_________________________________________________________________\n",
            " Layer (type)                Output Shape              Param #   \n",
            "=================================================================\n",
            " embedding_5 (Embedding)     (None, 171, 32)           303328    \n",
            "                                                                 \n",
            " gru (GRU)                   (None, 32)                6336      \n",
            "                                                                 \n",
            " dense_4 (Dense)             (None, 1)                 33        \n",
            "                                                                 \n",
            "=================================================================\n",
            "Total params: 309,697\n",
            "Trainable params: 309,697\n",
            "Non-trainable params: 0\n",
            "_________________________________________________________________\n"
          ]
        }
      ]
    },
    {
      "cell_type": "code",
      "source": [
        "model_path6 = 'best-spam-rnn_v6.h5'\n",
        "mc = ModelCheckpoint(model_path6, verbose = 1, save_best_only=True)\n",
        "es = EarlyStopping(patience = 15)"
      ],
      "metadata": {
        "id": "h-3ZS0A0tEjD"
      },
      "execution_count": 46,
      "outputs": []
    },
    {
      "cell_type": "code",
      "source": [
        "model6.compile('adam', 'binary_crossentropy', Recall(name='recall'))"
      ],
      "metadata": {
        "id": "QRE-jWJctEjD"
      },
      "execution_count": 47,
      "outputs": []
    },
    {
      "cell_type": "code",
      "source": [
        "hist6 = model6.fit(X_train, y_train, validation_split = 0.2,\n",
        "                 epochs = 100, batch_size = 64, callbacks = [mc, es])"
      ],
      "metadata": {
        "colab": {
          "base_uri": "https://localhost:8080/"
        },
        "outputId": "92a8e038-c311-48fd-8451-763dc2a57a77",
        "id": "LqlAh6YrtEjD"
      },
      "execution_count": 48,
      "outputs": [
        {
          "output_type": "stream",
          "name": "stdout",
          "text": [
            "Epoch 1/100\n",
            "51/52 [============================>.] - ETA: 0s - loss: 0.4898 - recall: 0.0116\n",
            "Epoch 1: val_loss improved from inf to 0.24701, saving model to best-spam-rnn_v6.h5\n",
            "52/52 [==============================] - 3s 30ms/step - loss: 0.4866 - recall: 0.0115 - val_loss: 0.2470 - val_recall: 0.0000e+00\n",
            "Epoch 2/100\n",
            "51/52 [============================>.] - ETA: 0s - loss: 0.1696 - recall: 0.3857\n",
            "Epoch 2: val_loss improved from 0.24701 to 0.09799, saving model to best-spam-rnn_v6.h5\n",
            "52/52 [==============================] - 1s 13ms/step - loss: 0.1678 - recall: 0.3885 - val_loss: 0.0980 - val_recall: 0.7356\n",
            "Epoch 3/100\n",
            "51/52 [============================>.] - ETA: 0s - loss: 0.0536 - recall: 0.9102\n",
            "Epoch 3: val_loss improved from 0.09799 to 0.07698, saving model to best-spam-rnn_v6.h5\n",
            "52/52 [==============================] - 1s 15ms/step - loss: 0.0533 - recall: 0.9126 - val_loss: 0.0770 - val_recall: 0.8391\n",
            "Epoch 4/100\n",
            "50/52 [===========================>..] - ETA: 0s - loss: 0.0272 - recall: 0.9623\n",
            "Epoch 4: val_loss improved from 0.07698 to 0.07001, saving model to best-spam-rnn_v6.h5\n",
            "52/52 [==============================] - 1s 15ms/step - loss: 0.0266 - recall: 0.9632 - val_loss: 0.0700 - val_recall: 0.8736\n",
            "Epoch 5/100\n",
            "50/52 [===========================>..] - ETA: 0s - loss: 0.0147 - recall: 0.9881\n",
            "Epoch 5: val_loss improved from 0.07001 to 0.06886, saving model to best-spam-rnn_v6.h5\n",
            "52/52 [==============================] - 1s 15ms/step - loss: 0.0144 - recall: 0.9885 - val_loss: 0.0689 - val_recall: 0.8736\n",
            "Epoch 6/100\n",
            "50/52 [===========================>..] - ETA: 0s - loss: 0.0091 - recall: 0.9926\n",
            "Epoch 6: val_loss did not improve from 0.06886\n",
            "52/52 [==============================] - 1s 13ms/step - loss: 0.0089 - recall: 0.9931 - val_loss: 0.0723 - val_recall: 0.8736\n",
            "Epoch 7/100\n",
            "51/52 [============================>.] - ETA: 0s - loss: 0.0057 - recall: 0.9930\n",
            "Epoch 7: val_loss did not improve from 0.06886\n",
            "52/52 [==============================] - 1s 12ms/step - loss: 0.0056 - recall: 0.9931 - val_loss: 0.0703 - val_recall: 0.8851\n",
            "Epoch 8/100\n",
            "50/52 [===========================>..] - ETA: 0s - loss: 0.0032 - recall: 0.9976\n",
            "Epoch 8: val_loss did not improve from 0.06886\n",
            "52/52 [==============================] - 1s 13ms/step - loss: 0.0032 - recall: 0.9977 - val_loss: 0.0693 - val_recall: 0.8966\n",
            "Epoch 9/100\n",
            "50/52 [===========================>..] - ETA: 0s - loss: 0.0017 - recall: 0.9977\n",
            "Epoch 9: val_loss did not improve from 0.06886\n",
            "52/52 [==============================] - 1s 13ms/step - loss: 0.0017 - recall: 0.9977 - val_loss: 0.0758 - val_recall: 0.8851\n",
            "Epoch 10/100\n",
            "51/52 [============================>.] - ETA: 0s - loss: 0.0012 - recall: 0.9977\n",
            "Epoch 10: val_loss did not improve from 0.06886\n",
            "52/52 [==============================] - 1s 13ms/step - loss: 0.0012 - recall: 0.9977 - val_loss: 0.0728 - val_recall: 0.8851\n",
            "Epoch 11/100\n",
            "51/52 [============================>.] - ETA: 0s - loss: 7.7097e-04 - recall: 1.0000\n",
            "Epoch 11: val_loss did not improve from 0.06886\n",
            "52/52 [==============================] - 1s 13ms/step - loss: 7.6602e-04 - recall: 1.0000 - val_loss: 0.0816 - val_recall: 0.8851\n",
            "Epoch 12/100\n",
            "50/52 [===========================>..] - ETA: 0s - loss: 6.7433e-04 - recall: 1.0000\n",
            "Epoch 12: val_loss did not improve from 0.06886\n",
            "52/52 [==============================] - 1s 13ms/step - loss: 6.7113e-04 - recall: 1.0000 - val_loss: 0.0795 - val_recall: 0.8851\n",
            "Epoch 13/100\n",
            "51/52 [============================>.] - ETA: 0s - loss: 5.2805e-04 - recall: 1.0000\n",
            "Epoch 13: val_loss did not improve from 0.06886\n",
            "52/52 [==============================] - 1s 12ms/step - loss: 5.2933e-04 - recall: 1.0000 - val_loss: 0.0915 - val_recall: 0.8391\n",
            "Epoch 14/100\n",
            "49/52 [===========================>..] - ETA: 0s - loss: 5.0187e-04 - recall: 1.0000\n",
            "Epoch 14: val_loss did not improve from 0.06886\n",
            "52/52 [==============================] - 1s 13ms/step - loss: 6.7137e-04 - recall: 1.0000 - val_loss: 0.0851 - val_recall: 0.8736\n",
            "Epoch 15/100\n",
            "51/52 [============================>.] - ETA: 0s - loss: 4.7584e-04 - recall: 1.0000\n",
            "Epoch 15: val_loss did not improve from 0.06886\n",
            "52/52 [==============================] - 1s 13ms/step - loss: 4.7378e-04 - recall: 1.0000 - val_loss: 0.0859 - val_recall: 0.8736\n",
            "Epoch 16/100\n",
            "51/52 [============================>.] - ETA: 0s - loss: 3.7839e-04 - recall: 1.0000\n",
            "Epoch 16: val_loss did not improve from 0.06886\n",
            "52/52 [==============================] - 1s 13ms/step - loss: 3.7714e-04 - recall: 1.0000 - val_loss: 0.0889 - val_recall: 0.8736\n",
            "Epoch 17/100\n",
            "51/52 [============================>.] - ETA: 0s - loss: 3.2395e-04 - recall: 1.0000\n",
            "Epoch 17: val_loss did not improve from 0.06886\n",
            "52/52 [==============================] - 1s 13ms/step - loss: 3.2348e-04 - recall: 1.0000 - val_loss: 0.0909 - val_recall: 0.8736\n",
            "Epoch 18/100\n",
            "51/52 [============================>.] - ETA: 0s - loss: 2.8176e-04 - recall: 1.0000\n",
            "Epoch 18: val_loss did not improve from 0.06886\n",
            "52/52 [==============================] - 1s 13ms/step - loss: 2.8164e-04 - recall: 1.0000 - val_loss: 0.0915 - val_recall: 0.8736\n",
            "Epoch 19/100\n",
            "49/52 [===========================>..] - ETA: 0s - loss: 2.4672e-04 - recall: 1.0000\n",
            "Epoch 19: val_loss did not improve from 0.06886\n",
            "52/52 [==============================] - 1s 14ms/step - loss: 2.4745e-04 - recall: 1.0000 - val_loss: 0.0942 - val_recall: 0.8621\n",
            "Epoch 20/100\n",
            "50/52 [===========================>..] - ETA: 0s - loss: 2.2331e-04 - recall: 1.0000\n",
            "Epoch 20: val_loss did not improve from 0.06886\n",
            "52/52 [==============================] - 1s 13ms/step - loss: 2.2104e-04 - recall: 1.0000 - val_loss: 0.0950 - val_recall: 0.8621\n"
          ]
        }
      ]
    },
    {
      "cell_type": "code",
      "source": [
        "best_model6 = load_model(model_path6)\n",
        "best_model6.evaluate(X_test, y_test)"
      ],
      "metadata": {
        "colab": {
          "base_uri": "https://localhost:8080/"
        },
        "id": "_4RkcL0JtEjD",
        "outputId": "d77e8c4c-d8b5-4416-adcc-cf49ea7a4fc7"
      },
      "execution_count": 49,
      "outputs": [
        {
          "output_type": "stream",
          "name": "stdout",
          "text": [
            "33/33 [==============================] - 1s 7ms/step - loss: 0.0681 - recall: 0.8855\n"
          ]
        },
        {
          "output_type": "execute_result",
          "data": {
            "text/plain": [
              "[0.06811566650867462, 0.885496199131012]"
            ]
          },
          "metadata": {},
          "execution_count": 49
        }
      ]
    },
    {
      "cell_type": "markdown",
      "source": [
        "## 4.6 GRU(64-32) - 89.31"
      ],
      "metadata": {
        "id": "cIr0kpc6tk-E"
      }
    },
    {
      "cell_type": "code",
      "source": [
        "model7 = Sequential([\n",
        "    Embedding(vocab_size, 32, input_length=max_len),\n",
        "    GRU(32),\n",
        "    Dense(1, activation = 'sigmoid')\n",
        "])\n",
        "model7.summary()"
      ],
      "metadata": {
        "colab": {
          "base_uri": "https://localhost:8080/"
        },
        "outputId": "9e020eea-2c80-4c36-c887-4e650a402f8e",
        "id": "0Wc9YfjhtnaJ"
      },
      "execution_count": 50,
      "outputs": [
        {
          "output_type": "stream",
          "name": "stdout",
          "text": [
            "Model: \"sequential_5\"\n",
            "_________________________________________________________________\n",
            " Layer (type)                Output Shape              Param #   \n",
            "=================================================================\n",
            " embedding_6 (Embedding)     (None, 171, 32)           303328    \n",
            "                                                                 \n",
            " gru_1 (GRU)                 (None, 32)                6336      \n",
            "                                                                 \n",
            " dense_5 (Dense)             (None, 1)                 33        \n",
            "                                                                 \n",
            "=================================================================\n",
            "Total params: 309,697\n",
            "Trainable params: 309,697\n",
            "Non-trainable params: 0\n",
            "_________________________________________________________________\n"
          ]
        }
      ]
    },
    {
      "cell_type": "code",
      "source": [
        "model_path7 = 'best-spam-rnn_v7.h5'\n",
        "mc = ModelCheckpoint(model_path7, verbose = 1, save_best_only=True)\n",
        "es = EarlyStopping(patience = 15)"
      ],
      "metadata": {
        "id": "wsn35L18tnaK"
      },
      "execution_count": 51,
      "outputs": []
    },
    {
      "cell_type": "code",
      "source": [
        "model7.compile('adam', 'binary_crossentropy', Recall(name='recall'))"
      ],
      "metadata": {
        "id": "4sTsWtgTtnaK"
      },
      "execution_count": 52,
      "outputs": []
    },
    {
      "cell_type": "code",
      "source": [
        "hist7 = model7.fit(X_train, y_train, validation_split = 0.2,\n",
        "                 epochs = 100, batch_size = 64, callbacks = [mc, es])"
      ],
      "metadata": {
        "colab": {
          "base_uri": "https://localhost:8080/"
        },
        "outputId": "b8a9bab6-54c4-4494-ebc2-12e5da42b56f",
        "id": "QLXDItZ1tnaK"
      },
      "execution_count": 53,
      "outputs": [
        {
          "output_type": "stream",
          "name": "stdout",
          "text": [
            "Epoch 1/100\n",
            "50/52 [===========================>..] - ETA: 0s - loss: 0.4871 - recall: 0.0143\n",
            "Epoch 1: val_loss improved from inf to 0.25553, saving model to best-spam-rnn_v7.h5\n",
            "52/52 [==============================] - 3s 23ms/step - loss: 0.4817 - recall: 0.0138 - val_loss: 0.2555 - val_recall: 0.0000e+00\n",
            "Epoch 2/100\n",
            "48/52 [==========================>...] - ETA: 0s - loss: 0.1838 - recall: 0.2832\n",
            "Epoch 2: val_loss improved from 0.25553 to 0.10090, saving model to best-spam-rnn_v7.h5\n",
            "52/52 [==============================] - 1s 12ms/step - loss: 0.1776 - recall: 0.3195 - val_loss: 0.1009 - val_recall: 0.7241\n",
            "Epoch 3/100\n",
            "52/52 [==============================] - ETA: 0s - loss: 0.0525 - recall: 0.9103\n",
            "Epoch 3: val_loss improved from 0.10090 to 0.07284, saving model to best-spam-rnn_v7.h5\n",
            "52/52 [==============================] - 1s 13ms/step - loss: 0.0525 - recall: 0.9103 - val_loss: 0.0728 - val_recall: 0.8736\n",
            "Epoch 4/100\n",
            "50/52 [===========================>..] - ETA: 0s - loss: 0.0244 - recall: 0.9622\n",
            "Epoch 4: val_loss improved from 0.07284 to 0.06722, saving model to best-spam-rnn_v7.h5\n",
            "52/52 [==============================] - 1s 13ms/step - loss: 0.0239 - recall: 0.9632 - val_loss: 0.0672 - val_recall: 0.8851\n",
            "Epoch 5/100\n",
            "51/52 [============================>.] - ETA: 0s - loss: 0.0121 - recall: 0.9907\n",
            "Epoch 5: val_loss did not improve from 0.06722\n",
            "52/52 [==============================] - 1s 12ms/step - loss: 0.0132 - recall: 0.9885 - val_loss: 0.0673 - val_recall: 0.8851\n",
            "Epoch 6/100\n",
            "50/52 [===========================>..] - ETA: 0s - loss: 0.0082 - recall: 0.9904\n",
            "Epoch 6: val_loss did not improve from 0.06722\n",
            "52/52 [==============================] - 1s 13ms/step - loss: 0.0080 - recall: 0.9908 - val_loss: 0.0726 - val_recall: 0.8851\n",
            "Epoch 7/100\n",
            "50/52 [===========================>..] - ETA: 0s - loss: 0.0041 - recall: 0.9953\n",
            "Epoch 7: val_loss did not improve from 0.06722\n",
            "52/52 [==============================] - 1s 13ms/step - loss: 0.0041 - recall: 0.9954 - val_loss: 0.0736 - val_recall: 0.8851\n",
            "Epoch 8/100\n",
            "51/52 [============================>.] - ETA: 0s - loss: 0.0024 - recall: 0.9977\n",
            "Epoch 8: val_loss did not improve from 0.06722\n",
            "52/52 [==============================] - 1s 12ms/step - loss: 0.0024 - recall: 0.9977 - val_loss: 0.0768 - val_recall: 0.8736\n",
            "Epoch 9/100\n",
            "51/52 [============================>.] - ETA: 0s - loss: 0.0015 - recall: 0.9977\n",
            "Epoch 9: val_loss did not improve from 0.06722\n",
            "52/52 [==============================] - 1s 12ms/step - loss: 0.0015 - recall: 0.9977 - val_loss: 0.0759 - val_recall: 0.8851\n",
            "Epoch 10/100\n",
            "51/52 [============================>.] - ETA: 0s - loss: 9.2626e-04 - recall: 1.0000\n",
            "Epoch 10: val_loss did not improve from 0.06722\n",
            "52/52 [==============================] - 1s 13ms/step - loss: 9.2184e-04 - recall: 1.0000 - val_loss: 0.0793 - val_recall: 0.8736\n",
            "Epoch 11/100\n",
            "51/52 [============================>.] - ETA: 0s - loss: 6.7498e-04 - recall: 1.0000\n",
            "Epoch 11: val_loss did not improve from 0.06722\n",
            "52/52 [==============================] - 1s 12ms/step - loss: 6.7293e-04 - recall: 1.0000 - val_loss: 0.0836 - val_recall: 0.8736\n",
            "Epoch 12/100\n",
            "50/52 [===========================>..] - ETA: 0s - loss: 0.0031 - recall: 0.9977\n",
            "Epoch 12: val_loss did not improve from 0.06722\n",
            "52/52 [==============================] - 1s 13ms/step - loss: 0.0031 - recall: 0.9977 - val_loss: 0.0820 - val_recall: 0.8736\n",
            "Epoch 13/100\n",
            "52/52 [==============================] - ETA: 0s - loss: 7.7128e-04 - recall: 1.0000\n",
            "Epoch 13: val_loss did not improve from 0.06722\n",
            "52/52 [==============================] - 1s 12ms/step - loss: 7.7128e-04 - recall: 1.0000 - val_loss: 0.0844 - val_recall: 0.8736\n",
            "Epoch 14/100\n",
            "52/52 [==============================] - ETA: 0s - loss: 6.6012e-04 - recall: 1.0000\n",
            "Epoch 14: val_loss did not improve from 0.06722\n",
            "52/52 [==============================] - 1s 12ms/step - loss: 6.6012e-04 - recall: 1.0000 - val_loss: 0.0885 - val_recall: 0.8736\n",
            "Epoch 15/100\n",
            "51/52 [============================>.] - ETA: 0s - loss: 4.3708e-04 - recall: 1.0000\n",
            "Epoch 15: val_loss did not improve from 0.06722\n",
            "52/52 [==============================] - 1s 12ms/step - loss: 4.3359e-04 - recall: 1.0000 - val_loss: 0.0922 - val_recall: 0.8736\n",
            "Epoch 16/100\n",
            "51/52 [============================>.] - ETA: 0s - loss: 3.7306e-04 - recall: 1.0000\n",
            "Epoch 16: val_loss did not improve from 0.06722\n",
            "52/52 [==============================] - 1s 12ms/step - loss: 3.7163e-04 - recall: 1.0000 - val_loss: 0.0938 - val_recall: 0.8621\n",
            "Epoch 17/100\n",
            "50/52 [===========================>..] - ETA: 0s - loss: 3.2913e-04 - recall: 1.0000\n",
            "Epoch 17: val_loss did not improve from 0.06722\n",
            "52/52 [==============================] - 1s 13ms/step - loss: 3.2484e-04 - recall: 1.0000 - val_loss: 0.0959 - val_recall: 0.8621\n",
            "Epoch 18/100\n",
            "50/52 [===========================>..] - ETA: 0s - loss: 2.9033e-04 - recall: 1.0000\n",
            "Epoch 18: val_loss did not improve from 0.06722\n",
            "52/52 [==============================] - 1s 14ms/step - loss: 2.8823e-04 - recall: 1.0000 - val_loss: 0.0968 - val_recall: 0.8506\n",
            "Epoch 19/100\n",
            "51/52 [============================>.] - ETA: 0s - loss: 2.6009e-04 - recall: 1.0000\n",
            "Epoch 19: val_loss did not improve from 0.06722\n",
            "52/52 [==============================] - 1s 12ms/step - loss: 2.5861e-04 - recall: 1.0000 - val_loss: 0.0983 - val_recall: 0.8506\n"
          ]
        }
      ]
    },
    {
      "cell_type": "code",
      "source": [
        "best_model7 = load_model(model_path7)\n",
        "best_model7.evaluate(X_test, y_test)"
      ],
      "metadata": {
        "colab": {
          "base_uri": "https://localhost:8080/"
        },
        "id": "O40JxLMntnaK",
        "outputId": "36d1048b-a71f-4e21-c77a-e63a8162ecbd"
      },
      "execution_count": 54,
      "outputs": [
        {
          "output_type": "stream",
          "name": "stdout",
          "text": [
            "33/33 [==============================] - 1s 7ms/step - loss: 0.0658 - recall: 0.8931\n"
          ]
        },
        {
          "output_type": "execute_result",
          "data": {
            "text/plain": [
              "[0.0657874345779419, 0.8931297659873962]"
            ]
          },
          "metadata": {},
          "execution_count": 54
        }
      ]
    }
  ]
}