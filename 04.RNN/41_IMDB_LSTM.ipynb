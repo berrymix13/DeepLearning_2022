{
  "nbformat": 4,
  "nbformat_minor": 0,
  "metadata": {
    "colab": {
      "name": "41_IMDB_LSTM.ipynb",
      "provenance": [],
      "collapsed_sections": []
    },
    "kernelspec": {
      "name": "python3",
      "display_name": "Python 3"
    },
    "language_info": {
      "name": "python"
    },
    "accelerator": "GPU"
  },
  "cells": [
    {
      "cell_type": "markdown",
      "source": [
        "# Keras - IMDB 영화리뷰 감성분석"
      ],
      "metadata": {
        "id": "wuBB_YVK2RGc"
      }
    },
    {
      "cell_type": "code",
      "execution_count": 1,
      "metadata": {
        "id": "hJ-nqCYj2Kmt"
      },
      "outputs": [],
      "source": [
        "import numpy as np\n",
        "import pandas as pd\n",
        "import matplotlib.pyplot as plt\n",
        "import warnings\n",
        "warnings.filterwarnings('ignore')"
      ]
    },
    {
      "cell_type": "code",
      "source": [
        "import tensorflow as tf\n",
        "seed = 2022\n",
        "np.random.seed(seed)\n",
        "tf.random.set_seed(seed)"
      ],
      "metadata": {
        "id": "7lVSjs-p4wMD"
      },
      "execution_count": 2,
      "outputs": []
    },
    {
      "cell_type": "code",
      "source": [
        "from tensorflow.keras.datasets import imdb\n",
        "(X_train, y_train), (X_test, y_test) = imdb.load_data()"
      ],
      "metadata": {
        "colab": {
          "base_uri": "https://localhost:8080/"
        },
        "id": "BKcTjHZs2jDk",
        "outputId": "38e27469-62e5-429c-aca9-5f24eb7cf6cc"
      },
      "execution_count": 3,
      "outputs": [
        {
          "output_type": "stream",
          "name": "stdout",
          "text": [
            "Downloading data from https://storage.googleapis.com/tensorflow/tf-keras-datasets/imdb.npz\n",
            "17465344/17464789 [==============================] - 0s 0us/step\n",
            "17473536/17464789 [==============================] - 0s 0us/step\n"
          ]
        }
      ]
    },
    {
      "cell_type": "code",
      "source": [
        "X_train.shape, X_test.shape"
      ],
      "metadata": {
        "colab": {
          "base_uri": "https://localhost:8080/"
        },
        "id": "HasdUCfy2uQl",
        "outputId": "9f447eed-1c00-42c6-cb65-2043af24afec"
      },
      "execution_count": 3,
      "outputs": [
        {
          "output_type": "execute_result",
          "data": {
            "text/plain": [
              "((25000,), (25000,))"
            ]
          },
          "metadata": {},
          "execution_count": 3
        }
      ]
    },
    {
      "cell_type": "code",
      "source": [
        "# 이미 변환이 완료되어있음\n",
        "print(X_train[0])"
      ],
      "metadata": {
        "colab": {
          "base_uri": "https://localhost:8080/"
        },
        "id": "fZbicaqH20lU",
        "outputId": "61775197-a7ca-44b5-e182-01196a18c04c"
      },
      "execution_count": 5,
      "outputs": [
        {
          "output_type": "stream",
          "name": "stdout",
          "text": [
            "[1, 14, 22, 16, 43, 530, 973, 1622, 1385, 65, 458, 4468, 66, 3941, 4, 173, 36, 256, 5, 25, 100, 43, 838, 112, 50, 670, 22665, 9, 35, 480, 284, 5, 150, 4, 172, 112, 167, 21631, 336, 385, 39, 4, 172, 4536, 1111, 17, 546, 38, 13, 447, 4, 192, 50, 16, 6, 147, 2025, 19, 14, 22, 4, 1920, 4613, 469, 4, 22, 71, 87, 12, 16, 43, 530, 38, 76, 15, 13, 1247, 4, 22, 17, 515, 17, 12, 16, 626, 18, 19193, 5, 62, 386, 12, 8, 316, 8, 106, 5, 4, 2223, 5244, 16, 480, 66, 3785, 33, 4, 130, 12, 16, 38, 619, 5, 25, 124, 51, 36, 135, 48, 25, 1415, 33, 6, 22, 12, 215, 28, 77, 52, 5, 14, 407, 16, 82, 10311, 8, 4, 107, 117, 5952, 15, 256, 4, 31050, 7, 3766, 5, 723, 36, 71, 43, 530, 476, 26, 400, 317, 46, 7, 4, 12118, 1029, 13, 104, 88, 4, 381, 15, 297, 98, 32, 2071, 56, 26, 141, 6, 194, 7486, 18, 4, 226, 22, 21, 134, 476, 26, 480, 5, 144, 30, 5535, 18, 51, 36, 28, 224, 92, 25, 104, 4, 226, 65, 16, 38, 1334, 88, 12, 16, 283, 5, 16, 4472, 113, 103, 32, 15, 16, 5345, 19, 178, 32]\n"
          ]
        }
      ]
    },
    {
      "cell_type": "code",
      "source": [
        "# 등장한 단어 수 확인\n",
        "len(imdb.get_word_index())"
      ],
      "metadata": {
        "colab": {
          "base_uri": "https://localhost:8080/"
        },
        "id": "x5syv4Hk24zM",
        "outputId": "b72c4c78-7b21-41ce-d589-42a79af2363e"
      },
      "execution_count": 7,
      "outputs": [
        {
          "output_type": "stream",
          "name": "stdout",
          "text": [
            "Downloading data from https://storage.googleapis.com/tensorflow/tf-keras-datasets/imdb_word_index.json\n",
            "1646592/1641221 [==============================] - 0s 0us/step\n",
            "1654784/1641221 [==============================] - 0s 0us/step\n"
          ]
        },
        {
          "output_type": "execute_result",
          "data": {
            "text/plain": [
              "88584"
            ]
          },
          "metadata": {},
          "execution_count": 7
        }
      ]
    },
    {
      "cell_type": "code",
      "source": [
        "# 리뷰 최대 길이, 평균 길이\n",
        "max_len = max(len(s) for s in X_train)\n",
        "max_len, sum(map(len, X_train)) / len(X_train)"
      ],
      "metadata": {
        "colab": {
          "base_uri": "https://localhost:8080/"
        },
        "id": "Ccre7VB_3FV3",
        "outputId": "7d53edd3-356a-4c4e-9cad-ebc64a622021"
      },
      "execution_count": 8,
      "outputs": [
        {
          "output_type": "execute_result",
          "data": {
            "text/plain": [
              "(2494, 238.71364)"
            ]
          },
          "metadata": {},
          "execution_count": 8
        }
      ]
    },
    {
      "cell_type": "markdown",
      "source": [
        "## LSTM으로 감성분석\n",
        "- 단어 빈도 수 : 10,000개 (총 88,584)\n",
        "- 리뷰 최대 단어 길이 : 500개 (총 2,984)\n",
        "- 나중에 최대 데이터로 해보기\n",
        "    - train : 25,000, valid : 10,000, test : 15,000건"
      ],
      "metadata": {
        "id": "SS_YPefv3jG2"
      }
    },
    {
      "cell_type": "code",
      "source": [
        "from tensorflow.keras.models import Sequential, load_model\n",
        "from tensorflow.keras.layers import Embedding, LSTM, Dense \n",
        "from tensorflow.keras.callbacks import ModelCheckpoint, EarlyStopping\n",
        "from tensorflow.keras.preprocessing.sequence import pad_sequences\n",
        "from sklearn.model_selection import train_test_split"
      ],
      "metadata": {
        "id": "083RBj9c3ZZ7"
      },
      "execution_count": 4,
      "outputs": []
    },
    {
      "cell_type": "code",
      "source": [
        "# (X_train, y_train), (_, _) = imdb.load_data(num_words = 10000)\n",
        "num_words = 10000\n",
        "(X_train, y_train), (_, _) = imdb.load_data(num_words = num_words)"
      ],
      "metadata": {
        "id": "tz2Nl0Fe49Rr"
      },
      "execution_count": 5,
      "outputs": []
    },
    {
      "cell_type": "code",
      "source": [
        "X_train, X_test, y_train, y_test = train_test_split(\n",
        "    X_train, y_train, stratify = y_train, test_size = 0.2, random_state=seed\n",
        ")\n",
        "X_train.shape, X_test.shape, y_train.shape, y_test.shape"
      ],
      "metadata": {
        "colab": {
          "base_uri": "https://localhost:8080/"
        },
        "id": "lXL80kKW5Jj-",
        "outputId": "b91b6603-140a-4b27-8e48-eeef90143358"
      },
      "execution_count": 6,
      "outputs": [
        {
          "output_type": "execute_result",
          "data": {
            "text/plain": [
              "((20000,), (5000,), (20000,), (5000,))"
            ]
          },
          "metadata": {},
          "execution_count": 6
        }
      ]
    },
    {
      "cell_type": "markdown",
      "source": [
        "### pad_sequences"
      ],
      "metadata": {
        "id": "xkNWuXuP5r5K"
      }
    },
    {
      "cell_type": "code",
      "source": [
        "max_len = 500\n",
        "X_train = pad_sequences(X_train, maxlen = max_len)\n",
        "X_train[:5]"
      ],
      "metadata": {
        "colab": {
          "base_uri": "https://localhost:8080/"
        },
        "id": "uc0pcxFU5bQp",
        "outputId": "40dcd341-55ff-4f0f-ce31-a1880378b55b"
      },
      "execution_count": 7,
      "outputs": [
        {
          "output_type": "execute_result",
          "data": {
            "text/plain": [
              "array([[   0,    0,    0, ...,    6, 1805, 1437],\n",
              "       [   0,    0,    0, ...,   33,   32,  211],\n",
              "       [   0,    0,    0, ..., 6318, 1595,   38],\n",
              "       [  33,  175,    2, ...,    6,    2,  352],\n",
              "       [   0,    0,    0, ...,  661,    8, 3115]], dtype=int32)"
            ]
          },
          "metadata": {},
          "execution_count": 7
        }
      ]
    },
    {
      "cell_type": "code",
      "source": [
        "X_test = pad_sequences(X_test, maxlen = max_len)\n",
        "X_train.shape, X_test.shape"
      ],
      "metadata": {
        "colab": {
          "base_uri": "https://localhost:8080/"
        },
        "id": "Ruts7kn-53p9",
        "outputId": "d68c4613-dd37-4055-81c1-fa118e7d5d90"
      },
      "execution_count": 8,
      "outputs": [
        {
          "output_type": "execute_result",
          "data": {
            "text/plain": [
              "((20000, 500), (5000, 500))"
            ]
          },
          "metadata": {},
          "execution_count": 8
        }
      ]
    },
    {
      "cell_type": "markdown",
      "source": [
        "### model\n",
        "- 단어 빈도 수 : 10,000개 (총 88,584)\n",
        "- 리뷰 최대 단어 길이 : 500개 (총 2,984)"
      ],
      "metadata": {
        "id": "n14glAou6KI9"
      }
    },
    {
      "cell_type": "code",
      "source": [
        "model = Sequential([\n",
        "    Embedding(num_words, 64, input_length=max_len),\n",
        "    LSTM(128),\n",
        "    Dense(1, activation='sigmoid')\n",
        "])\n",
        "model.summary()"
      ],
      "metadata": {
        "colab": {
          "base_uri": "https://localhost:8080/"
        },
        "id": "lJBBPrRv5__t",
        "outputId": "357e9f7d-3bce-4d63-a799-262ce5f6380d"
      },
      "execution_count": 9,
      "outputs": [
        {
          "output_type": "stream",
          "name": "stdout",
          "text": [
            "Model: \"sequential\"\n",
            "_________________________________________________________________\n",
            " Layer (type)                Output Shape              Param #   \n",
            "=================================================================\n",
            " embedding (Embedding)       (None, 500, 64)           640000    \n",
            "                                                                 \n",
            " lstm (LSTM)                 (None, 128)               98816     \n",
            "                                                                 \n",
            " dense (Dense)               (None, 1)                 129       \n",
            "                                                                 \n",
            "=================================================================\n",
            "Total params: 738,945\n",
            "Trainable params: 738,945\n",
            "Non-trainable params: 0\n",
            "_________________________________________________________________\n"
          ]
        }
      ]
    },
    {
      "cell_type": "code",
      "source": [
        "model.compile('adam', 'binary_crossentropy', ['accuracy'])"
      ],
      "metadata": {
        "id": "wSKpQMH768qr"
      },
      "execution_count": 10,
      "outputs": []
    },
    {
      "cell_type": "code",
      "source": [
        "model_path = 'best-imbd-lstm.h5'\n",
        "mc = ModelCheckpoint(model_path, verbose=1, save_best_only=True)\n",
        "es = EarlyStopping(patience=5)"
      ],
      "metadata": {
        "id": "ry-rEWzE7G_T"
      },
      "execution_count": 11,
      "outputs": []
    },
    {
      "cell_type": "code",
      "source": [
        "hist = model.fit(X_train, y_train, validation_split = 0.2,\n",
        "                 epochs = 30, batch_size = 60, callbacks = [mc, es])"
      ],
      "metadata": {
        "colab": {
          "base_uri": "https://localhost:8080/"
        },
        "id": "KoRas3uD7QwH",
        "outputId": "8daa7e01-9c4a-4730-8317-ac58ab47ae19"
      },
      "execution_count": 12,
      "outputs": [
        {
          "output_type": "stream",
          "name": "stdout",
          "text": [
            "Epoch 1/30\n",
            "267/267 [==============================] - ETA: 0s - loss: 0.4722 - accuracy: 0.7721\n",
            "Epoch 1: val_loss improved from inf to 0.35232, saving model to best-imbd-lstm.h5\n",
            "267/267 [==============================] - 16s 33ms/step - loss: 0.4722 - accuracy: 0.7721 - val_loss: 0.3523 - val_accuracy: 0.8587\n",
            "Epoch 2/30\n",
            "267/267 [==============================] - ETA: 0s - loss: 0.5672 - accuracy: 0.7323\n",
            "Epoch 2: val_loss did not improve from 0.35232\n",
            "267/267 [==============================] - 8s 32ms/step - loss: 0.5672 - accuracy: 0.7323 - val_loss: 0.4382 - val_accuracy: 0.8075\n",
            "Epoch 3/30\n",
            "267/267 [==============================] - ETA: 0s - loss: 0.3860 - accuracy: 0.8231\n",
            "Epoch 3: val_loss did not improve from 0.35232\n",
            "267/267 [==============================] - 8s 31ms/step - loss: 0.3860 - accuracy: 0.8231 - val_loss: 0.5370 - val_accuracy: 0.7558\n",
            "Epoch 4/30\n",
            "267/267 [==============================] - ETA: 0s - loss: 0.3050 - accuracy: 0.8812\n",
            "Epoch 4: val_loss improved from 0.35232 to 0.33910, saving model to best-imbd-lstm.h5\n",
            "267/267 [==============================] - 9s 33ms/step - loss: 0.3050 - accuracy: 0.8812 - val_loss: 0.3391 - val_accuracy: 0.8590\n",
            "Epoch 5/30\n",
            "267/267 [==============================] - ETA: 0s - loss: 0.2089 - accuracy: 0.9247\n",
            "Epoch 5: val_loss did not improve from 0.33910\n",
            "267/267 [==============================] - 8s 31ms/step - loss: 0.2089 - accuracy: 0.9247 - val_loss: 0.3455 - val_accuracy: 0.8465\n",
            "Epoch 6/30\n",
            "267/267 [==============================] - ETA: 0s - loss: 0.1496 - accuracy: 0.9479\n",
            "Epoch 6: val_loss did not improve from 0.33910\n",
            "267/267 [==============================] - 8s 31ms/step - loss: 0.1496 - accuracy: 0.9479 - val_loss: 0.3502 - val_accuracy: 0.8813\n",
            "Epoch 7/30\n",
            "267/267 [==============================] - ETA: 0s - loss: 0.1150 - accuracy: 0.9616\n",
            "Epoch 7: val_loss did not improve from 0.33910\n",
            "267/267 [==============================] - 9s 32ms/step - loss: 0.1150 - accuracy: 0.9616 - val_loss: 0.3758 - val_accuracy: 0.8600\n",
            "Epoch 8/30\n",
            "267/267 [==============================] - ETA: 0s - loss: 0.1159 - accuracy: 0.9614\n",
            "Epoch 8: val_loss did not improve from 0.33910\n",
            "267/267 [==============================] - 9s 32ms/step - loss: 0.1159 - accuracy: 0.9614 - val_loss: 0.3906 - val_accuracy: 0.8792\n",
            "Epoch 9/30\n",
            "267/267 [==============================] - ETA: 0s - loss: 0.0777 - accuracy: 0.9755\n",
            "Epoch 9: val_loss did not improve from 0.33910\n",
            "267/267 [==============================] - 8s 31ms/step - loss: 0.0777 - accuracy: 0.9755 - val_loss: 0.4440 - val_accuracy: 0.8798\n"
          ]
        }
      ]
    },
    {
      "cell_type": "code",
      "source": [
        "best_model = load_model(model_path)\n",
        "best_model.evaluate(X_test, y_test)"
      ],
      "metadata": {
        "colab": {
          "base_uri": "https://localhost:8080/"
        },
        "id": "mO9D7-g87jXL",
        "outputId": "4c0cdfc4-d0d3-42e7-c7fd-43d56d0a531e"
      },
      "execution_count": 13,
      "outputs": [
        {
          "output_type": "stream",
          "name": "stdout",
          "text": [
            "157/157 [==============================] - 2s 12ms/step - loss: 0.3658 - accuracy: 0.8438\n"
          ]
        },
        {
          "output_type": "execute_result",
          "data": {
            "text/plain": [
              "[0.3658038377761841, 0.8438000082969666]"
            ]
          },
          "metadata": {},
          "execution_count": 13
        }
      ]
    },
    {
      "cell_type": "code",
      "source": [
        "y_acc = hist.history['accuracy']\n",
        "y_loss = hist.history['loss']\n",
        "xs = np.arange(1, len(y_acc)+1)\n",
        "\n",
        "plt.plot(xs, y_acc, label = 'acc')\n",
        "plt.plot(xs, y_loss, label = 'loss')\n",
        "plt.legend(), plt.grid(linestyle = ':')\n",
        "plt.show()"
      ],
      "metadata": {
        "colab": {
          "base_uri": "https://localhost:8080/",
          "height": 265
        },
        "id": "jPLGlj-D8Wl8",
        "outputId": "f2da2c79-7616-4ee6-df78-4ad76a454b62"
      },
      "execution_count": 14,
      "outputs": [
        {
          "output_type": "display_data",
          "data": {
            "text/plain": [
              "<Figure size 432x288 with 1 Axes>"
            ],
            "image/png": "[encoded data removed]"
          },
          "metadata": {
            "needs_background": "light"
          }
        }
      ]
    },
    {
      "cell_type": "code",
      "source": [
        ""
      ],
      "metadata": {
        "id": "mpbIxIt38mSY"
      },
      "execution_count": null,
      "outputs": []
    }
  ]
}