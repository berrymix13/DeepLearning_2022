{
  "nbformat": 4,
  "nbformat_minor": 0,
  "metadata": {
    "colab": {
      "name": "03_MLP.ipynb",
      "provenance": []
    },
    "kernelspec": {
      "name": "python3",
      "display_name": "Python 3"
    },
    "language_info": {
      "name": "python"
    },
    "accelerator": "GPU"
  },
  "cells": [
    {
      "cell_type": "markdown",
      "source": [
        "#MLP"
      ],
      "metadata": {
        "id": "h3tpf-oE3cmi"
      }
    },
    {
      "cell_type": "code",
      "execution_count": 1,
      "metadata": {
        "id": "gud3Ly0O3Q9r"
      },
      "outputs": [],
      "source": [
        "import numpy as np"
      ]
    },
    {
      "cell_type": "markdown",
      "source": [
        "## 1.1 AND Gate"
      ],
      "metadata": {
        "id": "syH9oso93tFC"
      }
    },
    {
      "cell_type": "code",
      "source": [
        "def AND_gate(x1, x2):\n",
        "    w = np.array([1,1])\n",
        "    b = -1\n",
        "    x = np.array([x1, x2])\n",
        "    sum = np.dot(w, x) + b\n",
        "    return 0 if sum <= 0 else 1"
      ],
      "metadata": {
        "id": "Dpo5ieAT4xRW"
      },
      "execution_count": 2,
      "outputs": []
    },
    {
      "cell_type": "code",
      "source": [
        "for x1, x2 in [(0,0),(0,1),(1,0),(1,1)]:\n",
        "    print(AND_gate(x1, x2))"
      ],
      "metadata": {
        "colab": {
          "base_uri": "https://localhost:8080/"
        },
        "id": "O8-8Q5KN5JO9",
        "outputId": "95c8cea0-d7c1-4ed6-b875-5629c1526571"
      },
      "execution_count": 3,
      "outputs": [
        {
          "output_type": "stream",
          "name": "stdout",
          "text": [
            "0\n",
            "0\n",
            "0\n",
            "1\n"
          ]
        }
      ]
    },
    {
      "cell_type": "markdown",
      "source": [
        "## OR_gate"
      ],
      "metadata": {
        "id": "rJnwL2a45TY3"
      }
    },
    {
      "cell_type": "code",
      "source": [
        "def OR_gate(x1, x2):\n",
        "    w = np.array([2,2])\n",
        "    b = -1\n",
        "    x = np.array([x1, x2])\n",
        "    sum = np.dot(w, x) + b\n",
        "    return 0 if sum <= 0 else 1"
      ],
      "metadata": {
        "id": "6oOpeGeS5NW8"
      },
      "execution_count": 4,
      "outputs": []
    },
    {
      "cell_type": "code",
      "source": [
        "for x1, x2 in [(0,0),(0,1),(1,0),(1,1)]:\n",
        "    print(OR_gate(x1, x2))"
      ],
      "metadata": {
        "colab": {
          "base_uri": "https://localhost:8080/"
        },
        "id": "qcCKrgYY5a88",
        "outputId": "75be26f0-6406-44af-9673-805ccab65888"
      },
      "execution_count": 5,
      "outputs": [
        {
          "output_type": "stream",
          "name": "stdout",
          "text": [
            "0\n",
            "1\n",
            "1\n",
            "1\n"
          ]
        }
      ]
    },
    {
      "cell_type": "markdown",
      "source": [
        "## NAND_gate"
      ],
      "metadata": {
        "id": "um4AK7iI5lHd"
      }
    },
    {
      "cell_type": "code",
      "source": [
        "def NAND_gate(x1, x2):\n",
        "    w = np.array([-2,-2])\n",
        "    b = 3\n",
        "    x = np.array([x1, x2])\n",
        "    sum = np.dot(w, x) + b\n",
        "    return 0 if sum <= 0 else 1"
      ],
      "metadata": {
        "id": "kkh-Igkq5h0E"
      },
      "execution_count": 6,
      "outputs": []
    },
    {
      "cell_type": "code",
      "source": [
        "for x1, x2 in [(0,0),(0,1),(1,0),(1,1)]:\n",
        "    print(NAND_gate(x1, x2))"
      ],
      "metadata": {
        "colab": {
          "base_uri": "https://localhost:8080/"
        },
        "id": "IRQO1G4T57x0",
        "outputId": "f3db23c3-98f1-4f12-b95d-8c4bc9391398"
      },
      "execution_count": 7,
      "outputs": [
        {
          "output_type": "stream",
          "name": "stdout",
          "text": [
            "1\n",
            "1\n",
            "1\n",
            "0\n"
          ]
        }
      ]
    },
    {
      "cell_type": "markdown",
      "source": [
        "## MLP"
      ],
      "metadata": {
        "id": "hu47Z13dN1tf"
      }
    },
    {
      "cell_type": "code",
      "source": [
        "n1 , n2 = [], []\n",
        "for x1, x2 in[(0,0),(0,1),(1,0),(1,1)]:\n",
        "    n1.append(NAND_gate(x1,x2))\n",
        "    n2.append(OR_gate(x1, x2))"
      ],
      "metadata": {
        "id": "-z3aFIco6ASN"
      },
      "execution_count": 8,
      "outputs": []
    },
    {
      "cell_type": "code",
      "source": [
        "n1, n2"
      ],
      "metadata": {
        "colab": {
          "base_uri": "https://localhost:8080/"
        },
        "id": "gGdGPq6BOINl",
        "outputId": "0a232022-47ac-4d1c-ff74-802c97ae4aee"
      },
      "execution_count": 9,
      "outputs": [
        {
          "output_type": "execute_result",
          "data": {
            "text/plain": [
              "([1, 1, 1, 0], [0, 1, 1, 1])"
            ]
          },
          "metadata": {},
          "execution_count": 9
        }
      ]
    },
    {
      "cell_type": "code",
      "source": [
        "for x1, x2 in zip(n1, n2):\n",
        "    print(AND_gate(x1, x2))"
      ],
      "metadata": {
        "colab": {
          "base_uri": "https://localhost:8080/"
        },
        "id": "kmWPyRvCOJEl",
        "outputId": "3572b566-d0e0-46cd-8ea4-d96a3b8fc61a"
      },
      "execution_count": 11,
      "outputs": [
        {
          "output_type": "stream",
          "name": "stdout",
          "text": [
            "0\n",
            "1\n",
            "1\n",
            "0\n"
          ]
        }
      ]
    },
    {
      "cell_type": "code",
      "source": [
        "def XOR_gate(x1, x2):\n",
        "    return AND_gate(NAND_gate(x1, x2), OR_gate(x1, x2))"
      ],
      "metadata": {
        "id": "H8BEgADhORKN"
      },
      "execution_count": 12,
      "outputs": []
    },
    {
      "cell_type": "code",
      "source": [
        "for x1, x2 in zip(n1, n2):\n",
        "    print(XOR_gate(x1, x2))"
      ],
      "metadata": {
        "colab": {
          "base_uri": "https://localhost:8080/"
        },
        "id": "itFioDNsOiMV",
        "outputId": "dbae34de-4560-482a-805b-5098ed8bdccb"
      },
      "execution_count": 13,
      "outputs": [
        {
          "output_type": "stream",
          "name": "stdout",
          "text": [
            "1\n",
            "0\n",
            "0\n",
            "1\n"
          ]
        }
      ]
    },
    {
      "cell_type": "code",
      "source": [
        "for x2, x2 in [(0,0),(0,1),(1,0),(1,1)]:\n",
        "    print(f'{x1 : 2d},{x2 : 2d}, {NAND_gate(x1, x2):2d}, {OR_gate(x1, x2):2d}, {XOR_gate(x1, x2):2d}')"
      ],
      "metadata": {
        "colab": {
          "base_uri": "https://localhost:8080/"
        },
        "id": "8KHGoa9KOn51",
        "outputId": "1ed51921-a426-441e-d460-5bf2e66f22ad"
      },
      "execution_count": 14,
      "outputs": [
        {
          "output_type": "stream",
          "name": "stdout",
          "text": [
            " 0, 0,  1,  0,  0\n",
            " 0, 1,  1,  1,  1\n",
            " 0, 0,  1,  0,  0\n",
            " 0, 1,  1,  1,  1\n"
          ]
        }
      ]
    },
    {
      "cell_type": "code",
      "source": [
        ""
      ],
      "metadata": {
        "id": "HcpyrCbTPJEG"
      },
      "execution_count": null,
      "outputs": []
    }
  ]
}