{
  "nbformat": 4,
  "nbformat_minor": 0,
  "metadata": {
    "colab": {
      "name": "01_Perceeptron.ipynb",
      "provenance": []
    },
    "kernelspec": {
      "name": "python3",
      "display_name": "Python 3"
    },
    "language_info": {
      "name": "python"
    },
    "accelerator": "GPU"
  },
  "cells": [
    {
      "cell_type": "markdown",
      "source": [
        "#1. Perceptron"
      ],
      "metadata": {
        "id": "h3tpf-oE3cmi"
      }
    },
    {
      "cell_type": "code",
      "execution_count": 1,
      "metadata": {
        "id": "gud3Ly0O3Q9r"
      },
      "outputs": [],
      "source": [
        "import numpy as np"
      ]
    },
    {
      "cell_type": "markdown",
      "source": [
        "## 1.1 AND Gate"
      ],
      "metadata": {
        "id": "syH9oso93tFC"
      }
    },
    {
      "cell_type": "code",
      "source": [
        "# 아직 황성화함수를 정하지 않음\n",
        "w = np.array([1,1])\n",
        "b = -1\n",
        "for x1, x2 in [(0,0),(0,1),(1,0),(1,1)]:\n",
        "    sum = w[0] * x1 + w[1] * x2 + b\n",
        "    print(sum)"
      ],
      "metadata": {
        "colab": {
          "base_uri": "https://localhost:8080/"
        },
        "id": "xXrymQ4N3gl-",
        "outputId": "1259fe51-0b61-49aa-d430-9455ae7af62c"
      },
      "execution_count": 2,
      "outputs": [
        {
          "output_type": "stream",
          "name": "stdout",
          "text": [
            "-1\n",
            "0\n",
            "0\n",
            "1\n"
          ]
        }
      ]
    },
    {
      "cell_type": "code",
      "source": [
        "# 활성화함수   : 계단함수\n",
        "for x1, x2 in [(0,0),(0,1),(1,0),(1,1)]:\n",
        "    sum = w[0] * x1 + w[1] * x2 + b\n",
        "    print(0 if sum <= 0 else 1)"
      ],
      "metadata": {
        "colab": {
          "base_uri": "https://localhost:8080/"
        },
        "id": "TneAaN6n4FT1",
        "outputId": "377a9c9a-9737-4b0c-e980-0cd95b4d04eb"
      },
      "execution_count": 5,
      "outputs": [
        {
          "output_type": "stream",
          "name": "stdout",
          "text": [
            "0\n",
            "0\n",
            "0\n",
            "1\n"
          ]
        }
      ]
    },
    {
      "cell_type": "code",
      "source": [
        "# 올바른 코딩 표기법\n",
        "for x1, x2 in [(0,0),(0,1),(1,0),(1,1)]:\n",
        "    x = np.array([x1, x2])\n",
        "    sum = np.dot(w, x) + b\n",
        "    print(0 if sum <= 0 else 1)"
      ],
      "metadata": {
        "colab": {
          "base_uri": "https://localhost:8080/"
        },
        "id": "28359QuP4UBu",
        "outputId": "764785f1-5466-491f-98aa-5106c4bd32f8"
      },
      "execution_count": 6,
      "outputs": [
        {
          "output_type": "stream",
          "name": "stdout",
          "text": [
            "0\n",
            "0\n",
            "0\n",
            "1\n"
          ]
        }
      ]
    },
    {
      "cell_type": "code",
      "source": [
        "def AND_gate(x1, x2):\n",
        "    w = np.array([1,1])\n",
        "    b = -1\n",
        "    x = np.array([x1, x2])\n",
        "    sum = np.dot(w, x) + b\n",
        "    return 0 if sum <= 0 else 1"
      ],
      "metadata": {
        "id": "Dpo5ieAT4xRW"
      },
      "execution_count": 13,
      "outputs": []
    },
    {
      "cell_type": "code",
      "source": [
        "for x1, x2 in [(0,0),(0,1),(1,0),(1,1)]:\n",
        "    print(AND_gate(x1, x2))"
      ],
      "metadata": {
        "colab": {
          "base_uri": "https://localhost:8080/"
        },
        "id": "O8-8Q5KN5JO9",
        "outputId": "ea890e18-4543-4320-f444-ab8fc3df7b8b"
      },
      "execution_count": 10,
      "outputs": [
        {
          "output_type": "stream",
          "name": "stdout",
          "text": [
            "0\n",
            "0\n",
            "0\n",
            "1\n"
          ]
        }
      ]
    },
    {
      "cell_type": "markdown",
      "source": [
        "## OR_gate"
      ],
      "metadata": {
        "id": "rJnwL2a45TY3"
      }
    },
    {
      "cell_type": "code",
      "source": [
        "def OR_gate(x1, x2):\n",
        "    w = np.array([2,2])\n",
        "    b = -1\n",
        "    x = np.array([x1, x2])\n",
        "    sum = np.dot(w, x) + b\n",
        "    return 0 if sum <= 0 else 1"
      ],
      "metadata": {
        "id": "6oOpeGeS5NW8"
      },
      "execution_count": 16,
      "outputs": []
    },
    {
      "cell_type": "code",
      "source": [
        "for x1, x2 in [(0,0),(0,1),(1,0),(1,1)]:\n",
        "    print(OR_gate(x1, x2))"
      ],
      "metadata": {
        "colab": {
          "base_uri": "https://localhost:8080/"
        },
        "id": "qcCKrgYY5a88",
        "outputId": "c4185cd5-a8cd-48e3-8010-53c30bd78c98"
      },
      "execution_count": 17,
      "outputs": [
        {
          "output_type": "stream",
          "name": "stdout",
          "text": [
            "0\n",
            "1\n",
            "1\n",
            "1\n"
          ]
        }
      ]
    },
    {
      "cell_type": "markdown",
      "source": [
        "## NAND_gate"
      ],
      "metadata": {
        "id": "um4AK7iI5lHd"
      }
    },
    {
      "cell_type": "code",
      "source": [
        "def NAND_gate(x1, x2):\n",
        "    w = np.array([-2,-2])\n",
        "    b = 3\n",
        "    x = np.array([x1, x2])\n",
        "    sum = np.dot(w, x) + b\n",
        "    return 0 if sum <= 0 else 1"
      ],
      "metadata": {
        "id": "kkh-Igkq5h0E"
      },
      "execution_count": 20,
      "outputs": []
    },
    {
      "cell_type": "code",
      "source": [
        "for x1, x2 in [(0,0),(0,1),(1,0),(1,1)]:\n",
        "    print(NAND_gate(x1, x2))"
      ],
      "metadata": {
        "colab": {
          "base_uri": "https://localhost:8080/"
        },
        "id": "IRQO1G4T57x0",
        "outputId": "93f10aa7-0705-4df4-da41-1826a7db676f"
      },
      "execution_count": 21,
      "outputs": [
        {
          "output_type": "stream",
          "name": "stdout",
          "text": [
            "1\n",
            "1\n",
            "1\n",
            "0\n"
          ]
        }
      ]
    },
    {
      "cell_type": "code",
      "source": [
        ""
      ],
      "metadata": {
        "id": "-z3aFIco6ASN"
      },
      "execution_count": null,
      "outputs": []
    }
  ]
}