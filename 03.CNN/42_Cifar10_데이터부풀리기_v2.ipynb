{
  "nbformat": 4,
  "nbformat_minor": 0,
  "metadata": {
    "colab": {
      "name": "42_Cifar10_데이터부풀리기_v2.ipynb",
      "provenance": [],
      "collapsed_sections": []
    },
    "kernelspec": {
      "name": "python3",
      "display_name": "Python 3"
    },
    "language_info": {
      "name": "python"
    },
    "accelerator": "GPU"
  },
  "cells": [
    {
      "cell_type": "markdown",
      "source": [
        "# Cifar-10 이미지 분류_v2\n",
        "- 데이터 부풀림"
      ],
      "metadata": {
        "id": "pbrTZpyyjR3n"
      }
    },
    {
      "cell_type": "code",
      "source": [
        "import tensorflow as tf\n",
        "import numpy as np\n",
        "seed = 2022\n",
        "tf.random.set_seed(seed)\n",
        "np.random.seed(seed)"
      ],
      "metadata": {
        "id": "oL0OkTPZBMLf"
      },
      "execution_count": 1,
      "outputs": []
    },
    {
      "cell_type": "code",
      "source": [
        "from PIL import Image\n",
        "import matplotlib.pyplot as plt"
      ],
      "metadata": {
        "id": "jIIWRUWajlAE"
      },
      "execution_count": 2,
      "outputs": []
    },
    {
      "cell_type": "markdown",
      "source": [
        "## 데이터 전처리"
      ],
      "metadata": {
        "id": "ynZT6ABUyq-B"
      }
    },
    {
      "cell_type": "code",
      "source": [
        "from tensorflow.keras.datasets import cifar10\n",
        "(X_train, y_train), (X_test, y_test) = cifar10.load_data()"
      ],
      "metadata": {
        "colab": {
          "base_uri": "https://localhost:8080/"
        },
        "id": "VkWrP8BFytZo",
        "outputId": "0fce6a88-f0c8-4757-90cd-963e562d02bc"
      },
      "execution_count": 3,
      "outputs": [
        {
          "output_type": "stream",
          "name": "stdout",
          "text": [
            "Downloading data from https://www.cs.toronto.edu/~kriz/cifar-10-python.tar.gz\n",
            "170500096/170498071 [==============================] - 2s 0us/step\n",
            "170508288/170498071 [==============================] - 2s 0us/step\n"
          ]
        }
      ]
    },
    {
      "cell_type": "code",
      "source": [
        "X_train.shape, y_train.shape, X_test.shape, y_test.shape"
      ],
      "metadata": {
        "colab": {
          "base_uri": "https://localhost:8080/"
        },
        "id": "KMGrJDWCzDd4",
        "outputId": "000a5e96-c269-48a8-cbb9-091f39c120d9"
      },
      "execution_count": 5,
      "outputs": [
        {
          "output_type": "execute_result",
          "data": {
            "text/plain": [
              "((50000, 32, 32, 3), (50000, 1), (10000, 32, 32, 3), (10000, 1))"
            ]
          },
          "metadata": {},
          "execution_count": 5
        }
      ]
    },
    {
      "cell_type": "code",
      "source": [
        "class_names = ['airplane', 'automobile', 'bird', 'cat', 'deer',\n",
        "               'dog', 'frog', 'horse', 'ship', 'truck']"
      ],
      "metadata": {
        "id": "WwVpwmw2zgiS"
      },
      "execution_count": 6,
      "outputs": []
    },
    {
      "cell_type": "code",
      "source": [
        "y_train[0][0]"
      ],
      "metadata": {
        "colab": {
          "base_uri": "https://localhost:8080/"
        },
        "id": "VlzTW-a4z9hP",
        "outputId": "1c3aa5ee-fbdf-438b-9b22-07422ca728d7"
      },
      "execution_count": 7,
      "outputs": [
        {
          "output_type": "execute_result",
          "data": {
            "text/plain": [
              "6"
            ]
          },
          "metadata": {},
          "execution_count": 7
        }
      ]
    },
    {
      "cell_type": "markdown",
      "source": [
        "- X_data Scaling"
      ],
      "metadata": {
        "id": "1sYJuXfc0SQY"
      }
    },
    {
      "cell_type": "code",
      "source": [
        "X_train = X_train/255.\n",
        "X_test = X_test/255."
      ],
      "metadata": {
        "id": "iFocHLcy0RH7"
      },
      "execution_count": 8,
      "outputs": []
    },
    {
      "cell_type": "markdown",
      "source": [
        "- y_data One-Hot Encoding"
      ],
      "metadata": {
        "id": "goTG6A-a0bSK"
      }
    },
    {
      "cell_type": "code",
      "source": [
        "from tensorflow.keras.utils import to_categorical\n",
        "Y_train = to_categorical(y_train)\n",
        "Y_test = to_categorical(y_test)"
      ],
      "metadata": {
        "id": "QsQzinrx0fIW"
      },
      "execution_count": 9,
      "outputs": []
    },
    {
      "cell_type": "markdown",
      "source": [
        "## 모델 정의 및 설정"
      ],
      "metadata": {
        "id": "JjO1SDmursbz"
      }
    },
    {
      "cell_type": "code",
      "source": [
        "from tensorflow.keras.models import Sequential, load_model\n",
        "from tensorflow.keras.layers import Dense, Conv2D, MaxPooling2D, Flatten, Dropout\n",
        "from tensorflow.keras.callbacks import ModelCheckpoint, EarlyStopping\n",
        "from tensorflow.keras.optimizers import RMSprop"
      ],
      "metadata": {
        "id": "AjLKZmfQBli5"
      },
      "execution_count": 10,
      "outputs": []
    },
    {
      "cell_type": "code",
      "source": [
        "model = Sequential([\n",
        "    Conv2D(32, (3, 3), input_shape = X_train.shape[1:],padding = 'same', activation = 'relu'),\n",
        "    Conv2D(32, (3, 3), activation = 'relu'),\n",
        "    MaxPooling2D(),\n",
        "    Dropout(0.25),\n",
        "    Conv2D(64, (3, 3), padding = 'same', activation = 'relu'),\n",
        "    Conv2D(64, (3, 3), activation = 'relu'),\n",
        "    MaxPooling2D(),\n",
        "    Dropout(0.25),\n",
        "    Flatten(),\n",
        "    Dense(512, activation='relu'),\n",
        "    Dropout(0.5),\n",
        "    Dense(10, activation = 'softmax')\n",
        "])\n",
        "model.summary()"
      ],
      "metadata": {
        "colab": {
          "base_uri": "https://localhost:8080/"
        },
        "id": "-pBxzBvAB6J6",
        "outputId": "d306fef4-e73e-4121-a087-ec6e775b818a"
      },
      "execution_count": 11,
      "outputs": [
        {
          "output_type": "stream",
          "name": "stdout",
          "text": [
            "Model: \"sequential\"\n",
            "_________________________________________________________________\n",
            " Layer (type)                Output Shape              Param #   \n",
            "=================================================================\n",
            " conv2d (Conv2D)             (None, 32, 32, 32)        896       \n",
            "                                                                 \n",
            " conv2d_1 (Conv2D)           (None, 30, 30, 32)        9248      \n",
            "                                                                 \n",
            " max_pooling2d (MaxPooling2D  (None, 15, 15, 32)       0         \n",
            " )                                                               \n",
            "                                                                 \n",
            " dropout (Dropout)           (None, 15, 15, 32)        0         \n",
            "                                                                 \n",
            " conv2d_2 (Conv2D)           (None, 15, 15, 64)        18496     \n",
            "                                                                 \n",
            " conv2d_3 (Conv2D)           (None, 13, 13, 64)        36928     \n",
            "                                                                 \n",
            " max_pooling2d_1 (MaxPooling  (None, 6, 6, 64)         0         \n",
            " 2D)                                                             \n",
            "                                                                 \n",
            " dropout_1 (Dropout)         (None, 6, 6, 64)          0         \n",
            "                                                                 \n",
            " flatten (Flatten)           (None, 2304)              0         \n",
            "                                                                 \n",
            " dense (Dense)               (None, 512)               1180160   \n",
            "                                                                 \n",
            " dropout_2 (Dropout)         (None, 512)               0         \n",
            "                                                                 \n",
            " dense_1 (Dense)             (None, 10)                5130      \n",
            "                                                                 \n",
            "=================================================================\n",
            "Total params: 1,250,858\n",
            "Trainable params: 1,250,858\n",
            "Non-trainable params: 0\n",
            "_________________________________________________________________\n"
          ]
        }
      ]
    },
    {
      "cell_type": "code",
      "source": [
        "model.compile(RMSprop(learning_rate=0.0001, decay = 1e-6), \n",
        "              loss = 'categorical_crossentropy', \n",
        "              metrics = ['accuracy'])"
      ],
      "metadata": {
        "id": "g4k3LbCsFhFf"
      },
      "execution_count": 12,
      "outputs": []
    },
    {
      "cell_type": "code",
      "source": [
        "model_path = 'best-cifar10-v2.h5'\n",
        "mc = ModelCheckpoint(model_path, save_best_only=True, verbose=1)\n",
        "es = EarlyStopping(patience = 10)"
      ],
      "metadata": {
        "id": "HH23XXvN3GAi"
      },
      "execution_count": 13,
      "outputs": []
    },
    {
      "cell_type": "markdown",
      "source": [
        "### 데이터 부풀리기"
      ],
      "metadata": {
        "id": "kPC6iDN28yfT"
      }
    },
    {
      "cell_type": "code",
      "source": [
        "from sklearn.model_selection import train_test_split\n",
        "x_train, X_valid, y_train, Y_valid = train_test_split(\n",
        "    X_train, Y_train, stratify = Y_train, test_size = 0.2, random_state = seed\n",
        ")"
      ],
      "metadata": {
        "id": "oZIfgUyg80h-"
      },
      "execution_count": 14,
      "outputs": []
    },
    {
      "cell_type": "code",
      "source": [
        "from tensorflow.keras.preprocessing.image import ImageDataGenerator\n",
        "\n",
        "datagen = ImageDataGenerator(\n",
        "    rotation_range=10,          # randomly rotate images in the range 15 degree\n",
        "    width_shift_range=0.1,      # randomly shift images horizontally \n",
        "    height_shift_range=0.1,     # randomly shift images vertically\n",
        "    shear_range=0.1,            # 도형의 기울기\n",
        "    zoom_range=[0.8,1.2],       # 0.8~1.2 배 크기로 임의로 확대/축소\n",
        "    horizontal_flip=True,       # randomly flip images\n",
        "    vertical_flip=False,        # randomly flip images\n",
        "    fill_mode='nearest'         # set mode for filling points outside the input boundaries\n",
        ")"
      ],
      "metadata": {
        "id": "u09x-4KUAYop"
      },
      "execution_count": 15,
      "outputs": []
    },
    {
      "cell_type": "code",
      "source": [
        "datagen.fit(X_train)"
      ],
      "metadata": {
        "id": "vIBAwzgnAt85"
      },
      "execution_count": 16,
      "outputs": []
    },
    {
      "cell_type": "code",
      "source": [
        "hist = model.fit(\n",
        "    datagen.flow(X_train, Y_train, batch_size=32),\n",
        "    validation_data=(X_valid, Y_valid),\n",
        "    epochs=100, callbacks=[mc, es]\n",
        ")"
      ],
      "metadata": {
        "colab": {
          "base_uri": "https://localhost:8080/"
        },
        "id": "L9Ee2n0g2j-2",
        "outputId": "221a2145-85e8-4d20-9483-8cf81ca1e869"
      },
      "execution_count": 17,
      "outputs": [
        {
          "output_type": "stream",
          "name": "stdout",
          "text": [
            "Epoch 1/100\n",
            "1562/1563 [============================>.] - ETA: 0s - loss: 1.8557 - accuracy: 0.3151\n",
            "Epoch 1: val_loss improved from inf to 1.58115, saving model to best-cifar10-v2.h5\n",
            "1563/1563 [==============================] - 43s 19ms/step - loss: 1.8555 - accuracy: 0.3153 - val_loss: 1.5811 - val_accuracy: 0.4209\n",
            "Epoch 2/100\n",
            "1562/1563 [============================>.] - ETA: 0s - loss: 1.5931 - accuracy: 0.4182\n",
            "Epoch 2: val_loss improved from 1.58115 to 1.42637, saving model to best-cifar10-v2.h5\n",
            "1563/1563 [==============================] - 31s 20ms/step - loss: 1.5931 - accuracy: 0.4182 - val_loss: 1.4264 - val_accuracy: 0.4683\n",
            "Epoch 3/100\n",
            "1562/1563 [============================>.] - ETA: 0s - loss: 1.4899 - accuracy: 0.4641\n",
            "Epoch 3: val_loss improved from 1.42637 to 1.33501, saving model to best-cifar10-v2.h5\n",
            "1563/1563 [==============================] - 30s 19ms/step - loss: 1.4899 - accuracy: 0.4641 - val_loss: 1.3350 - val_accuracy: 0.5271\n",
            "Epoch 4/100\n",
            "1562/1563 [============================>.] - ETA: 0s - loss: 1.4066 - accuracy: 0.4958\n",
            "Epoch 4: val_loss improved from 1.33501 to 1.19795, saving model to best-cifar10-v2.h5\n",
            "1563/1563 [==============================] - 30s 19ms/step - loss: 1.4066 - accuracy: 0.4959 - val_loss: 1.1980 - val_accuracy: 0.5739\n",
            "Epoch 5/100\n",
            "1561/1563 [============================>.] - ETA: 0s - loss: 1.3448 - accuracy: 0.5200\n",
            "Epoch 5: val_loss did not improve from 1.19795\n",
            "1563/1563 [==============================] - 30s 19ms/step - loss: 1.3447 - accuracy: 0.5200 - val_loss: 1.2542 - val_accuracy: 0.5574\n",
            "Epoch 6/100\n",
            "1561/1563 [============================>.] - ETA: 0s - loss: 1.2883 - accuracy: 0.5415\n",
            "Epoch 6: val_loss improved from 1.19795 to 1.06824, saving model to best-cifar10-v2.h5\n",
            "1563/1563 [==============================] - 30s 19ms/step - loss: 1.2888 - accuracy: 0.5413 - val_loss: 1.0682 - val_accuracy: 0.6210\n",
            "Epoch 7/100\n",
            "1561/1563 [============================>.] - ETA: 0s - loss: 1.2442 - accuracy: 0.5599\n",
            "Epoch 7: val_loss did not improve from 1.06824\n",
            "1563/1563 [==============================] - 30s 19ms/step - loss: 1.2438 - accuracy: 0.5600 - val_loss: 1.0981 - val_accuracy: 0.6065\n",
            "Epoch 8/100\n",
            "1562/1563 [============================>.] - ETA: 0s - loss: 1.2052 - accuracy: 0.5727\n",
            "Epoch 8: val_loss did not improve from 1.06824\n",
            "1563/1563 [==============================] - 30s 19ms/step - loss: 1.2053 - accuracy: 0.5727 - val_loss: 1.0822 - val_accuracy: 0.6179\n",
            "Epoch 9/100\n",
            "1563/1563 [==============================] - ETA: 0s - loss: 1.1776 - accuracy: 0.5807\n",
            "Epoch 9: val_loss improved from 1.06824 to 0.98092, saving model to best-cifar10-v2.h5\n",
            "1563/1563 [==============================] - 30s 19ms/step - loss: 1.1776 - accuracy: 0.5807 - val_loss: 0.9809 - val_accuracy: 0.6490\n",
            "Epoch 10/100\n",
            "1563/1563 [==============================] - ETA: 0s - loss: 1.1537 - accuracy: 0.5938\n",
            "Epoch 10: val_loss did not improve from 0.98092\n",
            "1563/1563 [==============================] - 30s 19ms/step - loss: 1.1537 - accuracy: 0.5938 - val_loss: 0.9926 - val_accuracy: 0.6497\n",
            "Epoch 11/100\n",
            "1563/1563 [==============================] - ETA: 0s - loss: 1.1254 - accuracy: 0.6040\n",
            "Epoch 11: val_loss did not improve from 0.98092\n",
            "1563/1563 [==============================] - 29s 19ms/step - loss: 1.1254 - accuracy: 0.6040 - val_loss: 1.0533 - val_accuracy: 0.6340\n",
            "Epoch 12/100\n",
            "1561/1563 [============================>.] - ETA: 0s - loss: 1.0984 - accuracy: 0.6116\n",
            "Epoch 12: val_loss improved from 0.98092 to 0.92133, saving model to best-cifar10-v2.h5\n",
            "1563/1563 [==============================] - 29s 19ms/step - loss: 1.0980 - accuracy: 0.6116 - val_loss: 0.9213 - val_accuracy: 0.6734\n",
            "Epoch 13/100\n",
            "1563/1563 [==============================] - ETA: 0s - loss: 1.0743 - accuracy: 0.6222\n",
            "Epoch 13: val_loss improved from 0.92133 to 0.88988, saving model to best-cifar10-v2.h5\n",
            "1563/1563 [==============================] - 30s 19ms/step - loss: 1.0743 - accuracy: 0.6222 - val_loss: 0.8899 - val_accuracy: 0.6836\n",
            "Epoch 14/100\n",
            "1562/1563 [============================>.] - ETA: 0s - loss: 1.0664 - accuracy: 0.6245\n",
            "Epoch 14: val_loss improved from 0.88988 to 0.88706, saving model to best-cifar10-v2.h5\n",
            "1563/1563 [==============================] - 30s 19ms/step - loss: 1.0664 - accuracy: 0.6245 - val_loss: 0.8871 - val_accuracy: 0.6885\n",
            "Epoch 15/100\n",
            "1562/1563 [============================>.] - ETA: 0s - loss: 1.0395 - accuracy: 0.6366\n",
            "Epoch 15: val_loss improved from 0.88706 to 0.87217, saving model to best-cifar10-v2.h5\n",
            "1563/1563 [==============================] - 30s 19ms/step - loss: 1.0394 - accuracy: 0.6366 - val_loss: 0.8722 - val_accuracy: 0.6915\n",
            "Epoch 16/100\n",
            "1563/1563 [==============================] - ETA: 0s - loss: 1.0269 - accuracy: 0.6410\n",
            "Epoch 16: val_loss improved from 0.87217 to 0.84066, saving model to best-cifar10-v2.h5\n",
            "1563/1563 [==============================] - 30s 19ms/step - loss: 1.0269 - accuracy: 0.6410 - val_loss: 0.8407 - val_accuracy: 0.7054\n",
            "Epoch 17/100\n",
            "1562/1563 [============================>.] - ETA: 0s - loss: 1.0112 - accuracy: 0.6473\n",
            "Epoch 17: val_loss did not improve from 0.84066\n",
            "1563/1563 [==============================] - 30s 19ms/step - loss: 1.0111 - accuracy: 0.6473 - val_loss: 0.9166 - val_accuracy: 0.6844\n",
            "Epoch 18/100\n",
            "1562/1563 [============================>.] - ETA: 0s - loss: 0.9978 - accuracy: 0.6537\n",
            "Epoch 18: val_loss did not improve from 0.84066\n",
            "1563/1563 [==============================] - 29s 19ms/step - loss: 0.9975 - accuracy: 0.6538 - val_loss: 0.8496 - val_accuracy: 0.7061\n",
            "Epoch 19/100\n",
            "1562/1563 [============================>.] - ETA: 0s - loss: 0.9895 - accuracy: 0.6547\n",
            "Epoch 19: val_loss improved from 0.84066 to 0.80919, saving model to best-cifar10-v2.h5\n",
            "1563/1563 [==============================] - 30s 19ms/step - loss: 0.9897 - accuracy: 0.6547 - val_loss: 0.8092 - val_accuracy: 0.7211\n",
            "Epoch 20/100\n",
            "1561/1563 [============================>.] - ETA: 0s - loss: 0.9824 - accuracy: 0.6593\n",
            "Epoch 20: val_loss improved from 0.80919 to 0.77007, saving model to best-cifar10-v2.h5\n",
            "1563/1563 [==============================] - 30s 19ms/step - loss: 0.9827 - accuracy: 0.6592 - val_loss: 0.7701 - val_accuracy: 0.7334\n",
            "Epoch 21/100\n",
            "1563/1563 [==============================] - ETA: 0s - loss: 0.9743 - accuracy: 0.6620\n",
            "Epoch 21: val_loss did not improve from 0.77007\n",
            "1563/1563 [==============================] - 30s 19ms/step - loss: 0.9743 - accuracy: 0.6620 - val_loss: 0.8866 - val_accuracy: 0.6946\n",
            "Epoch 22/100\n",
            "1562/1563 [============================>.] - ETA: 0s - loss: 0.9667 - accuracy: 0.6671\n",
            "Epoch 22: val_loss did not improve from 0.77007\n",
            "1563/1563 [==============================] - 30s 19ms/step - loss: 0.9667 - accuracy: 0.6671 - val_loss: 0.8181 - val_accuracy: 0.7174\n",
            "Epoch 23/100\n",
            "1561/1563 [============================>.] - ETA: 0s - loss: 0.9571 - accuracy: 0.6688\n",
            "Epoch 23: val_loss did not improve from 0.77007\n",
            "1563/1563 [==============================] - 30s 19ms/step - loss: 0.9569 - accuracy: 0.6689 - val_loss: 0.7979 - val_accuracy: 0.7251\n",
            "Epoch 24/100\n",
            "1562/1563 [============================>.] - ETA: 0s - loss: 0.9491 - accuracy: 0.6714\n",
            "Epoch 24: val_loss improved from 0.77007 to 0.75640, saving model to best-cifar10-v2.h5\n",
            "1563/1563 [==============================] - 29s 19ms/step - loss: 0.9490 - accuracy: 0.6714 - val_loss: 0.7564 - val_accuracy: 0.7400\n",
            "Epoch 25/100\n",
            "1561/1563 [============================>.] - ETA: 0s - loss: 0.9417 - accuracy: 0.6750\n",
            "Epoch 25: val_loss improved from 0.75640 to 0.72442, saving model to best-cifar10-v2.h5\n",
            "1563/1563 [==============================] - 30s 19ms/step - loss: 0.9418 - accuracy: 0.6749 - val_loss: 0.7244 - val_accuracy: 0.7501\n",
            "Epoch 26/100\n",
            "1563/1563 [==============================] - ETA: 0s - loss: 0.9313 - accuracy: 0.6757\n",
            "Epoch 26: val_loss did not improve from 0.72442\n",
            "1563/1563 [==============================] - 30s 19ms/step - loss: 0.9313 - accuracy: 0.6757 - val_loss: 0.7327 - val_accuracy: 0.7442\n",
            "Epoch 27/100\n",
            "1563/1563 [==============================] - ETA: 0s - loss: 0.9298 - accuracy: 0.6775\n",
            "Epoch 27: val_loss did not improve from 0.72442\n",
            "1563/1563 [==============================] - 30s 19ms/step - loss: 0.9298 - accuracy: 0.6775 - val_loss: 0.7683 - val_accuracy: 0.7306\n",
            "Epoch 28/100\n",
            "1562/1563 [============================>.] - ETA: 0s - loss: 0.9256 - accuracy: 0.6806\n",
            "Epoch 28: val_loss did not improve from 0.72442\n",
            "1563/1563 [==============================] - 30s 19ms/step - loss: 0.9256 - accuracy: 0.6806 - val_loss: 0.7614 - val_accuracy: 0.7356\n",
            "Epoch 29/100\n",
            "1561/1563 [============================>.] - ETA: 0s - loss: 0.9175 - accuracy: 0.6816\n",
            "Epoch 29: val_loss did not improve from 0.72442\n",
            "1563/1563 [==============================] - 30s 19ms/step - loss: 0.9175 - accuracy: 0.6816 - val_loss: 0.7256 - val_accuracy: 0.7495\n",
            "Epoch 30/100\n",
            "1562/1563 [============================>.] - ETA: 0s - loss: 0.9195 - accuracy: 0.6872\n",
            "Epoch 30: val_loss improved from 0.72442 to 0.71942, saving model to best-cifar10-v2.h5\n",
            "1563/1563 [==============================] - 29s 19ms/step - loss: 0.9194 - accuracy: 0.6872 - val_loss: 0.7194 - val_accuracy: 0.7551\n",
            "Epoch 31/100\n",
            "1561/1563 [============================>.] - ETA: 0s - loss: 0.9076 - accuracy: 0.6867\n",
            "Epoch 31: val_loss did not improve from 0.71942\n",
            "1563/1563 [==============================] - 30s 19ms/step - loss: 0.9079 - accuracy: 0.6865 - val_loss: 0.7709 - val_accuracy: 0.7336\n",
            "Epoch 32/100\n",
            "1563/1563 [==============================] - ETA: 0s - loss: 0.9042 - accuracy: 0.6904\n",
            "Epoch 32: val_loss did not improve from 0.71942\n",
            "1563/1563 [==============================] - 30s 19ms/step - loss: 0.9042 - accuracy: 0.6904 - val_loss: 0.7337 - val_accuracy: 0.7494\n",
            "Epoch 33/100\n",
            "1561/1563 [============================>.] - ETA: 0s - loss: 0.9013 - accuracy: 0.6880\n",
            "Epoch 33: val_loss did not improve from 0.71942\n",
            "1563/1563 [==============================] - 30s 19ms/step - loss: 0.9016 - accuracy: 0.6880 - val_loss: 0.7752 - val_accuracy: 0.7348\n",
            "Epoch 34/100\n",
            "1562/1563 [============================>.] - ETA: 0s - loss: 0.8924 - accuracy: 0.6919\n",
            "Epoch 34: val_loss improved from 0.71942 to 0.71734, saving model to best-cifar10-v2.h5\n",
            "1563/1563 [==============================] - 30s 19ms/step - loss: 0.8923 - accuracy: 0.6919 - val_loss: 0.7173 - val_accuracy: 0.7602\n",
            "Epoch 35/100\n",
            "1563/1563 [==============================] - ETA: 0s - loss: 0.8999 - accuracy: 0.6908\n",
            "Epoch 35: val_loss improved from 0.71734 to 0.70239, saving model to best-cifar10-v2.h5\n",
            "1563/1563 [==============================] - 30s 19ms/step - loss: 0.8999 - accuracy: 0.6908 - val_loss: 0.7024 - val_accuracy: 0.7620\n",
            "Epoch 36/100\n",
            "1562/1563 [============================>.] - ETA: 0s - loss: 0.8942 - accuracy: 0.6918\n",
            "Epoch 36: val_loss did not improve from 0.70239\n",
            "1563/1563 [==============================] - 30s 19ms/step - loss: 0.8941 - accuracy: 0.6918 - val_loss: 0.7130 - val_accuracy: 0.7625\n",
            "Epoch 37/100\n",
            "1563/1563 [==============================] - ETA: 0s - loss: 0.8900 - accuracy: 0.6967\n",
            "Epoch 37: val_loss did not improve from 0.70239\n",
            "1563/1563 [==============================] - 30s 19ms/step - loss: 0.8900 - accuracy: 0.6967 - val_loss: 0.7251 - val_accuracy: 0.7499\n",
            "Epoch 38/100\n",
            "1561/1563 [============================>.] - ETA: 0s - loss: 0.8780 - accuracy: 0.6964\n",
            "Epoch 38: val_loss did not improve from 0.70239\n",
            "1563/1563 [==============================] - 30s 19ms/step - loss: 0.8779 - accuracy: 0.6964 - val_loss: 0.7865 - val_accuracy: 0.7373\n",
            "Epoch 39/100\n",
            "1562/1563 [============================>.] - ETA: 0s - loss: 0.8815 - accuracy: 0.7000\n",
            "Epoch 39: val_loss improved from 0.70239 to 0.69994, saving model to best-cifar10-v2.h5\n",
            "1563/1563 [==============================] - 30s 19ms/step - loss: 0.8814 - accuracy: 0.7001 - val_loss: 0.6999 - val_accuracy: 0.7646\n",
            "Epoch 40/100\n",
            "1562/1563 [============================>.] - ETA: 0s - loss: 0.8794 - accuracy: 0.7008\n",
            "Epoch 40: val_loss did not improve from 0.69994\n",
            "1563/1563 [==============================] - 30s 19ms/step - loss: 0.8796 - accuracy: 0.7008 - val_loss: 0.7035 - val_accuracy: 0.7573\n",
            "Epoch 41/100\n",
            "1562/1563 [============================>.] - ETA: 0s - loss: 0.8702 - accuracy: 0.7023\n",
            "Epoch 41: val_loss did not improve from 0.69994\n",
            "1563/1563 [==============================] - 30s 19ms/step - loss: 0.8701 - accuracy: 0.7023 - val_loss: 0.7133 - val_accuracy: 0.7562\n",
            "Epoch 42/100\n",
            "1563/1563 [==============================] - ETA: 0s - loss: 0.8751 - accuracy: 0.7005\n",
            "Epoch 42: val_loss improved from 0.69994 to 0.68390, saving model to best-cifar10-v2.h5\n",
            "1563/1563 [==============================] - 30s 19ms/step - loss: 0.8751 - accuracy: 0.7005 - val_loss: 0.6839 - val_accuracy: 0.7648\n",
            "Epoch 43/100\n",
            "1561/1563 [============================>.] - ETA: 0s - loss: 0.8655 - accuracy: 0.7035\n",
            "Epoch 43: val_loss did not improve from 0.68390\n",
            "1563/1563 [==============================] - 30s 19ms/step - loss: 0.8656 - accuracy: 0.7035 - val_loss: 0.7608 - val_accuracy: 0.7506\n",
            "Epoch 44/100\n",
            "1561/1563 [============================>.] - ETA: 0s - loss: 0.8698 - accuracy: 0.7031\n",
            "Epoch 44: val_loss did not improve from 0.68390\n",
            "1563/1563 [==============================] - 30s 19ms/step - loss: 0.8695 - accuracy: 0.7032 - val_loss: 0.7002 - val_accuracy: 0.7627\n",
            "Epoch 45/100\n",
            "1561/1563 [============================>.] - ETA: 0s - loss: 0.8650 - accuracy: 0.7040\n",
            "Epoch 45: val_loss did not improve from 0.68390\n",
            "1563/1563 [==============================] - 30s 19ms/step - loss: 0.8651 - accuracy: 0.7040 - val_loss: 0.6886 - val_accuracy: 0.7672\n",
            "Epoch 46/100\n",
            "1563/1563 [==============================] - ETA: 0s - loss: 0.8669 - accuracy: 0.7065\n",
            "Epoch 46: val_loss did not improve from 0.68390\n",
            "1563/1563 [==============================] - 30s 19ms/step - loss: 0.8669 - accuracy: 0.7065 - val_loss: 0.8699 - val_accuracy: 0.7163\n",
            "Epoch 47/100\n",
            "1563/1563 [==============================] - ETA: 0s - loss: 0.8537 - accuracy: 0.7085\n",
            "Epoch 47: val_loss improved from 0.68390 to 0.67170, saving model to best-cifar10-v2.h5\n",
            "1563/1563 [==============================] - 30s 19ms/step - loss: 0.8537 - accuracy: 0.7085 - val_loss: 0.6717 - val_accuracy: 0.7721\n",
            "Epoch 48/100\n",
            "1561/1563 [============================>.] - ETA: 0s - loss: 0.8590 - accuracy: 0.7076\n",
            "Epoch 48: val_loss did not improve from 0.67170\n",
            "1563/1563 [==============================] - 30s 19ms/step - loss: 0.8590 - accuracy: 0.7076 - val_loss: 0.7376 - val_accuracy: 0.7437\n",
            "Epoch 49/100\n",
            "1561/1563 [============================>.] - ETA: 0s - loss: 0.8555 - accuracy: 0.7095\n",
            "Epoch 49: val_loss improved from 0.67170 to 0.63652, saving model to best-cifar10-v2.h5\n",
            "1563/1563 [==============================] - 30s 19ms/step - loss: 0.8554 - accuracy: 0.7095 - val_loss: 0.6365 - val_accuracy: 0.7838\n",
            "Epoch 50/100\n",
            "1561/1563 [============================>.] - ETA: 0s - loss: 0.8568 - accuracy: 0.7072\n",
            "Epoch 50: val_loss did not improve from 0.63652\n",
            "1563/1563 [==============================] - 30s 19ms/step - loss: 0.8567 - accuracy: 0.7072 - val_loss: 0.6906 - val_accuracy: 0.7663\n",
            "Epoch 51/100\n",
            "1563/1563 [==============================] - ETA: 0s - loss: 0.8526 - accuracy: 0.7095\n",
            "Epoch 51: val_loss did not improve from 0.63652\n",
            "1563/1563 [==============================] - 30s 19ms/step - loss: 0.8526 - accuracy: 0.7095 - val_loss: 0.6787 - val_accuracy: 0.7733\n",
            "Epoch 52/100\n",
            "1563/1563 [==============================] - ETA: 0s - loss: 0.8566 - accuracy: 0.7068\n",
            "Epoch 52: val_loss did not improve from 0.63652\n",
            "1563/1563 [==============================] - 30s 19ms/step - loss: 0.8566 - accuracy: 0.7068 - val_loss: 0.6494 - val_accuracy: 0.7796\n",
            "Epoch 53/100\n",
            "1563/1563 [==============================] - ETA: 0s - loss: 0.8495 - accuracy: 0.7120\n",
            "Epoch 53: val_loss did not improve from 0.63652\n",
            "1563/1563 [==============================] - 30s 19ms/step - loss: 0.8495 - accuracy: 0.7120 - val_loss: 0.7237 - val_accuracy: 0.7491\n",
            "Epoch 54/100\n",
            "1561/1563 [============================>.] - ETA: 0s - loss: 0.8567 - accuracy: 0.7093\n",
            "Epoch 54: val_loss did not improve from 0.63652\n",
            "1563/1563 [==============================] - 30s 19ms/step - loss: 0.8568 - accuracy: 0.7093 - val_loss: 0.6422 - val_accuracy: 0.7871\n",
            "Epoch 55/100\n",
            "1562/1563 [============================>.] - ETA: 0s - loss: 0.8471 - accuracy: 0.7104\n",
            "Epoch 55: val_loss did not improve from 0.63652\n",
            "1563/1563 [==============================] - 30s 19ms/step - loss: 0.8471 - accuracy: 0.7104 - val_loss: 0.7724 - val_accuracy: 0.7473\n",
            "Epoch 56/100\n",
            "1562/1563 [============================>.] - ETA: 0s - loss: 0.8478 - accuracy: 0.7112\n",
            "Epoch 56: val_loss did not improve from 0.63652\n",
            "1563/1563 [==============================] - 30s 19ms/step - loss: 0.8480 - accuracy: 0.7112 - val_loss: 0.6813 - val_accuracy: 0.7717\n",
            "Epoch 57/100\n",
            "1562/1563 [============================>.] - ETA: 0s - loss: 0.8463 - accuracy: 0.7120\n",
            "Epoch 57: val_loss did not improve from 0.63652\n",
            "1563/1563 [==============================] - 30s 19ms/step - loss: 0.8462 - accuracy: 0.7120 - val_loss: 0.6854 - val_accuracy: 0.7723\n",
            "Epoch 58/100\n",
            "1563/1563 [==============================] - ETA: 0s - loss: 0.8476 - accuracy: 0.7140\n",
            "Epoch 58: val_loss did not improve from 0.63652\n",
            "1563/1563 [==============================] - 30s 19ms/step - loss: 0.8476 - accuracy: 0.7140 - val_loss: 0.6931 - val_accuracy: 0.7643\n",
            "Epoch 59/100\n",
            "1563/1563 [==============================] - ETA: 0s - loss: 0.8340 - accuracy: 0.7164\n",
            "Epoch 59: val_loss improved from 0.63652 to 0.60888, saving model to best-cifar10-v2.h5\n",
            "1563/1563 [==============================] - 30s 19ms/step - loss: 0.8340 - accuracy: 0.7164 - val_loss: 0.6089 - val_accuracy: 0.7945\n",
            "Epoch 60/100\n",
            "1562/1563 [============================>.] - ETA: 0s - loss: 0.8462 - accuracy: 0.7155\n",
            "Epoch 60: val_loss did not improve from 0.60888\n",
            "1563/1563 [==============================] - 30s 19ms/step - loss: 0.8462 - accuracy: 0.7155 - val_loss: 0.6538 - val_accuracy: 0.7770\n",
            "Epoch 61/100\n",
            "1562/1563 [============================>.] - ETA: 0s - loss: 0.8456 - accuracy: 0.7148\n",
            "Epoch 61: val_loss did not improve from 0.60888\n",
            "1563/1563 [==============================] - 30s 19ms/step - loss: 0.8456 - accuracy: 0.7149 - val_loss: 0.7030 - val_accuracy: 0.7643\n",
            "Epoch 62/100\n",
            "1563/1563 [==============================] - ETA: 0s - loss: 0.8416 - accuracy: 0.7159\n",
            "Epoch 62: val_loss did not improve from 0.60888\n",
            "1563/1563 [==============================] - 30s 19ms/step - loss: 0.8416 - accuracy: 0.7159 - val_loss: 0.7524 - val_accuracy: 0.7462\n",
            "Epoch 63/100\n",
            "1563/1563 [==============================] - ETA: 0s - loss: 0.8441 - accuracy: 0.7167\n",
            "Epoch 63: val_loss did not improve from 0.60888\n",
            "1563/1563 [==============================] - 30s 19ms/step - loss: 0.8441 - accuracy: 0.7167 - val_loss: 0.6361 - val_accuracy: 0.7884\n",
            "Epoch 64/100\n",
            "1561/1563 [============================>.] - ETA: 0s - loss: 0.8447 - accuracy: 0.7177\n",
            "Epoch 64: val_loss did not improve from 0.60888\n",
            "1563/1563 [==============================] - 30s 19ms/step - loss: 0.8444 - accuracy: 0.7178 - val_loss: 0.6675 - val_accuracy: 0.7731\n",
            "Epoch 65/100\n",
            "1563/1563 [==============================] - ETA: 0s - loss: 0.8452 - accuracy: 0.7136\n",
            "Epoch 65: val_loss did not improve from 0.60888\n",
            "1563/1563 [==============================] - 30s 19ms/step - loss: 0.8452 - accuracy: 0.7136 - val_loss: 0.6923 - val_accuracy: 0.7660\n",
            "Epoch 66/100\n",
            "1563/1563 [==============================] - ETA: 0s - loss: 0.8398 - accuracy: 0.7170\n",
            "Epoch 66: val_loss did not improve from 0.60888\n",
            "1563/1563 [==============================] - 30s 19ms/step - loss: 0.8398 - accuracy: 0.7170 - val_loss: 0.7188 - val_accuracy: 0.7602\n",
            "Epoch 67/100\n",
            "1563/1563 [==============================] - ETA: 0s - loss: 0.8420 - accuracy: 0.7169\n",
            "Epoch 67: val_loss did not improve from 0.60888\n",
            "1563/1563 [==============================] - 30s 19ms/step - loss: 0.8420 - accuracy: 0.7169 - val_loss: 0.6508 - val_accuracy: 0.7833\n",
            "Epoch 68/100\n",
            "1561/1563 [============================>.] - ETA: 0s - loss: 0.8462 - accuracy: 0.7148\n",
            "Epoch 68: val_loss did not improve from 0.60888\n",
            "1563/1563 [==============================] - 30s 19ms/step - loss: 0.8462 - accuracy: 0.7147 - val_loss: 0.6636 - val_accuracy: 0.7844\n",
            "Epoch 69/100\n",
            "1562/1563 [============================>.] - ETA: 0s - loss: 0.8415 - accuracy: 0.7161\n",
            "Epoch 69: val_loss did not improve from 0.60888\n",
            "1563/1563 [==============================] - 30s 19ms/step - loss: 0.8415 - accuracy: 0.7160 - val_loss: 0.7030 - val_accuracy: 0.7599\n"
          ]
        }
      ]
    },
    {
      "cell_type": "code",
      "source": [
        "best_model = load_model(model_path)\n",
        "best_model.evaluate(X_test, Y_test)"
      ],
      "metadata": {
        "colab": {
          "base_uri": "https://localhost:8080/"
        },
        "id": "-IMRDJPLrV1m",
        "outputId": "2ef4775d-6423-4cb2-c123-e03783493898"
      },
      "execution_count": 18,
      "outputs": [
        {
          "output_type": "stream",
          "name": "stdout",
          "text": [
            "313/313 [==============================] - 1s 4ms/step - loss: 0.6818 - accuracy: 0.7708\n"
          ]
        },
        {
          "output_type": "execute_result",
          "data": {
            "text/plain": [
              "[0.68183833360672, 0.770799994468689]"
            ]
          },
          "metadata": {},
          "execution_count": 18
        }
      ]
    },
    {
      "cell_type": "code",
      "source": [
        "y_acc = hist.history['accuracy']\n",
        "y_vloss = hist.history['val_loss']\n",
        "xs = np.arange(1, len(y_acc)+1)\n",
        "\n",
        "plt.figure(figsize=(12,8))\n",
        "plt.plot(xs, y_acc, label='train accuracy')\n",
        "plt.plot(xs, y_vloss, label='validation loss')\n",
        "plt.legend(), plt.grid(), plt.ylim(0,1.2),\n",
        "plt.xlabel('Epoch')\n",
        "plt.title('Cifar-10 CNN model v2')\n",
        "plt.show()"
      ],
      "metadata": {
        "colab": {
          "base_uri": "https://localhost:8080/",
          "height": 513
        },
        "id": "yhbUZ2bl7cq5",
        "outputId": "83f8f447-bf8e-4d0c-ff88-1d146c5b8ec5"
      },
      "execution_count": 19,
      "outputs": [
        {
          "output_type": "display_data",
          "data": {
            "text/plain": [
              "<Figure size 864x576 with 1 Axes>"
            ],
            "image/png": "[encoded data removed]"
          },
          "metadata": {
            "needs_background": "light"
          }
        }
      ]
    }
  ]
}