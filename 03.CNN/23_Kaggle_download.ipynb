{
  "nbformat": 4,
  "nbformat_minor": 0,
  "metadata": {
    "colab": {
      "name": "23_Kaggle_download.ipynb",
      "provenance": [],
      "collapsed_sections": []
    },
    "kernelspec": {
      "name": "python3",
      "display_name": "Python 3"
    },
    "language_info": {
      "name": "python"
    }
  },
  "cells": [
    {
      "cell_type": "markdown",
      "source": [
        "# Kaggle data download 받는 방법\n",
        "- Kaggle에서 발급받은 API key 필요\n",
        "    - kaggle.json 업로드"
      ],
      "metadata": {
        "id": "A8MuP67YPLxB"
      }
    },
    {
      "cell_type": "code",
      "source": [
        "import numpy as np\n",
        "import pandas as pd\n",
        "import matplotlib.pyplot as plt\n",
        "import tensorflow as tf\n",
        "seed = 2022\n",
        "np.random.seed(seed)\n",
        "tf.random.set_seed(seed)"
      ],
      "metadata": {
        "id": "dK53iRujSDrH"
      },
      "execution_count": 20,
      "outputs": []
    },
    {
      "cell_type": "code",
      "source": [
        "# key file upload\n",
        "import os, json\n",
        "\n",
        "with open('kaggle.json') as f:\n",
        "    kaggle = json.load(f)\n",
        "os.environ['KAGGLE_USERNAME'] = kaggle['username']\n",
        "os.environ['KAGGLE_KEY'] = kaggle['key']"
      ],
      "metadata": {
        "id": "sbSJqc1nyyGK"
      },
      "execution_count": 2,
      "outputs": []
    },
    {
      "cell_type": "code",
      "source": [
        "!kaggle datasets download -d shaunthesheep/microsoft-catsvsdogs-dataset"
      ],
      "metadata": {
        "colab": {
          "base_uri": "https://localhost:8080/"
        },
        "id": "JYuCyu6XzZ7F",
        "outputId": "b82b0e87-04cc-4035-dd35-b1034952a70b"
      },
      "execution_count": 3,
      "outputs": [
        {
          "output_type": "stream",
          "name": "stdout",
          "text": [
            "Downloading microsoft-catsvsdogs-dataset.zip to /content\n",
            " 98% 769M/788M [00:12<00:00, 110MB/s] \n",
            "100% 788M/788M [00:12<00:00, 66.5MB/s]\n"
          ]
        }
      ]
    },
    {
      "cell_type": "code",
      "source": [
        "!unzip microsoft-catsvsdogs-dataset.zip > /dev/null"
      ],
      "metadata": {
        "id": "46uzruSezpkV"
      },
      "execution_count": 4,
      "outputs": []
    },
    {
      "cell_type": "code",
      "source": [
        "cat_dir = './PetImages/Cat'\n",
        "os.unlink(f'{cat_dir}/Thumbs.db')\n",
        "cat_list = os.listdir(cat_dir)\n",
        "len(cat_list)"
      ],
      "metadata": {
        "colab": {
          "base_uri": "https://localhost:8080/"
        },
        "id": "12glm6evzpmy",
        "outputId": "95bc64a9-7faf-40d7-8c65-7cd5c026ed83"
      },
      "execution_count": 9,
      "outputs": [
        {
          "output_type": "execute_result",
          "data": {
            "text/plain": [
              "12500"
            ]
          },
          "metadata": {},
          "execution_count": 9
        }
      ]
    },
    {
      "cell_type": "code",
      "source": [
        "dog_dir = './PetImages/Dog'\n",
        "os.unlink(f'{dog_dir}/Thumbs.db')\n",
        "dog_list = os.listdir(dog_dir)\n",
        "len(dog_list)"
      ],
      "metadata": {
        "colab": {
          "base_uri": "https://localhost:8080/"
        },
        "id": "zFaZpFHF0osd",
        "outputId": "5b4666b2-9cf3-488a-b666-b1a9a4eb4a38"
      },
      "execution_count": 11,
      "outputs": [
        {
          "output_type": "execute_result",
          "data": {
            "text/plain": [
              "12500"
            ]
          },
          "metadata": {},
          "execution_count": 11
        }
      ]
    },
    {
      "cell_type": "markdown",
      "source": [
        "## 이미지파일 에러 찾기"
      ],
      "metadata": {
        "id": "UqlrEZMP1JDW"
      }
    },
    {
      "cell_type": "code",
      "source": [
        "import warnings\n",
        "warnings.filterwarnings('ignore')"
      ],
      "metadata": {
        "id": "7hxhfLK14sU9"
      },
      "execution_count": 13,
      "outputs": []
    },
    {
      "cell_type": "code",
      "source": [
        "from PIL import Image\n",
        "from glob import glob"
      ],
      "metadata": {
        "id": "Ut4zIFu74sLz"
      },
      "execution_count": 14,
      "outputs": []
    },
    {
      "cell_type": "code",
      "source": [
        "for fname in cat_list:\n",
        "    try:\n",
        "        img = Image.open(f'PetImages/Cat/{fname}')\n",
        "    except:\n",
        "        print(fname)"
      ],
      "metadata": {
        "colab": {
          "base_uri": "https://localhost:8080/"
        },
        "id": "lQswupcK4sIi",
        "outputId": "1b74b703-5072-4892-d3c0-e6bd4d865319"
      },
      "execution_count": 17,
      "outputs": [
        {
          "output_type": "stream",
          "name": "stdout",
          "text": [
            "666.jpg\n"
          ]
        }
      ]
    },
    {
      "cell_type": "code",
      "source": [
        "for fname in dog_list:\n",
        "    try:\n",
        "        img = Image.open(f'PetImages/Dog/{fname}')\n",
        "    except:\n",
        "        print(fname)"
      ],
      "metadata": {
        "colab": {
          "base_uri": "https://localhost:8080/"
        },
        "id": "-NZduMrP5RvV",
        "outputId": "9f7a0eb1-534e-4715-c172-dd9246dbae58"
      },
      "execution_count": 18,
      "outputs": [
        {
          "output_type": "stream",
          "name": "stdout",
          "text": [
            "11702.jpg\n"
          ]
        }
      ]
    },
    {
      "cell_type": "code",
      "source": [
        "!cp PetImages/Cat/10000.jpg PetImages/Cat/666.jpg \n",
        "!cp PetImages/Dog/10000.jpg PetImages/Dog/11702.jpg "
      ],
      "metadata": {
        "id": "d1dSdWAj5Y5b"
      },
      "execution_count": 19,
      "outputs": []
    },
    {
      "cell_type": "markdown",
      "source": [
        "# 강아지 고양이 분류 - CNN v3\n",
        "- 부분 데이터 \n",
        "    - 훈련 : 0 ~ 7999\n",
        "    - 검증 : 8000 ~ 9999\n",
        "    - 평가 : 10000 ~\n",
        "- 이미지 센터링 처리 함"
      ],
      "metadata": {
        "id": "mTjnpdf7yr4Z"
      }
    }
  ]
}