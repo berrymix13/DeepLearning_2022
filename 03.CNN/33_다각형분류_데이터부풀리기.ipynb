{
  "nbformat": 4,
  "nbformat_minor": 0,
  "metadata": {
    "colab": {
      "name": "33_다각형분류_데이터부풀리기.ipynb",
      "provenance": [],
      "collapsed_sections": []
    },
    "kernelspec": {
      "name": "python3",
      "display_name": "Python 3"
    },
    "language_info": {
      "name": "python"
    }
  },
  "cells": [
    {
      "cell_type": "markdown",
      "source": [
        "#원, 사각형, 삼각형 구분하기\n",
        "- 어려운 테스트 문제를 부풀림"
      ],
      "metadata": {
        "id": "pbrTZpyyjR3n"
      }
    },
    {
      "cell_type": "code",
      "execution_count": 1,
      "metadata": {
        "id": "reagdmJUjMIz"
      },
      "outputs": [],
      "source": [
        "!unzip hard_handwriting_shape.zip -d hard_handwriting > /dev/null"
      ]
    },
    {
      "cell_type": "code",
      "source": [
        "from PIL import Image\n",
        "from glob import glob\n",
        "import matplotlib.pyplot as plt"
      ],
      "metadata": {
        "id": "jIIWRUWajlAE"
      },
      "execution_count": 2,
      "outputs": []
    },
    {
      "cell_type": "markdown",
      "source": [
        "## 데이터셋 생성하기"
      ],
      "metadata": {
        "id": "999RoM7ujujH"
      }
    },
    {
      "cell_type": "code",
      "source": [
        "from tensorflow.keras.preprocessing.image import ImageDataGenerator\n",
        "\n",
        "train_datagen = ImageDataGenerator(\n",
        "    rescale=1/255., rotation_range = 15,\n",
        "    width_shift_range = 0.1,\n",
        "    height_shift_range = 0.1,\n",
        "    zoom_range = [0.8, 1.5],     # 구간 내 임의로 확대\n",
        "    horizontal_flip = True,\n",
        "    vertical_flip = False,\n",
        "    fill_mode = 'nearest'       \n",
        ")"
      ],
      "metadata": {
        "id": "_P8ebMUqjsxI"
      },
      "execution_count": 4,
      "outputs": []
    },
    {
      "cell_type": "code",
      "source": [
        "from tensorflow.keras.preprocessing.image import img_to_array, load_img\n",
        "\n",
        "img = load_img('hard_handwriting/train/triangle/triangle001.png')\n",
        "x = img_to_array(img)\n",
        "x = x.reshape((1,) + x.shape)            # x.reshape(1, 24, 24, 3)\n",
        "x.shape"
      ],
      "metadata": {
        "colab": {
          "base_uri": "https://localhost:8080/"
        },
        "id": "2ERVJH4xk-6B",
        "outputId": "455f471a-af94-44f1-ce77-b8e24b527b37"
      },
      "execution_count": 15,
      "outputs": [
        {
          "output_type": "execute_result",
          "data": {
            "text/plain": [
              "(1, 24, 24, 3)"
            ]
          },
          "metadata": {},
          "execution_count": 15
        }
      ]
    },
    {
      "cell_type": "markdown",
      "source": [
        "## 데이터 부풀리기를 통하여 만들어지는 새로운 도형 이미지"
      ],
      "metadata": {
        "id": "fbq4qQGlmSB7"
      }
    },
    {
      "cell_type": "code",
      "source": [
        "import os\n",
        "if not os.path.exists('preview'):\n",
        "    os.mkdir('preview')"
      ],
      "metadata": {
        "id": "JOIQpNVlmU7X"
      },
      "execution_count": 10,
      "outputs": []
    },
    {
      "cell_type": "code",
      "source": [
        "train_datagen.flow(x = x, y = None, batch_size = 1, save_to_dir = '/content/preview',\n",
        "                   save_prefix = 'pre')     # 메모리에 있는 것을 가져옴"
      ],
      "metadata": {
        "colab": {
          "base_uri": "https://localhost:8080/"
        },
        "id": "NV_Hqq_OmjA8",
        "outputId": "2f68e3a5-1d39-4c16-dba1-587fcfe110cf"
      },
      "execution_count": 36,
      "outputs": [
        {
          "output_type": "execute_result",
          "data": {
            "text/plain": [
              "<keras.preprocessing.image.NumpyArrayIterator at 0x7ff13feb9950>"
            ]
          },
          "metadata": {},
          "execution_count": 36
        }
      ]
    },
    {
      "cell_type": "code",
      "source": [
        "!ls -l preview"
      ],
      "metadata": {
        "colab": {
          "base_uri": "https://localhost:8080/"
        },
        "id": "ZKpfzGZAmjDb",
        "outputId": "234cf608-e093-47ff-dbd3-a5aa85e0c99d"
      },
      "execution_count": 42,
      "outputs": [
        {
          "output_type": "stream",
          "name": "stdout",
          "text": [
            "total 0\n"
          ]
        }
      ]
    },
    {
      "cell_type": "code",
      "source": [
        "for i, _ in enumerate(train_datagen.flow(x, batch_size = 1, save_to_dir = 'preview',save_prefix = 'pre',  save_format = 'png')):\n",
        "    if i == 30:\n",
        "        break"
      ],
      "metadata": {
        "id": "91b9qkRMmjIM"
      },
      "execution_count": 58,
      "outputs": []
    },
    {
      "cell_type": "code",
      "source": [
        "plt.figure(figsize = (10, 3))\n",
        "for i, fname in enumerate(glob('/preview/pre_*.png')):\n",
        "    plt.imshow(Image.open(fname))\n",
        "    plt.show()"
      ],
      "metadata": {
        "colab": {
          "base_uri": "https://localhost:8080/",
          "height": 212
        },
        "id": "PfOZ1r-6vcnz",
        "outputId": "0d43e4cf-42d6-4d1f-9e71-971eae00eb1b"
      },
      "execution_count": 56,
      "outputs": [
        {
          "output_type": "display_data",
          "data": {
            "text/plain": [
              "<Figure size 720x216 with 1 Axes>"
            ],
            "image/png": "[encoded data removed]"
          },
          "metadata": {
            "needs_background": "light"
          }
        }
      ]
    },
    {
      "cell_type": "markdown",
      "source": [
        "## data genarator"
      ],
      "metadata": {
        "id": "TUc-Ni0Jq7GJ"
      }
    },
    {
      "cell_type": "code",
      "source": [
        "train_datagenerator = train_datagen.flow_from_directory(\n",
        "    'hard_handwriting/train', target_size = (24, 24),\n",
        "    batch_size = 3, class_mode = 'categorical'\n",
        ")"
      ],
      "metadata": {
        "colab": {
          "base_uri": "https://localhost:8080/"
        },
        "id": "xleXFKL9mjKM",
        "outputId": "ea8117ff-976b-4171-bad4-eb19d559e680"
      },
      "execution_count": 44,
      "outputs": [
        {
          "output_type": "stream",
          "name": "stdout",
          "text": [
            "Found 45 images belonging to 3 classes.\n"
          ]
        }
      ]
    },
    {
      "cell_type": "code",
      "source": [
        "test_datagen = ImageDataGenerator(rescale=1/255.)\n",
        "test_datagenerator = test_datagen.flow_from_directory(\n",
        "    'hard_handwriting/test', target_size = (24, 24),\n",
        "    batch_size = 3, class_mode = 'categorical'\n",
        ")"
      ],
      "metadata": {
        "colab": {
          "base_uri": "https://localhost:8080/"
        },
        "id": "Jxn3IrcJmjMs",
        "outputId": "6f11ecff-ae22-49ff-bc7a-e4977ef08080"
      },
      "execution_count": 45,
      "outputs": [
        {
          "output_type": "stream",
          "name": "stdout",
          "text": [
            "Found 15 images belonging to 3 classes.\n"
          ]
        }
      ]
    },
    {
      "cell_type": "markdown",
      "source": [
        "## 모델 정의 및 설정"
      ],
      "metadata": {
        "id": "JjO1SDmursbz"
      }
    },
    {
      "cell_type": "code",
      "source": [
        "import tensorflow as tf\n",
        "import numpy as np\n",
        "seed = 2022\n",
        "tf.random.set_seed(seed)\n",
        "np.random.seed(seed)"
      ],
      "metadata": {
        "id": "oL0OkTPZBMLf"
      },
      "execution_count": 46,
      "outputs": []
    },
    {
      "cell_type": "code",
      "source": [
        "from tensorflow.keras.models import Sequential\n",
        "from tensorflow.keras.layers import Dense, Conv2D, MaxPooling2D, Flatten"
      ],
      "metadata": {
        "id": "AjLKZmfQBli5"
      },
      "execution_count": 47,
      "outputs": []
    },
    {
      "cell_type": "code",
      "source": [
        "model = Sequential([\n",
        "    Conv2D(32, (3, 3), input_shape = (24, 24, 3), activation = 'relu'),\n",
        "    Conv2D(64, (3, 3), activation = 'relu'),\n",
        "    MaxPooling2D(),\n",
        "    Flatten(),\n",
        "    Dense(128, activation='relu'),\n",
        "    Dense(3, activation = 'softmax')\n",
        "])\n",
        "model.summary()"
      ],
      "metadata": {
        "colab": {
          "base_uri": "https://localhost:8080/"
        },
        "id": "-pBxzBvAB6J6",
        "outputId": "82e054f0-7df2-42da-8cdc-44b12c69fe57"
      },
      "execution_count": 48,
      "outputs": [
        {
          "output_type": "stream",
          "name": "stdout",
          "text": [
            "Model: \"sequential\"\n",
            "_________________________________________________________________\n",
            " Layer (type)                Output Shape              Param #   \n",
            "=================================================================\n",
            " conv2d (Conv2D)             (None, 22, 22, 32)        896       \n",
            "                                                                 \n",
            " conv2d_1 (Conv2D)           (None, 20, 20, 64)        18496     \n",
            "                                                                 \n",
            " max_pooling2d (MaxPooling2D  (None, 10, 10, 64)       0         \n",
            " )                                                               \n",
            "                                                                 \n",
            " flatten (Flatten)           (None, 6400)              0         \n",
            "                                                                 \n",
            " dense (Dense)               (None, 128)               819328    \n",
            "                                                                 \n",
            " dense_1 (Dense)             (None, 3)                 387       \n",
            "                                                                 \n",
            "=================================================================\n",
            "Total params: 839,107\n",
            "Trainable params: 839,107\n",
            "Non-trainable params: 0\n",
            "_________________________________________________________________\n"
          ]
        }
      ]
    },
    {
      "cell_type": "code",
      "source": [
        "model.compile('adam', 'categorical_crossentropy', ['accuracy'])\n",
        "model.fit(\n",
        "    train_datagenerator, steps_per_epoch=15, epochs=300,\n",
        "    validation_data=test_datagenerator, validation_steps=5\n",
        ")"
      ],
      "metadata": {
        "colab": {
          "base_uri": "https://localhost:8080/"
        },
        "id": "g4k3LbCsFhFf",
        "outputId": "308aa19f-250b-47d8-8e97-711c3e841555"
      },
      "execution_count": 49,
      "outputs": [
        {
          "output_type": "stream",
          "name": "stdout",
          "text": [
            "Epoch 1/300\n",
            "15/15 [==============================] - 1s 31ms/step - loss: 1.1835 - accuracy: 0.4222 - val_loss: 1.0770 - val_accuracy: 0.3333\n",
            "Epoch 2/300\n",
            "15/15 [==============================] - 0s 19ms/step - loss: 0.8616 - accuracy: 0.5778 - val_loss: 1.4218 - val_accuracy: 0.3333\n",
            "Epoch 3/300\n",
            "15/15 [==============================] - 0s 19ms/step - loss: 0.5137 - accuracy: 0.7778 - val_loss: 2.4427 - val_accuracy: 0.3333\n",
            "Epoch 4/300\n",
            "15/15 [==============================] - 0s 20ms/step - loss: 0.4156 - accuracy: 0.8000 - val_loss: 1.8210 - val_accuracy: 0.6000\n",
            "Epoch 5/300\n",
            "15/15 [==============================] - 0s 19ms/step - loss: 0.1974 - accuracy: 0.9333 - val_loss: 3.0864 - val_accuracy: 0.4000\n",
            "Epoch 6/300\n",
            "15/15 [==============================] - 0s 21ms/step - loss: 0.3613 - accuracy: 0.8667 - val_loss: 1.3778 - val_accuracy: 0.5333\n",
            "Epoch 7/300\n",
            "15/15 [==============================] - 0s 19ms/step - loss: 0.2888 - accuracy: 0.8444 - val_loss: 1.8288 - val_accuracy: 0.4667\n",
            "Epoch 8/300\n",
            "15/15 [==============================] - 0s 20ms/step - loss: 0.3538 - accuracy: 0.8667 - val_loss: 1.0930 - val_accuracy: 0.6000\n",
            "Epoch 9/300\n",
            "15/15 [==============================] - 0s 21ms/step - loss: 0.2284 - accuracy: 0.9333 - val_loss: 1.0172 - val_accuracy: 0.4667\n",
            "Epoch 10/300\n",
            "15/15 [==============================] - 0s 20ms/step - loss: 0.1293 - accuracy: 0.9778 - val_loss: 1.4618 - val_accuracy: 0.6667\n",
            "Epoch 11/300\n",
            "15/15 [==============================] - 0s 19ms/step - loss: 0.1686 - accuracy: 0.9333 - val_loss: 1.6981 - val_accuracy: 0.4667\n",
            "Epoch 12/300\n",
            "15/15 [==============================] - 0s 19ms/step - loss: 0.0597 - accuracy: 1.0000 - val_loss: 1.9606 - val_accuracy: 0.5333\n",
            "Epoch 13/300\n",
            "15/15 [==============================] - 0s 20ms/step - loss: 0.0544 - accuracy: 0.9778 - val_loss: 1.9798 - val_accuracy: 0.5333\n",
            "Epoch 14/300\n",
            "15/15 [==============================] - 0s 19ms/step - loss: 0.0232 - accuracy: 1.0000 - val_loss: 2.7120 - val_accuracy: 0.5333\n",
            "Epoch 15/300\n",
            "15/15 [==============================] - 0s 19ms/step - loss: 0.1937 - accuracy: 0.9778 - val_loss: 1.7757 - val_accuracy: 0.6000\n",
            "Epoch 16/300\n",
            "15/15 [==============================] - 0s 19ms/step - loss: 0.1626 - accuracy: 0.9556 - val_loss: 2.4540 - val_accuracy: 0.4667\n",
            "Epoch 17/300\n",
            "15/15 [==============================] - 0s 20ms/step - loss: 0.0944 - accuracy: 0.9778 - val_loss: 2.8718 - val_accuracy: 0.5333\n",
            "Epoch 18/300\n",
            "15/15 [==============================] - 0s 22ms/step - loss: 0.1891 - accuracy: 0.9111 - val_loss: 2.3855 - val_accuracy: 0.5333\n",
            "Epoch 19/300\n",
            "15/15 [==============================] - 0s 19ms/step - loss: 0.1244 - accuracy: 0.9556 - val_loss: 2.7202 - val_accuracy: 0.5333\n",
            "Epoch 20/300\n",
            "15/15 [==============================] - 0s 19ms/step - loss: 0.0520 - accuracy: 0.9778 - val_loss: 1.9381 - val_accuracy: 0.6000\n",
            "Epoch 21/300\n",
            "15/15 [==============================] - 0s 20ms/step - loss: 0.0264 - accuracy: 1.0000 - val_loss: 2.0978 - val_accuracy: 0.6000\n",
            "Epoch 22/300\n",
            "15/15 [==============================] - 0s 19ms/step - loss: 0.0069 - accuracy: 1.0000 - val_loss: 2.2194 - val_accuracy: 0.6667\n",
            "Epoch 23/300\n",
            "15/15 [==============================] - 0s 21ms/step - loss: 0.0521 - accuracy: 1.0000 - val_loss: 2.4689 - val_accuracy: 0.7333\n",
            "Epoch 24/300\n",
            "15/15 [==============================] - 0s 18ms/step - loss: 0.0466 - accuracy: 0.9778 - val_loss: 2.2592 - val_accuracy: 0.6000\n",
            "Epoch 25/300\n",
            "15/15 [==============================] - 0s 20ms/step - loss: 0.0137 - accuracy: 1.0000 - val_loss: 2.1514 - val_accuracy: 0.6667\n",
            "Epoch 26/300\n",
            "15/15 [==============================] - 0s 19ms/step - loss: 0.1493 - accuracy: 0.9778 - val_loss: 1.6932 - val_accuracy: 0.6000\n",
            "Epoch 27/300\n",
            "15/15 [==============================] - 0s 21ms/step - loss: 0.0317 - accuracy: 0.9778 - val_loss: 1.8703 - val_accuracy: 0.6000\n",
            "Epoch 28/300\n",
            "15/15 [==============================] - 0s 19ms/step - loss: 0.0684 - accuracy: 0.9556 - val_loss: 2.1293 - val_accuracy: 0.6000\n",
            "Epoch 29/300\n",
            "15/15 [==============================] - 0s 26ms/step - loss: 0.1045 - accuracy: 0.9556 - val_loss: 1.9757 - val_accuracy: 0.6667\n",
            "Epoch 30/300\n",
            "15/15 [==============================] - 0s 18ms/step - loss: 0.0878 - accuracy: 0.9778 - val_loss: 1.5116 - val_accuracy: 0.6667\n",
            "Epoch 31/300\n",
            "15/15 [==============================] - 0s 26ms/step - loss: 0.1134 - accuracy: 0.9556 - val_loss: 1.8864 - val_accuracy: 0.6000\n",
            "Epoch 32/300\n",
            "15/15 [==============================] - 0s 19ms/step - loss: 0.1768 - accuracy: 0.9556 - val_loss: 1.9045 - val_accuracy: 0.6667\n",
            "Epoch 33/300\n",
            "15/15 [==============================] - 0s 20ms/step - loss: 0.1420 - accuracy: 0.9556 - val_loss: 2.1164 - val_accuracy: 0.7333\n",
            "Epoch 34/300\n",
            "15/15 [==============================] - 0s 20ms/step - loss: 0.1327 - accuracy: 0.9556 - val_loss: 3.2246 - val_accuracy: 0.4667\n",
            "Epoch 35/300\n",
            "15/15 [==============================] - 0s 19ms/step - loss: 0.1325 - accuracy: 0.9778 - val_loss: 4.1205 - val_accuracy: 0.4000\n",
            "Epoch 36/300\n",
            "15/15 [==============================] - 0s 27ms/step - loss: 0.2602 - accuracy: 0.9333 - val_loss: 1.5129 - val_accuracy: 0.6667\n",
            "Epoch 37/300\n",
            "15/15 [==============================] - 0s 20ms/step - loss: 0.0939 - accuracy: 0.9556 - val_loss: 1.7681 - val_accuracy: 0.6667\n",
            "Epoch 38/300\n",
            "15/15 [==============================] - 0s 21ms/step - loss: 0.0562 - accuracy: 0.9778 - val_loss: 1.9986 - val_accuracy: 0.6667\n",
            "Epoch 39/300\n",
            "15/15 [==============================] - 0s 19ms/step - loss: 0.0338 - accuracy: 1.0000 - val_loss: 2.0526 - val_accuracy: 0.6667\n",
            "Epoch 40/300\n",
            "15/15 [==============================] - 0s 21ms/step - loss: 0.0464 - accuracy: 0.9778 - val_loss: 2.1044 - val_accuracy: 0.6667\n",
            "Epoch 41/300\n",
            "15/15 [==============================] - 0s 20ms/step - loss: 0.0457 - accuracy: 1.0000 - val_loss: 2.3750 - val_accuracy: 0.6000\n",
            "Epoch 42/300\n",
            "15/15 [==============================] - 0s 19ms/step - loss: 0.0039 - accuracy: 1.0000 - val_loss: 2.6306 - val_accuracy: 0.6667\n",
            "Epoch 43/300\n",
            "15/15 [==============================] - 0s 20ms/step - loss: 0.0043 - accuracy: 1.0000 - val_loss: 2.5650 - val_accuracy: 0.6667\n",
            "Epoch 44/300\n",
            "15/15 [==============================] - 0s 19ms/step - loss: 0.0106 - accuracy: 1.0000 - val_loss: 2.3367 - val_accuracy: 0.7333\n",
            "Epoch 45/300\n",
            "15/15 [==============================] - 0s 19ms/step - loss: 0.0095 - accuracy: 1.0000 - val_loss: 2.3350 - val_accuracy: 0.6667\n",
            "Epoch 46/300\n",
            "15/15 [==============================] - 0s 18ms/step - loss: 0.0160 - accuracy: 1.0000 - val_loss: 2.5435 - val_accuracy: 0.5333\n",
            "Epoch 47/300\n",
            "15/15 [==============================] - 0s 20ms/step - loss: 0.0169 - accuracy: 1.0000 - val_loss: 3.0054 - val_accuracy: 0.5333\n",
            "Epoch 48/300\n",
            "15/15 [==============================] - 0s 21ms/step - loss: 0.0205 - accuracy: 1.0000 - val_loss: 3.2308 - val_accuracy: 0.6000\n",
            "Epoch 49/300\n",
            "15/15 [==============================] - 0s 20ms/step - loss: 0.0231 - accuracy: 1.0000 - val_loss: 2.9579 - val_accuracy: 0.6000\n",
            "Epoch 50/300\n",
            "15/15 [==============================] - 0s 22ms/step - loss: 0.1065 - accuracy: 0.9556 - val_loss: 2.7753 - val_accuracy: 0.6000\n",
            "Epoch 51/300\n",
            "15/15 [==============================] - 0s 25ms/step - loss: 0.0155 - accuracy: 1.0000 - val_loss: 2.0849 - val_accuracy: 0.6667\n",
            "Epoch 52/300\n",
            "15/15 [==============================] - 0s 22ms/step - loss: 0.0058 - accuracy: 1.0000 - val_loss: 1.7755 - val_accuracy: 0.6667\n",
            "Epoch 53/300\n",
            "15/15 [==============================] - 0s 22ms/step - loss: 0.0108 - accuracy: 1.0000 - val_loss: 1.8347 - val_accuracy: 0.6667\n",
            "Epoch 54/300\n",
            "15/15 [==============================] - 0s 19ms/step - loss: 0.0146 - accuracy: 1.0000 - val_loss: 1.8870 - val_accuracy: 0.6000\n",
            "Epoch 55/300\n",
            "15/15 [==============================] - 0s 19ms/step - loss: 0.0719 - accuracy: 0.9778 - val_loss: 2.1415 - val_accuracy: 0.6000\n",
            "Epoch 56/300\n",
            "15/15 [==============================] - 0s 20ms/step - loss: 0.0215 - accuracy: 0.9778 - val_loss: 2.2988 - val_accuracy: 0.6000\n",
            "Epoch 57/300\n",
            "15/15 [==============================] - 0s 18ms/step - loss: 0.0027 - accuracy: 1.0000 - val_loss: 2.3803 - val_accuracy: 0.6000\n",
            "Epoch 58/300\n",
            "15/15 [==============================] - 0s 20ms/step - loss: 0.2358 - accuracy: 0.9111 - val_loss: 2.5005 - val_accuracy: 0.6000\n",
            "Epoch 59/300\n",
            "15/15 [==============================] - 0s 20ms/step - loss: 0.0513 - accuracy: 0.9778 - val_loss: 2.9411 - val_accuracy: 0.6000\n",
            "Epoch 60/300\n",
            "15/15 [==============================] - 0s 19ms/step - loss: 0.0093 - accuracy: 1.0000 - val_loss: 2.7923 - val_accuracy: 0.6000\n",
            "Epoch 61/300\n",
            "15/15 [==============================] - 0s 21ms/step - loss: 0.0079 - accuracy: 1.0000 - val_loss: 2.6759 - val_accuracy: 0.6000\n",
            "Epoch 62/300\n",
            "15/15 [==============================] - 0s 19ms/step - loss: 0.0123 - accuracy: 1.0000 - val_loss: 2.6924 - val_accuracy: 0.6000\n",
            "Epoch 63/300\n",
            "15/15 [==============================] - 0s 20ms/step - loss: 0.0172 - accuracy: 1.0000 - val_loss: 3.1745 - val_accuracy: 0.7333\n",
            "Epoch 64/300\n",
            "15/15 [==============================] - 0s 19ms/step - loss: 0.0116 - accuracy: 1.0000 - val_loss: 2.6530 - val_accuracy: 0.6667\n",
            "Epoch 65/300\n",
            "15/15 [==============================] - 0s 20ms/step - loss: 0.0274 - accuracy: 1.0000 - val_loss: 3.3518 - val_accuracy: 0.7333\n",
            "Epoch 66/300\n",
            "15/15 [==============================] - 0s 19ms/step - loss: 0.0312 - accuracy: 1.0000 - val_loss: 3.0668 - val_accuracy: 0.7333\n",
            "Epoch 67/300\n",
            "15/15 [==============================] - 0s 19ms/step - loss: 0.0056 - accuracy: 1.0000 - val_loss: 2.6430 - val_accuracy: 0.6000\n",
            "Epoch 68/300\n",
            "15/15 [==============================] - 0s 20ms/step - loss: 0.0225 - accuracy: 1.0000 - val_loss: 2.9048 - val_accuracy: 0.7333\n",
            "Epoch 69/300\n",
            "15/15 [==============================] - 0s 20ms/step - loss: 0.0022 - accuracy: 1.0000 - val_loss: 3.1415 - val_accuracy: 0.7333\n",
            "Epoch 70/300\n",
            "15/15 [==============================] - 0s 19ms/step - loss: 0.0029 - accuracy: 1.0000 - val_loss: 3.1097 - val_accuracy: 0.7333\n",
            "Epoch 71/300\n",
            "15/15 [==============================] - 0s 18ms/step - loss: 4.2091e-04 - accuracy: 1.0000 - val_loss: 3.1010 - val_accuracy: 0.7333\n",
            "Epoch 72/300\n",
            "15/15 [==============================] - 0s 20ms/step - loss: 0.0017 - accuracy: 1.0000 - val_loss: 3.1643 - val_accuracy: 0.7333\n",
            "Epoch 73/300\n",
            "15/15 [==============================] - 0s 19ms/step - loss: 6.5115e-04 - accuracy: 1.0000 - val_loss: 3.2427 - val_accuracy: 0.7333\n",
            "Epoch 74/300\n",
            "15/15 [==============================] - 0s 21ms/step - loss: 6.6253e-04 - accuracy: 1.0000 - val_loss: 3.3027 - val_accuracy: 0.7333\n",
            "Epoch 75/300\n",
            "15/15 [==============================] - 0s 19ms/step - loss: 7.8336e-04 - accuracy: 1.0000 - val_loss: 3.2994 - val_accuracy: 0.7333\n",
            "Epoch 76/300\n",
            "15/15 [==============================] - 0s 21ms/step - loss: 0.0128 - accuracy: 1.0000 - val_loss: 3.2687 - val_accuracy: 0.7333\n",
            "Epoch 77/300\n",
            "15/15 [==============================] - 0s 22ms/step - loss: 0.0082 - accuracy: 1.0000 - val_loss: 3.1774 - val_accuracy: 0.7333\n",
            "Epoch 78/300\n",
            "15/15 [==============================] - 0s 18ms/step - loss: 0.0023 - accuracy: 1.0000 - val_loss: 3.2446 - val_accuracy: 0.7333\n",
            "Epoch 79/300\n",
            "15/15 [==============================] - 0s 20ms/step - loss: 0.0116 - accuracy: 1.0000 - val_loss: 2.9485 - val_accuracy: 0.7333\n",
            "Epoch 80/300\n",
            "15/15 [==============================] - 0s 21ms/step - loss: 2.5085e-04 - accuracy: 1.0000 - val_loss: 2.7557 - val_accuracy: 0.7333\n",
            "Epoch 81/300\n",
            "15/15 [==============================] - 0s 19ms/step - loss: 0.0151 - accuracy: 1.0000 - val_loss: 3.5885 - val_accuracy: 0.6000\n",
            "Epoch 82/300\n",
            "15/15 [==============================] - 0s 21ms/step - loss: 0.0048 - accuracy: 1.0000 - val_loss: 4.1674 - val_accuracy: 0.6667\n",
            "Epoch 83/300\n",
            "15/15 [==============================] - 0s 21ms/step - loss: 8.5226e-04 - accuracy: 1.0000 - val_loss: 4.3164 - val_accuracy: 0.6667\n",
            "Epoch 84/300\n",
            "15/15 [==============================] - 0s 19ms/step - loss: 0.0221 - accuracy: 0.9778 - val_loss: 3.7256 - val_accuracy: 0.6000\n",
            "Epoch 85/300\n",
            "15/15 [==============================] - 0s 21ms/step - loss: 0.1001 - accuracy: 0.9778 - val_loss: 3.7771 - val_accuracy: 0.6000\n",
            "Epoch 86/300\n",
            "15/15 [==============================] - 0s 20ms/step - loss: 0.0011 - accuracy: 1.0000 - val_loss: 3.8810 - val_accuracy: 0.6000\n",
            "Epoch 87/300\n",
            "15/15 [==============================] - 0s 21ms/step - loss: 0.0025 - accuracy: 1.0000 - val_loss: 3.8831 - val_accuracy: 0.6000\n",
            "Epoch 88/300\n",
            "15/15 [==============================] - 0s 22ms/step - loss: 0.0352 - accuracy: 0.9778 - val_loss: 2.4124 - val_accuracy: 0.6667\n",
            "Epoch 89/300\n",
            "15/15 [==============================] - 0s 19ms/step - loss: 0.0183 - accuracy: 1.0000 - val_loss: 2.3828 - val_accuracy: 0.8000\n",
            "Epoch 90/300\n",
            "15/15 [==============================] - 0s 20ms/step - loss: 0.0123 - accuracy: 1.0000 - val_loss: 2.5689 - val_accuracy: 0.7333\n",
            "Epoch 91/300\n",
            "15/15 [==============================] - 0s 20ms/step - loss: 0.0020 - accuracy: 1.0000 - val_loss: 2.7673 - val_accuracy: 0.7333\n",
            "Epoch 92/300\n",
            "15/15 [==============================] - 0s 21ms/step - loss: 0.0019 - accuracy: 1.0000 - val_loss: 2.9438 - val_accuracy: 0.7333\n",
            "Epoch 93/300\n",
            "15/15 [==============================] - 0s 22ms/step - loss: 0.0643 - accuracy: 0.9778 - val_loss: 3.0963 - val_accuracy: 0.7333\n",
            "Epoch 94/300\n",
            "15/15 [==============================] - 0s 19ms/step - loss: 0.0524 - accuracy: 0.9778 - val_loss: 2.7175 - val_accuracy: 0.7333\n",
            "Epoch 95/300\n",
            "15/15 [==============================] - 0s 20ms/step - loss: 0.0493 - accuracy: 0.9778 - val_loss: 4.4729 - val_accuracy: 0.6667\n",
            "Epoch 96/300\n",
            "15/15 [==============================] - 0s 20ms/step - loss: 0.0038 - accuracy: 1.0000 - val_loss: 3.0968 - val_accuracy: 0.6667\n",
            "Epoch 97/300\n",
            "15/15 [==============================] - 0s 21ms/step - loss: 0.0043 - accuracy: 1.0000 - val_loss: 3.0336 - val_accuracy: 0.6667\n",
            "Epoch 98/300\n",
            "15/15 [==============================] - 0s 21ms/step - loss: 0.0033 - accuracy: 1.0000 - val_loss: 2.9977 - val_accuracy: 0.6667\n",
            "Epoch 99/300\n",
            "15/15 [==============================] - 0s 20ms/step - loss: 0.0273 - accuracy: 1.0000 - val_loss: 3.2332 - val_accuracy: 0.6000\n",
            "Epoch 100/300\n",
            "15/15 [==============================] - 0s 22ms/step - loss: 6.5532e-04 - accuracy: 1.0000 - val_loss: 3.5320 - val_accuracy: 0.6000\n",
            "Epoch 101/300\n",
            "15/15 [==============================] - 0s 19ms/step - loss: 9.6740e-04 - accuracy: 1.0000 - val_loss: 3.5991 - val_accuracy: 0.6000\n",
            "Epoch 102/300\n",
            "15/15 [==============================] - 0s 19ms/step - loss: 0.0193 - accuracy: 1.0000 - val_loss: 3.8551 - val_accuracy: 0.5333\n",
            "Epoch 103/300\n",
            "15/15 [==============================] - 0s 21ms/step - loss: 0.0610 - accuracy: 0.9778 - val_loss: 6.6983 - val_accuracy: 0.4667\n",
            "Epoch 104/300\n",
            "15/15 [==============================] - 0s 20ms/step - loss: 0.2318 - accuracy: 0.9556 - val_loss: 1.9758 - val_accuracy: 0.8000\n",
            "Epoch 105/300\n",
            "15/15 [==============================] - 0s 19ms/step - loss: 0.2589 - accuracy: 0.9556 - val_loss: 2.7975 - val_accuracy: 0.6000\n",
            "Epoch 106/300\n",
            "15/15 [==============================] - 0s 20ms/step - loss: 0.0621 - accuracy: 0.9778 - val_loss: 1.9559 - val_accuracy: 0.6000\n",
            "Epoch 107/300\n",
            "15/15 [==============================] - 0s 19ms/step - loss: 0.0194 - accuracy: 1.0000 - val_loss: 2.0407 - val_accuracy: 0.6667\n",
            "Epoch 108/300\n",
            "15/15 [==============================] - 0s 20ms/step - loss: 0.0105 - accuracy: 1.0000 - val_loss: 2.2396 - val_accuracy: 0.6667\n",
            "Epoch 109/300\n",
            "15/15 [==============================] - 0s 19ms/step - loss: 0.0726 - accuracy: 0.9556 - val_loss: 2.5815 - val_accuracy: 0.5333\n",
            "Epoch 110/300\n",
            "15/15 [==============================] - 0s 20ms/step - loss: 0.1492 - accuracy: 0.9778 - val_loss: 1.6684 - val_accuracy: 0.7333\n",
            "Epoch 111/300\n",
            "15/15 [==============================] - 0s 20ms/step - loss: 0.0824 - accuracy: 0.9778 - val_loss: 1.6853 - val_accuracy: 0.7333\n",
            "Epoch 112/300\n",
            "15/15 [==============================] - 0s 20ms/step - loss: 0.0020 - accuracy: 1.0000 - val_loss: 1.8154 - val_accuracy: 0.6667\n",
            "Epoch 113/300\n",
            "15/15 [==============================] - 0s 20ms/step - loss: 0.0019 - accuracy: 1.0000 - val_loss: 1.9423 - val_accuracy: 0.6667\n",
            "Epoch 114/300\n",
            "15/15 [==============================] - 0s 22ms/step - loss: 0.0354 - accuracy: 0.9778 - val_loss: 1.8912 - val_accuracy: 0.6667\n",
            "Epoch 115/300\n",
            "15/15 [==============================] - 0s 22ms/step - loss: 0.0018 - accuracy: 1.0000 - val_loss: 1.8093 - val_accuracy: 0.8000\n",
            "Epoch 116/300\n",
            "15/15 [==============================] - 0s 20ms/step - loss: 0.0878 - accuracy: 0.9556 - val_loss: 1.7940 - val_accuracy: 0.8000\n",
            "Epoch 117/300\n",
            "15/15 [==============================] - 0s 19ms/step - loss: 0.0010 - accuracy: 1.0000 - val_loss: 1.9620 - val_accuracy: 0.7333\n",
            "Epoch 118/300\n",
            "15/15 [==============================] - 0s 19ms/step - loss: 0.0017 - accuracy: 1.0000 - val_loss: 2.0086 - val_accuracy: 0.7333\n",
            "Epoch 119/300\n",
            "15/15 [==============================] - 0s 20ms/step - loss: 0.0015 - accuracy: 1.0000 - val_loss: 2.0331 - val_accuracy: 0.7333\n",
            "Epoch 120/300\n",
            "15/15 [==============================] - 0s 19ms/step - loss: 0.0190 - accuracy: 1.0000 - val_loss: 1.9919 - val_accuracy: 0.7333\n",
            "Epoch 121/300\n",
            "15/15 [==============================] - 0s 21ms/step - loss: 0.0059 - accuracy: 1.0000 - val_loss: 2.0127 - val_accuracy: 0.8000\n",
            "Epoch 122/300\n",
            "15/15 [==============================] - 0s 21ms/step - loss: 0.1076 - accuracy: 0.9778 - val_loss: 1.9624 - val_accuracy: 0.7333\n",
            "Epoch 123/300\n",
            "15/15 [==============================] - 0s 19ms/step - loss: 0.0112 - accuracy: 1.0000 - val_loss: 1.9632 - val_accuracy: 0.6667\n",
            "Epoch 124/300\n",
            "15/15 [==============================] - 0s 20ms/step - loss: 0.0061 - accuracy: 1.0000 - val_loss: 2.2095 - val_accuracy: 0.7333\n",
            "Epoch 125/300\n",
            "15/15 [==============================] - 0s 20ms/step - loss: 0.0874 - accuracy: 0.9556 - val_loss: 1.8331 - val_accuracy: 0.7333\n",
            "Epoch 126/300\n",
            "15/15 [==============================] - 0s 21ms/step - loss: 0.0308 - accuracy: 1.0000 - val_loss: 1.9351 - val_accuracy: 0.8000\n",
            "Epoch 127/300\n",
            "15/15 [==============================] - 0s 19ms/step - loss: 0.0418 - accuracy: 0.9778 - val_loss: 2.0710 - val_accuracy: 0.8000\n",
            "Epoch 128/300\n",
            "15/15 [==============================] - 0s 21ms/step - loss: 0.0525 - accuracy: 0.9778 - val_loss: 2.2651 - val_accuracy: 0.8000\n",
            "Epoch 129/300\n",
            "15/15 [==============================] - 0s 21ms/step - loss: 0.0730 - accuracy: 0.9778 - val_loss: 1.8485 - val_accuracy: 0.8667\n",
            "Epoch 130/300\n",
            "15/15 [==============================] - 0s 19ms/step - loss: 0.0340 - accuracy: 0.9778 - val_loss: 2.9832 - val_accuracy: 0.7333\n",
            "Epoch 131/300\n",
            "15/15 [==============================] - 0s 19ms/step - loss: 0.2848 - accuracy: 0.9778 - val_loss: 1.5207 - val_accuracy: 0.7333\n",
            "Epoch 132/300\n",
            "15/15 [==============================] - 0s 22ms/step - loss: 0.0818 - accuracy: 0.9778 - val_loss: 1.3601 - val_accuracy: 0.8000\n",
            "Epoch 133/300\n",
            "15/15 [==============================] - 0s 20ms/step - loss: 0.0460 - accuracy: 0.9778 - val_loss: 1.7405 - val_accuracy: 0.7333\n",
            "Epoch 134/300\n",
            "15/15 [==============================] - 0s 21ms/step - loss: 0.0016 - accuracy: 1.0000 - val_loss: 1.7945 - val_accuracy: 0.7333\n",
            "Epoch 135/300\n",
            "15/15 [==============================] - 0s 22ms/step - loss: 0.0950 - accuracy: 0.9778 - val_loss: 2.2274 - val_accuracy: 0.6000\n",
            "Epoch 136/300\n",
            "15/15 [==============================] - 0s 20ms/step - loss: 2.6241e-04 - accuracy: 1.0000 - val_loss: 3.6364 - val_accuracy: 0.4000\n",
            "Epoch 137/300\n",
            "15/15 [==============================] - 0s 23ms/step - loss: 0.0143 - accuracy: 1.0000 - val_loss: 3.5682 - val_accuracy: 0.4667\n",
            "Epoch 138/300\n",
            "15/15 [==============================] - 0s 23ms/step - loss: 0.0232 - accuracy: 0.9778 - val_loss: 1.8901 - val_accuracy: 0.7333\n",
            "Epoch 139/300\n",
            "15/15 [==============================] - 0s 20ms/step - loss: 0.0017 - accuracy: 1.0000 - val_loss: 1.8875 - val_accuracy: 0.8000\n",
            "Epoch 140/300\n",
            "15/15 [==============================] - 0s 21ms/step - loss: 0.0019 - accuracy: 1.0000 - val_loss: 1.8157 - val_accuracy: 0.8000\n",
            "Epoch 141/300\n",
            "15/15 [==============================] - 0s 20ms/step - loss: 0.0673 - accuracy: 0.9778 - val_loss: 1.8065 - val_accuracy: 0.7333\n",
            "Epoch 142/300\n",
            "15/15 [==============================] - 0s 20ms/step - loss: 0.0657 - accuracy: 0.9556 - val_loss: 2.0437 - val_accuracy: 0.7333\n",
            "Epoch 143/300\n",
            "15/15 [==============================] - 0s 20ms/step - loss: 0.0348 - accuracy: 1.0000 - val_loss: 2.5210 - val_accuracy: 0.6667\n",
            "Epoch 144/300\n",
            "15/15 [==============================] - 0s 20ms/step - loss: 2.6709e-04 - accuracy: 1.0000 - val_loss: 2.8462 - val_accuracy: 0.6667\n",
            "Epoch 145/300\n",
            "15/15 [==============================] - 0s 19ms/step - loss: 1.9984e-04 - accuracy: 1.0000 - val_loss: 2.9149 - val_accuracy: 0.6667\n",
            "Epoch 146/300\n",
            "15/15 [==============================] - 0s 21ms/step - loss: 0.2454 - accuracy: 0.9556 - val_loss: 2.5360 - val_accuracy: 0.6000\n",
            "Epoch 147/300\n",
            "15/15 [==============================] - 0s 22ms/step - loss: 0.0228 - accuracy: 1.0000 - val_loss: 2.0254 - val_accuracy: 0.7333\n",
            "Epoch 148/300\n",
            "15/15 [==============================] - 0s 20ms/step - loss: 9.2313e-05 - accuracy: 1.0000 - val_loss: 2.0164 - val_accuracy: 0.7333\n",
            "Epoch 149/300\n",
            "15/15 [==============================] - 0s 21ms/step - loss: 0.0085 - accuracy: 1.0000 - val_loss: 2.0871 - val_accuracy: 0.6667\n",
            "Epoch 150/300\n",
            "15/15 [==============================] - 0s 19ms/step - loss: 0.0129 - accuracy: 1.0000 - val_loss: 2.0615 - val_accuracy: 0.6000\n",
            "Epoch 151/300\n",
            "15/15 [==============================] - 0s 21ms/step - loss: 9.9373e-04 - accuracy: 1.0000 - val_loss: 1.9198 - val_accuracy: 0.6000\n",
            "Epoch 152/300\n",
            "15/15 [==============================] - 0s 19ms/step - loss: 0.0266 - accuracy: 0.9778 - val_loss: 1.7528 - val_accuracy: 0.8000\n",
            "Epoch 153/300\n",
            "15/15 [==============================] - 0s 21ms/step - loss: 0.0048 - accuracy: 1.0000 - val_loss: 1.8014 - val_accuracy: 0.8000\n",
            "Epoch 154/300\n",
            "15/15 [==============================] - 0s 19ms/step - loss: 0.0139 - accuracy: 1.0000 - val_loss: 1.7851 - val_accuracy: 0.7333\n",
            "Epoch 155/300\n",
            "15/15 [==============================] - 0s 21ms/step - loss: 0.0010 - accuracy: 1.0000 - val_loss: 1.8757 - val_accuracy: 0.6667\n",
            "Epoch 156/300\n",
            "15/15 [==============================] - 0s 21ms/step - loss: 4.5833e-05 - accuracy: 1.0000 - val_loss: 1.8948 - val_accuracy: 0.6667\n",
            "Epoch 157/300\n",
            "15/15 [==============================] - 0s 19ms/step - loss: 2.6667e-05 - accuracy: 1.0000 - val_loss: 1.8991 - val_accuracy: 0.6667\n",
            "Epoch 158/300\n",
            "15/15 [==============================] - 0s 21ms/step - loss: 0.0030 - accuracy: 1.0000 - val_loss: 2.0065 - val_accuracy: 0.6667\n",
            "Epoch 159/300\n",
            "15/15 [==============================] - 0s 19ms/step - loss: 2.8572e-05 - accuracy: 1.0000 - val_loss: 2.1206 - val_accuracy: 0.6000\n",
            "Epoch 160/300\n",
            "15/15 [==============================] - 0s 20ms/step - loss: 0.0014 - accuracy: 1.0000 - val_loss: 2.1167 - val_accuracy: 0.6000\n",
            "Epoch 161/300\n",
            "15/15 [==============================] - 0s 19ms/step - loss: 1.8351e-04 - accuracy: 1.0000 - val_loss: 2.1101 - val_accuracy: 0.6000\n",
            "Epoch 162/300\n",
            "15/15 [==============================] - 0s 19ms/step - loss: 0.0015 - accuracy: 1.0000 - val_loss: 2.1058 - val_accuracy: 0.6000\n",
            "Epoch 163/300\n",
            "15/15 [==============================] - 0s 23ms/step - loss: 7.1000e-05 - accuracy: 1.0000 - val_loss: 2.1051 - val_accuracy: 0.6000\n",
            "Epoch 164/300\n",
            "15/15 [==============================] - 0s 21ms/step - loss: 0.0324 - accuracy: 0.9778 - val_loss: 3.2979 - val_accuracy: 0.6000\n",
            "Epoch 165/300\n",
            "15/15 [==============================] - 0s 23ms/step - loss: 0.0041 - accuracy: 1.0000 - val_loss: 4.3329 - val_accuracy: 0.5333\n",
            "Epoch 166/300\n",
            "15/15 [==============================] - 0s 20ms/step - loss: 0.0024 - accuracy: 1.0000 - val_loss: 4.3448 - val_accuracy: 0.5333\n",
            "Epoch 167/300\n",
            "15/15 [==============================] - 0s 19ms/step - loss: 0.1435 - accuracy: 0.9778 - val_loss: 3.6392 - val_accuracy: 0.5333\n",
            "Epoch 168/300\n",
            "15/15 [==============================] - 0s 20ms/step - loss: 0.0292 - accuracy: 1.0000 - val_loss: 3.1125 - val_accuracy: 0.6000\n",
            "Epoch 169/300\n",
            "15/15 [==============================] - 0s 21ms/step - loss: 0.0386 - accuracy: 0.9778 - val_loss: 2.1022 - val_accuracy: 0.6667\n",
            "Epoch 170/300\n",
            "15/15 [==============================] - 0s 19ms/step - loss: 8.0520e-05 - accuracy: 1.0000 - val_loss: 1.8331 - val_accuracy: 0.7333\n",
            "Epoch 171/300\n",
            "15/15 [==============================] - 0s 23ms/step - loss: 6.7756e-04 - accuracy: 1.0000 - val_loss: 1.8038 - val_accuracy: 0.7333\n",
            "Epoch 172/300\n",
            "15/15 [==============================] - 0s 20ms/step - loss: 5.5905e-04 - accuracy: 1.0000 - val_loss: 1.7975 - val_accuracy: 0.7333\n",
            "Epoch 173/300\n",
            "15/15 [==============================] - 0s 22ms/step - loss: 0.0041 - accuracy: 1.0000 - val_loss: 2.0032 - val_accuracy: 0.6667\n",
            "Epoch 174/300\n",
            "15/15 [==============================] - 0s 20ms/step - loss: 1.7901e-04 - accuracy: 1.0000 - val_loss: 2.1488 - val_accuracy: 0.6000\n",
            "Epoch 175/300\n",
            "15/15 [==============================] - 0s 19ms/step - loss: 0.0015 - accuracy: 1.0000 - val_loss: 2.2119 - val_accuracy: 0.6000\n",
            "Epoch 176/300\n",
            "15/15 [==============================] - 0s 21ms/step - loss: 3.7237e-04 - accuracy: 1.0000 - val_loss: 2.2281 - val_accuracy: 0.6000\n",
            "Epoch 177/300\n",
            "15/15 [==============================] - 0s 22ms/step - loss: 2.0343e-05 - accuracy: 1.0000 - val_loss: 2.2318 - val_accuracy: 0.6000\n",
            "Epoch 178/300\n",
            "15/15 [==============================] - 0s 20ms/step - loss: 7.5229e-05 - accuracy: 1.0000 - val_loss: 2.2340 - val_accuracy: 0.6000\n",
            "Epoch 179/300\n",
            "15/15 [==============================] - 0s 25ms/step - loss: 0.0410 - accuracy: 0.9778 - val_loss: 2.0285 - val_accuracy: 0.6667\n",
            "Epoch 180/300\n",
            "15/15 [==============================] - 0s 20ms/step - loss: 8.0389e-05 - accuracy: 1.0000 - val_loss: 1.6884 - val_accuracy: 0.6667\n",
            "Epoch 181/300\n",
            "15/15 [==============================] - 0s 20ms/step - loss: 0.0048 - accuracy: 1.0000 - val_loss: 1.6620 - val_accuracy: 0.6667\n",
            "Epoch 182/300\n",
            "15/15 [==============================] - 0s 21ms/step - loss: 0.0069 - accuracy: 1.0000 - val_loss: 1.7526 - val_accuracy: 0.6667\n",
            "Epoch 183/300\n",
            "15/15 [==============================] - 0s 22ms/step - loss: 0.0117 - accuracy: 1.0000 - val_loss: 2.1025 - val_accuracy: 0.6667\n",
            "Epoch 184/300\n",
            "15/15 [==============================] - 0s 21ms/step - loss: 0.0323 - accuracy: 0.9778 - val_loss: 2.7290 - val_accuracy: 0.5333\n",
            "Epoch 185/300\n",
            "15/15 [==============================] - 0s 20ms/step - loss: 0.0034 - accuracy: 1.0000 - val_loss: 3.5714 - val_accuracy: 0.5333\n",
            "Epoch 186/300\n",
            "15/15 [==============================] - 0s 19ms/step - loss: 0.0620 - accuracy: 0.9556 - val_loss: 3.4295 - val_accuracy: 0.6000\n",
            "Epoch 187/300\n",
            "15/15 [==============================] - 0s 22ms/step - loss: 0.0091 - accuracy: 1.0000 - val_loss: 3.3962 - val_accuracy: 0.6000\n",
            "Epoch 188/300\n",
            "15/15 [==============================] - 0s 20ms/step - loss: 0.0945 - accuracy: 0.9778 - val_loss: 3.6879 - val_accuracy: 0.5333\n",
            "Epoch 189/300\n",
            "15/15 [==============================] - 0s 19ms/step - loss: 0.0030 - accuracy: 1.0000 - val_loss: 3.6386 - val_accuracy: 0.5333\n",
            "Epoch 190/300\n",
            "15/15 [==============================] - 0s 21ms/step - loss: 8.0668e-04 - accuracy: 1.0000 - val_loss: 3.6517 - val_accuracy: 0.5333\n",
            "Epoch 191/300\n",
            "15/15 [==============================] - 0s 19ms/step - loss: 0.0513 - accuracy: 0.9556 - val_loss: 2.3109 - val_accuracy: 0.6667\n",
            "Epoch 192/300\n",
            "15/15 [==============================] - 0s 20ms/step - loss: 0.1029 - accuracy: 0.9556 - val_loss: 1.7743 - val_accuracy: 0.8667\n",
            "Epoch 193/300\n",
            "15/15 [==============================] - 0s 20ms/step - loss: 0.0036 - accuracy: 1.0000 - val_loss: 1.8132 - val_accuracy: 0.8000\n",
            "Epoch 194/300\n",
            "15/15 [==============================] - 0s 20ms/step - loss: 7.5343e-05 - accuracy: 1.0000 - val_loss: 1.8768 - val_accuracy: 0.8000\n",
            "Epoch 195/300\n",
            "15/15 [==============================] - 0s 20ms/step - loss: 0.0027 - accuracy: 1.0000 - val_loss: 1.8547 - val_accuracy: 0.8000\n",
            "Epoch 196/300\n",
            "15/15 [==============================] - 0s 20ms/step - loss: 0.0127 - accuracy: 1.0000 - val_loss: 1.8557 - val_accuracy: 0.8667\n",
            "Epoch 197/300\n",
            "15/15 [==============================] - 0s 23ms/step - loss: 0.0046 - accuracy: 1.0000 - val_loss: 1.9732 - val_accuracy: 0.8667\n",
            "Epoch 198/300\n",
            "15/15 [==============================] - 0s 20ms/step - loss: 9.6301e-05 - accuracy: 1.0000 - val_loss: 2.0191 - val_accuracy: 0.8667\n",
            "Epoch 199/300\n",
            "15/15 [==============================] - 0s 20ms/step - loss: 4.3551e-05 - accuracy: 1.0000 - val_loss: 2.0288 - val_accuracy: 0.8667\n",
            "Epoch 200/300\n",
            "15/15 [==============================] - 0s 20ms/step - loss: 5.5247e-04 - accuracy: 1.0000 - val_loss: 2.0316 - val_accuracy: 0.8667\n",
            "Epoch 201/300\n",
            "15/15 [==============================] - 0s 22ms/step - loss: 0.0880 - accuracy: 0.9556 - val_loss: 2.4176 - val_accuracy: 0.6667\n",
            "Epoch 202/300\n",
            "15/15 [==============================] - 0s 19ms/step - loss: 0.1079 - accuracy: 0.9778 - val_loss: 4.5151 - val_accuracy: 0.5333\n",
            "Epoch 203/300\n",
            "15/15 [==============================] - 0s 20ms/step - loss: 1.3910e-04 - accuracy: 1.0000 - val_loss: 3.8708 - val_accuracy: 0.6000\n",
            "Epoch 204/300\n",
            "15/15 [==============================] - 0s 20ms/step - loss: 0.1973 - accuracy: 0.9556 - val_loss: 2.4572 - val_accuracy: 0.6667\n",
            "Epoch 205/300\n",
            "15/15 [==============================] - 0s 21ms/step - loss: 4.5667e-04 - accuracy: 1.0000 - val_loss: 2.4805 - val_accuracy: 0.6667\n",
            "Epoch 206/300\n",
            "15/15 [==============================] - 0s 22ms/step - loss: 0.0011 - accuracy: 1.0000 - val_loss: 2.4995 - val_accuracy: 0.6667\n",
            "Epoch 207/300\n",
            "15/15 [==============================] - 0s 21ms/step - loss: 0.0045 - accuracy: 1.0000 - val_loss: 2.5450 - val_accuracy: 0.6667\n",
            "Epoch 208/300\n",
            "15/15 [==============================] - 0s 20ms/step - loss: 3.3322e-04 - accuracy: 1.0000 - val_loss: 2.5492 - val_accuracy: 0.6667\n",
            "Epoch 209/300\n",
            "15/15 [==============================] - 0s 20ms/step - loss: 9.5171e-04 - accuracy: 1.0000 - val_loss: 2.5292 - val_accuracy: 0.6667\n",
            "Epoch 210/300\n",
            "15/15 [==============================] - 0s 19ms/step - loss: 0.0013 - accuracy: 1.0000 - val_loss: 2.5293 - val_accuracy: 0.6667\n",
            "Epoch 211/300\n",
            "15/15 [==============================] - 0s 21ms/step - loss: 0.0189 - accuracy: 1.0000 - val_loss: 2.8558 - val_accuracy: 0.6667\n",
            "Epoch 212/300\n",
            "15/15 [==============================] - 0s 21ms/step - loss: 4.4702e-04 - accuracy: 1.0000 - val_loss: 2.9208 - val_accuracy: 0.6667\n",
            "Epoch 213/300\n",
            "15/15 [==============================] - 0s 21ms/step - loss: 2.3450e-04 - accuracy: 1.0000 - val_loss: 2.9334 - val_accuracy: 0.6667\n",
            "Epoch 214/300\n",
            "15/15 [==============================] - 0s 22ms/step - loss: 9.7669e-04 - accuracy: 1.0000 - val_loss: 2.9193 - val_accuracy: 0.6667\n",
            "Epoch 215/300\n",
            "15/15 [==============================] - 0s 21ms/step - loss: 1.2314e-04 - accuracy: 1.0000 - val_loss: 2.9156 - val_accuracy: 0.6667\n",
            "Epoch 216/300\n",
            "15/15 [==============================] - 0s 21ms/step - loss: 0.0889 - accuracy: 0.9778 - val_loss: 2.2282 - val_accuracy: 0.7333\n",
            "Epoch 217/300\n",
            "15/15 [==============================] - 0s 24ms/step - loss: 0.0759 - accuracy: 0.9778 - val_loss: 2.3150 - val_accuracy: 0.8000\n",
            "Epoch 218/300\n",
            "15/15 [==============================] - 0s 21ms/step - loss: 0.0020 - accuracy: 1.0000 - val_loss: 2.4092 - val_accuracy: 0.8000\n",
            "Epoch 219/300\n",
            "15/15 [==============================] - 0s 21ms/step - loss: 0.0161 - accuracy: 1.0000 - val_loss: 2.3906 - val_accuracy: 0.8000\n",
            "Epoch 220/300\n",
            "15/15 [==============================] - 0s 22ms/step - loss: 0.0019 - accuracy: 1.0000 - val_loss: 2.3905 - val_accuracy: 0.8000\n",
            "Epoch 221/300\n",
            "15/15 [==============================] - 0s 20ms/step - loss: 0.0024 - accuracy: 1.0000 - val_loss: 2.4314 - val_accuracy: 0.8000\n",
            "Epoch 222/300\n",
            "15/15 [==============================] - 0s 24ms/step - loss: 0.0014 - accuracy: 1.0000 - val_loss: 2.4627 - val_accuracy: 0.8000\n",
            "Epoch 223/300\n",
            "15/15 [==============================] - 0s 22ms/step - loss: 0.0041 - accuracy: 1.0000 - val_loss: 2.4965 - val_accuracy: 0.8000\n",
            "Epoch 224/300\n",
            "15/15 [==============================] - 0s 26ms/step - loss: 0.0024 - accuracy: 1.0000 - val_loss: 2.5466 - val_accuracy: 0.8000\n",
            "Epoch 225/300\n",
            "15/15 [==============================] - 0s 21ms/step - loss: 0.1444 - accuracy: 0.9778 - val_loss: 2.5150 - val_accuracy: 0.7333\n",
            "Epoch 226/300\n",
            "15/15 [==============================] - 0s 21ms/step - loss: 2.7183e-04 - accuracy: 1.0000 - val_loss: 2.4816 - val_accuracy: 0.7333\n",
            "Epoch 227/300\n",
            "15/15 [==============================] - 0s 20ms/step - loss: 0.0098 - accuracy: 1.0000 - val_loss: 2.3456 - val_accuracy: 0.7333\n",
            "Epoch 228/300\n",
            "15/15 [==============================] - 0s 21ms/step - loss: 6.1428e-04 - accuracy: 1.0000 - val_loss: 2.1913 - val_accuracy: 0.7333\n",
            "Epoch 229/300\n",
            "15/15 [==============================] - 0s 20ms/step - loss: 0.0277 - accuracy: 0.9778 - val_loss: 1.9965 - val_accuracy: 0.8000\n",
            "Epoch 230/300\n",
            "15/15 [==============================] - 0s 22ms/step - loss: 1.9399e-04 - accuracy: 1.0000 - val_loss: 2.0175 - val_accuracy: 0.8000\n",
            "Epoch 231/300\n",
            "15/15 [==============================] - 0s 21ms/step - loss: 2.9174e-04 - accuracy: 1.0000 - val_loss: 2.0383 - val_accuracy: 0.8000\n",
            "Epoch 232/300\n",
            "15/15 [==============================] - 0s 23ms/step - loss: 0.0104 - accuracy: 1.0000 - val_loss: 2.2734 - val_accuracy: 0.8000\n",
            "Epoch 233/300\n",
            "15/15 [==============================] - 0s 24ms/step - loss: 0.0085 - accuracy: 1.0000 - val_loss: 2.3068 - val_accuracy: 0.8000\n",
            "Epoch 234/300\n",
            "15/15 [==============================] - 0s 22ms/step - loss: 0.0220 - accuracy: 1.0000 - val_loss: 2.3282 - val_accuracy: 0.7333\n",
            "Epoch 235/300\n",
            "15/15 [==============================] - 0s 21ms/step - loss: 2.3851e-04 - accuracy: 1.0000 - val_loss: 2.4423 - val_accuracy: 0.7333\n",
            "Epoch 236/300\n",
            "15/15 [==============================] - 0s 21ms/step - loss: 0.0622 - accuracy: 0.9778 - val_loss: 2.6734 - val_accuracy: 0.8000\n",
            "Epoch 237/300\n",
            "15/15 [==============================] - 0s 21ms/step - loss: 0.0974 - accuracy: 0.9778 - val_loss: 2.2870 - val_accuracy: 0.7333\n",
            "Epoch 238/300\n",
            "15/15 [==============================] - 0s 21ms/step - loss: 0.0645 - accuracy: 0.9778 - val_loss: 2.0178 - val_accuracy: 0.7333\n",
            "Epoch 239/300\n",
            "15/15 [==============================] - 0s 21ms/step - loss: 0.0104 - accuracy: 1.0000 - val_loss: 2.1250 - val_accuracy: 0.7333\n",
            "Epoch 240/300\n",
            "15/15 [==============================] - 0s 19ms/step - loss: 1.6546e-04 - accuracy: 1.0000 - val_loss: 2.2018 - val_accuracy: 0.7333\n",
            "Epoch 241/300\n",
            "15/15 [==============================] - 0s 21ms/step - loss: 0.0197 - accuracy: 0.9778 - val_loss: 2.7496 - val_accuracy: 0.6667\n",
            "Epoch 242/300\n",
            "15/15 [==============================] - 0s 23ms/step - loss: 0.0439 - accuracy: 0.9778 - val_loss: 2.4135 - val_accuracy: 0.7333\n",
            "Epoch 243/300\n",
            "15/15 [==============================] - 0s 21ms/step - loss: 0.0129 - accuracy: 1.0000 - val_loss: 2.2522 - val_accuracy: 0.7333\n",
            "Epoch 244/300\n",
            "15/15 [==============================] - 0s 22ms/step - loss: 0.0156 - accuracy: 1.0000 - val_loss: 2.3833 - val_accuracy: 0.7333\n",
            "Epoch 245/300\n",
            "15/15 [==============================] - 0s 22ms/step - loss: 1.7657e-04 - accuracy: 1.0000 - val_loss: 2.5501 - val_accuracy: 0.7333\n",
            "Epoch 246/300\n",
            "15/15 [==============================] - 0s 21ms/step - loss: 0.0040 - accuracy: 1.0000 - val_loss: 2.6135 - val_accuracy: 0.7333\n",
            "Epoch 247/300\n",
            "15/15 [==============================] - 0s 19ms/step - loss: 0.0012 - accuracy: 1.0000 - val_loss: 2.6281 - val_accuracy: 0.7333\n",
            "Epoch 248/300\n",
            "15/15 [==============================] - 0s 20ms/step - loss: 0.0027 - accuracy: 1.0000 - val_loss: 2.6232 - val_accuracy: 0.7333\n",
            "Epoch 249/300\n",
            "15/15 [==============================] - 0s 21ms/step - loss: 1.6998e-04 - accuracy: 1.0000 - val_loss: 2.6113 - val_accuracy: 0.7333\n",
            "Epoch 250/300\n",
            "15/15 [==============================] - 0s 20ms/step - loss: 5.7434e-04 - accuracy: 1.0000 - val_loss: 2.6055 - val_accuracy: 0.7333\n",
            "Epoch 251/300\n",
            "15/15 [==============================] - 0s 22ms/step - loss: 0.0136 - accuracy: 1.0000 - val_loss: 2.6265 - val_accuracy: 0.7333\n",
            "Epoch 252/300\n",
            "15/15 [==============================] - 0s 19ms/step - loss: 2.3900e-04 - accuracy: 1.0000 - val_loss: 2.6596 - val_accuracy: 0.7333\n",
            "Epoch 253/300\n",
            "15/15 [==============================] - 0s 23ms/step - loss: 0.0021 - accuracy: 1.0000 - val_loss: 2.7193 - val_accuracy: 0.7333\n",
            "Epoch 254/300\n",
            "15/15 [==============================] - 0s 21ms/step - loss: 3.6759e-04 - accuracy: 1.0000 - val_loss: 2.7523 - val_accuracy: 0.7333\n",
            "Epoch 255/300\n",
            "15/15 [==============================] - 0s 21ms/step - loss: 5.1191e-05 - accuracy: 1.0000 - val_loss: 2.7616 - val_accuracy: 0.7333\n",
            "Epoch 256/300\n",
            "15/15 [==============================] - 0s 20ms/step - loss: 0.0215 - accuracy: 0.9778 - val_loss: 3.0120 - val_accuracy: 0.7333\n",
            "Epoch 257/300\n",
            "15/15 [==============================] - 0s 22ms/step - loss: 0.0125 - accuracy: 1.0000 - val_loss: 3.0563 - val_accuracy: 0.7333\n",
            "Epoch 258/300\n",
            "15/15 [==============================] - 0s 21ms/step - loss: 0.0074 - accuracy: 1.0000 - val_loss: 3.0959 - val_accuracy: 0.7333\n",
            "Epoch 259/300\n",
            "15/15 [==============================] - 0s 21ms/step - loss: 0.0025 - accuracy: 1.0000 - val_loss: 3.1450 - val_accuracy: 0.7333\n",
            "Epoch 260/300\n",
            "15/15 [==============================] - 0s 24ms/step - loss: 3.2324e-04 - accuracy: 1.0000 - val_loss: 3.1771 - val_accuracy: 0.7333\n",
            "Epoch 261/300\n",
            "15/15 [==============================] - 0s 23ms/step - loss: 8.5140e-05 - accuracy: 1.0000 - val_loss: 3.1834 - val_accuracy: 0.7333\n",
            "Epoch 262/300\n",
            "15/15 [==============================] - 0s 20ms/step - loss: 0.0102 - accuracy: 1.0000 - val_loss: 3.1398 - val_accuracy: 0.7333\n",
            "Epoch 263/300\n",
            "15/15 [==============================] - 0s 25ms/step - loss: 0.0012 - accuracy: 1.0000 - val_loss: 3.1020 - val_accuracy: 0.7333\n",
            "Epoch 264/300\n",
            "15/15 [==============================] - 0s 21ms/step - loss: 0.0072 - accuracy: 1.0000 - val_loss: 3.1605 - val_accuracy: 0.7333\n",
            "Epoch 265/300\n",
            "15/15 [==============================] - 0s 22ms/step - loss: 0.0014 - accuracy: 1.0000 - val_loss: 3.2037 - val_accuracy: 0.7333\n",
            "Epoch 266/300\n",
            "15/15 [==============================] - 0s 23ms/step - loss: 5.8710e-04 - accuracy: 1.0000 - val_loss: 3.1880 - val_accuracy: 0.7333\n",
            "Epoch 267/300\n",
            "15/15 [==============================] - 0s 20ms/step - loss: 2.7619e-04 - accuracy: 1.0000 - val_loss: 3.1837 - val_accuracy: 0.7333\n",
            "Epoch 268/300\n",
            "15/15 [==============================] - 0s 21ms/step - loss: 4.1219e-05 - accuracy: 1.0000 - val_loss: 3.1832 - val_accuracy: 0.7333\n",
            "Epoch 269/300\n",
            "15/15 [==============================] - 0s 22ms/step - loss: 4.6503e-05 - accuracy: 1.0000 - val_loss: 3.1840 - val_accuracy: 0.7333\n",
            "Epoch 270/300\n",
            "15/15 [==============================] - 0s 22ms/step - loss: 2.7480e-05 - accuracy: 1.0000 - val_loss: 3.1848 - val_accuracy: 0.7333\n",
            "Epoch 271/300\n",
            "15/15 [==============================] - 0s 19ms/step - loss: 1.2843e-05 - accuracy: 1.0000 - val_loss: 3.1856 - val_accuracy: 0.7333\n",
            "Epoch 272/300\n",
            "15/15 [==============================] - 0s 21ms/step - loss: 2.8134e-05 - accuracy: 1.0000 - val_loss: 3.1862 - val_accuracy: 0.7333\n",
            "Epoch 273/300\n",
            "15/15 [==============================] - 0s 23ms/step - loss: 3.7377e-06 - accuracy: 1.0000 - val_loss: 3.1866 - val_accuracy: 0.7333\n",
            "Epoch 274/300\n",
            "15/15 [==============================] - 0s 21ms/step - loss: 0.0040 - accuracy: 1.0000 - val_loss: 3.2611 - val_accuracy: 0.7333\n",
            "Epoch 275/300\n",
            "15/15 [==============================] - 0s 21ms/step - loss: 6.6752e-06 - accuracy: 1.0000 - val_loss: 3.2957 - val_accuracy: 0.7333\n",
            "Epoch 276/300\n",
            "15/15 [==============================] - 0s 21ms/step - loss: 2.0581e-05 - accuracy: 1.0000 - val_loss: 3.3031 - val_accuracy: 0.7333\n",
            "Epoch 277/300\n",
            "15/15 [==============================] - 0s 20ms/step - loss: 0.0041 - accuracy: 1.0000 - val_loss: 3.2448 - val_accuracy: 0.7333\n",
            "Epoch 278/300\n",
            "15/15 [==============================] - 0s 21ms/step - loss: 3.1842e-05 - accuracy: 1.0000 - val_loss: 3.1967 - val_accuracy: 0.7333\n",
            "Epoch 279/300\n",
            "15/15 [==============================] - 0s 24ms/step - loss: 0.0352 - accuracy: 0.9778 - val_loss: 3.5098 - val_accuracy: 0.8000\n",
            "Epoch 280/300\n",
            "15/15 [==============================] - 0s 20ms/step - loss: 0.0615 - accuracy: 0.9778 - val_loss: 3.4830 - val_accuracy: 0.7333\n",
            "Epoch 281/300\n",
            "15/15 [==============================] - 0s 20ms/step - loss: 0.0139 - accuracy: 1.0000 - val_loss: 3.6585 - val_accuracy: 0.6667\n",
            "Epoch 282/300\n",
            "15/15 [==============================] - 0s 22ms/step - loss: 1.2063e-04 - accuracy: 1.0000 - val_loss: 3.6420 - val_accuracy: 0.7333\n",
            "Epoch 283/300\n",
            "15/15 [==============================] - 0s 22ms/step - loss: 3.3203e-04 - accuracy: 1.0000 - val_loss: 3.6584 - val_accuracy: 0.7333\n",
            "Epoch 284/300\n",
            "15/15 [==============================] - 0s 21ms/step - loss: 9.8090e-05 - accuracy: 1.0000 - val_loss: 3.6699 - val_accuracy: 0.7333\n",
            "Epoch 285/300\n",
            "15/15 [==============================] - 0s 21ms/step - loss: 0.0025 - accuracy: 1.0000 - val_loss: 3.6953 - val_accuracy: 0.6667\n",
            "Epoch 286/300\n",
            "15/15 [==============================] - 0s 21ms/step - loss: 0.0100 - accuracy: 1.0000 - val_loss: 3.6181 - val_accuracy: 0.7333\n",
            "Epoch 287/300\n",
            "15/15 [==============================] - 0s 23ms/step - loss: 1.6272e-05 - accuracy: 1.0000 - val_loss: 3.6364 - val_accuracy: 0.7333\n",
            "Epoch 288/300\n",
            "15/15 [==============================] - 0s 21ms/step - loss: 6.4637e-04 - accuracy: 1.0000 - val_loss: 3.6508 - val_accuracy: 0.7333\n",
            "Epoch 289/300\n",
            "15/15 [==============================] - 0s 24ms/step - loss: 0.0015 - accuracy: 1.0000 - val_loss: 3.7010 - val_accuracy: 0.7333\n",
            "Epoch 290/300\n",
            "15/15 [==============================] - 0s 22ms/step - loss: 0.0079 - accuracy: 1.0000 - val_loss: 4.3950 - val_accuracy: 0.7333\n",
            "Epoch 291/300\n",
            "15/15 [==============================] - 0s 21ms/step - loss: 0.0713 - accuracy: 0.9778 - val_loss: 4.4706 - val_accuracy: 0.6000\n",
            "Epoch 292/300\n",
            "15/15 [==============================] - 0s 19ms/step - loss: 0.0781 - accuracy: 0.9778 - val_loss: 3.9297 - val_accuracy: 0.8000\n",
            "Epoch 293/300\n",
            "15/15 [==============================] - 0s 21ms/step - loss: 0.4124 - accuracy: 0.9556 - val_loss: 2.5751 - val_accuracy: 0.7333\n",
            "Epoch 294/300\n",
            "15/15 [==============================] - 0s 22ms/step - loss: 0.0309 - accuracy: 0.9778 - val_loss: 2.3986 - val_accuracy: 0.7333\n",
            "Epoch 295/300\n",
            "15/15 [==============================] - 0s 22ms/step - loss: 0.0036 - accuracy: 1.0000 - val_loss: 2.4664 - val_accuracy: 0.7333\n",
            "Epoch 296/300\n",
            "15/15 [==============================] - 0s 21ms/step - loss: 2.2644e-04 - accuracy: 1.0000 - val_loss: 2.5266 - val_accuracy: 0.7333\n",
            "Epoch 297/300\n",
            "15/15 [==============================] - 0s 22ms/step - loss: 0.0029 - accuracy: 1.0000 - val_loss: 2.6414 - val_accuracy: 0.7333\n",
            "Epoch 298/300\n",
            "15/15 [==============================] - 0s 25ms/step - loss: 0.0025 - accuracy: 1.0000 - val_loss: 2.8657 - val_accuracy: 0.7333\n",
            "Epoch 299/300\n",
            "15/15 [==============================] - 0s 22ms/step - loss: 9.3098e-04 - accuracy: 1.0000 - val_loss: 3.0158 - val_accuracy: 0.7333\n",
            "Epoch 300/300\n",
            "15/15 [==============================] - 0s 22ms/step - loss: 1.5479e-04 - accuracy: 1.0000 - val_loss: 3.0528 - val_accuracy: 0.7333\n"
          ]
        },
        {
          "output_type": "execute_result",
          "data": {
            "text/plain": [
              "<keras.callbacks.History at 0x7ff1c2976d10>"
            ]
          },
          "metadata": {},
          "execution_count": 49
        }
      ]
    },
    {
      "cell_type": "code",
      "source": [
        "model.evaluate(test_datagenerator)"
      ],
      "metadata": {
        "colab": {
          "base_uri": "https://localhost:8080/"
        },
        "id": "-IMRDJPLrV1m",
        "outputId": "fcc07346-c4b7-4741-87fe-109846cd2e28"
      },
      "execution_count": 50,
      "outputs": [
        {
          "output_type": "stream",
          "name": "stdout",
          "text": [
            "5/5 [==============================] - 0s 7ms/step - loss: 3.0528 - accuracy: 0.7333\n"
          ]
        },
        {
          "output_type": "execute_result",
          "data": {
            "text/plain": [
              "[3.0527725219726562, 0.7333333492279053]"
            ]
          },
          "metadata": {},
          "execution_count": 50
        }
      ]
    }
  ]
}