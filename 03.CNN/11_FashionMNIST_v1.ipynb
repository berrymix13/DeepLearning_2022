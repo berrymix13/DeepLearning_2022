{
  "nbformat": 4,
  "nbformat_minor": 0,
  "metadata": {
    "colab": {
      "name": "11_FashionMNIST_v1_.ipynb",
      "provenance": [],
      "collapsed_sections": []
    },
    "kernelspec": {
      "name": "python3",
      "display_name": "Python 3"
    },
    "language_info": {
      "name": "python"
    },
    "accelerator": "GPU"
  },
  "cells": [
    {
      "cell_type": "markdown",
      "source": [
        "# Fashion MNIST 손글씨 - CNN v1\n",
        "- 2 x Conv2D layers\n",
        "- 1 MaxPooling2D layer\n",
        "- 1 Dropout(0.25) layer\n",
        "- 1 FCN layer\n",
        "- 1 Dropout(0.25) layer\n",
        "- 1 Outputlayer"
      ],
      "metadata": {
        "id": "p80_ZwOBd3JI"
      }
    },
    {
      "cell_type": "code",
      "execution_count": 1,
      "metadata": {
        "id": "cXzT-ePpdze3"
      },
      "outputs": [],
      "source": [
        "import numpy as np\n",
        "import pandas as pd\n",
        "import matplotlib.pyplot as plt\n",
        "import tensorflow as tf\n",
        "seed = 2022\n",
        "np.random.seed(seed)\n",
        "tf.random.set_seed(seed)"
      ]
    },
    {
      "cell_type": "code",
      "source": [
        "from tensorflow.keras.datasets import fashion_mnist\n",
        "(X_train, y_train), (X_test, y_test) = fashion_mnist.load_data()\n",
        "X_train.shape, y_train.shape, X_test.shape, y_test.shape"
      ],
      "metadata": {
        "colab": {
          "base_uri": "https://localhost:8080/"
        },
        "id": "3eYLGTb6eKrL",
        "outputId": "f0287ecd-ab5a-499b-b2ba-9be748e3eeb0"
      },
      "execution_count": 3,
      "outputs": [
        {
          "output_type": "stream",
          "name": "stdout",
          "text": [
            "Downloading data from https://storage.googleapis.com/tensorflow/tf-keras-datasets/train-labels-idx1-ubyte.gz\n",
            "32768/29515 [=================================] - 0s 0us/step\n",
            "40960/29515 [=========================================] - 0s 0us/step\n",
            "Downloading data from https://storage.googleapis.com/tensorflow/tf-keras-datasets/train-images-idx3-ubyte.gz\n",
            "26427392/26421880 [==============================] - 0s 0us/step\n",
            "26435584/26421880 [==============================] - 0s 0us/step\n",
            "Downloading data from https://storage.googleapis.com/tensorflow/tf-keras-datasets/t10k-labels-idx1-ubyte.gz\n",
            "16384/5148 [===============================================================================================] - 0s 0us/step\n",
            "Downloading data from https://storage.googleapis.com/tensorflow/tf-keras-datasets/t10k-images-idx3-ubyte.gz\n",
            "4423680/4422102 [==============================] - 0s 0us/step\n",
            "4431872/4422102 [==============================] - 0s 0us/step\n"
          ]
        },
        {
          "output_type": "execute_result",
          "data": {
            "text/plain": [
              "((60000, 28, 28), (60000,), (10000, 28, 28), (10000,))"
            ]
          },
          "metadata": {},
          "execution_count": 3
        }
      ]
    },
    {
      "cell_type": "code",
      "source": [
        "plt.imshow(X_train[0], cmap = 'Greys')"
      ],
      "metadata": {
        "colab": {
          "base_uri": "https://localhost:8080/",
          "height": 284
        },
        "id": "wMkhXbtHzcl_",
        "outputId": "4e9661c6-648d-4f7e-fa12-244496f75e50"
      },
      "execution_count": 8,
      "outputs": [
        {
          "output_type": "execute_result",
          "data": {
            "text/plain": [
              "<matplotlib.image.AxesImage at 0x7fe8880ef410>"
            ]
          },
          "metadata": {},
          "execution_count": 8
        },
        {
          "output_type": "display_data",
          "data": {
            "text/plain": [
              "<Figure size 432x288 with 1 Axes>"
            ],
            "image/png": "[encoded data removed]"
          },
          "metadata": {
            "needs_background": "light"
          }
        }
      ]
    },
    {
      "cell_type": "code",
      "source": [
        "class_names = ['T-shirt/top', 'Trouser', 'Pullover', 'Dress', 'Coat',\n",
        "               'Sandal', 'Shirt', 'Sneaker', 'Bag', 'Ankle boot']"
      ],
      "metadata": {
        "id": "atbreHLTzsS7"
      },
      "execution_count": 10,
      "outputs": []
    },
    {
      "cell_type": "code",
      "source": [
        "plt.figure(figsize = (13, 5))\n",
        "for i in range(1, 11):\n",
        "    plt.subplot(2, 5, i)\n",
        "    plt.imshow(X_train[i], cmap = 'Greys');\n",
        "    plt.title(class_names[y_train[i]])\n",
        "    plt.xticks([]), plt.yticks([])"
      ],
      "metadata": {
        "colab": {
          "base_uri": "https://localhost:8080/",
          "height": 322
        },
        "id": "31ML6x5szvhu",
        "outputId": "63974244-e051-4067-a8fb-2f0deda62734"
      },
      "execution_count": 12,
      "outputs": [
        {
          "output_type": "display_data",
          "data": {
            "text/plain": [
              "<Figure size 936x360 with 10 Axes>"
            ],
            "image/png": "[encoded data removed]"
          },
          "metadata": {}
        }
      ]
    },
    {
      "cell_type": "markdown",
      "source": [
        "## 이미지 정규화와 차원 변경\n",
        "- 2차원 => 3차원"
      ],
      "metadata": {
        "id": "VEBdSA49ef5T"
      }
    },
    {
      "cell_type": "code",
      "source": [
        "# 정규화    # 이미지 차원 변경  : 2차원 -> 1차원\n",
        "X_train = X_train.reshape(-1, 28, 28) / 255.\n",
        "X_test = X_test.reshape(-1, 28, 28) / 255.\n",
        "X_train.shape, X_test.shape"
      ],
      "metadata": {
        "colab": {
          "base_uri": "https://localhost:8080/"
        },
        "id": "FcIM7sSIeP07",
        "outputId": "983f31a1-232e-4f2e-d807-2c3c0860c7be"
      },
      "execution_count": 4,
      "outputs": [
        {
          "output_type": "execute_result",
          "data": {
            "text/plain": [
              "((60000, 28, 28), (10000, 28, 28))"
            ]
          },
          "metadata": {},
          "execution_count": 4
        }
      ]
    },
    {
      "cell_type": "markdown",
      "source": [
        "## 원핫인코딩"
      ],
      "metadata": {
        "id": "2ByQedr_e-nn"
      }
    },
    {
      "cell_type": "code",
      "source": [
        "from tensorflow.keras.utils import to_categorical\n",
        "Y_train = to_categorical(y_train)\n",
        "Y_test = to_categorical(y_test)\n",
        "Y_train.shape, Y_test.shape\n",
        "\n",
        "# 어떻게 생긴건지 궁금하다..."
      ],
      "metadata": {
        "colab": {
          "base_uri": "https://localhost:8080/"
        },
        "id": "8yPEvkgiez8r",
        "outputId": "b2277cf8-52d4-4375-e5d7-97fba158cc66"
      },
      "execution_count": 5,
      "outputs": [
        {
          "output_type": "execute_result",
          "data": {
            "text/plain": [
              "((60000, 10), (10000, 10))"
            ]
          },
          "metadata": {},
          "execution_count": 5
        }
      ]
    },
    {
      "cell_type": "markdown",
      "source": [
        "## 모델 정의 및 설정\n",
        "- (28, 28, 1) 이지만, 2차원에 컬러일 뿐\n",
        "- 동영상같은 것이 3차원임\n",
        "- 차원 축소를 위한 Flatten"
      ],
      "metadata": {
        "id": "g6usA6BJfKE9"
      }
    },
    {
      "cell_type": "code",
      "source": [
        "from tensorflow.keras.models import Sequential, load_model\n",
        "from tensorflow.keras.layers import Dense, Conv2D, Flatten, MaxPooling2D, Dropout\n",
        "from tensorflow.keras.callbacks import ModelCheckpoint, EarlyStopping"
      ],
      "metadata": {
        "id": "rMCuY3ScfDNr"
      },
      "execution_count": 6,
      "outputs": []
    },
    {
      "cell_type": "code",
      "source": [
        "model = Sequential([\n",
        "    Conv2D(filters=32, kernel_size = (3, 3), input_shape = (28, 28, 1), activation = 'relu'),     # (26, 26, 32)  = (계산된 N , 축소된 N , 필터의 수)\n",
        "    Conv2D(64, (3,3), activation='relu'),   # (24, 24, 64)\n",
        "    MaxPooling2D(),                         # MaxPooling2D(poolsize = (2, 2))\n",
        "    Dropout(0.25),\n",
        "    Flatten(),                              # Dense를 위한 Flatten\n",
        "    Dense(512, activation = 'relu'),\n",
        "    Dropout(0.25),\n",
        "    Dense(10, activation = 'softmax')\n",
        "])\n",
        "model.summary()"
      ],
      "metadata": {
        "colab": {
          "base_uri": "https://localhost:8080/"
        },
        "id": "Kcq9p3G7fP4q",
        "outputId": "30247ec2-ff44-49e3-e435-07368e617a6d"
      },
      "execution_count": 7,
      "outputs": [
        {
          "output_type": "stream",
          "name": "stdout",
          "text": [
            "Model: \"sequential\"\n",
            "_________________________________________________________________\n",
            " Layer (type)                Output Shape              Param #   \n",
            "=================================================================\n",
            " conv2d (Conv2D)             (None, 26, 26, 32)        320       \n",
            "                                                                 \n",
            " conv2d_1 (Conv2D)           (None, 24, 24, 64)        18496     \n",
            "                                                                 \n",
            " max_pooling2d (MaxPooling2D  (None, 12, 12, 64)       0         \n",
            " )                                                               \n",
            "                                                                 \n",
            " dropout (Dropout)           (None, 12, 12, 64)        0         \n",
            "                                                                 \n",
            " flatten (Flatten)           (None, 9216)              0         \n",
            "                                                                 \n",
            " dense (Dense)               (None, 512)               4719104   \n",
            "                                                                 \n",
            " dropout_1 (Dropout)         (None, 512)               0         \n",
            "                                                                 \n",
            " dense_1 (Dense)             (None, 10)                5130      \n",
            "                                                                 \n",
            "=================================================================\n",
            "Total params: 4,743,050\n",
            "Trainable params: 4,743,050\n",
            "Non-trainable params: 0\n",
            "_________________________________________________________________\n"
          ]
        }
      ]
    },
    {
      "cell_type": "code",
      "source": [
        "model.compile('adam', 'categorical_crossentropy',['accuracy'])"
      ],
      "metadata": {
        "id": "7o4o_uwbfP6V"
      },
      "execution_count": 9,
      "outputs": []
    },
    {
      "cell_type": "code",
      "source": [
        "model_path = 'best-fashion_mnist-cnn-v1.h5'\n",
        "mc = ModelCheckpoint(model_path, save_best_only=True, verbose = 1)\n",
        "es = EarlyStopping(patience = 10)"
      ],
      "metadata": {
        "id": "OFjvGy3VfP81"
      },
      "execution_count": 13,
      "outputs": []
    },
    {
      "cell_type": "markdown",
      "source": [
        "## 모델 학습 및 평가"
      ],
      "metadata": {
        "id": "rEs4V1DbfL_B"
      }
    },
    {
      "cell_type": "code",
      "source": [
        "hist = model.fit(X_train, Y_train, validation_split= 0.2,\n",
        "                 epochs = 100, batch_size = 200,\n",
        "                 callbacks = [mc, es])"
      ],
      "metadata": {
        "colab": {
          "base_uri": "https://localhost:8080/"
        },
        "id": "-Gw3CVwjfNJc",
        "outputId": "b749765b-bd64-4798-f57c-353d407c57c4"
      },
      "execution_count": 14,
      "outputs": [
        {
          "output_type": "stream",
          "name": "stdout",
          "text": [
            "Epoch 1/100\n",
            "239/240 [============================>.] - ETA: 0s - loss: 0.4732 - accuracy: 0.8304\n",
            "Epoch 1: val_loss improved from inf to 0.31582, saving model to best-fashion_mnist-cnn-v1.h5\n",
            "240/240 [==============================] - 15s 15ms/step - loss: 0.4730 - accuracy: 0.8304 - val_loss: 0.3158 - val_accuracy: 0.8867\n",
            "Epoch 2/100\n",
            "240/240 [==============================] - ETA: 0s - loss: 0.2923 - accuracy: 0.8945\n",
            "Epoch 2: val_loss improved from 0.31582 to 0.27525, saving model to best-fashion_mnist-cnn-v1.h5\n",
            "240/240 [==============================] - 3s 14ms/step - loss: 0.2923 - accuracy: 0.8945 - val_loss: 0.2753 - val_accuracy: 0.8982\n",
            "Epoch 3/100\n",
            "239/240 [============================>.] - ETA: 0s - loss: 0.2368 - accuracy: 0.9127\n",
            "Epoch 3: val_loss improved from 0.27525 to 0.23654, saving model to best-fashion_mnist-cnn-v1.h5\n",
            "240/240 [==============================] - 4s 15ms/step - loss: 0.2370 - accuracy: 0.9126 - val_loss: 0.2365 - val_accuracy: 0.9122\n",
            "Epoch 4/100\n",
            "240/240 [==============================] - ETA: 0s - loss: 0.2026 - accuracy: 0.9250\n",
            "Epoch 4: val_loss improved from 0.23654 to 0.22340, saving model to best-fashion_mnist-cnn-v1.h5\n",
            "240/240 [==============================] - 4s 15ms/step - loss: 0.2026 - accuracy: 0.9250 - val_loss: 0.2234 - val_accuracy: 0.9178\n",
            "Epoch 5/100\n",
            "238/240 [============================>.] - ETA: 0s - loss: 0.1749 - accuracy: 0.9365\n",
            "Epoch 5: val_loss improved from 0.22340 to 0.22325, saving model to best-fashion_mnist-cnn-v1.h5\n",
            "240/240 [==============================] - 3s 14ms/step - loss: 0.1748 - accuracy: 0.9364 - val_loss: 0.2233 - val_accuracy: 0.9188\n",
            "Epoch 6/100\n",
            "240/240 [==============================] - ETA: 0s - loss: 0.1515 - accuracy: 0.9443\n",
            "Epoch 6: val_loss improved from 0.22325 to 0.20799, saving model to best-fashion_mnist-cnn-v1.h5\n",
            "240/240 [==============================] - 3s 14ms/step - loss: 0.1515 - accuracy: 0.9443 - val_loss: 0.2080 - val_accuracy: 0.9255\n",
            "Epoch 7/100\n",
            "240/240 [==============================] - ETA: 0s - loss: 0.1290 - accuracy: 0.9532\n",
            "Epoch 7: val_loss did not improve from 0.20799\n",
            "240/240 [==============================] - 3s 13ms/step - loss: 0.1290 - accuracy: 0.9532 - val_loss: 0.2098 - val_accuracy: 0.9284\n",
            "Epoch 8/100\n",
            "240/240 [==============================] - ETA: 0s - loss: 0.1072 - accuracy: 0.9609\n",
            "Epoch 8: val_loss did not improve from 0.20799\n",
            "240/240 [==============================] - 3s 14ms/step - loss: 0.1072 - accuracy: 0.9609 - val_loss: 0.2266 - val_accuracy: 0.9233\n",
            "Epoch 9/100\n",
            "237/240 [============================>.] - ETA: 0s - loss: 0.0960 - accuracy: 0.9641\n",
            "Epoch 9: val_loss did not improve from 0.20799\n",
            "240/240 [==============================] - 3s 13ms/step - loss: 0.0960 - accuracy: 0.9641 - val_loss: 0.2211 - val_accuracy: 0.9263\n",
            "Epoch 10/100\n",
            "237/240 [============================>.] - ETA: 0s - loss: 0.0785 - accuracy: 0.9716\n",
            "Epoch 10: val_loss did not improve from 0.20799\n",
            "240/240 [==============================] - 3s 14ms/step - loss: 0.0786 - accuracy: 0.9716 - val_loss: 0.2304 - val_accuracy: 0.9277\n",
            "Epoch 11/100\n",
            "238/240 [============================>.] - ETA: 0s - loss: 0.0654 - accuracy: 0.9759\n",
            "Epoch 11: val_loss did not improve from 0.20799\n",
            "240/240 [==============================] - 3s 13ms/step - loss: 0.0656 - accuracy: 0.9758 - val_loss: 0.2436 - val_accuracy: 0.9275\n",
            "Epoch 12/100\n",
            "236/240 [============================>.] - ETA: 0s - loss: 0.0592 - accuracy: 0.9784\n",
            "Epoch 12: val_loss did not improve from 0.20799\n",
            "240/240 [==============================] - 3s 13ms/step - loss: 0.0593 - accuracy: 0.9783 - val_loss: 0.2482 - val_accuracy: 0.9294\n",
            "Epoch 13/100\n",
            "236/240 [============================>.] - ETA: 0s - loss: 0.0496 - accuracy: 0.9821\n",
            "Epoch 13: val_loss did not improve from 0.20799\n",
            "240/240 [==============================] - 3s 13ms/step - loss: 0.0497 - accuracy: 0.9821 - val_loss: 0.2642 - val_accuracy: 0.9270\n",
            "Epoch 14/100\n",
            "238/240 [============================>.] - ETA: 0s - loss: 0.0455 - accuracy: 0.9838\n",
            "Epoch 14: val_loss did not improve from 0.20799\n",
            "240/240 [==============================] - 3s 13ms/step - loss: 0.0453 - accuracy: 0.9839 - val_loss: 0.2576 - val_accuracy: 0.9310\n",
            "Epoch 15/100\n",
            "237/240 [============================>.] - ETA: 0s - loss: 0.0396 - accuracy: 0.9858\n",
            "Epoch 15: val_loss did not improve from 0.20799\n",
            "240/240 [==============================] - 3s 13ms/step - loss: 0.0399 - accuracy: 0.9856 - val_loss: 0.2787 - val_accuracy: 0.9284\n",
            "Epoch 16/100\n",
            "238/240 [============================>.] - ETA: 0s - loss: 0.0352 - accuracy: 0.9871\n",
            "Epoch 16: val_loss did not improve from 0.20799\n",
            "240/240 [==============================] - 3s 13ms/step - loss: 0.0352 - accuracy: 0.9871 - val_loss: 0.2863 - val_accuracy: 0.9268\n"
          ]
        }
      ]
    },
    {
      "cell_type": "code",
      "source": [
        "best_model = load_model(model_path)\n",
        "best_model.evaluate(X_test, Y_test)"
      ],
      "metadata": {
        "id": "IGvVKeSAl4Ho",
        "colab": {
          "base_uri": "https://localhost:8080/"
        },
        "outputId": "a4285097-22c1-4151-e826-e5aab768b190"
      },
      "execution_count": 15,
      "outputs": [
        {
          "output_type": "stream",
          "name": "stdout",
          "text": [
            "313/313 [==============================] - 1s 3ms/step - loss: 0.2277 - accuracy: 0.9199\n"
          ]
        },
        {
          "output_type": "execute_result",
          "data": {
            "text/plain": [
              "[0.22767038643360138, 0.9199000000953674]"
            ]
          },
          "metadata": {},
          "execution_count": 15
        }
      ]
    },
    {
      "cell_type": "markdown",
      "source": [
        "## 학습과정 시각화"
      ],
      "metadata": {
        "id": "EpF9uDChnP6F"
      }
    },
    {
      "cell_type": "code",
      "source": [
        "y_acc = hist.history['accuracy']\n",
        "y_vloss = hist.history['val_loss']\n",
        "xs = np.arange(1, len(y_acc) + 1)\n",
        "\n",
        "plt.figure(figsize = (10, 7))\n",
        "plt.plot(xs, y_acc, label = 'accuracy')\n",
        "plt.plot(xs, y_vloss, label = 'validation_loss')\n",
        "plt.xlabel('Epoch')\n",
        "plt.title('Mnist CNN Model v1')\n",
        "plt.legend()\n",
        "plt.grid(linestyle = ':')\n",
        "\n",
        "plt.show()"
      ],
      "metadata": {
        "colab": {
          "base_uri": "https://localhost:8080/",
          "height": 458
        },
        "id": "C9ja-Ydlm0he",
        "outputId": "858c518d-a5d8-41c5-cb74-a6f2574b6d24"
      },
      "execution_count": 16,
      "outputs": [
        {
          "output_type": "display_data",
          "data": {
            "text/plain": [
              "<Figure size 720x504 with 1 Axes>"
            ],
            "image/png": "[encoded data removed]"
          },
          "metadata": {
            "needs_background": "light"
          }
        }
      ]
    }
  ]
}