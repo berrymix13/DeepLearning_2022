{
  "nbformat": 4,
  "nbformat_minor": 0,
  "metadata": {
    "colab": {
      "name": "11_FashionMNIST_v2_Padding.ipynb",
      "provenance": [],
      "collapsed_sections": []
    },
    "kernelspec": {
      "name": "python3",
      "display_name": "Python 3"
    },
    "language_info": {
      "name": "python"
    },
    "accelerator": "GPU"
  },
  "cells": [
    {
      "cell_type": "markdown",
      "source": [
        "# Fashion MNIST 손글씨 - CNN v2\n",
        "- 2 x Conv2D layers whith padding\n",
        "- 1 MaxPooling2D layer\n",
        "- 1 Dropout(0.25) layer\n",
        "- 1 FCN layer\n",
        "- 1 Dropout(0.25) layer\n",
        "- 1 Outputlayer"
      ],
      "metadata": {
        "id": "p80_ZwOBd3JI"
      }
    },
    {
      "cell_type": "code",
      "execution_count": 1,
      "metadata": {
        "id": "cXzT-ePpdze3"
      },
      "outputs": [],
      "source": [
        "import numpy as np\n",
        "import pandas as pd\n",
        "import matplotlib.pyplot as plt\n",
        "import tensorflow as tf\n",
        "seed = 2022\n",
        "np.random.seed(seed)\n",
        "tf.random.set_seed(seed)"
      ]
    },
    {
      "cell_type": "code",
      "source": [
        "from tensorflow.keras.datasets import fashion_mnist\n",
        "(X_train, y_train), (X_test, y_test) = fashion_mnist.load_data()\n",
        "X_train.shape, y_train.shape, X_test.shape, y_test.shape"
      ],
      "metadata": {
        "colab": {
          "base_uri": "https://localhost:8080/"
        },
        "id": "3eYLGTb6eKrL",
        "outputId": "b0731abe-d672-453e-e155-bbc689d75a83"
      },
      "execution_count": 2,
      "outputs": [
        {
          "output_type": "stream",
          "name": "stdout",
          "text": [
            "Downloading data from https://storage.googleapis.com/tensorflow/tf-keras-datasets/train-labels-idx1-ubyte.gz\n",
            "32768/29515 [=================================] - 0s 0us/step\n",
            "40960/29515 [=========================================] - 0s 0us/step\n",
            "Downloading data from https://storage.googleapis.com/tensorflow/tf-keras-datasets/train-images-idx3-ubyte.gz\n",
            "26427392/26421880 [==============================] - 0s 0us/step\n",
            "26435584/26421880 [==============================] - 0s 0us/step\n",
            "Downloading data from https://storage.googleapis.com/tensorflow/tf-keras-datasets/t10k-labels-idx1-ubyte.gz\n",
            "16384/5148 [===============================================================================================] - 0s 0us/step\n",
            "Downloading data from https://storage.googleapis.com/tensorflow/tf-keras-datasets/t10k-images-idx3-ubyte.gz\n",
            "4423680/4422102 [==============================] - 0s 0us/step\n",
            "4431872/4422102 [==============================] - 0s 0us/step\n"
          ]
        },
        {
          "output_type": "execute_result",
          "data": {
            "text/plain": [
              "((60000, 28, 28), (60000,), (10000, 28, 28), (10000,))"
            ]
          },
          "metadata": {},
          "execution_count": 2
        }
      ]
    },
    {
      "cell_type": "markdown",
      "source": [
        "## 이미지 정규화와 차원 변경\n",
        "- 2차원 => 3차원"
      ],
      "metadata": {
        "id": "VEBdSA49ef5T"
      }
    },
    {
      "cell_type": "code",
      "source": [
        "# 정규화    # 이미지 차원 변경  : 2차원 -> 1차원\n",
        "X_train = X_train.reshape(-1, 28, 28) / 255.\n",
        "X_test = X_test.reshape(-1, 28, 28) / 255.\n",
        "X_train.shape, X_test.shape"
      ],
      "metadata": {
        "colab": {
          "base_uri": "https://localhost:8080/"
        },
        "id": "FcIM7sSIeP07",
        "outputId": "ccb97280-2264-4649-a0c5-d11dd50484a7"
      },
      "execution_count": 3,
      "outputs": [
        {
          "output_type": "execute_result",
          "data": {
            "text/plain": [
              "((60000, 28, 28), (10000, 28, 28))"
            ]
          },
          "metadata": {},
          "execution_count": 3
        }
      ]
    },
    {
      "cell_type": "markdown",
      "source": [
        "## 원핫인코딩"
      ],
      "metadata": {
        "id": "2ByQedr_e-nn"
      }
    },
    {
      "cell_type": "code",
      "source": [
        "from tensorflow.keras.utils import to_categorical\n",
        "Y_train = to_categorical(y_train)\n",
        "Y_test = to_categorical(y_test)\n",
        "Y_train.shape, Y_test.shape\n",
        "\n",
        "# 어떻게 생긴건지 궁금하다..."
      ],
      "metadata": {
        "colab": {
          "base_uri": "https://localhost:8080/"
        },
        "id": "8yPEvkgiez8r",
        "outputId": "cbec3d8f-dbe0-40dd-87f0-dbd6f840d511"
      },
      "execution_count": 4,
      "outputs": [
        {
          "output_type": "execute_result",
          "data": {
            "text/plain": [
              "((60000, 10), (10000, 10))"
            ]
          },
          "metadata": {},
          "execution_count": 4
        }
      ]
    },
    {
      "cell_type": "markdown",
      "source": [
        "## 모델 정의 및 설정\n",
        "- (28, 28, 1) 이지만, 2차원에 컬러일 뿐\n",
        "- 동영상같은 것이 3차원임\n",
        "- 차원 축소를 위한 Flatten"
      ],
      "metadata": {
        "id": "g6usA6BJfKE9"
      }
    },
    {
      "cell_type": "code",
      "source": [
        "from tensorflow.keras.models import Sequential, load_model\n",
        "from tensorflow.keras.layers import Dense, Conv2D, Flatten, MaxPooling2D, Dropout\n",
        "from tensorflow.keras.callbacks import ModelCheckpoint, EarlyStopping"
      ],
      "metadata": {
        "id": "rMCuY3ScfDNr"
      },
      "execution_count": 5,
      "outputs": []
    },
    {
      "cell_type": "code",
      "source": [
        "model = Sequential([\n",
        "    Conv2D(filters=32, padding = 'same', kernel_size = (3, 3), \n",
        "           input_shape = (28, 28, 1), activation = 'relu'),     # (26, 26, 32)  = (계산된 N , 축소된 N , 필터의 수)\n",
        "    Conv2D(64, (3,3), activation='relu'),   # (24, 24, 64)\n",
        "    MaxPooling2D(),                         # MaxPooling2D(poolsize = (2, 2))\n",
        "    Dropout(0.25),\n",
        "    Flatten(),                              # Dense를 위한 Flatten\n",
        "    Dense(512, activation = 'relu'),\n",
        "    Dropout(0.25),\n",
        "    Dense(10, activation = 'softmax')\n",
        "])\n",
        "model.summary()\n",
        "# 패딩으로 인해 파라미터 개수가 바귐\n",
        "# 줄어들지 않았기 때문"
      ],
      "metadata": {
        "colab": {
          "base_uri": "https://localhost:8080/"
        },
        "id": "Kcq9p3G7fP4q",
        "outputId": "93b7f6f4-6889-45df-c15b-7e8994e244d1"
      },
      "execution_count": 6,
      "outputs": [
        {
          "output_type": "stream",
          "name": "stdout",
          "text": [
            "Model: \"sequential\"\n",
            "_________________________________________________________________\n",
            " Layer (type)                Output Shape              Param #   \n",
            "=================================================================\n",
            " conv2d (Conv2D)             (None, 28, 28, 32)        320       \n",
            "                                                                 \n",
            " conv2d_1 (Conv2D)           (None, 26, 26, 64)        18496     \n",
            "                                                                 \n",
            " max_pooling2d (MaxPooling2D  (None, 13, 13, 64)       0         \n",
            " )                                                               \n",
            "                                                                 \n",
            " dropout (Dropout)           (None, 13, 13, 64)        0         \n",
            "                                                                 \n",
            " flatten (Flatten)           (None, 10816)             0         \n",
            "                                                                 \n",
            " dense (Dense)               (None, 512)               5538304   \n",
            "                                                                 \n",
            " dropout_1 (Dropout)         (None, 512)               0         \n",
            "                                                                 \n",
            " dense_1 (Dense)             (None, 10)                5130      \n",
            "                                                                 \n",
            "=================================================================\n",
            "Total params: 5,562,250\n",
            "Trainable params: 5,562,250\n",
            "Non-trainable params: 0\n",
            "_________________________________________________________________\n"
          ]
        }
      ]
    },
    {
      "cell_type": "code",
      "source": [
        "model.compile('adam', 'categorical_crossentropy',['accuracy'])"
      ],
      "metadata": {
        "id": "7o4o_uwbfP6V"
      },
      "execution_count": 7,
      "outputs": []
    },
    {
      "cell_type": "code",
      "source": [
        "model_path = 'best-fashion_mnist-cnn-v2.h5'\n",
        "mc = ModelCheckpoint(model_path, save_best_only=True, verbose = 1)\n",
        "es = EarlyStopping(patience = 10)"
      ],
      "metadata": {
        "id": "OFjvGy3VfP81"
      },
      "execution_count": 8,
      "outputs": []
    },
    {
      "cell_type": "markdown",
      "source": [
        "## 모델 학습 및 평가"
      ],
      "metadata": {
        "id": "rEs4V1DbfL_B"
      }
    },
    {
      "cell_type": "code",
      "source": [
        "hist = model.fit(X_train, Y_train, validation_split= 0.2,\n",
        "                 epochs = 100, batch_size = 200,\n",
        "                 callbacks = [mc, es])"
      ],
      "metadata": {
        "colab": {
          "base_uri": "https://localhost:8080/"
        },
        "id": "-Gw3CVwjfNJc",
        "outputId": "15a45789-a1e5-4609-dc59-20707693b915"
      },
      "execution_count": 9,
      "outputs": [
        {
          "output_type": "stream",
          "name": "stdout",
          "text": [
            "Epoch 1/100\n",
            "238/240 [============================>.] - ETA: 0s - loss: 0.4569 - accuracy: 0.8364\n",
            "Epoch 1: val_loss improved from inf to 0.30054, saving model to best-fashion_mnist-cnn-v2.h5\n",
            "240/240 [==============================] - 15s 17ms/step - loss: 0.4561 - accuracy: 0.8366 - val_loss: 0.3005 - val_accuracy: 0.8906\n",
            "Epoch 2/100\n",
            "237/240 [============================>.] - ETA: 0s - loss: 0.2837 - accuracy: 0.8966\n",
            "Epoch 2: val_loss improved from 0.30054 to 0.27909, saving model to best-fashion_mnist-cnn-v2.h5\n",
            "240/240 [==============================] - 4s 16ms/step - loss: 0.2836 - accuracy: 0.8967 - val_loss: 0.2791 - val_accuracy: 0.8967\n",
            "Epoch 3/100\n",
            "237/240 [============================>.] - ETA: 0s - loss: 0.2307 - accuracy: 0.9158\n",
            "Epoch 3: val_loss improved from 0.27909 to 0.23181, saving model to best-fashion_mnist-cnn-v2.h5\n",
            "240/240 [==============================] - 4s 17ms/step - loss: 0.2309 - accuracy: 0.9156 - val_loss: 0.2318 - val_accuracy: 0.9132\n",
            "Epoch 4/100\n",
            "237/240 [============================>.] - ETA: 0s - loss: 0.1948 - accuracy: 0.9282\n",
            "Epoch 4: val_loss improved from 0.23181 to 0.21971, saving model to best-fashion_mnist-cnn-v2.h5\n",
            "240/240 [==============================] - 4s 16ms/step - loss: 0.1949 - accuracy: 0.9282 - val_loss: 0.2197 - val_accuracy: 0.9183\n",
            "Epoch 5/100\n",
            "237/240 [============================>.] - ETA: 0s - loss: 0.1673 - accuracy: 0.9374\n",
            "Epoch 5: val_loss did not improve from 0.21971\n",
            "240/240 [==============================] - 4s 16ms/step - loss: 0.1675 - accuracy: 0.9373 - val_loss: 0.2250 - val_accuracy: 0.9178\n",
            "Epoch 6/100\n",
            "237/240 [============================>.] - ETA: 0s - loss: 0.1420 - accuracy: 0.9476\n",
            "Epoch 6: val_loss improved from 0.21971 to 0.20612, saving model to best-fashion_mnist-cnn-v2.h5\n",
            "240/240 [==============================] - 4s 18ms/step - loss: 0.1422 - accuracy: 0.9475 - val_loss: 0.2061 - val_accuracy: 0.9275\n",
            "Epoch 7/100\n",
            "237/240 [============================>.] - ETA: 0s - loss: 0.1203 - accuracy: 0.9551\n",
            "Epoch 7: val_loss did not improve from 0.20612\n",
            "240/240 [==============================] - 4s 15ms/step - loss: 0.1202 - accuracy: 0.9552 - val_loss: 0.2096 - val_accuracy: 0.9290\n",
            "Epoch 8/100\n",
            "237/240 [============================>.] - ETA: 0s - loss: 0.0992 - accuracy: 0.9627\n",
            "Epoch 8: val_loss did not improve from 0.20612\n",
            "240/240 [==============================] - 4s 15ms/step - loss: 0.0996 - accuracy: 0.9626 - val_loss: 0.2190 - val_accuracy: 0.9259\n",
            "Epoch 9/100\n",
            "237/240 [============================>.] - ETA: 0s - loss: 0.0865 - accuracy: 0.9685\n",
            "Epoch 9: val_loss did not improve from 0.20612\n",
            "240/240 [==============================] - 4s 15ms/step - loss: 0.0867 - accuracy: 0.9684 - val_loss: 0.2324 - val_accuracy: 0.9246\n",
            "Epoch 10/100\n",
            "237/240 [============================>.] - ETA: 0s - loss: 0.0715 - accuracy: 0.9741\n",
            "Epoch 10: val_loss did not improve from 0.20612\n",
            "240/240 [==============================] - 4s 15ms/step - loss: 0.0714 - accuracy: 0.9741 - val_loss: 0.2346 - val_accuracy: 0.9307\n",
            "Epoch 11/100\n",
            "237/240 [============================>.] - ETA: 0s - loss: 0.0581 - accuracy: 0.9786\n",
            "Epoch 11: val_loss did not improve from 0.20612\n",
            "240/240 [==============================] - 4s 17ms/step - loss: 0.0581 - accuracy: 0.9786 - val_loss: 0.2344 - val_accuracy: 0.9311\n",
            "Epoch 12/100\n",
            "240/240 [==============================] - ETA: 0s - loss: 0.0511 - accuracy: 0.9817\n",
            "Epoch 12: val_loss did not improve from 0.20612\n",
            "240/240 [==============================] - 4s 15ms/step - loss: 0.0511 - accuracy: 0.9817 - val_loss: 0.2647 - val_accuracy: 0.9279\n",
            "Epoch 13/100\n",
            "237/240 [============================>.] - ETA: 0s - loss: 0.0452 - accuracy: 0.9837\n",
            "Epoch 13: val_loss did not improve from 0.20612\n",
            "240/240 [==============================] - 4s 15ms/step - loss: 0.0453 - accuracy: 0.9836 - val_loss: 0.2584 - val_accuracy: 0.9277\n",
            "Epoch 14/100\n",
            "237/240 [============================>.] - ETA: 0s - loss: 0.0399 - accuracy: 0.9860\n",
            "Epoch 14: val_loss did not improve from 0.20612\n",
            "240/240 [==============================] - 4s 15ms/step - loss: 0.0399 - accuracy: 0.9859 - val_loss: 0.2631 - val_accuracy: 0.9321\n",
            "Epoch 15/100\n",
            "237/240 [============================>.] - ETA: 0s - loss: 0.0335 - accuracy: 0.9884\n",
            "Epoch 15: val_loss did not improve from 0.20612\n",
            "240/240 [==============================] - 4s 17ms/step - loss: 0.0337 - accuracy: 0.9883 - val_loss: 0.2954 - val_accuracy: 0.9296\n",
            "Epoch 16/100\n",
            "237/240 [============================>.] - ETA: 0s - loss: 0.0305 - accuracy: 0.9893\n",
            "Epoch 16: val_loss did not improve from 0.20612\n",
            "240/240 [==============================] - 4s 17ms/step - loss: 0.0306 - accuracy: 0.9892 - val_loss: 0.3065 - val_accuracy: 0.9286\n"
          ]
        }
      ]
    },
    {
      "cell_type": "code",
      "source": [
        "best_model = load_model(model_path)\n",
        "best_model.evaluate(X_test, Y_test)"
      ],
      "metadata": {
        "id": "IGvVKeSAl4Ho",
        "colab": {
          "base_uri": "https://localhost:8080/"
        },
        "outputId": "72709842-275f-4bfe-d546-178ea2aa5d5e"
      },
      "execution_count": 10,
      "outputs": [
        {
          "output_type": "stream",
          "name": "stdout",
          "text": [
            "313/313 [==============================] - 1s 3ms/step - loss: 0.2256 - accuracy: 0.9212\n"
          ]
        },
        {
          "output_type": "execute_result",
          "data": {
            "text/plain": [
              "[0.2255578339099884, 0.9211999773979187]"
            ]
          },
          "metadata": {},
          "execution_count": 10
        }
      ]
    },
    {
      "cell_type": "markdown",
      "source": [
        "## 학습과정 시각화"
      ],
      "metadata": {
        "id": "EpF9uDChnP6F"
      }
    },
    {
      "cell_type": "code",
      "source": [
        "y_acc = hist.history['accuracy']\n",
        "y_vloss = hist.history['val_loss']\n",
        "xs = np.arange(1, len(y_acc) + 1)\n",
        "\n",
        "plt.figure(figsize = (10, 7))\n",
        "plt.plot(xs, y_acc, label = 'accuracy')\n",
        "plt.plot(xs, y_vloss, label = 'validation_loss')\n",
        "plt.xlabel('Epoch')\n",
        "plt.title('Mnist CNN Model v1')\n",
        "plt.legend()\n",
        "plt.grid(linestyle = ':')\n",
        "\n",
        "plt.show()"
      ],
      "metadata": {
        "colab": {
          "base_uri": "https://localhost:8080/",
          "height": 458
        },
        "id": "C9ja-Ydlm0he",
        "outputId": "2021009f-a048-403a-b73c-a414d6b1a62c"
      },
      "execution_count": 11,
      "outputs": [
        {
          "output_type": "display_data",
          "data": {
            "text/plain": [
              "<Figure size 720x504 with 1 Axes>"
            ],
            "image/png": "[encoded data removed]"
          },
          "metadata": {
            "needs_background": "light"
          }
        }
      ]
    }
  ]
}