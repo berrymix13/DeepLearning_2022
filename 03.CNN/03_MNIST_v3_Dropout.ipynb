{
  "nbformat": 4,
  "nbformat_minor": 0,
  "metadata": {
    "colab": {
      "name": "01_MNIST_v3_Dropout.ipynb",
      "provenance": [],
      "collapsed_sections": []
    },
    "kernelspec": {
      "name": "python3",
      "display_name": "Python 3"
    },
    "language_info": {
      "name": "python"
    },
    "accelerator": "GPU"
  },
  "cells": [
    {
      "cell_type": "markdown",
      "source": [
        "# MNIST 손글씨 - CNN v3\n",
        "- 2 x Conv2D layers\n",
        "- 1 MaxPooling2D layer\n",
        "- 1 Dropout(0.25) layer\n",
        "- 1 FCN layer\n",
        "- 1 Dropout(0.25) layer\n",
        "- 1 Outputlayer"
      ],
      "metadata": {
        "id": "p80_ZwOBd3JI"
      }
    },
    {
      "cell_type": "code",
      "execution_count": 1,
      "metadata": {
        "id": "cXzT-ePpdze3"
      },
      "outputs": [],
      "source": [
        "import numpy as np\n",
        "import pandas as pd\n",
        "import matplotlib.pyplot as plt\n",
        "import tensorflow as tf\n",
        "seed = 2022\n",
        "np.random.seed(seed)\n",
        "tf.random.set_seed(seed)"
      ]
    },
    {
      "cell_type": "code",
      "source": [
        "from tensorflow.keras.datasets import mnist\n",
        "(X_train, y_train), (X_test, y_test) = mnist.load_data()\n",
        "X_train.shape, y_train.shape, X_test.shape, y_test.shape"
      ],
      "metadata": {
        "colab": {
          "base_uri": "https://localhost:8080/"
        },
        "id": "3eYLGTb6eKrL",
        "outputId": "7e3149fa-f09a-4ce1-8d5a-16e2b8ebf4a9"
      },
      "execution_count": 2,
      "outputs": [
        {
          "output_type": "stream",
          "name": "stdout",
          "text": [
            "Downloading data from https://storage.googleapis.com/tensorflow/tf-keras-datasets/mnist.npz\n",
            "11493376/11490434 [==============================] - 0s 0us/step\n",
            "11501568/11490434 [==============================] - 0s 0us/step\n"
          ]
        },
        {
          "output_type": "execute_result",
          "data": {
            "text/plain": [
              "((60000, 28, 28), (60000,), (10000, 28, 28), (10000,))"
            ]
          },
          "metadata": {},
          "execution_count": 2
        }
      ]
    },
    {
      "cell_type": "markdown",
      "source": [
        "## 이미지 정규화와 차원 변경\n",
        "- 2차원 => 3차원"
      ],
      "metadata": {
        "id": "VEBdSA49ef5T"
      }
    },
    {
      "cell_type": "code",
      "source": [
        "# 정규화    # 이미지 차원 변경  : 2차원 -> 1차원\n",
        "X_train = X_train.reshape(-1, 28, 28) / 255.\n",
        "X_test = X_test.reshape(-1, 28, 28) / 255.\n",
        "X_train.shape, X_test.shape"
      ],
      "metadata": {
        "colab": {
          "base_uri": "https://localhost:8080/"
        },
        "id": "FcIM7sSIeP07",
        "outputId": "338a9e8b-fd2b-4c6f-a365-e1956aa28c8d"
      },
      "execution_count": 3,
      "outputs": [
        {
          "output_type": "execute_result",
          "data": {
            "text/plain": [
              "((60000, 28, 28), (10000, 28, 28))"
            ]
          },
          "metadata": {},
          "execution_count": 3
        }
      ]
    },
    {
      "cell_type": "markdown",
      "source": [
        "## 원핫인코딩"
      ],
      "metadata": {
        "id": "2ByQedr_e-nn"
      }
    },
    {
      "cell_type": "code",
      "source": [
        "from tensorflow.keras.utils import to_categorical\n",
        "Y_train = to_categorical(y_train)\n",
        "Y_test = to_categorical(y_test)\n",
        "Y_train.shape, Y_test.shape\n",
        "\n",
        "# 어떻게 생긴건지 궁금하다..."
      ],
      "metadata": {
        "colab": {
          "base_uri": "https://localhost:8080/"
        },
        "id": "8yPEvkgiez8r",
        "outputId": "5a9bbffc-64c1-4f98-c656-abc9d05ef7c6"
      },
      "execution_count": 4,
      "outputs": [
        {
          "output_type": "execute_result",
          "data": {
            "text/plain": [
              "((60000, 10), (10000, 10))"
            ]
          },
          "metadata": {},
          "execution_count": 4
        }
      ]
    },
    {
      "cell_type": "markdown",
      "source": [
        "## 모델 정의 및 설정\n",
        "- (28, 28, 1) 이지만, 2차원에 컬러일 뿐\n",
        "- 동영상같은 것이 3차원임\n",
        "- 차원 축소를 위한 Flatten"
      ],
      "metadata": {
        "id": "g6usA6BJfKE9"
      }
    },
    {
      "cell_type": "code",
      "source": [
        "from tensorflow.keras.models import Sequential, load_model\n",
        "from tensorflow.keras.layers import Dense, Conv2D, Flatten, MaxPooling2D, Dropout\n",
        "from tensorflow.keras.callbacks import ModelCheckpoint, EarlyStopping"
      ],
      "metadata": {
        "id": "rMCuY3ScfDNr"
      },
      "execution_count": 5,
      "outputs": []
    },
    {
      "cell_type": "code",
      "source": [
        "model = Sequential([\n",
        "    Conv2D(filters=32, kernel_size = (3, 3), input_shape = (28, 28, 1), activation = 'relu'),     # (26, 26, 32)  = (계산된 N , 축소된 N , 필터의 수)\n",
        "    Conv2D(64, (3,3), activation='relu'),   # (24, 24, 64)\n",
        "    MaxPooling2D(),                         # MaxPooling2D(poolsize = (2, 2))\n",
        "    Dropout(0.25),\n",
        "    Flatten(),                              # Dense를 위한 Flatten\n",
        "    Dense(512, activation = 'relu'),\n",
        "    Dropout(0.25),\n",
        "    Dense(10, activation = 'softmax')\n",
        "])\n",
        "model.summary()"
      ],
      "metadata": {
        "colab": {
          "base_uri": "https://localhost:8080/"
        },
        "id": "Kcq9p3G7fP4q",
        "outputId": "c1bf8484-09ef-4eb8-de7f-23348340789c"
      },
      "execution_count": 6,
      "outputs": [
        {
          "output_type": "stream",
          "name": "stdout",
          "text": [
            "Model: \"sequential\"\n",
            "_________________________________________________________________\n",
            " Layer (type)                Output Shape              Param #   \n",
            "=================================================================\n",
            " conv2d (Conv2D)             (None, 26, 26, 32)        320       \n",
            "                                                                 \n",
            " conv2d_1 (Conv2D)           (None, 24, 24, 64)        18496     \n",
            "                                                                 \n",
            " max_pooling2d (MaxPooling2D  (None, 12, 12, 64)       0         \n",
            " )                                                               \n",
            "                                                                 \n",
            " dropout (Dropout)           (None, 12, 12, 64)        0         \n",
            "                                                                 \n",
            " flatten (Flatten)           (None, 9216)              0         \n",
            "                                                                 \n",
            " dense (Dense)               (None, 512)               4719104   \n",
            "                                                                 \n",
            " dropout_1 (Dropout)         (None, 512)               0         \n",
            "                                                                 \n",
            " dense_1 (Dense)             (None, 10)                5130      \n",
            "                                                                 \n",
            "=================================================================\n",
            "Total params: 4,743,050\n",
            "Trainable params: 4,743,050\n",
            "Non-trainable params: 0\n",
            "_________________________________________________________________\n"
          ]
        }
      ]
    },
    {
      "cell_type": "code",
      "source": [
        "model.compile('adam', 'categorical_crossentropy',['accuracy'])"
      ],
      "metadata": {
        "id": "7o4o_uwbfP6V"
      },
      "execution_count": 7,
      "outputs": []
    },
    {
      "cell_type": "code",
      "source": [
        "model_path = 'best-mnist-cnn-v3.h5'\n",
        "mc = ModelCheckpoint(model_path, save_best_only=True, verbose = 1)\n",
        "es = EarlyStopping(patience = 10)"
      ],
      "metadata": {
        "id": "OFjvGy3VfP81"
      },
      "execution_count": 8,
      "outputs": []
    },
    {
      "cell_type": "markdown",
      "source": [
        "## 모델 학습 및 평가"
      ],
      "metadata": {
        "id": "rEs4V1DbfL_B"
      }
    },
    {
      "cell_type": "code",
      "source": [
        "hist = model.fit(X_train, Y_train, validation_split= 0.2,\n",
        "                 epochs = 100, batch_size = 200,\n",
        "                 callbacks = [mc, es])"
      ],
      "metadata": {
        "colab": {
          "base_uri": "https://localhost:8080/"
        },
        "id": "-Gw3CVwjfNJc",
        "outputId": "26f02e66-eebd-45f8-e0ca-e9616ca35852"
      },
      "execution_count": 9,
      "outputs": [
        {
          "output_type": "stream",
          "name": "stdout",
          "text": [
            "Epoch 1/100\n",
            "238/240 [============================>.] - ETA: 0s - loss: 0.1970 - accuracy: 0.9393\n",
            "Epoch 1: val_loss improved from inf to 0.05439, saving model to best-mnist-cnn-v3.h5\n",
            "240/240 [==============================] - 15s 15ms/step - loss: 0.1960 - accuracy: 0.9397 - val_loss: 0.0544 - val_accuracy: 0.9846\n",
            "Epoch 2/100\n",
            "239/240 [============================>.] - ETA: 0s - loss: 0.0509 - accuracy: 0.9844\n",
            "Epoch 2: val_loss improved from 0.05439 to 0.04916, saving model to best-mnist-cnn-v3.h5\n",
            "240/240 [==============================] - 3s 14ms/step - loss: 0.0508 - accuracy: 0.9844 - val_loss: 0.0492 - val_accuracy: 0.9872\n",
            "Epoch 3/100\n",
            "239/240 [============================>.] - ETA: 0s - loss: 0.0337 - accuracy: 0.9891\n",
            "Epoch 3: val_loss improved from 0.04916 to 0.03827, saving model to best-mnist-cnn-v3.h5\n",
            "240/240 [==============================] - 3s 14ms/step - loss: 0.0336 - accuracy: 0.9891 - val_loss: 0.0383 - val_accuracy: 0.9898\n",
            "Epoch 4/100\n",
            "239/240 [============================>.] - ETA: 0s - loss: 0.0243 - accuracy: 0.9923\n",
            "Epoch 4: val_loss did not improve from 0.03827\n",
            "240/240 [==============================] - 3s 13ms/step - loss: 0.0242 - accuracy: 0.9923 - val_loss: 0.0405 - val_accuracy: 0.9887\n",
            "Epoch 5/100\n",
            "238/240 [============================>.] - ETA: 0s - loss: 0.0206 - accuracy: 0.9930\n",
            "Epoch 5: val_loss did not improve from 0.03827\n",
            "240/240 [==============================] - 3s 14ms/step - loss: 0.0206 - accuracy: 0.9930 - val_loss: 0.0433 - val_accuracy: 0.9878\n",
            "Epoch 6/100\n",
            "237/240 [============================>.] - ETA: 0s - loss: 0.0146 - accuracy: 0.9953\n",
            "Epoch 6: val_loss improved from 0.03827 to 0.03523, saving model to best-mnist-cnn-v3.h5\n",
            "240/240 [==============================] - 3s 14ms/step - loss: 0.0148 - accuracy: 0.9952 - val_loss: 0.0352 - val_accuracy: 0.9901\n",
            "Epoch 7/100\n",
            "239/240 [============================>.] - ETA: 0s - loss: 0.0119 - accuracy: 0.9959\n",
            "Epoch 7: val_loss did not improve from 0.03523\n",
            "240/240 [==============================] - 3s 14ms/step - loss: 0.0118 - accuracy: 0.9959 - val_loss: 0.0413 - val_accuracy: 0.9889\n",
            "Epoch 8/100\n",
            "240/240 [==============================] - ETA: 0s - loss: 0.0115 - accuracy: 0.9961\n",
            "Epoch 8: val_loss improved from 0.03523 to 0.03473, saving model to best-mnist-cnn-v3.h5\n",
            "240/240 [==============================] - 3s 14ms/step - loss: 0.0115 - accuracy: 0.9961 - val_loss: 0.0347 - val_accuracy: 0.9905\n",
            "Epoch 9/100\n",
            "239/240 [============================>.] - ETA: 0s - loss: 0.0101 - accuracy: 0.9967\n",
            "Epoch 9: val_loss did not improve from 0.03473\n",
            "240/240 [==============================] - 3s 14ms/step - loss: 0.0101 - accuracy: 0.9967 - val_loss: 0.0398 - val_accuracy: 0.9902\n",
            "Epoch 10/100\n",
            "238/240 [============================>.] - ETA: 0s - loss: 0.0073 - accuracy: 0.9974\n",
            "Epoch 10: val_loss did not improve from 0.03473\n",
            "240/240 [==============================] - 3s 14ms/step - loss: 0.0074 - accuracy: 0.9974 - val_loss: 0.0414 - val_accuracy: 0.9907\n",
            "Epoch 11/100\n",
            "238/240 [============================>.] - ETA: 0s - loss: 0.0067 - accuracy: 0.9977\n",
            "Epoch 11: val_loss did not improve from 0.03473\n",
            "240/240 [==============================] - 3s 14ms/step - loss: 0.0067 - accuracy: 0.9977 - val_loss: 0.0518 - val_accuracy: 0.9882\n",
            "Epoch 12/100\n",
            "240/240 [==============================] - ETA: 0s - loss: 0.0077 - accuracy: 0.9974\n",
            "Epoch 12: val_loss did not improve from 0.03473\n",
            "240/240 [==============================] - 4s 15ms/step - loss: 0.0077 - accuracy: 0.9974 - val_loss: 0.0448 - val_accuracy: 0.9893\n",
            "Epoch 13/100\n",
            "237/240 [============================>.] - ETA: 0s - loss: 0.0054 - accuracy: 0.9982\n",
            "Epoch 13: val_loss did not improve from 0.03473\n",
            "240/240 [==============================] - 3s 14ms/step - loss: 0.0053 - accuracy: 0.9982 - val_loss: 0.0437 - val_accuracy: 0.9917\n",
            "Epoch 14/100\n",
            "239/240 [============================>.] - ETA: 0s - loss: 0.0062 - accuracy: 0.9979\n",
            "Epoch 14: val_loss did not improve from 0.03473\n",
            "240/240 [==============================] - 3s 14ms/step - loss: 0.0061 - accuracy: 0.9979 - val_loss: 0.0415 - val_accuracy: 0.9904\n",
            "Epoch 15/100\n",
            "239/240 [============================>.] - ETA: 0s - loss: 0.0055 - accuracy: 0.9982\n",
            "Epoch 15: val_loss did not improve from 0.03473\n",
            "240/240 [==============================] - 3s 14ms/step - loss: 0.0055 - accuracy: 0.9982 - val_loss: 0.0460 - val_accuracy: 0.9908\n",
            "Epoch 16/100\n",
            "238/240 [============================>.] - ETA: 0s - loss: 0.0074 - accuracy: 0.9972\n",
            "Epoch 16: val_loss did not improve from 0.03473\n",
            "240/240 [==============================] - 3s 14ms/step - loss: 0.0074 - accuracy: 0.9973 - val_loss: 0.0440 - val_accuracy: 0.9894\n",
            "Epoch 17/100\n",
            "238/240 [============================>.] - ETA: 0s - loss: 0.0040 - accuracy: 0.9986\n",
            "Epoch 17: val_loss did not improve from 0.03473\n",
            "240/240 [==============================] - 3s 14ms/step - loss: 0.0040 - accuracy: 0.9986 - val_loss: 0.0425 - val_accuracy: 0.9911\n",
            "Epoch 18/100\n",
            "239/240 [============================>.] - ETA: 0s - loss: 0.0034 - accuracy: 0.9987\n",
            "Epoch 18: val_loss did not improve from 0.03473\n",
            "240/240 [==============================] - 3s 14ms/step - loss: 0.0034 - accuracy: 0.9987 - val_loss: 0.0496 - val_accuracy: 0.9898\n"
          ]
        }
      ]
    },
    {
      "cell_type": "code",
      "source": [
        "best_model = load_model(model_path)\n",
        "best_model.evaluate(X_test, Y_test)"
      ],
      "metadata": {
        "id": "IGvVKeSAl4Ho",
        "colab": {
          "base_uri": "https://localhost:8080/"
        },
        "outputId": "4b814d28-3713-4672-f24e-f63f47d5f421"
      },
      "execution_count": 10,
      "outputs": [
        {
          "output_type": "stream",
          "name": "stdout",
          "text": [
            "313/313 [==============================] - 1s 3ms/step - loss: 0.0276 - accuracy: 0.9911\n"
          ]
        },
        {
          "output_type": "execute_result",
          "data": {
            "text/plain": [
              "[0.027579141780734062, 0.991100013256073]"
            ]
          },
          "metadata": {},
          "execution_count": 10
        }
      ]
    },
    {
      "cell_type": "markdown",
      "source": [
        "## 학습과정 시각화"
      ],
      "metadata": {
        "id": "EpF9uDChnP6F"
      }
    },
    {
      "cell_type": "code",
      "source": [
        "y_acc = hist.history['accuracy']\n",
        "y_vloss = hist.history['val_loss']\n",
        "xs = np.arange(1, len(y_acc) + 1)\n",
        "\n",
        "plt.figure(figsize = (10, 7))\n",
        "plt.plot(xs, y_acc, label = 'accuracy')\n",
        "plt.plot(xs, y_vloss, label = 'validation_loss')\n",
        "plt.xlabel('Epoch')\n",
        "plt.title('Mnist CNN Model v1')\n",
        "plt.legend()\n",
        "plt.grid(linestyle = ':')\n",
        "\n",
        "plt.show()"
      ],
      "metadata": {
        "colab": {
          "base_uri": "https://localhost:8080/",
          "height": 458
        },
        "id": "C9ja-Ydlm0he",
        "outputId": "7f37b4c4-9281-4a26-d830-bab2b0ec144e"
      },
      "execution_count": 11,
      "outputs": [
        {
          "output_type": "display_data",
          "data": {
            "text/plain": [
              "<Figure size 720x504 with 1 Axes>"
            ],
            "image/png": "[encoded data removed]"
          },
          "metadata": {
            "needs_background": "light"
          }
        }
      ]
    }
  ]
}