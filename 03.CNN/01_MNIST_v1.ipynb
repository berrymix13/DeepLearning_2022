{
  "nbformat": 4,
  "nbformat_minor": 0,
  "metadata": {
    "colab": {
      "name": "01_MNIST_v1.ipynb",
      "provenance": []
    },
    "kernelspec": {
      "name": "python3",
      "display_name": "Python 3"
    },
    "language_info": {
      "name": "python"
    }
  },
  "cells": [
    {
      "cell_type": "markdown",
      "source": [
        "# MNIST 손글씨 - CNN v1\n",
        "- 2 x Conv2D layers\n",
        "- 1 FCN layer\n",
        "- 1 Outputlayer"
      ],
      "metadata": {
        "id": "p80_ZwOBd3JI"
      }
    },
    {
      "cell_type": "code",
      "execution_count": 1,
      "metadata": {
        "id": "cXzT-ePpdze3"
      },
      "outputs": [],
      "source": [
        "import numpy as np\n",
        "import pandas as pd\n",
        "import matplotlib.pyplot as plt\n",
        "import tensorflow as tf\n",
        "seed = 2022\n",
        "np.random.seed(seed)\n",
        "tf.random.set_seed(seed)"
      ]
    },
    {
      "cell_type": "code",
      "source": [
        "from tensorflow.keras.datasets import mnist\n",
        "(X_train, y_train), (X_test, y_test) = mnist.load_data()\n",
        "X_train.shape, y_train.shape, X_test.shape, y_test.shape"
      ],
      "metadata": {
        "colab": {
          "base_uri": "https://localhost:8080/"
        },
        "id": "3eYLGTb6eKrL",
        "outputId": "48d05f1d-a37b-48dd-cc0f-35ba5155ab69"
      },
      "execution_count": 2,
      "outputs": [
        {
          "output_type": "stream",
          "name": "stdout",
          "text": [
            "Downloading data from https://storage.googleapis.com/tensorflow/tf-keras-datasets/mnist.npz\n",
            "11493376/11490434 [==============================] - 0s 0us/step\n",
            "11501568/11490434 [==============================] - 0s 0us/step\n"
          ]
        },
        {
          "output_type": "execute_result",
          "data": {
            "text/plain": [
              "((60000, 28, 28), (60000,), (10000, 28, 28), (10000,))"
            ]
          },
          "metadata": {},
          "execution_count": 2
        }
      ]
    },
    {
      "cell_type": "code",
      "source": [
        "plt.imshow(X_train[0], cmap = 'Greys');"
      ],
      "metadata": {
        "colab": {
          "base_uri": "https://localhost:8080/",
          "height": 265
        },
        "id": "rzq37L_5eOLr",
        "outputId": "633cdae8-6f0a-48d3-ba6a-d362d03b3171"
      },
      "execution_count": 3,
      "outputs": [
        {
          "output_type": "display_data",
          "data": {
            "text/plain": [
              "<Figure size 432x288 with 1 Axes>"
            ],
            "image/png": "[encoded data removed]"
          },
          "metadata": {
            "needs_background": "light"
          }
        }
      ]
    },
    {
      "cell_type": "markdown",
      "source": [
        "## 이미지 정규화와 차원 변경\n",
        "- 2차원 => 3차원"
      ],
      "metadata": {
        "id": "VEBdSA49ef5T"
      }
    },
    {
      "cell_type": "code",
      "source": [
        "# 정규화    # 이미지 차원 변경  : 2차원 -> 1차원\n",
        "X_train = X_train.reshape(-1, 28, 28) / 255.\n",
        "X_test = X_test.reshape(-1, 28, 28) / 255.\n",
        "X_train.shape, X_test.shape"
      ],
      "metadata": {
        "colab": {
          "base_uri": "https://localhost:8080/"
        },
        "id": "FcIM7sSIeP07",
        "outputId": "f2861dc1-49ef-4573-fd0f-1ad817d2e65a"
      },
      "execution_count": 4,
      "outputs": [
        {
          "output_type": "execute_result",
          "data": {
            "text/plain": [
              "((60000, 28, 28), (10000, 28, 28))"
            ]
          },
          "metadata": {},
          "execution_count": 4
        }
      ]
    },
    {
      "cell_type": "markdown",
      "source": [
        "## 원핫인코딩"
      ],
      "metadata": {
        "id": "2ByQedr_e-nn"
      }
    },
    {
      "cell_type": "code",
      "source": [
        "from tensorflow.keras.utils import to_categorical\n",
        "Y_train = to_categorical(y_train)\n",
        "Y_test = to_categorical(y_test)\n",
        "Y_train.shape, Y_test.shape\n",
        "\n",
        "# 어떻게 생긴건지 궁금하다..."
      ],
      "metadata": {
        "colab": {
          "base_uri": "https://localhost:8080/"
        },
        "id": "8yPEvkgiez8r",
        "outputId": "940453e9-614b-415d-fa61-d26eb1b3135a"
      },
      "execution_count": 5,
      "outputs": [
        {
          "output_type": "execute_result",
          "data": {
            "text/plain": [
              "((60000, 10), (10000, 10))"
            ]
          },
          "metadata": {},
          "execution_count": 5
        }
      ]
    },
    {
      "cell_type": "markdown",
      "source": [
        "## 모델 정의 및 설정\n",
        "- (28, 28, 1) 이지만, 2차원에 컬러일 뿐\n",
        "- 동영상같은 것이 3차원임\n",
        "- 차원 축소를 위한 Flatten"
      ],
      "metadata": {
        "id": "g6usA6BJfKE9"
      }
    },
    {
      "cell_type": "code",
      "source": [
        "from tensorflow.keras.models import Sequential, load_model\n",
        "from tensorflow.keras.layers import Dense, Conv2D, Flatten\n",
        "from tensorflow.keras.callbacks import ModelCheckpoint, EarlyStopping"
      ],
      "metadata": {
        "id": "rMCuY3ScfDNr"
      },
      "execution_count": 6,
      "outputs": []
    },
    {
      "cell_type": "code",
      "source": [
        "# (28 + 0 - 3) / 1 + 1 = 26\n",
        "model = Sequential([\n",
        "    Conv2D(filters=32, kernel_size = (3, 3), \n",
        "           input_shape = (28, 28, 1), activation = 'relu'),     # (26, 26, 32)  = (계산된 N , 축소된 N , 필터의 수)\n",
        "    Conv2D(64, (3,3), activation='relu'),   # (24, 24, 64)\n",
        "    Flatten(),                              # Dense를 위한 Flatten\n",
        "    Dense(512, activation = 'relu'),\n",
        "    Dense(10, activation = 'softmax')\n",
        "])\n",
        "model.summary()\n",
        "# 파라미터 개수\n",
        "# 320 = 1 * (3 * 3 * 1) * 64\n",
        "# 18496 = 32 * 3 * 3 * 64 + 64\n",
        "# 36864 = 24 * 24 * 64"
      ],
      "metadata": {
        "colab": {
          "base_uri": "https://localhost:8080/"
        },
        "id": "Kcq9p3G7fP4q",
        "outputId": "9b9d5f72-3b7d-406b-805a-5ee6c2e5312c"
      },
      "execution_count": 7,
      "outputs": [
        {
          "output_type": "stream",
          "name": "stdout",
          "text": [
            "Model: \"sequential\"\n",
            "_________________________________________________________________\n",
            " Layer (type)                Output Shape              Param #   \n",
            "=================================================================\n",
            " conv2d (Conv2D)             (None, 26, 26, 32)        320       \n",
            "                                                                 \n",
            " conv2d_1 (Conv2D)           (None, 24, 24, 64)        18496     \n",
            "                                                                 \n",
            " flatten (Flatten)           (None, 36864)             0         \n",
            "                                                                 \n",
            " dense (Dense)               (None, 512)               18874880  \n",
            "                                                                 \n",
            " dense_1 (Dense)             (None, 10)                5130      \n",
            "                                                                 \n",
            "=================================================================\n",
            "Total params: 18,898,826\n",
            "Trainable params: 18,898,826\n",
            "Non-trainable params: 0\n",
            "_________________________________________________________________\n"
          ]
        }
      ]
    },
    {
      "cell_type": "code",
      "source": [
        "model.compile('adam', 'categorical_crossentropy',['accuracy'])"
      ],
      "metadata": {
        "id": "7o4o_uwbfP6V"
      },
      "execution_count": 8,
      "outputs": []
    },
    {
      "cell_type": "code",
      "source": [
        "model_path = 'best-mnist-cnn-v1.h5'\n",
        "mc = ModelCheckpoint(model_path, save_best_only=True, verbose = 1)\n",
        "es = EarlyStopping(patience = 10)"
      ],
      "metadata": {
        "id": "OFjvGy3VfP81"
      },
      "execution_count": 9,
      "outputs": []
    },
    {
      "cell_type": "markdown",
      "source": [
        "## 모델 학습 및 평가"
      ],
      "metadata": {
        "id": "rEs4V1DbfL_B"
      }
    },
    {
      "cell_type": "code",
      "source": [
        "hist = model.fit(X_train, Y_train, validation_split= 0.2,\n",
        "                 epochs = 100, batch_size = 200,\n",
        "                 callbacks = [mc, es])"
      ],
      "metadata": {
        "colab": {
          "base_uri": "https://localhost:8080/"
        },
        "id": "-Gw3CVwjfNJc",
        "outputId": "bbbb0299-bb70-4a4f-e2b1-4ea7c8b16e51"
      },
      "execution_count": 10,
      "outputs": [
        {
          "output_type": "stream",
          "name": "stdout",
          "text": [
            "Epoch 1/100\n",
            "239/240 [============================>.] - ETA: 0s - loss: 0.1524 - accuracy: 0.9529\n",
            "Epoch 1: val_loss improved from inf to 0.05620, saving model to best-mnist-cnn-v1.h5\n",
            "240/240 [==============================] - 16s 22ms/step - loss: 0.1521 - accuracy: 0.9530 - val_loss: 0.0562 - val_accuracy: 0.9831\n",
            "Epoch 2/100\n",
            "239/240 [============================>.] - ETA: 0s - loss: 0.0355 - accuracy: 0.9891\n",
            "Epoch 2: val_loss improved from 0.05620 to 0.05381, saving model to best-mnist-cnn-v1.h5\n",
            "240/240 [==============================] - 5s 22ms/step - loss: 0.0354 - accuracy: 0.9891 - val_loss: 0.0538 - val_accuracy: 0.9845\n",
            "Epoch 3/100\n",
            "240/240 [==============================] - ETA: 0s - loss: 0.0174 - accuracy: 0.9944\n",
            "Epoch 3: val_loss improved from 0.05381 to 0.04522, saving model to best-mnist-cnn-v1.h5\n",
            "240/240 [==============================] - 6s 23ms/step - loss: 0.0174 - accuracy: 0.9944 - val_loss: 0.0452 - val_accuracy: 0.9878\n",
            "Epoch 4/100\n",
            "240/240 [==============================] - ETA: 0s - loss: 0.0096 - accuracy: 0.9971\n",
            "Epoch 4: val_loss did not improve from 0.04522\n",
            "240/240 [==============================] - 5s 19ms/step - loss: 0.0096 - accuracy: 0.9971 - val_loss: 0.0536 - val_accuracy: 0.9866\n",
            "Epoch 5/100\n",
            "240/240 [==============================] - ETA: 0s - loss: 0.0087 - accuracy: 0.9971\n",
            "Epoch 5: val_loss did not improve from 0.04522\n",
            "240/240 [==============================] - 4s 19ms/step - loss: 0.0087 - accuracy: 0.9971 - val_loss: 0.0541 - val_accuracy: 0.9866\n",
            "Epoch 6/100\n",
            "239/240 [============================>.] - ETA: 0s - loss: 0.0061 - accuracy: 0.9981\n",
            "Epoch 6: val_loss did not improve from 0.04522\n",
            "240/240 [==============================] - 4s 19ms/step - loss: 0.0060 - accuracy: 0.9981 - val_loss: 0.0533 - val_accuracy: 0.9863\n",
            "Epoch 7/100\n",
            "238/240 [============================>.] - ETA: 0s - loss: 0.0054 - accuracy: 0.9983\n",
            "Epoch 7: val_loss did not improve from 0.04522\n",
            "240/240 [==============================] - 5s 19ms/step - loss: 0.0054 - accuracy: 0.9983 - val_loss: 0.0666 - val_accuracy: 0.9855\n",
            "Epoch 8/100\n",
            "239/240 [============================>.] - ETA: 0s - loss: 0.0049 - accuracy: 0.9985\n",
            "Epoch 8: val_loss did not improve from 0.04522\n",
            "240/240 [==============================] - 5s 20ms/step - loss: 0.0048 - accuracy: 0.9985 - val_loss: 0.0533 - val_accuracy: 0.9887\n",
            "Epoch 9/100\n",
            "238/240 [============================>.] - ETA: 0s - loss: 0.0032 - accuracy: 0.9989\n",
            "Epoch 9: val_loss did not improve from 0.04522\n",
            "240/240 [==============================] - 5s 20ms/step - loss: 0.0033 - accuracy: 0.9989 - val_loss: 0.0558 - val_accuracy: 0.9891\n",
            "Epoch 10/100\n",
            "240/240 [==============================] - ETA: 0s - loss: 0.0042 - accuracy: 0.9986\n",
            "Epoch 10: val_loss did not improve from 0.04522\n",
            "240/240 [==============================] - 5s 22ms/step - loss: 0.0042 - accuracy: 0.9986 - val_loss: 0.0569 - val_accuracy: 0.9896\n",
            "Epoch 11/100\n",
            "238/240 [============================>.] - ETA: 0s - loss: 0.0029 - accuracy: 0.9991\n",
            "Epoch 11: val_loss did not improve from 0.04522\n",
            "240/240 [==============================] - 5s 20ms/step - loss: 0.0029 - accuracy: 0.9991 - val_loss: 0.0616 - val_accuracy: 0.9887\n",
            "Epoch 12/100\n",
            "239/240 [============================>.] - ETA: 0s - loss: 0.0031 - accuracy: 0.9991\n",
            "Epoch 12: val_loss did not improve from 0.04522\n",
            "240/240 [==============================] - 5s 19ms/step - loss: 0.0031 - accuracy: 0.9990 - val_loss: 0.0664 - val_accuracy: 0.9868\n",
            "Epoch 13/100\n",
            "238/240 [============================>.] - ETA: 0s - loss: 0.0021 - accuracy: 0.9995\n",
            "Epoch 13: val_loss did not improve from 0.04522\n",
            "240/240 [==============================] - 5s 20ms/step - loss: 0.0021 - accuracy: 0.9995 - val_loss: 0.0625 - val_accuracy: 0.9889\n"
          ]
        }
      ]
    },
    {
      "cell_type": "code",
      "source": [
        "best_model1 = load_model(model_path)\n",
        "best_model1.evaluate(X_test, Y_test)"
      ],
      "metadata": {
        "colab": {
          "base_uri": "https://localhost:8080/"
        },
        "id": "IGvVKeSAl4Ho",
        "outputId": "aed069c2-1a19-4ed4-f556-b6db7640125e"
      },
      "execution_count": 11,
      "outputs": [
        {
          "output_type": "stream",
          "name": "stdout",
          "text": [
            "313/313 [==============================] - 1s 4ms/step - loss: 0.0391 - accuracy: 0.9879\n"
          ]
        },
        {
          "output_type": "execute_result",
          "data": {
            "text/plain": [
              "[0.0391085147857666, 0.9879000186920166]"
            ]
          },
          "metadata": {},
          "execution_count": 11
        }
      ]
    },
    {
      "cell_type": "markdown",
      "source": [
        "## 학습과정 시각화"
      ],
      "metadata": {
        "id": "EpF9uDChnP6F"
      }
    },
    {
      "cell_type": "code",
      "source": [
        "y_acc = hist.history['accuracy']\n",
        "y_vloss = hist.history['val_loss']\n",
        "xs = np.arange(1, len(y_acc) + 1)\n",
        "\n",
        "plt.figure(figsize = (10, 7))\n",
        "plt.plot(xs, y_acc, label = 'accuracy')\n",
        "plt.plot(xs, y_vloss, label = 'validation_loss')\n",
        "plt.xlabel('Epoch')\n",
        "plt.title('Mnist CNN Model v1')\n",
        "plt.legend()\n",
        "plt.grid(linestyle = ':')\n",
        "\n",
        "plt.show()"
      ],
      "metadata": {
        "colab": {
          "base_uri": "https://localhost:8080/",
          "height": 458
        },
        "id": "C9ja-Ydlm0he",
        "outputId": "f0bc167f-8918-4f69-b348-b80fbc4d70f4"
      },
      "execution_count": 15,
      "outputs": [
        {
          "output_type": "display_data",
          "data": {
            "text/plain": [
              "<Figure size 720x504 with 1 Axes>"
            ],
            "image/png": "[encoded data removed]"
          },
          "metadata": {
            "needs_background": "light"
          }
        }
      ]
    },
    {
      "cell_type": "code",
      "source": [
        ""
      ],
      "metadata": {
        "id": "BI_RhMDbnd8P"
      },
      "execution_count": null,
      "outputs": []
    }
  ]
}