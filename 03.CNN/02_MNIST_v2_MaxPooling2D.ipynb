{
  "nbformat": 4,
  "nbformat_minor": 0,
  "metadata": {
    "colab": {
      "name": "01_MNIST_v2_맥스풀링.ipynb",
      "provenance": []
    },
    "kernelspec": {
      "name": "python3",
      "display_name": "Python 3"
    },
    "language_info": {
      "name": "python"
    },
    "accelerator": "GPU"
  },
  "cells": [
    {
      "cell_type": "markdown",
      "source": [
        "# MNIST 손글씨 - CNN v2\n",
        "- 2 x Conv2D layers\n",
        "- 1 MaxPooling2D layer\n",
        "- 1 FCN layer\n",
        "- 1 Outputlayer"
      ],
      "metadata": {
        "id": "p80_ZwOBd3JI"
      }
    },
    {
      "cell_type": "code",
      "execution_count": null,
      "metadata": {
        "id": "cXzT-ePpdze3"
      },
      "outputs": [],
      "source": [
        "import numpy as np\n",
        "import pandas as pd\n",
        "import matplotlib.pyplot as plt\n",
        "import tensorflow as tf\n",
        "seed = 2022\n",
        "np.random.seed(seed)\n",
        "tf.random.set_seed(seed)"
      ]
    },
    {
      "cell_type": "code",
      "source": [
        "from tensorflow.keras.datasets import mnist\n",
        "(X_train, y_train), (X_test, y_test) = mnist.load_data()\n",
        "X_train.shape, y_train.shape, X_test.shape, y_test.shape"
      ],
      "metadata": {
        "colab": {
          "base_uri": "https://localhost:8080/"
        },
        "id": "3eYLGTb6eKrL",
        "outputId": "1e745ab8-b3a9-437a-dd68-5b3ca691a05c"
      },
      "execution_count": null,
      "outputs": [
        {
          "output_type": "execute_result",
          "data": {
            "text/plain": [
              "((60000, 28, 28), (60000,), (10000, 28, 28), (10000,))"
            ]
          },
          "metadata": {},
          "execution_count": 2
        }
      ]
    },
    {
      "cell_type": "markdown",
      "source": [
        "## 이미지 정규화와 차원 변경\n",
        "- 2차원 => 3차원"
      ],
      "metadata": {
        "id": "VEBdSA49ef5T"
      }
    },
    {
      "cell_type": "code",
      "source": [
        "# 정규화    # 이미지 차원 변경  : 2차원 -> 1차원\n",
        "X_train = X_train.reshape(-1, 28, 28) / 255.\n",
        "X_test = X_test.reshape(-1, 28, 28) / 255.\n",
        "X_train.shape, X_test.shape"
      ],
      "metadata": {
        "colab": {
          "base_uri": "https://localhost:8080/"
        },
        "id": "FcIM7sSIeP07",
        "outputId": "1bb1a4e8-c1ac-4772-d9b4-cbecb7d5cb2e"
      },
      "execution_count": null,
      "outputs": [
        {
          "output_type": "execute_result",
          "data": {
            "text/plain": [
              "((60000, 28, 28), (10000, 28, 28))"
            ]
          },
          "metadata": {},
          "execution_count": 3
        }
      ]
    },
    {
      "cell_type": "markdown",
      "source": [
        "## 원핫인코딩"
      ],
      "metadata": {
        "id": "2ByQedr_e-nn"
      }
    },
    {
      "cell_type": "code",
      "source": [
        "from tensorflow.keras.utils import to_categorical\n",
        "Y_train = to_categorical(y_train)\n",
        "Y_test = to_categorical(y_test)\n",
        "Y_train.shape, Y_test.shape\n",
        "\n",
        "# 어떻게 생긴건지 궁금하다..."
      ],
      "metadata": {
        "colab": {
          "base_uri": "https://localhost:8080/"
        },
        "id": "8yPEvkgiez8r",
        "outputId": "6819b679-b119-404c-d0bd-b289a4032c39"
      },
      "execution_count": null,
      "outputs": [
        {
          "output_type": "execute_result",
          "data": {
            "text/plain": [
              "((60000, 10), (10000, 10))"
            ]
          },
          "metadata": {},
          "execution_count": 4
        }
      ]
    },
    {
      "cell_type": "markdown",
      "source": [
        "## 모델 정의 및 설정\n",
        "- (28, 28, 1) 이지만, 2차원에 컬러일 뿐\n",
        "- 동영상같은 것이 3차원임\n",
        "- 차원 축소를 위한 Flatten"
      ],
      "metadata": {
        "id": "g6usA6BJfKE9"
      }
    },
    {
      "cell_type": "code",
      "source": [
        "from tensorflow.keras.models import Sequential, load_model\n",
        "from tensorflow.keras.layers import Dense, Conv2D, Flatten, MaxPooling2D\n",
        "from tensorflow.keras.callbacks import ModelCheckpoint, EarlyStopping"
      ],
      "metadata": {
        "id": "rMCuY3ScfDNr"
      },
      "execution_count": null,
      "outputs": []
    },
    {
      "cell_type": "code",
      "source": [
        "model = Sequential([\n",
        "    Conv2D(filters=32, kernel_size = (3, 3), input_shape = (28, 28, 1), activation = 'relu'),     # (26, 26, 32)  = (계산된 N , 축소된 N , 필터의 수)\n",
        "    Conv2D(64, (3,3), activation='relu'),   # (24, 24, 64)\n",
        "    MaxPooling2D(),                         # MaxPooling2D(poolsize = (2, 2))\n",
        "    Flatten(),                              # Dense를 위한 Flatten\n",
        "    Dense(512, activation = 'relu'),\n",
        "    Dense(10, activation = 'softmax')\n",
        "])\n",
        "model.summary()\n",
        "# 파라미터 개수\n",
        "# 320 = 1 * (3 * 3 * 1) * 64\n",
        "# 18496 = 32 * 3 * 3 * 64 + 64\n",
        "# 36864 = 24 * 24 * 64"
      ],
      "metadata": {
        "colab": {
          "base_uri": "https://localhost:8080/"
        },
        "id": "Kcq9p3G7fP4q",
        "outputId": "5f697ae7-f795-43de-96ba-7cc19b96385f"
      },
      "execution_count": null,
      "outputs": [
        {
          "output_type": "stream",
          "name": "stdout",
          "text": [
            "Model: \"sequential\"\n",
            "_________________________________________________________________\n",
            " Layer (type)                Output Shape              Param #   \n",
            "=================================================================\n",
            " conv2d (Conv2D)             (None, 26, 26, 32)        320       \n",
            "                                                                 \n",
            " conv2d_1 (Conv2D)           (None, 24, 24, 64)        18496     \n",
            "                                                                 \n",
            " max_pooling2d (MaxPooling2D  (None, 12, 12, 64)       0         \n",
            " )                                                               \n",
            "                                                                 \n",
            " flatten (Flatten)           (None, 9216)              0         \n",
            "                                                                 \n",
            " dense (Dense)               (None, 512)               4719104   \n",
            "                                                                 \n",
            " dense_1 (Dense)             (None, 10)                5130      \n",
            "                                                                 \n",
            "=================================================================\n",
            "Total params: 4,743,050\n",
            "Trainable params: 4,743,050\n",
            "Non-trainable params: 0\n",
            "_________________________________________________________________\n"
          ]
        }
      ]
    },
    {
      "cell_type": "code",
      "source": [
        "model.compile('adam', 'categorical_crossentropy',['accuracy'])"
      ],
      "metadata": {
        "id": "7o4o_uwbfP6V"
      },
      "execution_count": null,
      "outputs": []
    },
    {
      "cell_type": "code",
      "source": [
        "model_path = 'best-mnist-cnn-v2.h5'\n",
        "mc = ModelCheckpoint(model_path, save_best_only=True, verbose = 1)\n",
        "es = EarlyStopping(patience = 10)"
      ],
      "metadata": {
        "id": "OFjvGy3VfP81"
      },
      "execution_count": null,
      "outputs": []
    },
    {
      "cell_type": "markdown",
      "source": [
        "## 모델 학습 및 평가"
      ],
      "metadata": {
        "id": "rEs4V1DbfL_B"
      }
    },
    {
      "cell_type": "code",
      "source": [
        "hist = model.fit(X_train, Y_train, validation_split= 0.2,\n",
        "                 epochs = 100, batch_size = 200,\n",
        "                 callbacks = [mc, es])"
      ],
      "metadata": {
        "colab": {
          "base_uri": "https://localhost:8080/"
        },
        "id": "-Gw3CVwjfNJc",
        "outputId": "0f247473-6426-4da4-91bc-a731261af22b"
      },
      "execution_count": null,
      "outputs": [
        {
          "output_type": "stream",
          "name": "stdout",
          "text": [
            "Epoch 1/100\n",
            "236/240 [============================>.] - ETA: 0s - loss: 0.1847 - accuracy: 0.9432\n",
            "Epoch 1: val_loss improved from inf to 0.06117, saving model to best-mnist-cnn-v2.h5\n",
            "240/240 [==============================] - 6s 15ms/step - loss: 0.1827 - accuracy: 0.9437 - val_loss: 0.0612 - val_accuracy: 0.9817\n",
            "Epoch 2/100\n",
            "236/240 [============================>.] - ETA: 0s - loss: 0.0441 - accuracy: 0.9864\n",
            "Epoch 2: val_loss improved from 0.06117 to 0.05695, saving model to best-mnist-cnn-v2.h5\n",
            "240/240 [==============================] - 3s 14ms/step - loss: 0.0440 - accuracy: 0.9864 - val_loss: 0.0569 - val_accuracy: 0.9844\n",
            "Epoch 3/100\n",
            "236/240 [============================>.] - ETA: 0s - loss: 0.0261 - accuracy: 0.9917\n",
            "Epoch 3: val_loss improved from 0.05695 to 0.03848, saving model to best-mnist-cnn-v2.h5\n",
            "240/240 [==============================] - 3s 14ms/step - loss: 0.0261 - accuracy: 0.9917 - val_loss: 0.0385 - val_accuracy: 0.9887\n",
            "Epoch 4/100\n",
            "236/240 [============================>.] - ETA: 0s - loss: 0.0170 - accuracy: 0.9944\n",
            "Epoch 4: val_loss did not improve from 0.03848\n",
            "240/240 [==============================] - 3s 13ms/step - loss: 0.0170 - accuracy: 0.9944 - val_loss: 0.0443 - val_accuracy: 0.9862\n",
            "Epoch 5/100\n",
            "238/240 [============================>.] - ETA: 0s - loss: 0.0108 - accuracy: 0.9964\n",
            "Epoch 5: val_loss did not improve from 0.03848\n",
            "240/240 [==============================] - 3s 13ms/step - loss: 0.0108 - accuracy: 0.9964 - val_loss: 0.0502 - val_accuracy: 0.9880\n",
            "Epoch 6/100\n",
            "237/240 [============================>.] - ETA: 0s - loss: 0.0095 - accuracy: 0.9967\n",
            "Epoch 6: val_loss did not improve from 0.03848\n",
            "240/240 [==============================] - 3s 13ms/step - loss: 0.0096 - accuracy: 0.9966 - val_loss: 0.0415 - val_accuracy: 0.9892\n",
            "Epoch 7/100\n",
            "239/240 [============================>.] - ETA: 0s - loss: 0.0067 - accuracy: 0.9978\n",
            "Epoch 7: val_loss did not improve from 0.03848\n",
            "240/240 [==============================] - 3s 13ms/step - loss: 0.0067 - accuracy: 0.9978 - val_loss: 0.0479 - val_accuracy: 0.9899\n",
            "Epoch 8/100\n",
            "237/240 [============================>.] - ETA: 0s - loss: 0.0049 - accuracy: 0.9982\n",
            "Epoch 8: val_loss did not improve from 0.03848\n",
            "240/240 [==============================] - 3s 13ms/step - loss: 0.0049 - accuracy: 0.9982 - val_loss: 0.0472 - val_accuracy: 0.9899\n",
            "Epoch 9/100\n",
            "239/240 [============================>.] - ETA: 0s - loss: 0.0064 - accuracy: 0.9978\n",
            "Epoch 9: val_loss did not improve from 0.03848\n",
            "240/240 [==============================] - 3s 13ms/step - loss: 0.0063 - accuracy: 0.9979 - val_loss: 0.0460 - val_accuracy: 0.9894\n",
            "Epoch 10/100\n",
            "237/240 [============================>.] - ETA: 0s - loss: 0.0040 - accuracy: 0.9986\n",
            "Epoch 10: val_loss did not improve from 0.03848\n",
            "240/240 [==============================] - 3s 13ms/step - loss: 0.0039 - accuracy: 0.9986 - val_loss: 0.0473 - val_accuracy: 0.9896\n",
            "Epoch 11/100\n",
            "239/240 [============================>.] - ETA: 0s - loss: 0.0024 - accuracy: 0.9995\n",
            "Epoch 11: val_loss did not improve from 0.03848\n",
            "240/240 [==============================] - 3s 13ms/step - loss: 0.0024 - accuracy: 0.9995 - val_loss: 0.0683 - val_accuracy: 0.9874\n",
            "Epoch 12/100\n",
            "237/240 [============================>.] - ETA: 0s - loss: 0.0055 - accuracy: 0.9982\n",
            "Epoch 12: val_loss did not improve from 0.03848\n",
            "240/240 [==============================] - 3s 13ms/step - loss: 0.0055 - accuracy: 0.9982 - val_loss: 0.0478 - val_accuracy: 0.9883\n",
            "Epoch 13/100\n",
            "238/240 [============================>.] - ETA: 0s - loss: 0.0016 - accuracy: 0.9996\n",
            "Epoch 13: val_loss did not improve from 0.03848\n",
            "240/240 [==============================] - 3s 13ms/step - loss: 0.0016 - accuracy: 0.9996 - val_loss: 0.0540 - val_accuracy: 0.9888\n"
          ]
        }
      ]
    },
    {
      "cell_type": "code",
      "source": [
        "best_model = load_model(model_path)\n",
        "best_model.evaluate(X_test, Y_test)"
      ],
      "metadata": {
        "id": "IGvVKeSAl4Ho",
        "colab": {
          "base_uri": "https://localhost:8080/"
        },
        "outputId": "49ab523d-3453-402a-960b-c4835c121699"
      },
      "execution_count": null,
      "outputs": [
        {
          "output_type": "stream",
          "name": "stdout",
          "text": [
            "313/313 [==============================] - 1s 3ms/step - loss: 0.0362 - accuracy: 0.9877\n"
          ]
        },
        {
          "output_type": "execute_result",
          "data": {
            "text/plain": [
              "[0.03623127192258835, 0.9876999855041504]"
            ]
          },
          "metadata": {},
          "execution_count": 10
        }
      ]
    },
    {
      "cell_type": "markdown",
      "source": [
        "## 학습과정 시각화"
      ],
      "metadata": {
        "id": "EpF9uDChnP6F"
      }
    },
    {
      "cell_type": "code",
      "source": [
        "y_acc = hist.history['accuracy']\n",
        "y_vloss = hist.history['val_loss']\n",
        "xs = np.arange(1, len(y_acc) + 1)\n",
        "\n",
        "plt.figure(figsize = (10, 7))\n",
        "plt.plot(xs, y_acc, label = 'accuracy')\n",
        "plt.plot(xs, y_vloss, label = 'validation_loss')\n",
        "plt.xlabel('Epoch')\n",
        "plt.title('Mnist CNN Model v1')\n",
        "plt.legend()\n",
        "plt.grid(linestyle = ':')\n",
        "\n",
        "plt.show()"
      ],
      "metadata": {
        "colab": {
          "base_uri": "https://localhost:8080/",
          "height": 458
        },
        "id": "C9ja-Ydlm0he",
        "outputId": "ad301042-a08a-4ea5-8993-7ed7ed256d21"
      },
      "execution_count": null,
      "outputs": [
        {
          "output_type": "display_data",
          "data": {
            "text/plain": [
              "<Figure size 720x504 with 1 Axes>"
            ],
            "image/png": "[encoded data removed]"
          },
          "metadata": {
            "needs_background": "light"
          }
        }
      ]
    },
    {
      "cell_type": "code",
      "source": [
        ""
      ],
      "metadata": {
        "id": "BI_RhMDbnd8P"
      },
      "execution_count": null,
      "outputs": []
    }
  ]
}