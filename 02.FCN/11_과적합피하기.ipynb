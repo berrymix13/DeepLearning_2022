{
  "nbformat": 4,
  "nbformat_minor": 0,
  "metadata": {
    "colab": {
      "name": "11_과적합피하기.ipynb",
      "provenance": [],
      "collapsed_sections": []
    },
    "kernelspec": {
      "name": "python3",
      "display_name": "Python 3"
    },
    "language_info": {
      "name": "python"
    }
  },
  "cells": [
    {
      "cell_type": "markdown",
      "source": [
        "# 초음파 광물 데이터"
      ],
      "metadata": {
        "id": "TxMedqDEp0pF"
      }
    },
    {
      "cell_type": "code",
      "execution_count": 1,
      "metadata": {
        "id": "HLLC9RsSpwSU"
      },
      "outputs": [],
      "source": [
        "import numpy as np\n",
        "import pandas as pd\n",
        "import matplotlib.pyplot as plt\n",
        "import tensorflow as tf\n",
        "seed = 2022\n",
        "np.random.seed(seed)\n",
        "tf.random.set_seed(seed)"
      ]
    },
    {
      "cell_type": "markdown",
      "source": [
        "## 데이터 전처리"
      ],
      "metadata": {
        "id": "Szy4urG3p7-M"
      }
    },
    {
      "cell_type": "code",
      "source": [
        "df = pd.read_csv('sonar.csv', header = None)\n",
        "df.head(3)"
      ],
      "metadata": {
        "colab": {
          "base_uri": "https://localhost:8080/",
          "height": 237
        },
        "id": "DZrsR1r3p7VS",
        "outputId": "1929ae31-d600-4588-eb0a-6ebf7c01b086"
      },
      "execution_count": 3,
      "outputs": [
        {
          "output_type": "execute_result",
          "data": {
            "text/plain": [
              "       0       1       2       3       4       5       6       7       8   \\\n",
              "0  0.0200  0.0371  0.0428  0.0207  0.0954  0.0986  0.1539  0.1601  0.3109   \n",
              "1  0.0453  0.0523  0.0843  0.0689  0.1183  0.2583  0.2156  0.3481  0.3337   \n",
              "2  0.0262  0.0582  0.1099  0.1083  0.0974  0.2280  0.2431  0.3771  0.5598   \n",
              "\n",
              "       9   ...      51      52      53      54      55      56      57  \\\n",
              "0  0.2111  ...  0.0027  0.0065  0.0159  0.0072  0.0167  0.0180  0.0084   \n",
              "1  0.2872  ...  0.0084  0.0089  0.0048  0.0094  0.0191  0.0140  0.0049   \n",
              "2  0.6194  ...  0.0232  0.0166  0.0095  0.0180  0.0244  0.0316  0.0164   \n",
              "\n",
              "       58      59  60  \n",
              "0  0.0090  0.0032   R  \n",
              "1  0.0052  0.0044   R  \n",
              "2  0.0095  0.0078   R  \n",
              "\n",
              "[3 rows x 61 columns]"
            ],
            "text/html": [
              "\n",
              "  <div id=\"df-108f60a8-2e8c-4179-b7fd-f21343c27577\">\n",
              "    <div class=\"colab-df-container\">\n",
              "      <div>\n",
              "<style scoped>\n",
              "    .dataframe tbody tr th:only-of-type {\n",
              "        vertical-align: middle;\n",
              "    }\n",
              "\n",
              "    .dataframe tbody tr th {\n",
              "        vertical-align: top;\n",
              "    }\n",
              "\n",
              "    .dataframe thead th {\n",
              "        text-align: right;\n",
              "    }\n",
              "</style>\n",
              "<table border=\"1\" class=\"dataframe\">\n",
              "  <thead>\n",
              "    <tr style=\"text-align: right;\">\n",
              "      <th></th>\n",
              "      <th>0</th>\n",
              "      <th>1</th>\n",
              "      <th>2</th>\n",
              "      <th>3</th>\n",
              "      <th>4</th>\n",
              "      <th>5</th>\n",
              "      <th>6</th>\n",
              "      <th>7</th>\n",
              "      <th>8</th>\n",
              "      <th>9</th>\n",
              "      <th>...</th>\n",
              "      <th>51</th>\n",
              "      <th>52</th>\n",
              "      <th>53</th>\n",
              "      <th>54</th>\n",
              "      <th>55</th>\n",
              "      <th>56</th>\n",
              "      <th>57</th>\n",
              "      <th>58</th>\n",
              "      <th>59</th>\n",
              "      <th>60</th>\n",
              "    </tr>\n",
              "  </thead>\n",
              "  <tbody>\n",
              "    <tr>\n",
              "      <th>0</th>\n",
              "      <td>0.0200</td>\n",
              "      <td>0.0371</td>\n",
              "      <td>0.0428</td>\n",
              "      <td>0.0207</td>\n",
              "      <td>0.0954</td>\n",
              "      <td>0.0986</td>\n",
              "      <td>0.1539</td>\n",
              "      <td>0.1601</td>\n",
              "      <td>0.3109</td>\n",
              "      <td>0.2111</td>\n",
              "      <td>...</td>\n",
              "      <td>0.0027</td>\n",
              "      <td>0.0065</td>\n",
              "      <td>0.0159</td>\n",
              "      <td>0.0072</td>\n",
              "      <td>0.0167</td>\n",
              "      <td>0.0180</td>\n",
              "      <td>0.0084</td>\n",
              "      <td>0.0090</td>\n",
              "      <td>0.0032</td>\n",
              "      <td>R</td>\n",
              "    </tr>\n",
              "    <tr>\n",
              "      <th>1</th>\n",
              "      <td>0.0453</td>\n",
              "      <td>0.0523</td>\n",
              "      <td>0.0843</td>\n",
              "      <td>0.0689</td>\n",
              "      <td>0.1183</td>\n",
              "      <td>0.2583</td>\n",
              "      <td>0.2156</td>\n",
              "      <td>0.3481</td>\n",
              "      <td>0.3337</td>\n",
              "      <td>0.2872</td>\n",
              "      <td>...</td>\n",
              "      <td>0.0084</td>\n",
              "      <td>0.0089</td>\n",
              "      <td>0.0048</td>\n",
              "      <td>0.0094</td>\n",
              "      <td>0.0191</td>\n",
              "      <td>0.0140</td>\n",
              "      <td>0.0049</td>\n",
              "      <td>0.0052</td>\n",
              "      <td>0.0044</td>\n",
              "      <td>R</td>\n",
              "    </tr>\n",
              "    <tr>\n",
              "      <th>2</th>\n",
              "      <td>0.0262</td>\n",
              "      <td>0.0582</td>\n",
              "      <td>0.1099</td>\n",
              "      <td>0.1083</td>\n",
              "      <td>0.0974</td>\n",
              "      <td>0.2280</td>\n",
              "      <td>0.2431</td>\n",
              "      <td>0.3771</td>\n",
              "      <td>0.5598</td>\n",
              "      <td>0.6194</td>\n",
              "      <td>...</td>\n",
              "      <td>0.0232</td>\n",
              "      <td>0.0166</td>\n",
              "      <td>0.0095</td>\n",
              "      <td>0.0180</td>\n",
              "      <td>0.0244</td>\n",
              "      <td>0.0316</td>\n",
              "      <td>0.0164</td>\n",
              "      <td>0.0095</td>\n",
              "      <td>0.0078</td>\n",
              "      <td>R</td>\n",
              "    </tr>\n",
              "  </tbody>\n",
              "</table>\n",
              "<p>3 rows × 61 columns</p>\n",
              "</div>\n",
              "      <button class=\"colab-df-convert\" onclick=\"convertToInteractive('df-108f60a8-2e8c-4179-b7fd-f21343c27577')\"\n",
              "              title=\"Convert this dataframe to an interactive table.\"\n",
              "              style=\"display:none;\">\n",
              "        \n",
              "  <svg xmlns=\"http://www.w3.org/2000/svg\" height=\"24px\"viewBox=\"0 0 24 24\"\n",
              "       width=\"24px\">\n",
              "    <path d=\"M0 0h24v24H0V0z\" fill=\"none\"/>\n",
              "    <path d=\"M18.56 5.44l.94 2.06.94-2.06 2.06-.94-2.06-.94-.94-2.06-.94 2.06-2.06.94zm-11 1L8.5 8.5l.94-2.06 2.06-.94-2.06-.94L8.5 2.5l-.94 2.06-2.06.94zm10 10l.94 2.06.94-2.06 2.06-.94-2.06-.94-.94-2.06-.94 2.06-2.06.94z\"/><path d=\"M17.41 7.96l-1.37-1.37c-.4-.4-.92-.59-1.43-.59-.52 0-1.04.2-1.43.59L10.3 9.45l-7.72 7.72c-.78.78-.78 2.05 0 2.83L4 21.41c.39.39.9.59 1.41.59.51 0 1.02-.2 1.41-.59l7.78-7.78 2.81-2.81c.8-.78.8-2.07 0-2.86zM5.41 20L4 18.59l7.72-7.72 1.47 1.35L5.41 20z\"/>\n",
              "  </svg>\n",
              "      </button>\n",
              "      \n",
              "  <style>\n",
              "    .colab-df-container {\n",
              "      display:flex;\n",
              "      flex-wrap:wrap;\n",
              "      gap: 12px;\n",
              "    }\n",
              "\n",
              "    .colab-df-convert {\n",
              "      background-color: #E8F0FE;\n",
              "      border: none;\n",
              "      border-radius: 50%;\n",
              "      cursor: pointer;\n",
              "      display: none;\n",
              "      fill: #1967D2;\n",
              "      height: 32px;\n",
              "      padding: 0 0 0 0;\n",
              "      width: 32px;\n",
              "    }\n",
              "\n",
              "    .colab-df-convert:hover {\n",
              "      background-color: #E2EBFA;\n",
              "      box-shadow: 0px 1px 2px rgba(60, 64, 67, 0.3), 0px 1px 3px 1px rgba(60, 64, 67, 0.15);\n",
              "      fill: #174EA6;\n",
              "    }\n",
              "\n",
              "    [theme=dark] .colab-df-convert {\n",
              "      background-color: #3B4455;\n",
              "      fill: #D2E3FC;\n",
              "    }\n",
              "\n",
              "    [theme=dark] .colab-df-convert:hover {\n",
              "      background-color: #434B5C;\n",
              "      box-shadow: 0px 1px 3px 1px rgba(0, 0, 0, 0.15);\n",
              "      filter: drop-shadow(0px 1px 2px rgba(0, 0, 0, 0.3));\n",
              "      fill: #FFFFFF;\n",
              "    }\n",
              "  </style>\n",
              "\n",
              "      <script>\n",
              "        const buttonEl =\n",
              "          document.querySelector('#df-108f60a8-2e8c-4179-b7fd-f21343c27577 button.colab-df-convert');\n",
              "        buttonEl.style.display =\n",
              "          google.colab.kernel.accessAllowed ? 'block' : 'none';\n",
              "\n",
              "        async function convertToInteractive(key) {\n",
              "          const element = document.querySelector('#df-108f60a8-2e8c-4179-b7fd-f21343c27577');\n",
              "          const dataTable =\n",
              "            await google.colab.kernel.invokeFunction('convertToInteractive',\n",
              "                                                     [key], {});\n",
              "          if (!dataTable) return;\n",
              "\n",
              "          const docLinkHtml = 'Like what you see? Visit the ' +\n",
              "            '<a target=\"_blank\" href=https://colab.research.google.com/notebooks/data_table.ipynb>data table notebook</a>'\n",
              "            + ' to learn more about interactive tables.';\n",
              "          element.innerHTML = '';\n",
              "          dataTable['output_type'] = 'display_data';\n",
              "          await google.colab.output.renderOutput(dataTable, element);\n",
              "          const docLink = document.createElement('div');\n",
              "          docLink.innerHTML = docLinkHtml;\n",
              "          element.appendChild(docLink);\n",
              "        }\n",
              "      </script>\n",
              "    </div>\n",
              "  </div>\n",
              "  "
            ]
          },
          "metadata": {},
          "execution_count": 3
        }
      ]
    },
    {
      "cell_type": "code",
      "source": [
        "df[60].value_counts()"
      ],
      "metadata": {
        "colab": {
          "base_uri": "https://localhost:8080/"
        },
        "id": "q_FKQFt5qIxq",
        "outputId": "6d3aef9e-fa96-4fc1-c50e-8bbcd99dbc2f"
      },
      "execution_count": 5,
      "outputs": [
        {
          "output_type": "execute_result",
          "data": {
            "text/plain": [
              "M    111\n",
              "R     97\n",
              "Name: 60, dtype: int64"
            ]
          },
          "metadata": {},
          "execution_count": 5
        }
      ]
    },
    {
      "cell_type": "code",
      "source": [
        "# X data : scaling\n",
        "from sklearn.preprocessing import StandardScaler\n",
        "X_sc = StandardScaler().fit_transform(df.iloc[:,:-1].values)"
      ],
      "metadata": {
        "id": "LL3p2HnaqskO"
      },
      "execution_count": 7,
      "outputs": []
    },
    {
      "cell_type": "code",
      "source": [
        "# y_data : label encoding\n",
        "# df 의 replace를 사용해서도 가능\n",
        "from sklearn.preprocessing import LabelEncoder\n",
        "y_labeld = LabelEncoder().fit_transform(df[60].values)"
      ],
      "metadata": {
        "id": "f0n-KfD4rfwJ"
      },
      "execution_count": 8,
      "outputs": []
    },
    {
      "cell_type": "code",
      "source": [
        "from sklearn.model_selection import train_test_split\n",
        "X_train, X_test, y_train, y_test = train_test_split(\n",
        "    X_sc, y_labeld, stratify = y_labeld, test_size = 0.2, random_state = seed\n",
        ")"
      ],
      "metadata": {
        "id": "GTtOc0swr5vh"
      },
      "execution_count": 9,
      "outputs": []
    },
    {
      "cell_type": "code",
      "source": [
        "X_train.shape"
      ],
      "metadata": {
        "colab": {
          "base_uri": "https://localhost:8080/"
        },
        "id": "IYqr6kX-szKa",
        "outputId": "95176a9f-dce3-4aba-bef5-80245659f860"
      },
      "execution_count": 10,
      "outputs": [
        {
          "output_type": "execute_result",
          "data": {
            "text/plain": [
              "(166, 60)"
            ]
          },
          "metadata": {},
          "execution_count": 10
        }
      ]
    },
    {
      "cell_type": "markdown",
      "source": [
        "## 모델 정의 및 설정"
      ],
      "metadata": {
        "id": "xx-zDHeesbSV"
      }
    },
    {
      "cell_type": "code",
      "source": [
        "from tensorflow.keras.models import Sequential\n",
        "from tensorflow.keras.layers import Dense\n",
        "model1 = Sequential([\n",
        "    Dense(80, input_dim = 60, activation = 'relu'), \n",
        "    Dense(12, activation = 'relu'),\n",
        "    Dense(1, activation = 'sigmoid')\n",
        "])\n",
        "model1.summary()"
      ],
      "metadata": {
        "colab": {
          "base_uri": "https://localhost:8080/"
        },
        "id": "jzktqattsary",
        "outputId": "e2323ab9-fbd2-4be8-cc9d-6896baf14861"
      },
      "execution_count": 12,
      "outputs": [
        {
          "output_type": "stream",
          "name": "stdout",
          "text": [
            "Model: \"sequential_1\"\n",
            "_________________________________________________________________\n",
            " Layer (type)                Output Shape              Param #   \n",
            "=================================================================\n",
            " dense_3 (Dense)             (None, 80)                4880      \n",
            "                                                                 \n",
            " dense_4 (Dense)             (None, 12)                972       \n",
            "                                                                 \n",
            " dense_5 (Dense)             (None, 1)                 13        \n",
            "                                                                 \n",
            "=================================================================\n",
            "Total params: 5,865\n",
            "Trainable params: 5,865\n",
            "Non-trainable params: 0\n",
            "_________________________________________________________________\n"
          ]
        }
      ]
    },
    {
      "cell_type": "code",
      "source": [
        "model1.compile('adam', 'binary_crossentropy',['accuracy'])"
      ],
      "metadata": {
        "id": "dZzUkBsttLlQ"
      },
      "execution_count": 13,
      "outputs": []
    },
    {
      "cell_type": "code",
      "source": [
        "# fit\n",
        "hist1 = model1.fit(X_train, y_train, validation_split = 0.2,\n",
        "                   epochs = 200, batch_size = 100, verbose = 0)"
      ],
      "metadata": {
        "id": "5KPhwx0ftkQ5"
      },
      "execution_count": 14,
      "outputs": []
    },
    {
      "cell_type": "code",
      "source": [
        "model1.evaluate(X_test, y_test)"
      ],
      "metadata": {
        "colab": {
          "base_uri": "https://localhost:8080/"
        },
        "id": "49yPurgGt5qJ",
        "outputId": "81ea20c4-4ad4-4ca2-d315-49988e3b38e0"
      },
      "execution_count": 17,
      "outputs": [
        {
          "output_type": "stream",
          "name": "stdout",
          "text": [
            "2/2 [==============================] - 0s 10ms/step - loss: 0.4291 - accuracy: 0.8333\n"
          ]
        },
        {
          "output_type": "execute_result",
          "data": {
            "text/plain": [
              "[0.42907625436782837, 0.8333333134651184]"
            ]
          },
          "metadata": {},
          "execution_count": 17
        }
      ]
    },
    {
      "cell_type": "code",
      "source": [
        "params1, acc1 = 5865, 0.833"
      ],
      "metadata": {
        "id": "0m-KeT2cuD6P"
      },
      "execution_count": 18,
      "outputs": []
    },
    {
      "cell_type": "markdown",
      "source": [
        "### case2. 은닉층 4개"
      ],
      "metadata": {
        "id": "Cc6mpHu6utb-"
      }
    },
    {
      "cell_type": "code",
      "source": [
        "model2 = Sequential([\n",
        "    Dense(80, input_dim = 60, activation = 'relu'),\n",
        "    Dense(48, activation = 'relu'),\n",
        "    Dense(20, activation = 'relu'),\n",
        "    Dense(8, activation = 'relu'),\n",
        "    Dense(1, activation = 'sigmoid'),\n",
        "])\n",
        "model2.summary()"
      ],
      "metadata": {
        "colab": {
          "base_uri": "https://localhost:8080/"
        },
        "id": "KAKP1SAbuUTe",
        "outputId": "46ac7918-4d42-4020-ae91-0c3493de99f3"
      },
      "execution_count": 19,
      "outputs": [
        {
          "output_type": "stream",
          "name": "stdout",
          "text": [
            "Model: \"sequential_2\"\n",
            "_________________________________________________________________\n",
            " Layer (type)                Output Shape              Param #   \n",
            "=================================================================\n",
            " dense_6 (Dense)             (None, 80)                4880      \n",
            "                                                                 \n",
            " dense_7 (Dense)             (None, 48)                3888      \n",
            "                                                                 \n",
            " dense_8 (Dense)             (None, 20)                980       \n",
            "                                                                 \n",
            " dense_9 (Dense)             (None, 8)                 168       \n",
            "                                                                 \n",
            " dense_10 (Dense)            (None, 1)                 9         \n",
            "                                                                 \n",
            "=================================================================\n",
            "Total params: 9,925\n",
            "Trainable params: 9,925\n",
            "Non-trainable params: 0\n",
            "_________________________________________________________________\n"
          ]
        }
      ]
    },
    {
      "cell_type": "code",
      "source": [
        "model2.compile('adam', 'binary_crossentropy',['accuracy'])\n",
        "hist2 = model2.fit(X_train, y_train, validation_split = 0.2,\n",
        "                   epochs = 200, batch_size = 100, verbose = 0)\n",
        "model2.evaluate(X_test, y_test)"
      ],
      "metadata": {
        "colab": {
          "base_uri": "https://localhost:8080/"
        },
        "id": "TdTGJcPHuUVs",
        "outputId": "92a83807-f06e-4acb-9c31-7d8bfa63b389"
      },
      "execution_count": 20,
      "outputs": [
        {
          "output_type": "stream",
          "name": "stdout",
          "text": [
            "2/2 [==============================] - 0s 8ms/step - loss: 0.7439 - accuracy: 0.8333\n"
          ]
        },
        {
          "output_type": "execute_result",
          "data": {
            "text/plain": [
              "[0.7438634634017944, 0.8333333134651184]"
            ]
          },
          "metadata": {},
          "execution_count": 20
        }
      ]
    },
    {
      "cell_type": "code",
      "source": [
        "prams2, acc2 = 9925, 0.8333"
      ],
      "metadata": {
        "id": "kJpTPaLYuUX9"
      },
      "execution_count": 21,
      "outputs": []
    },
    {
      "cell_type": "markdown",
      "source": [
        "### case3. 은닉층 6개"
      ],
      "metadata": {
        "id": "QfrP0Kp9vXS0"
      }
    },
    {
      "cell_type": "code",
      "source": [
        "model3 = Sequential([\n",
        "    Dense(80, input_dim = 60, activation = 'relu'),\n",
        "    Dense(64, activation = 'relu'),\n",
        "    Dense(40, activation = 'relu'),\n",
        "    Dense(22, activation = 'relu'),\n",
        "    Dense(10, activation = 'relu'),\n",
        "    Dense(8, activation = 'relu'),\n",
        "    Dense(1, activation = 'sigmoid'),\n",
        "])\n",
        "model3.summary()"
      ],
      "metadata": {
        "colab": {
          "base_uri": "https://localhost:8080/"
        },
        "outputId": "79e4572f-1bc3-40a9-eefb-d4ce018916a6",
        "id": "RW8yeXA1vmiR"
      },
      "execution_count": 27,
      "outputs": [
        {
          "output_type": "stream",
          "name": "stdout",
          "text": [
            "Model: \"sequential_6\"\n",
            "_________________________________________________________________\n",
            " Layer (type)                Output Shape              Param #   \n",
            "=================================================================\n",
            " dense_36 (Dense)            (None, 80)                4880      \n",
            "                                                                 \n",
            " dense_37 (Dense)            (None, 64)                5184      \n",
            "                                                                 \n",
            " dense_38 (Dense)            (None, 40)                2600      \n",
            "                                                                 \n",
            " dense_39 (Dense)            (None, 22)                902       \n",
            "                                                                 \n",
            " dense_40 (Dense)            (None, 10)                230       \n",
            "                                                                 \n",
            " dense_41 (Dense)            (None, 8)                 88        \n",
            "                                                                 \n",
            " dense_42 (Dense)            (None, 1)                 9         \n",
            "                                                                 \n",
            "=================================================================\n",
            "Total params: 13,893\n",
            "Trainable params: 13,893\n",
            "Non-trainable params: 0\n",
            "_________________________________________________________________\n"
          ]
        }
      ]
    },
    {
      "cell_type": "code",
      "source": [
        "model3.compile('adam', 'binary_crossentropy',['accuracy'])\n",
        "hist3 = model3.fit(X_train, y_train, validation_split = 0.2,\n",
        "                   epochs = 200, batch_size = 100, verbose = 0)\n",
        "model3.evaluate(X_test, y_test)"
      ],
      "metadata": {
        "colab": {
          "base_uri": "https://localhost:8080/"
        },
        "outputId": "64b56686-3310-4ba6-e572-4cb1f294242f",
        "id": "DRFhWk0qvmiT"
      },
      "execution_count": 23,
      "outputs": [
        {
          "output_type": "stream",
          "name": "stdout",
          "text": [
            "2/2 [==============================] - 0s 10ms/step - loss: 0.8505 - accuracy: 0.8095\n"
          ]
        },
        {
          "output_type": "execute_result",
          "data": {
            "text/plain": [
              "[0.8505452275276184, 0.8095238208770752]"
            ]
          },
          "metadata": {},
          "execution_count": 23
        }
      ]
    },
    {
      "cell_type": "code",
      "source": [
        "prams3, acc3 = 13947, 0.8333"
      ],
      "metadata": {
        "id": "sylKQBHpvmiU"
      },
      "execution_count": 24,
      "outputs": []
    },
    {
      "cell_type": "markdown",
      "source": [
        "### case4. 은닉층 8개"
      ],
      "metadata": {
        "id": "u4uEAegVwFZI"
      }
    },
    {
      "cell_type": "code",
      "source": [
        "model4 = Sequential([\n",
        "    Dense(80, input_dim = 60, activation = 'relu'),\n",
        "    Dense(64, activation = 'relu'),\n",
        "    Dense(50, activation = 'relu'),\n",
        "    Dense(40, activation = 'relu'),\n",
        "    Dense(22, activation = 'relu'),\n",
        "    Dense(10, activation = 'relu'),\n",
        "    Dense(8, activation = 'relu'),\n",
        "    Dense(4, activation = 'relu'),\n",
        "    Dense(1, activation = 'sigmoid'),\n",
        "])\n",
        "model4.summary()"
      ],
      "metadata": {
        "colab": {
          "base_uri": "https://localhost:8080/"
        },
        "outputId": "3a0cb725-695f-4569-959f-30697368526a",
        "id": "sMEycSCAwMhJ"
      },
      "execution_count": 26,
      "outputs": [
        {
          "output_type": "stream",
          "name": "stdout",
          "text": [
            "Model: \"sequential_5\"\n",
            "_________________________________________________________________\n",
            " Layer (type)                Output Shape              Param #   \n",
            "=================================================================\n",
            " dense_27 (Dense)            (None, 80)                4880      \n",
            "                                                                 \n",
            " dense_28 (Dense)            (None, 64)                5184      \n",
            "                                                                 \n",
            " dense_29 (Dense)            (None, 50)                3250      \n",
            "                                                                 \n",
            " dense_30 (Dense)            (None, 40)                2040      \n",
            "                                                                 \n",
            " dense_31 (Dense)            (None, 22)                902       \n",
            "                                                                 \n",
            " dense_32 (Dense)            (None, 10)                230       \n",
            "                                                                 \n",
            " dense_33 (Dense)            (None, 8)                 88        \n",
            "                                                                 \n",
            " dense_34 (Dense)            (None, 4)                 36        \n",
            "                                                                 \n",
            " dense_35 (Dense)            (None, 1)                 5         \n",
            "                                                                 \n",
            "=================================================================\n",
            "Total params: 16,615\n",
            "Trainable params: 16,615\n",
            "Non-trainable params: 0\n",
            "_________________________________________________________________\n"
          ]
        }
      ]
    },
    {
      "cell_type": "code",
      "source": [
        "model4.compile('adam', 'binary_crossentropy',['accuracy'])\n",
        "hist4 = model4.fit(X_train, y_train, validation_split = 0.2,\n",
        "                   epochs = 200, batch_size = 100, verbose = 0)\n",
        "model4.evaluate(X_test, y_test)"
      ],
      "metadata": {
        "colab": {
          "base_uri": "https://localhost:8080/"
        },
        "outputId": "e1f5f0f2-315d-4524-da7c-816a273c8d87",
        "id": "ivROqrWFwMhM"
      },
      "execution_count": 28,
      "outputs": [
        {
          "output_type": "stream",
          "name": "stdout",
          "text": [
            "2/2 [==============================] - 0s 10ms/step - loss: 1.2874 - accuracy: 0.7619\n"
          ]
        },
        {
          "output_type": "execute_result",
          "data": {
            "text/plain": [
              "[1.2873893976211548, 0.761904776096344]"
            ]
          },
          "metadata": {},
          "execution_count": 28
        }
      ]
    },
    {
      "cell_type": "code",
      "source": [
        "prams4, acc4 = 16615, 0.7619"
      ],
      "metadata": {
        "id": "JipqxBx1wMhM"
      },
      "execution_count": 30,
      "outputs": []
    },
    {
      "cell_type": "markdown",
      "source": [
        "### 그래프 그려서 비교해보기 : 학습과정 시각화"
      ],
      "metadata": {
        "id": "5f4WfezPxEfZ"
      }
    },
    {
      "cell_type": "code",
      "source": [
        "y_acc1 = hist1.history['accuracy']\n",
        "y_acc2 = hist2.history['accuracy']\n",
        "y_acc3 = hist3.history['accuracy']\n",
        "y_acc4 = hist4.history['accuracy']\n",
        "xs = np.arange(1, len(y_acc1) + 1)\n",
        "\n",
        "plt.figure(figsize = (10, 8))\n",
        "plt.plot(xs, y_acc1, label = 'model1')\n",
        "plt.plot(xs, y_acc2, label = 'model2')\n",
        "plt.plot(xs, y_acc3, label = 'model3')\n",
        "plt.plot(xs, y_acc4, label = 'model4')\n",
        "plt.ylim(0.8, 1.05)\n",
        "plt.title('accuracy', fontsize = 16)\n",
        "\n",
        "plt.legend()\n",
        "plt.show()"
      ],
      "metadata": {
        "colab": {
          "base_uri": "https://localhost:8080/",
          "height": 501
        },
        "id": "AiuZ8I-2uUac",
        "outputId": "bce0de4d-0d04-4598-9fc5-ebf142e73230"
      },
      "execution_count": 41,
      "outputs": [
        {
          "output_type": "display_data",
          "data": {
            "text/plain": [
              "<Figure size 720x576 with 1 Axes>"
            ],
            "image/png": "[encoded data removed]"
          },
          "metadata": {
            "needs_background": "light"
          }
        }
      ]
    },
    {
      "cell_type": "code",
      "source": [
        "y_loss1 = hist1.history['val_loss']\n",
        "y_loss2 = hist2.history['val_loss']\n",
        "y_loss3 = hist3.history['val_loss']\n",
        "y_loss4 = hist4.history['val_loss']\n",
        "xs = np.arange(1, len(y_loss1) + 1)\n",
        "\n",
        "plt.figure(figsize = (10, 8))\n",
        "plt.plot(xs, y_loss1, label = 'model1')\n",
        "plt.plot(xs, y_loss2, label = 'model2')\n",
        "plt.plot(xs, y_loss3, label = 'model3')\n",
        "plt.plot(xs, y_loss4, label = 'model4')\n",
        "plt.title('Validation_set_Loss', fontsize = 16)\n",
        "\n",
        "plt.legend()\n",
        "plt.show()\n",
        "# 은닉층의 수가 많아질수록 Loss값이 기하급수적으로 커짐."
      ],
      "metadata": {
        "colab": {
          "base_uri": "https://localhost:8080/",
          "height": 501
        },
        "id": "McUBUDV4uUex",
        "outputId": "308c7021-a3a7-4830-db67-bafb4e85ff59"
      },
      "execution_count": 43,
      "outputs": [
        {
          "output_type": "display_data",
          "data": {
            "text/plain": [
              "<Figure size 720x576 with 1 Axes>"
            ],
            "image/png": "[encoded data removed]"
          },
          "metadata": {
            "needs_background": "light"
          }
        }
      ]
    },
    {
      "cell_type": "markdown",
      "source": [
        "## case2에 대한 베스트모델"
      ],
      "metadata": {
        "id": "Aqt6D_8YF-c0"
      }
    },
    {
      "cell_type": "code",
      "source": [
        "model = Sequential([\n",
        "    Dense(80, input_dim = 60, activation = 'relu'),\n",
        "    Dense(48, activation = 'relu'),\n",
        "    Dense(20, activation = 'relu'),\n",
        "    Dense(8, activation = 'relu'),\n",
        "    Dense(1, activation = 'sigmoid'),\n",
        "])\n",
        "model.summary()"
      ],
      "metadata": {
        "colab": {
          "base_uri": "https://localhost:8080/"
        },
        "id": "1g_q_u8Ayc6V",
        "outputId": "a0d31f7b-800c-4d5a-e63b-f417dc99b63d"
      },
      "execution_count": 49,
      "outputs": [
        {
          "output_type": "stream",
          "name": "stdout",
          "text": [
            "Model: \"sequential_8\"\n",
            "_________________________________________________________________\n",
            " Layer (type)                Output Shape              Param #   \n",
            "=================================================================\n",
            " dense_48 (Dense)            (None, 80)                4880      \n",
            "                                                                 \n",
            " dense_49 (Dense)            (None, 48)                3888      \n",
            "                                                                 \n",
            " dense_50 (Dense)            (None, 20)                980       \n",
            "                                                                 \n",
            " dense_51 (Dense)            (None, 8)                 168       \n",
            "                                                                 \n",
            " dense_52 (Dense)            (None, 1)                 9         \n",
            "                                                                 \n",
            "=================================================================\n",
            "Total params: 9,925\n",
            "Trainable params: 9,925\n",
            "Non-trainable params: 0\n",
            "_________________________________________________________________\n"
          ]
        }
      ]
    },
    {
      "cell_type": "code",
      "source": [
        "model.compile('adam', 'binary_crossentropy',['accuracy'])"
      ],
      "metadata": {
        "id": "y0X7kqHVGWrB"
      },
      "execution_count": 50,
      "outputs": []
    },
    {
      "cell_type": "markdown",
      "source": [
        "### 베스트 모델만 저장하는 콜백함수"
      ],
      "metadata": {
        "id": "9kD9roduGdPL"
      }
    },
    {
      "cell_type": "code",
      "source": [
        "from tensorflow.keras.callbacks import ModelCheckpoint\n",
        "\n",
        "# save_best_only = True     : val_loss 가 이전보다 줄어들면 그것 만 저장\n",
        "mc = ModelCheckpoint('sonar_best.h5', monitor = 'val_loss', \n",
        "                     verbose = 1, save_best_only = True)"
      ],
      "metadata": {
        "id": "yX2cNkbkGhT5"
      },
      "execution_count": 51,
      "outputs": []
    },
    {
      "cell_type": "code",
      "source": [
        " # epoch가 종료될 때마다 callback 함수를 실행하도록 설정\n",
        " hist = model.fit(X_train, y_train, validation_split = 0.2,\n",
        "                   epochs = 200, batch_size = 100, verbose = 0,\n",
        "                   callbacks = [mc])"
      ],
      "metadata": {
        "colab": {
          "base_uri": "https://localhost:8080/"
        },
        "id": "QFRKuHVGGWtQ",
        "outputId": "f3cd77a6-facc-487c-8f09-fffb54d250b7"
      },
      "execution_count": 52,
      "outputs": [
        {
          "output_type": "stream",
          "name": "stdout",
          "text": [
            "\n",
            "Epoch 1: val_loss improved from inf to 0.63505, saving model to sonar_best.h5\n",
            "\n",
            "Epoch 2: val_loss improved from 0.63505 to 0.61736, saving model to sonar_best.h5\n",
            "\n",
            "Epoch 3: val_loss improved from 0.61736 to 0.59972, saving model to sonar_best.h5\n",
            "\n",
            "Epoch 4: val_loss improved from 0.59972 to 0.57827, saving model to sonar_best.h5\n",
            "\n",
            "Epoch 5: val_loss improved from 0.57827 to 0.55390, saving model to sonar_best.h5\n",
            "\n",
            "Epoch 6: val_loss improved from 0.55390 to 0.52916, saving model to sonar_best.h5\n",
            "\n",
            "Epoch 7: val_loss improved from 0.52916 to 0.50427, saving model to sonar_best.h5\n",
            "\n",
            "Epoch 8: val_loss improved from 0.50427 to 0.48069, saving model to sonar_best.h5\n",
            "\n",
            "Epoch 9: val_loss improved from 0.48069 to 0.45889, saving model to sonar_best.h5\n",
            "\n",
            "Epoch 10: val_loss improved from 0.45889 to 0.43793, saving model to sonar_best.h5\n",
            "\n",
            "Epoch 11: val_loss improved from 0.43793 to 0.41768, saving model to sonar_best.h5\n",
            "\n",
            "Epoch 12: val_loss improved from 0.41768 to 0.39886, saving model to sonar_best.h5\n",
            "\n",
            "Epoch 13: val_loss improved from 0.39886 to 0.38237, saving model to sonar_best.h5\n",
            "\n",
            "Epoch 14: val_loss improved from 0.38237 to 0.36828, saving model to sonar_best.h5\n",
            "\n",
            "Epoch 15: val_loss improved from 0.36828 to 0.35719, saving model to sonar_best.h5\n",
            "\n",
            "Epoch 16: val_loss improved from 0.35719 to 0.34769, saving model to sonar_best.h5\n",
            "\n",
            "Epoch 17: val_loss improved from 0.34769 to 0.33826, saving model to sonar_best.h5\n",
            "\n",
            "Epoch 18: val_loss improved from 0.33826 to 0.33086, saving model to sonar_best.h5\n",
            "\n",
            "Epoch 19: val_loss improved from 0.33086 to 0.32464, saving model to sonar_best.h5\n",
            "\n",
            "Epoch 20: val_loss improved from 0.32464 to 0.31833, saving model to sonar_best.h5\n",
            "\n",
            "Epoch 21: val_loss improved from 0.31833 to 0.31270, saving model to sonar_best.h5\n",
            "\n",
            "Epoch 22: val_loss improved from 0.31270 to 0.30837, saving model to sonar_best.h5\n",
            "\n",
            "Epoch 23: val_loss improved from 0.30837 to 0.30549, saving model to sonar_best.h5\n",
            "\n",
            "Epoch 24: val_loss improved from 0.30549 to 0.30267, saving model to sonar_best.h5\n",
            "\n",
            "Epoch 25: val_loss improved from 0.30267 to 0.30012, saving model to sonar_best.h5\n",
            "\n",
            "Epoch 26: val_loss improved from 0.30012 to 0.29890, saving model to sonar_best.h5\n",
            "\n",
            "Epoch 27: val_loss did not improve from 0.29890\n",
            "\n",
            "Epoch 28: val_loss improved from 0.29890 to 0.29862, saving model to sonar_best.h5\n",
            "\n",
            "Epoch 29: val_loss improved from 0.29862 to 0.29463, saving model to sonar_best.h5\n",
            "\n",
            "Epoch 30: val_loss improved from 0.29463 to 0.28939, saving model to sonar_best.h5\n",
            "\n",
            "Epoch 31: val_loss improved from 0.28939 to 0.28386, saving model to sonar_best.h5\n",
            "\n",
            "Epoch 32: val_loss improved from 0.28386 to 0.28150, saving model to sonar_best.h5\n",
            "\n",
            "Epoch 33: val_loss improved from 0.28150 to 0.28022, saving model to sonar_best.h5\n",
            "\n",
            "Epoch 34: val_loss did not improve from 0.28022\n",
            "\n",
            "Epoch 35: val_loss did not improve from 0.28022\n",
            "\n",
            "Epoch 36: val_loss did not improve from 0.28022\n",
            "\n",
            "Epoch 37: val_loss improved from 0.28022 to 0.27574, saving model to sonar_best.h5\n",
            "\n",
            "Epoch 38: val_loss improved from 0.27574 to 0.26740, saving model to sonar_best.h5\n",
            "\n",
            "Epoch 39: val_loss improved from 0.26740 to 0.25920, saving model to sonar_best.h5\n",
            "\n",
            "Epoch 40: val_loss improved from 0.25920 to 0.25349, saving model to sonar_best.h5\n",
            "\n",
            "Epoch 41: val_loss improved from 0.25349 to 0.25071, saving model to sonar_best.h5\n",
            "\n",
            "Epoch 42: val_loss improved from 0.25071 to 0.24928, saving model to sonar_best.h5\n",
            "\n",
            "Epoch 43: val_loss improved from 0.24928 to 0.24919, saving model to sonar_best.h5\n",
            "\n",
            "Epoch 44: val_loss did not improve from 0.24919\n",
            "\n",
            "Epoch 45: val_loss did not improve from 0.24919\n",
            "\n",
            "Epoch 46: val_loss did not improve from 0.24919\n",
            "\n",
            "Epoch 47: val_loss did not improve from 0.24919\n",
            "\n",
            "Epoch 48: val_loss did not improve from 0.24919\n",
            "\n",
            "Epoch 49: val_loss did not improve from 0.24919\n",
            "\n",
            "Epoch 50: val_loss did not improve from 0.24919\n",
            "\n",
            "Epoch 51: val_loss did not improve from 0.24919\n",
            "\n",
            "Epoch 52: val_loss did not improve from 0.24919\n",
            "\n",
            "Epoch 53: val_loss did not improve from 0.24919\n",
            "\n",
            "Epoch 54: val_loss did not improve from 0.24919\n",
            "\n",
            "Epoch 55: val_loss did not improve from 0.24919\n",
            "\n",
            "Epoch 56: val_loss did not improve from 0.24919\n",
            "\n",
            "Epoch 57: val_loss did not improve from 0.24919\n",
            "\n",
            "Epoch 58: val_loss did not improve from 0.24919\n",
            "\n",
            "Epoch 59: val_loss did not improve from 0.24919\n",
            "\n",
            "Epoch 60: val_loss did not improve from 0.24919\n",
            "\n",
            "Epoch 61: val_loss did not improve from 0.24919\n",
            "\n",
            "Epoch 62: val_loss did not improve from 0.24919\n",
            "\n",
            "Epoch 63: val_loss did not improve from 0.24919\n",
            "\n",
            "Epoch 64: val_loss did not improve from 0.24919\n",
            "\n",
            "Epoch 65: val_loss did not improve from 0.24919\n",
            "\n",
            "Epoch 66: val_loss did not improve from 0.24919\n",
            "\n",
            "Epoch 67: val_loss did not improve from 0.24919\n",
            "\n",
            "Epoch 68: val_loss did not improve from 0.24919\n",
            "\n",
            "Epoch 69: val_loss did not improve from 0.24919\n",
            "\n",
            "Epoch 70: val_loss did not improve from 0.24919\n",
            "\n",
            "Epoch 71: val_loss did not improve from 0.24919\n",
            "\n",
            "Epoch 72: val_loss did not improve from 0.24919\n",
            "\n",
            "Epoch 73: val_loss did not improve from 0.24919\n",
            "\n",
            "Epoch 74: val_loss did not improve from 0.24919\n",
            "\n",
            "Epoch 75: val_loss did not improve from 0.24919\n",
            "\n",
            "Epoch 76: val_loss did not improve from 0.24919\n",
            "\n",
            "Epoch 77: val_loss did not improve from 0.24919\n",
            "\n",
            "Epoch 78: val_loss did not improve from 0.24919\n",
            "\n",
            "Epoch 79: val_loss did not improve from 0.24919\n",
            "\n",
            "Epoch 80: val_loss did not improve from 0.24919\n",
            "\n",
            "Epoch 81: val_loss did not improve from 0.24919\n",
            "\n",
            "Epoch 82: val_loss did not improve from 0.24919\n",
            "\n",
            "Epoch 83: val_loss did not improve from 0.24919\n",
            "\n",
            "Epoch 84: val_loss did not improve from 0.24919\n",
            "\n",
            "Epoch 85: val_loss did not improve from 0.24919\n",
            "\n",
            "Epoch 86: val_loss did not improve from 0.24919\n",
            "\n",
            "Epoch 87: val_loss did not improve from 0.24919\n",
            "\n",
            "Epoch 88: val_loss did not improve from 0.24919\n",
            "\n",
            "Epoch 89: val_loss did not improve from 0.24919\n",
            "\n",
            "Epoch 90: val_loss did not improve from 0.24919\n",
            "\n",
            "Epoch 91: val_loss did not improve from 0.24919\n",
            "\n",
            "Epoch 92: val_loss did not improve from 0.24919\n",
            "\n",
            "Epoch 93: val_loss did not improve from 0.24919\n",
            "\n",
            "Epoch 94: val_loss did not improve from 0.24919\n",
            "\n",
            "Epoch 95: val_loss did not improve from 0.24919\n",
            "\n",
            "Epoch 96: val_loss did not improve from 0.24919\n",
            "\n",
            "Epoch 97: val_loss did not improve from 0.24919\n",
            "\n",
            "Epoch 98: val_loss did not improve from 0.24919\n",
            "\n",
            "Epoch 99: val_loss did not improve from 0.24919\n",
            "\n",
            "Epoch 100: val_loss did not improve from 0.24919\n",
            "\n",
            "Epoch 101: val_loss did not improve from 0.24919\n",
            "\n",
            "Epoch 102: val_loss did not improve from 0.24919\n",
            "\n",
            "Epoch 103: val_loss did not improve from 0.24919\n",
            "\n",
            "Epoch 104: val_loss did not improve from 0.24919\n",
            "\n",
            "Epoch 105: val_loss did not improve from 0.24919\n",
            "\n",
            "Epoch 106: val_loss did not improve from 0.24919\n",
            "\n",
            "Epoch 107: val_loss did not improve from 0.24919\n",
            "\n",
            "Epoch 108: val_loss did not improve from 0.24919\n",
            "\n",
            "Epoch 109: val_loss did not improve from 0.24919\n",
            "\n",
            "Epoch 110: val_loss did not improve from 0.24919\n",
            "\n",
            "Epoch 111: val_loss did not improve from 0.24919\n",
            "\n",
            "Epoch 112: val_loss did not improve from 0.24919\n",
            "\n",
            "Epoch 113: val_loss did not improve from 0.24919\n",
            "\n",
            "Epoch 114: val_loss did not improve from 0.24919\n",
            "\n",
            "Epoch 115: val_loss did not improve from 0.24919\n",
            "\n",
            "Epoch 116: val_loss did not improve from 0.24919\n",
            "\n",
            "Epoch 117: val_loss did not improve from 0.24919\n",
            "\n",
            "Epoch 118: val_loss did not improve from 0.24919\n",
            "\n",
            "Epoch 119: val_loss did not improve from 0.24919\n",
            "\n",
            "Epoch 120: val_loss did not improve from 0.24919\n",
            "\n",
            "Epoch 121: val_loss did not improve from 0.24919\n",
            "\n",
            "Epoch 122: val_loss did not improve from 0.24919\n",
            "\n",
            "Epoch 123: val_loss did not improve from 0.24919\n",
            "\n",
            "Epoch 124: val_loss did not improve from 0.24919\n",
            "\n",
            "Epoch 125: val_loss did not improve from 0.24919\n",
            "\n",
            "Epoch 126: val_loss did not improve from 0.24919\n",
            "\n",
            "Epoch 127: val_loss did not improve from 0.24919\n",
            "\n",
            "Epoch 128: val_loss did not improve from 0.24919\n",
            "\n",
            "Epoch 129: val_loss did not improve from 0.24919\n",
            "\n",
            "Epoch 130: val_loss did not improve from 0.24919\n",
            "\n",
            "Epoch 131: val_loss did not improve from 0.24919\n",
            "\n",
            "Epoch 132: val_loss did not improve from 0.24919\n",
            "\n",
            "Epoch 133: val_loss did not improve from 0.24919\n",
            "\n",
            "Epoch 134: val_loss did not improve from 0.24919\n",
            "\n",
            "Epoch 135: val_loss did not improve from 0.24919\n",
            "\n",
            "Epoch 136: val_loss did not improve from 0.24919\n",
            "\n",
            "Epoch 137: val_loss did not improve from 0.24919\n",
            "\n",
            "Epoch 138: val_loss did not improve from 0.24919\n",
            "\n",
            "Epoch 139: val_loss did not improve from 0.24919\n",
            "\n",
            "Epoch 140: val_loss did not improve from 0.24919\n",
            "\n",
            "Epoch 141: val_loss did not improve from 0.24919\n",
            "\n",
            "Epoch 142: val_loss did not improve from 0.24919\n",
            "\n",
            "Epoch 143: val_loss did not improve from 0.24919\n",
            "\n",
            "Epoch 144: val_loss did not improve from 0.24919\n",
            "\n",
            "Epoch 145: val_loss did not improve from 0.24919\n",
            "\n",
            "Epoch 146: val_loss did not improve from 0.24919\n",
            "\n",
            "Epoch 147: val_loss did not improve from 0.24919\n",
            "\n",
            "Epoch 148: val_loss did not improve from 0.24919\n",
            "\n",
            "Epoch 149: val_loss did not improve from 0.24919\n",
            "\n",
            "Epoch 150: val_loss did not improve from 0.24919\n",
            "\n",
            "Epoch 151: val_loss did not improve from 0.24919\n",
            "\n",
            "Epoch 152: val_loss did not improve from 0.24919\n",
            "\n",
            "Epoch 153: val_loss did not improve from 0.24919\n",
            "\n",
            "Epoch 154: val_loss did not improve from 0.24919\n",
            "\n",
            "Epoch 155: val_loss did not improve from 0.24919\n",
            "\n",
            "Epoch 156: val_loss did not improve from 0.24919\n",
            "\n",
            "Epoch 157: val_loss did not improve from 0.24919\n",
            "\n",
            "Epoch 158: val_loss did not improve from 0.24919\n",
            "\n",
            "Epoch 159: val_loss did not improve from 0.24919\n",
            "\n",
            "Epoch 160: val_loss did not improve from 0.24919\n",
            "\n",
            "Epoch 161: val_loss did not improve from 0.24919\n",
            "\n",
            "Epoch 162: val_loss did not improve from 0.24919\n",
            "\n",
            "Epoch 163: val_loss did not improve from 0.24919\n",
            "\n",
            "Epoch 164: val_loss did not improve from 0.24919\n",
            "\n",
            "Epoch 165: val_loss did not improve from 0.24919\n",
            "\n",
            "Epoch 166: val_loss did not improve from 0.24919\n",
            "\n",
            "Epoch 167: val_loss did not improve from 0.24919\n",
            "\n",
            "Epoch 168: val_loss did not improve from 0.24919\n",
            "\n",
            "Epoch 169: val_loss did not improve from 0.24919\n",
            "\n",
            "Epoch 170: val_loss did not improve from 0.24919\n",
            "\n",
            "Epoch 171: val_loss did not improve from 0.24919\n",
            "\n",
            "Epoch 172: val_loss did not improve from 0.24919\n",
            "\n",
            "Epoch 173: val_loss did not improve from 0.24919\n",
            "\n",
            "Epoch 174: val_loss did not improve from 0.24919\n",
            "\n",
            "Epoch 175: val_loss did not improve from 0.24919\n",
            "\n",
            "Epoch 176: val_loss did not improve from 0.24919\n",
            "\n",
            "Epoch 177: val_loss did not improve from 0.24919\n",
            "\n",
            "Epoch 178: val_loss did not improve from 0.24919\n",
            "\n",
            "Epoch 179: val_loss did not improve from 0.24919\n",
            "\n",
            "Epoch 180: val_loss did not improve from 0.24919\n",
            "\n",
            "Epoch 181: val_loss did not improve from 0.24919\n",
            "\n",
            "Epoch 182: val_loss did not improve from 0.24919\n",
            "\n",
            "Epoch 183: val_loss did not improve from 0.24919\n",
            "\n",
            "Epoch 184: val_loss did not improve from 0.24919\n",
            "\n",
            "Epoch 185: val_loss did not improve from 0.24919\n",
            "\n",
            "Epoch 186: val_loss did not improve from 0.24919\n",
            "\n",
            "Epoch 187: val_loss did not improve from 0.24919\n",
            "\n",
            "Epoch 188: val_loss did not improve from 0.24919\n",
            "\n",
            "Epoch 189: val_loss did not improve from 0.24919\n",
            "\n",
            "Epoch 190: val_loss did not improve from 0.24919\n",
            "\n",
            "Epoch 191: val_loss did not improve from 0.24919\n",
            "\n",
            "Epoch 192: val_loss did not improve from 0.24919\n",
            "\n",
            "Epoch 193: val_loss did not improve from 0.24919\n",
            "\n",
            "Epoch 194: val_loss did not improve from 0.24919\n",
            "\n",
            "Epoch 195: val_loss did not improve from 0.24919\n",
            "\n",
            "Epoch 196: val_loss did not improve from 0.24919\n",
            "\n",
            "Epoch 197: val_loss did not improve from 0.24919\n",
            "\n",
            "Epoch 198: val_loss did not improve from 0.24919\n",
            "\n",
            "Epoch 199: val_loss did not improve from 0.24919\n",
            "\n",
            "Epoch 200: val_loss did not improve from 0.24919\n"
          ]
        }
      ]
    },
    {
      "cell_type": "markdown",
      "source": [
        "- Epoch 32: val_loss improved from 0.28386 to 0.28150, saving model to sonar_best.h5\n",
        "\n",
        "- Epoch 33: val_loss improved from 0.28150 to 0.28022, saving model to sonar_best.h5\n",
        "\n",
        "- Epoch 34: val_loss did not improve from 0.28022"
      ],
      "metadata": {
        "id": "3W20ztOfHwzt"
      }
    },
    {
      "cell_type": "code",
      "source": [
        "from tensorflow.keras.models import load_model\n",
        "\n",
        "best_model = load_model('sonar_best.h5')\n",
        "best_model.evaluate(X_test, y_test)"
      ],
      "metadata": {
        "colab": {
          "base_uri": "https://localhost:8080/"
        },
        "id": "358HnTvoHIOS",
        "outputId": "c64d2469-64cc-439b-df0f-cbafd9481e3b"
      },
      "execution_count": 53,
      "outputs": [
        {
          "output_type": "stream",
          "name": "stdout",
          "text": [
            "2/2 [==============================] - 0s 11ms/step - loss: 0.3956 - accuracy: 0.8333\n"
          ]
        },
        {
          "output_type": "execute_result",
          "data": {
            "text/plain": [
              "[0.39557838439941406, 0.8333333134651184]"
            ]
          },
          "metadata": {},
          "execution_count": 53
        }
      ]
    },
    {
      "cell_type": "code",
      "source": [
        "y_acc = hist.history['accuracy']\n",
        "y_vloss = hist.history['val_loss']\n",
        "xs = np.arange(1, len(y_acc)+1)\n",
        "\n",
        "plt.figure(figsize = (10, 8))\n",
        "plt.plot(xs, y_acc, label = 'y_acc')\n",
        "plt.plot(xs, y_vloss, label = 'y_vloss')\n",
        "plt.title('accuracy', fontsize = 16)\n",
        "\n",
        "plt.grid(linestyle = ':')\n",
        "plt.legend()\n",
        "plt.show()"
      ],
      "metadata": {
        "colab": {
          "base_uri": "https://localhost:8080/",
          "height": 501
        },
        "id": "wKvcAq_UHIQy",
        "outputId": "356f4e8e-7c1d-4757-e758-b5d354e9b4b6"
      },
      "execution_count": 61,
      "outputs": [
        {
          "output_type": "display_data",
          "data": {
            "text/plain": [
              "<Figure size 720x576 with 1 Axes>"
            ],
            "image/png": "[encoded data removed]"
          },
          "metadata": {
            "needs_background": "light"
          }
        }
      ]
    },
    {
      "cell_type": "markdown",
      "source": [
        "### 베스트 모델 찾고 조기종료 하는 콜백함수"
      ],
      "metadata": {
        "id": "RZRdnwNTJjqD"
      }
    },
    {
      "cell_type": "code",
      "source": [
        "model = Sequential([\n",
        "    Dense(80, input_dim = 60, activation = 'relu'),\n",
        "    Dense(48, activation = 'relu'),\n",
        "    Dense(20, activation = 'relu'),\n",
        "    Dense(8, activation = 'relu'),\n",
        "    Dense(1, activation = 'sigmoid'),\n",
        "])"
      ],
      "metadata": {
        "id": "OSZXE9dlJqMr"
      },
      "execution_count": 75,
      "outputs": []
    },
    {
      "cell_type": "code",
      "source": [
        "model.compile('adam', 'binary_crossentropy',['accuracy'])"
      ],
      "metadata": {
        "id": "pCb4qLURJqMs"
      },
      "execution_count": 76,
      "outputs": []
    },
    {
      "cell_type": "markdown",
      "source": [
        "### 베스트 모델만 저장하는 콜백함수"
      ],
      "metadata": {
        "id": "795db8B2JqMs"
      }
    },
    {
      "cell_type": "code",
      "source": [
        "from tensorflow.keras.callbacks import ModelCheckpoint\n",
        "from tensorflow.keras.callbacks import EarlyStopping\n",
        "mc = ModelCheckpoint('sonar_best.h5', monitor = 'val_loss', \n",
        "                     verbose = 1, save_best_only = True)\n",
        "\n",
        "es = EarlyStopping(patience = 20)"
      ],
      "metadata": {
        "id": "xw_EGiCrJqMs"
      },
      "execution_count": 77,
      "outputs": []
    },
    {
      "cell_type": "code",
      "source": [
        "hist = model.fit(X_train, y_train, validation_split = 0.2,\n",
        "                   epochs = 200, batch_size = 100, verbose = 0,\n",
        "                   callbacks = [mc, es])"
      ],
      "metadata": {
        "colab": {
          "base_uri": "https://localhost:8080/"
        },
        "outputId": "a5b40b12-111d-4a83-9535-aa6f38b6d33b",
        "id": "3qbf5-MvJqMt"
      },
      "execution_count": 78,
      "outputs": [
        {
          "output_type": "stream",
          "name": "stdout",
          "text": [
            "\n",
            "Epoch 1: val_loss improved from inf to 0.68028, saving model to sonar_best.h5\n",
            "\n",
            "Epoch 2: val_loss improved from 0.68028 to 0.66931, saving model to sonar_best.h5\n",
            "\n",
            "Epoch 3: val_loss improved from 0.66931 to 0.65862, saving model to sonar_best.h5\n",
            "\n",
            "Epoch 4: val_loss improved from 0.65862 to 0.64889, saving model to sonar_best.h5\n",
            "\n",
            "Epoch 5: val_loss improved from 0.64889 to 0.63847, saving model to sonar_best.h5\n",
            "\n",
            "Epoch 6: val_loss improved from 0.63847 to 0.62804, saving model to sonar_best.h5\n",
            "\n",
            "Epoch 7: val_loss improved from 0.62804 to 0.61722, saving model to sonar_best.h5\n",
            "\n",
            "Epoch 8: val_loss improved from 0.61722 to 0.60596, saving model to sonar_best.h5\n",
            "\n",
            "Epoch 9: val_loss improved from 0.60596 to 0.59413, saving model to sonar_best.h5\n",
            "\n",
            "Epoch 10: val_loss improved from 0.59413 to 0.58124, saving model to sonar_best.h5\n",
            "\n",
            "Epoch 11: val_loss improved from 0.58124 to 0.56727, saving model to sonar_best.h5\n",
            "\n",
            "Epoch 12: val_loss improved from 0.56727 to 0.55026, saving model to sonar_best.h5\n",
            "\n",
            "Epoch 13: val_loss improved from 0.55026 to 0.53107, saving model to sonar_best.h5\n",
            "\n",
            "Epoch 14: val_loss improved from 0.53107 to 0.51137, saving model to sonar_best.h5\n",
            "\n",
            "Epoch 15: val_loss improved from 0.51137 to 0.49145, saving model to sonar_best.h5\n",
            "\n",
            "Epoch 16: val_loss improved from 0.49145 to 0.47185, saving model to sonar_best.h5\n",
            "\n",
            "Epoch 17: val_loss improved from 0.47185 to 0.45216, saving model to sonar_best.h5\n",
            "\n",
            "Epoch 18: val_loss improved from 0.45216 to 0.43373, saving model to sonar_best.h5\n",
            "\n",
            "Epoch 19: val_loss improved from 0.43373 to 0.41679, saving model to sonar_best.h5\n",
            "\n",
            "Epoch 20: val_loss improved from 0.41679 to 0.40168, saving model to sonar_best.h5\n",
            "\n",
            "Epoch 21: val_loss improved from 0.40168 to 0.38920, saving model to sonar_best.h5\n",
            "\n",
            "Epoch 22: val_loss improved from 0.38920 to 0.37854, saving model to sonar_best.h5\n",
            "\n",
            "Epoch 23: val_loss improved from 0.37854 to 0.36967, saving model to sonar_best.h5\n",
            "\n",
            "Epoch 24: val_loss improved from 0.36967 to 0.36136, saving model to sonar_best.h5\n",
            "\n",
            "Epoch 25: val_loss improved from 0.36136 to 0.35393, saving model to sonar_best.h5\n",
            "\n",
            "Epoch 26: val_loss improved from 0.35393 to 0.34964, saving model to sonar_best.h5\n",
            "\n",
            "Epoch 27: val_loss improved from 0.34964 to 0.34782, saving model to sonar_best.h5\n",
            "\n",
            "Epoch 28: val_loss improved from 0.34782 to 0.34626, saving model to sonar_best.h5\n",
            "\n",
            "Epoch 29: val_loss improved from 0.34626 to 0.34488, saving model to sonar_best.h5\n",
            "\n",
            "Epoch 30: val_loss improved from 0.34488 to 0.34360, saving model to sonar_best.h5\n",
            "\n",
            "Epoch 31: val_loss improved from 0.34360 to 0.34192, saving model to sonar_best.h5\n",
            "\n",
            "Epoch 32: val_loss did not improve from 0.34192\n",
            "\n",
            "Epoch 33: val_loss did not improve from 0.34192\n",
            "\n",
            "Epoch 34: val_loss did not improve from 0.34192\n",
            "\n",
            "Epoch 35: val_loss did not improve from 0.34192\n",
            "\n",
            "Epoch 36: val_loss did not improve from 0.34192\n",
            "\n",
            "Epoch 37: val_loss improved from 0.34192 to 0.34034, saving model to sonar_best.h5\n",
            "\n",
            "Epoch 38: val_loss improved from 0.34034 to 0.33284, saving model to sonar_best.h5\n",
            "\n",
            "Epoch 39: val_loss improved from 0.33284 to 0.32680, saving model to sonar_best.h5\n",
            "\n",
            "Epoch 40: val_loss improved from 0.32680 to 0.32320, saving model to sonar_best.h5\n",
            "\n",
            "Epoch 41: val_loss improved from 0.32320 to 0.32244, saving model to sonar_best.h5\n",
            "\n",
            "Epoch 42: val_loss did not improve from 0.32244\n",
            "\n",
            "Epoch 43: val_loss did not improve from 0.32244\n",
            "\n",
            "Epoch 44: val_loss did not improve from 0.32244\n",
            "\n",
            "Epoch 45: val_loss did not improve from 0.32244\n",
            "\n",
            "Epoch 46: val_loss did not improve from 0.32244\n",
            "\n",
            "Epoch 47: val_loss did not improve from 0.32244\n",
            "\n",
            "Epoch 48: val_loss did not improve from 0.32244\n",
            "\n",
            "Epoch 49: val_loss did not improve from 0.32244\n",
            "\n",
            "Epoch 50: val_loss did not improve from 0.32244\n",
            "\n",
            "Epoch 51: val_loss did not improve from 0.32244\n",
            "\n",
            "Epoch 52: val_loss did not improve from 0.32244\n",
            "\n",
            "Epoch 53: val_loss did not improve from 0.32244\n",
            "\n",
            "Epoch 54: val_loss did not improve from 0.32244\n",
            "\n",
            "Epoch 55: val_loss did not improve from 0.32244\n",
            "\n",
            "Epoch 56: val_loss did not improve from 0.32244\n",
            "\n",
            "Epoch 57: val_loss did not improve from 0.32244\n",
            "\n",
            "Epoch 58: val_loss did not improve from 0.32244\n",
            "\n",
            "Epoch 59: val_loss did not improve from 0.32244\n",
            "\n",
            "Epoch 60: val_loss did not improve from 0.32244\n",
            "\n",
            "Epoch 61: val_loss did not improve from 0.32244\n"
          ]
        }
      ]
    },
    {
      "cell_type": "markdown",
      "source": [
        "- Epoch 32: val_loss improved from 0.28386 to 0.28150, saving model to sonar_best.h5\n",
        "\n",
        "- Epoch 33: val_loss improved from 0.28150 to 0.28022, saving model to sonar_best.h5\n",
        "\n",
        "- Epoch 34: val_loss did not improve from 0.28022"
      ],
      "metadata": {
        "id": "Tw2-FzeMJqMt"
      }
    },
    {
      "cell_type": "code",
      "source": [
        "from tensorflow.keras.models import load_model\n",
        "\n",
        "best_model = load_model('sonar_best.h5')\n",
        "best_model.evaluate(X_test, y_test)"
      ],
      "metadata": {
        "colab": {
          "base_uri": "https://localhost:8080/"
        },
        "outputId": "f87ba429-0ab0-4533-958d-166fb6b013db",
        "id": "8bSY9HEfJqMt"
      },
      "execution_count": 79,
      "outputs": [
        {
          "output_type": "stream",
          "name": "stdout",
          "text": [
            "2/2 [==============================] - 0s 5ms/step - loss: 0.4288 - accuracy: 0.7619\n"
          ]
        },
        {
          "output_type": "execute_result",
          "data": {
            "text/plain": [
              "[0.4287773668766022, 0.761904776096344]"
            ]
          },
          "metadata": {},
          "execution_count": 79
        }
      ]
    },
    {
      "cell_type": "code",
      "source": [
        "y_acc = hist.history['accuracy']\n",
        "y_vloss = hist.history['val_loss']\n",
        "xs = np.arange(1, len(y_acc)+1)\n",
        "\n",
        "plt.figure(figsize = (10, 8))\n",
        "plt.plot(xs, y_acc, label = 'y_acc')\n",
        "plt.plot(xs, y_vloss, label = 'y_vloss')\n",
        "plt.title('accuracy', fontsize = 16)\n",
        "\n",
        "plt.grid(linestyle = ':')\n",
        "plt.legend()\n",
        "plt.show()"
      ],
      "metadata": {
        "colab": {
          "base_uri": "https://localhost:8080/",
          "height": 501
        },
        "outputId": "803bbb57-f1f0-4b85-9575-50dc25e67bd5",
        "id": "VGHZbptxJqMt"
      },
      "execution_count": 80,
      "outputs": [
        {
          "output_type": "display_data",
          "data": {
            "text/plain": [
              "<Figure size 720x576 with 1 Axes>"
            ],
            "image/png": "[encoded data removed]"
          },
          "metadata": {
            "needs_background": "light"
          }
        }
      ]
    },
    {
      "cell_type": "code",
      "source": [
        "\n"
      ],
      "metadata": {
        "id": "1bFun7LiHITD"
      },
      "execution_count": null,
      "outputs": []
    },
    {
      "cell_type": "code",
      "source": [
        ""
      ],
      "metadata": {
        "id": "AoteE37aHIVl"
      },
      "execution_count": null,
      "outputs": []
    }
  ]
}