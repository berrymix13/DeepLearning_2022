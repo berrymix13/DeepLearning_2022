{
  "nbformat": 4,
  "nbformat_minor": 0,
  "metadata": {
    "colab": {
      "name": "04_다중분류.ipynb",
      "provenance": [],
      "collapsed_sections": []
    },
    "kernelspec": {
      "name": "python3",
      "display_name": "Python 3"
    },
    "language_info": {
      "name": "python"
    }
  },
  "cells": [
    {
      "cell_type": "markdown",
      "source": [
        "# 다중분류\n",
        "- wine data"
      ],
      "metadata": {
        "id": "j99YV2DwPaP_"
      }
    },
    {
      "cell_type": "code",
      "execution_count": 2,
      "metadata": {
        "id": "Iw25F9EBPWdY"
      },
      "outputs": [],
      "source": [
        "import numpy as np\n",
        "import pandas as pd\n",
        "import matplotlib.pyplot as plt\n",
        "import tensorflow as tf\n",
        "seed = 2022\n",
        "np.random.seed(seed)\n",
        "tf.random.set_seed(seed)"
      ]
    },
    {
      "cell_type": "code",
      "source": [
        "from sklearn.datasets import load_wine\n",
        "wine = load_wine()"
      ],
      "metadata": {
        "id": "4SUiSq2jP0nz"
      },
      "execution_count": 4,
      "outputs": []
    },
    {
      "cell_type": "code",
      "source": [
        "wine.data.shape"
      ],
      "metadata": {
        "colab": {
          "base_uri": "https://localhost:8080/"
        },
        "id": "l1yPz91ZQYuF",
        "outputId": "57eda379-c8f8-453c-b395-2aa1ac46106d"
      },
      "execution_count": 5,
      "outputs": [
        {
          "output_type": "execute_result",
          "data": {
            "text/plain": [
              "(178, 13)"
            ]
          },
          "metadata": {},
          "execution_count": 5
        }
      ]
    },
    {
      "cell_type": "markdown",
      "source": [
        "### 데이터 정규화\n",
        "- x 는 표준화\n",
        "- y 는 원핫인코딩"
      ],
      "metadata": {
        "id": "Qcy0VkUuQcRy"
      }
    },
    {
      "cell_type": "code",
      "source": [
        "# X 데이터 표준화\n",
        "from sklearn.preprocessing import StandardScaler\n",
        "wine_std = StandardScaler().fit_transform(wine.data)"
      ],
      "metadata": {
        "id": "b_rgmrsjQFr1"
      },
      "execution_count": 6,
      "outputs": []
    },
    {
      "cell_type": "code",
      "source": [
        "# y 데이터 원핫 인코딩\n",
        "from tensorflow.keras.utils import to_categorical\n",
        "Y = to_categorical(wine.target)\n",
        "Y[:5]"
      ],
      "metadata": {
        "colab": {
          "base_uri": "https://localhost:8080/"
        },
        "id": "BuPt7yCSQqic",
        "outputId": "052458fe-86b9-44b8-f0bd-64e0a248ec01"
      },
      "execution_count": 7,
      "outputs": [
        {
          "output_type": "execute_result",
          "data": {
            "text/plain": [
              "array([[1., 0., 0.],\n",
              "       [1., 0., 0.],\n",
              "       [1., 0., 0.],\n",
              "       [1., 0., 0.],\n",
              "       [1., 0., 0.]], dtype=float32)"
            ]
          },
          "metadata": {},
          "execution_count": 7
        }
      ]
    },
    {
      "cell_type": "code",
      "source": [
        "from sklearn.model_selection import train_test_split\n",
        "X_train, X_test, y_train, y_test = train_test_split(\n",
        "    wine_std, Y, stratify = Y, random_state = seed, test_size = 0.2\n",
        ")\n",
        "X_train.shape, X_test.shape, y_train.shape, y_test.shape"
      ],
      "metadata": {
        "colab": {
          "base_uri": "https://localhost:8080/"
        },
        "id": "eju3TloCRM_K",
        "outputId": "ba92b7ef-7c6f-4462-e441-9b23644865c7"
      },
      "execution_count": 10,
      "outputs": [
        {
          "output_type": "execute_result",
          "data": {
            "text/plain": [
              "((142, 13), (36, 13), (142, 3), (36, 3))"
            ]
          },
          "metadata": {},
          "execution_count": 10
        }
      ]
    },
    {
      "cell_type": "markdown",
      "source": [
        "### 모델 정의 및 설정"
      ],
      "metadata": {
        "id": "l8p9YbXHR1EH"
      }
    },
    {
      "cell_type": "code",
      "source": [
        "from tensorflow.keras.models import Sequential\n",
        "from tensorflow.keras.layers import Dense\n",
        "\n",
        "# input_dim = X_data의 열의 수\n",
        "model = Sequential([\n",
        "    Dense(30, input_dim = 13, activation = 'relu'),  # 입력층\n",
        "    Dense(12, activation = 'relu'),\n",
        "    Dense(3 , activation = 'softmax')\n",
        "    # 출력층의 노드 수 = Y의 종류 수 / 활성함수 = softmax           \n",
        "])\n",
        "model.summary()"
      ],
      "metadata": {
        "colab": {
          "base_uri": "https://localhost:8080/"
        },
        "id": "LFAu4mlPRpPD",
        "outputId": "e47826bb-e3c7-4af8-c095-0d0d2385370d"
      },
      "execution_count": 11,
      "outputs": [
        {
          "output_type": "stream",
          "name": "stdout",
          "text": [
            "Model: \"sequential\"\n",
            "_________________________________________________________________\n",
            " Layer (type)                Output Shape              Param #   \n",
            "=================================================================\n",
            " dense (Dense)               (None, 30)                420       \n",
            "                                                                 \n",
            " dense_1 (Dense)             (None, 12)                372       \n",
            "                                                                 \n",
            " dense_2 (Dense)             (None, 3)                 39        \n",
            "                                                                 \n",
            "=================================================================\n",
            "Total params: 831\n",
            "Trainable params: 831\n",
            "Non-trainable params: 0\n",
            "_________________________________________________________________\n"
          ]
        }
      ]
    },
    {
      "cell_type": "code",
      "source": [
        "# 다중분류시 손실함수는 categorical_crossentropy\n",
        "model.compile('adam', 'categorical_crossentropy', ['accuracy'])"
      ],
      "metadata": {
        "id": "KpRRRTPKR6fb"
      },
      "execution_count": 12,
      "outputs": []
    },
    {
      "cell_type": "markdown",
      "source": [
        "### 모델 학습 및 평가"
      ],
      "metadata": {
        "id": "UeA1WFIXR4-d"
      }
    },
    {
      "cell_type": "code",
      "source": [
        "# 모델 학습\n",
        "hist = model.fit(X_train, y_train, validation_split=0.2,\n",
        "                 epochs = 100, batch_size = 100, verbose = 0)"
      ],
      "metadata": {
        "id": "ED_HZfA3Tf-B"
      },
      "execution_count": 13,
      "outputs": []
    },
    {
      "cell_type": "code",
      "source": [
        "# 모델 평가\n",
        "model.evaluate(X_test, y_test)\n",
        "# loss, score\n",
        "# loss는 별로 안중요함"
      ],
      "metadata": {
        "colab": {
          "base_uri": "https://localhost:8080/"
        },
        "id": "1nBMS-ACT_dJ",
        "outputId": "5b696198-dc07-4f48-c319-fb908258ff73"
      },
      "execution_count": 14,
      "outputs": [
        {
          "output_type": "stream",
          "name": "stdout",
          "text": [
            "2/2 [==============================] - 0s 10ms/step - loss: 0.1301 - accuracy: 0.9722\n"
          ]
        },
        {
          "output_type": "execute_result",
          "data": {
            "text/plain": [
              "[0.13005691766738892, 0.9722222089767456]"
            ]
          },
          "metadata": {},
          "execution_count": 14
        }
      ]
    },
    {
      "cell_type": "markdown",
      "source": [
        "### 학습과정 시각화"
      ],
      "metadata": {
        "id": "ELmWEwBKUUjw"
      }
    },
    {
      "cell_type": "code",
      "source": [
        "y_acc = hist.history['accuracy']\n",
        "y_vloss = hist.history['val_loss']\n",
        "xs = np.arange(1, len(y_acc)+1)\n",
        "\n",
        "plt.figure(figsize = (10, 7))\n",
        "plt.plot(xs, y_acc, label = 'train_acc')\n",
        "plt.plot(xs, y_vloss, label = 'train_vloss')\n",
        "plt.legend()\n",
        "plt.xlabel('Epoch')\n",
        "plt.show()\n",
        "\n",
        "# 그래프를 통해, 학습을 좀 더 높이면 더 좋아질 가능성이 보임!!\n",
        "# 아직 고개를 들지 않고 계속 감소중으로 보이기 때문이다."
      ],
      "metadata": {
        "colab": {
          "base_uri": "https://localhost:8080/",
          "height": 442
        },
        "id": "PYxjV-1XT9IK",
        "outputId": "df483576-ec16-44b0-fa37-ba3457a72301"
      },
      "execution_count": 16,
      "outputs": [
        {
          "output_type": "display_data",
          "data": {
            "text/plain": [
              "<Figure size 720x504 with 1 Axes>"
            ],
            "image/png": "[encoded data removed]"
          },
          "metadata": {
            "needs_background": "light"
          }
        }
      ]
    },
    {
      "cell_type": "markdown",
      "source": [
        "### Epoch 늘려서 더 학습"
      ],
      "metadata": {
        "id": "75Wf1Ew8VcAx"
      }
    },
    {
      "cell_type": "code",
      "source": [
        "model2 = Sequential([\n",
        "    Dense(30, input_dim = 13, activation = 'relu'), \n",
        "    Dense(12, activation = 'relu'),\n",
        "    Dense(3 , activation = 'softmax')\n",
        "    # 출력층의 노드 수 = Y의 종류 수 / 활성함수 = softmax           \n",
        "])\n",
        "model2.summary()"
      ],
      "metadata": {
        "colab": {
          "base_uri": "https://localhost:8080/"
        },
        "outputId": "e44e0ee6-5f36-4ebb-98d4-6b561270acfd",
        "id": "LWs6dr6yV2Ap"
      },
      "execution_count": 25,
      "outputs": [
        {
          "output_type": "stream",
          "name": "stdout",
          "text": [
            "Model: \"sequential_2\"\n",
            "_________________________________________________________________\n",
            " Layer (type)                Output Shape              Param #   \n",
            "=================================================================\n",
            " dense_6 (Dense)             (None, 30)                420       \n",
            "                                                                 \n",
            " dense_7 (Dense)             (None, 12)                372       \n",
            "                                                                 \n",
            " dense_8 (Dense)             (None, 3)                 39        \n",
            "                                                                 \n",
            "=================================================================\n",
            "Total params: 831\n",
            "Trainable params: 831\n",
            "Non-trainable params: 0\n",
            "_________________________________________________________________\n"
          ]
        }
      ]
    },
    {
      "cell_type": "code",
      "source": [
        "# 다중분류시 손실함수는 categorical_crossentropy\n",
        "model2.compile('adam', 'categorical_crossentropy', ['accuracy'])"
      ],
      "metadata": {
        "id": "ZxKFVYy0V2Aq"
      },
      "execution_count": 26,
      "outputs": []
    },
    {
      "cell_type": "code",
      "source": [
        "hist2 = model2.fit(X_train, y_train, validation_split=0.2,\n",
        "                 epochs = 1000, batch_size = 100, verbose = 0)"
      ],
      "metadata": {
        "id": "EvvSPCqLVMo5"
      },
      "execution_count": 27,
      "outputs": []
    },
    {
      "cell_type": "code",
      "source": [
        "model2.evaluate(X_test, y_test)\n",
        "# 학습이 더 이뤄지고 나니 1.0까지 도달했음."
      ],
      "metadata": {
        "colab": {
          "base_uri": "https://localhost:8080/"
        },
        "id": "_sv_eD7IWGuW",
        "outputId": "9fa45d3f-d89b-41ff-8c8b-a243988c585b"
      },
      "execution_count": 28,
      "outputs": [
        {
          "output_type": "stream",
          "name": "stdout",
          "text": [
            "2/2 [==============================] - 0s 7ms/step - loss: 8.4200e-04 - accuracy: 1.0000\n"
          ]
        },
        {
          "output_type": "execute_result",
          "data": {
            "text/plain": [
              "[0.0008420008816756308, 1.0]"
            ]
          },
          "metadata": {},
          "execution_count": 28
        }
      ]
    },
    {
      "cell_type": "code",
      "source": [
        "y_acc2 = hist2.history['accuracy']\n",
        "y_vloss2 = hist2.history['val_loss']\n",
        "xs2 = np.arange(1, len(y_acc2)+1)\n",
        "\n",
        "plt.figure(figsize = (10, 7))\n",
        "plt.plot(xs2, y_acc2, label = 'train_acc')\n",
        "plt.plot(xs2, y_vloss2, label = 'train_vloss')\n",
        "plt.legend()\n",
        "plt.xlabel('Epoch')\n",
        "plt.show()\n",
        "\n",
        "# 그래프를 통해, 학습을 좀 더 높이면 더 좋아질 가능성이 보임!!\n",
        "# 아직 고개를 들지 않고 계속 감소중으로 보이기 때문이다."
      ],
      "metadata": {
        "colab": {
          "base_uri": "https://localhost:8080/",
          "height": 442
        },
        "id": "xZwdWWpVWNwZ",
        "outputId": "50dcf973-6998-4a34-80db-c752a86f10a8"
      },
      "execution_count": 29,
      "outputs": [
        {
          "output_type": "display_data",
          "data": {
            "text/plain": [
              "<Figure size 720x504 with 1 Axes>"
            ],
            "image/png": "[encoded data removed]"
          },
          "metadata": {
            "needs_background": "light"
          }
        }
      ]
    },
    {
      "cell_type": "markdown",
      "source": [
        "## 모델 저장 후 불러오기"
      ],
      "metadata": {
        "id": "-fW7K2UpXKFL"
      }
    },
    {
      "cell_type": "code",
      "source": [
        "model2.save('wine.h5')"
      ],
      "metadata": {
        "id": "HbfaRLALWYaI"
      },
      "execution_count": 30,
      "outputs": []
    },
    {
      "cell_type": "code",
      "source": [
        "!ls -l   # 43kb"
      ],
      "metadata": {
        "colab": {
          "base_uri": "https://localhost:8080/"
        },
        "id": "l00TWCc-XafX",
        "outputId": "0b1eed58-dba5-44b8-b210-c3f1116f8d98"
      },
      "execution_count": 31,
      "outputs": [
        {
          "output_type": "stream",
          "name": "stdout",
          "text": [
            "total 48\n",
            "drwxr-xr-x 1 root root  4096 May 17 13:39 sample_data\n",
            "-rw-r--r-- 1 root root 43704 May 23 00:42 wine.h5\n"
          ]
        }
      ]
    },
    {
      "cell_type": "code",
      "source": [
        "## tensorflow로 불러오기\n",
        "from tensorflow.keras.models import load_model\n",
        "my_model = load_model('wine.h5')"
      ],
      "metadata": {
        "id": "3Vvpo6imXfJo"
      },
      "execution_count": 32,
      "outputs": []
    },
    {
      "cell_type": "code",
      "source": [
        "my_model.evaluate(X_test, y_test)"
      ],
      "metadata": {
        "colab": {
          "base_uri": "https://localhost:8080/"
        },
        "id": "OxLFeFtEXyr5",
        "outputId": "2fd213d9-773c-444f-8735-48fb5381f224"
      },
      "execution_count": 38,
      "outputs": [
        {
          "output_type": "stream",
          "name": "stdout",
          "text": [
            "2/2 [==============================] - 0s 6ms/step - loss: 8.4200e-04 - accuracy: 1.0000\n"
          ]
        },
        {
          "output_type": "execute_result",
          "data": {
            "text/plain": [
              "[0.0008420008816756308, 1.0]"
            ]
          },
          "metadata": {},
          "execution_count": 38
        }
      ]
    },
    {
      "cell_type": "markdown",
      "source": [
        "### 실제값으로 확인해보기"
      ],
      "metadata": {
        "id": "IauBBWIfYgAt"
      }
    },
    {
      "cell_type": "code",
      "source": [
        "wine.target_names"
      ],
      "metadata": {
        "colab": {
          "base_uri": "https://localhost:8080/"
        },
        "id": "mMs0VmiQYbbP",
        "outputId": "c5ea5884-2c80-4562-a146-31d020bfc99c"
      },
      "execution_count": 44,
      "outputs": [
        {
          "output_type": "execute_result",
          "data": {
            "text/plain": [
              "array(['class_0', 'class_1', 'class_2'], dtype='<U7')"
            ]
          },
          "metadata": {},
          "execution_count": 44
        }
      ]
    },
    {
      "cell_type": "code",
      "source": [
        "wine_std[100], Y[100]"
      ],
      "metadata": {
        "colab": {
          "base_uri": "https://localhost:8080/"
        },
        "id": "Y7wsXM1TYToX",
        "outputId": "da3eb067-2715-4d43-ecca-5ff4f1df657d"
      },
      "execution_count": 42,
      "outputs": [
        {
          "output_type": "execute_result",
          "data": {
            "text/plain": [
              "(array([-1.13720713, -0.23011443, -2.43634632, -0.59905169, -0.192495  ,\n",
              "        -0.10433159,  0.14128858, -0.82071924, -0.33447089, -0.76049691,\n",
              "         1.37126518,  0.49197446, -0.11748635]),\n",
              " array([0., 1., 0.], dtype=float32))"
            ]
          },
          "metadata": {},
          "execution_count": 42
        }
      ]
    },
    {
      "cell_type": "code",
      "source": [
        "my_model.evaluate(wine_std[100], Y[100])\n",
        "# 차원이 다른 문제가 생김"
      ],
      "metadata": {
        "colab": {
          "base_uri": "https://localhost:8080/",
          "height": 410
        },
        "id": "yN4ZTUIFX7yo",
        "outputId": "f500019b-35a0-4afa-c235-146698be83dd"
      },
      "execution_count": 46,
      "outputs": [
        {
          "output_type": "error",
          "ename": "ValueError",
          "evalue": "ignored",
          "traceback": [
            "\u001b[0;31m---------------------------------------------------------------------------\u001b[0m",
            "\u001b[0;31mValueError\u001b[0m                                Traceback (most recent call last)",
            "\u001b[0;32m<ipython-input-46-010eb2b71cf0>\u001b[0m in \u001b[0;36m<module>\u001b[0;34m()\u001b[0m\n\u001b[0;32m----> 1\u001b[0;31m \u001b[0mmy_model\u001b[0m\u001b[0;34m.\u001b[0m\u001b[0mevaluate\u001b[0m\u001b[0;34m(\u001b[0m\u001b[0mwine_std\u001b[0m\u001b[0;34m[\u001b[0m\u001b[0;36m100\u001b[0m\u001b[0;34m]\u001b[0m\u001b[0;34m,\u001b[0m \u001b[0mY\u001b[0m\u001b[0;34m[\u001b[0m\u001b[0;36m100\u001b[0m\u001b[0;34m]\u001b[0m\u001b[0;34m)\u001b[0m\u001b[0;34m\u001b[0m\u001b[0;34m\u001b[0m\u001b[0m\n\u001b[0m",
            "\u001b[0;32m/usr/local/lib/python3.7/dist-packages/keras/utils/traceback_utils.py\u001b[0m in \u001b[0;36merror_handler\u001b[0;34m(*args, **kwargs)\u001b[0m\n\u001b[1;32m     65\u001b[0m     \u001b[0;32mexcept\u001b[0m \u001b[0mException\u001b[0m \u001b[0;32mas\u001b[0m \u001b[0me\u001b[0m\u001b[0;34m:\u001b[0m  \u001b[0;31m# pylint: disable=broad-except\u001b[0m\u001b[0;34m\u001b[0m\u001b[0;34m\u001b[0m\u001b[0m\n\u001b[1;32m     66\u001b[0m       \u001b[0mfiltered_tb\u001b[0m \u001b[0;34m=\u001b[0m \u001b[0m_process_traceback_frames\u001b[0m\u001b[0;34m(\u001b[0m\u001b[0me\u001b[0m\u001b[0;34m.\u001b[0m\u001b[0m__traceback__\u001b[0m\u001b[0;34m)\u001b[0m\u001b[0;34m\u001b[0m\u001b[0;34m\u001b[0m\u001b[0m\n\u001b[0;32m---> 67\u001b[0;31m       \u001b[0;32mraise\u001b[0m \u001b[0me\u001b[0m\u001b[0;34m.\u001b[0m\u001b[0mwith_traceback\u001b[0m\u001b[0;34m(\u001b[0m\u001b[0mfiltered_tb\u001b[0m\u001b[0;34m)\u001b[0m \u001b[0;32mfrom\u001b[0m \u001b[0;32mNone\u001b[0m\u001b[0;34m\u001b[0m\u001b[0;34m\u001b[0m\u001b[0m\n\u001b[0m\u001b[1;32m     68\u001b[0m     \u001b[0;32mfinally\u001b[0m\u001b[0;34m:\u001b[0m\u001b[0;34m\u001b[0m\u001b[0;34m\u001b[0m\u001b[0m\n\u001b[1;32m     69\u001b[0m       \u001b[0;32mdel\u001b[0m \u001b[0mfiltered_tb\u001b[0m\u001b[0;34m\u001b[0m\u001b[0;34m\u001b[0m\u001b[0m\n",
            "\u001b[0;32m/usr/local/lib/python3.7/dist-packages/keras/engine/data_adapter.py\u001b[0m in \u001b[0;36m_check_data_cardinality\u001b[0;34m(data)\u001b[0m\n\u001b[1;32m   1651\u001b[0m                            for i in tf.nest.flatten(single_data)))\n\u001b[1;32m   1652\u001b[0m     \u001b[0mmsg\u001b[0m \u001b[0;34m+=\u001b[0m \u001b[0;34m\"Make sure all arrays contain the same number of samples.\"\u001b[0m\u001b[0;34m\u001b[0m\u001b[0;34m\u001b[0m\u001b[0m\n\u001b[0;32m-> 1653\u001b[0;31m     \u001b[0;32mraise\u001b[0m \u001b[0mValueError\u001b[0m\u001b[0;34m(\u001b[0m\u001b[0mmsg\u001b[0m\u001b[0;34m)\u001b[0m\u001b[0;34m\u001b[0m\u001b[0;34m\u001b[0m\u001b[0m\n\u001b[0m\u001b[1;32m   1654\u001b[0m \u001b[0;34m\u001b[0m\u001b[0m\n\u001b[1;32m   1655\u001b[0m \u001b[0;34m\u001b[0m\u001b[0m\n",
            "\u001b[0;31mValueError\u001b[0m: Data cardinality is ambiguous:\n  x sizes: 13\n  y sizes: 3\nMake sure all arrays contain the same number of samples."
          ]
        }
      ]
    },
    {
      "cell_type": "code",
      "source": [
        "# 2차원으로 변경\n",
        "my_model.evaluate(wine_std[100].reshape(1, -1), Y[100].reshape(1, -1))"
      ],
      "metadata": {
        "colab": {
          "base_uri": "https://localhost:8080/"
        },
        "id": "s-l-ZHhsYQHA",
        "outputId": "dc5a7b91-abe2-4275-ebed-d0af5c342520"
      },
      "execution_count": 49,
      "outputs": [
        {
          "output_type": "stream",
          "name": "stdout",
          "text": [
            "1/1 [==============================] - 0s 37ms/step - loss: 5.3644e-06 - accuracy: 1.0000\n"
          ]
        },
        {
          "output_type": "execute_result",
          "data": {
            "text/plain": [
              "[5.364403477869928e-06, 1.0]"
            ]
          },
          "metadata": {},
          "execution_count": 49
        }
      ]
    },
    {
      "cell_type": "markdown",
      "source": [
        "#### model.predict"
      ],
      "metadata": {
        "id": "DOuN3_r2a0kz"
      }
    },
    {
      "cell_type": "code",
      "source": [
        "my_model.predict(wine_std[100].reshape(1, -1))"
      ],
      "metadata": {
        "colab": {
          "base_uri": "https://localhost:8080/"
        },
        "id": "uj7UXfX-Y21Y",
        "outputId": "69a3d265-0d68-429b-e41c-ba5c391afefd"
      },
      "execution_count": 52,
      "outputs": [
        {
          "output_type": "execute_result",
          "data": {
            "text/plain": [
              "array([[5.2849582e-06, 9.9999464e-01, 1.4567556e-07]], dtype=float32)"
            ]
          },
          "metadata": {},
          "execution_count": 52
        }
      ]
    },
    {
      "cell_type": "code",
      "source": [
        "my_model.predict(wine_std[100].reshape(1, -1)).argmax()\n",
        "# 1번째 값이 가장 크다는 의미 == class_1"
      ],
      "metadata": {
        "colab": {
          "base_uri": "https://localhost:8080/"
        },
        "id": "c_TueklyZ05A",
        "outputId": "1858ca07-b36f-4202-931f-c21cb80d8fda"
      },
      "execution_count": 57,
      "outputs": [
        {
          "output_type": "execute_result",
          "data": {
            "text/plain": [
              "1"
            ]
          },
          "metadata": {},
          "execution_count": 57
        }
      ]
    }
  ]
}