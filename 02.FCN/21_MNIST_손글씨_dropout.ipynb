{
  "nbformat": 4,
  "nbformat_minor": 0,
  "metadata": {
    "colab": {
      "name": "21_MNIST_손글씨_dropout.ipynb",
      "provenance": []
    },
    "kernelspec": {
      "name": "python3",
      "display_name": "Python 3"
    },
    "language_info": {
      "name": "python"
    }
  },
  "cells": [
    {
      "cell_type": "markdown",
      "source": [
        "# 손글씨 분류_신경망"
      ],
      "metadata": {
        "id": "nCkBZGHbwHKQ"
      }
    },
    {
      "cell_type": "code",
      "execution_count": 1,
      "metadata": {
        "id": "jIzhdiOcwCzI"
      },
      "outputs": [],
      "source": [
        "import numpy as np\n",
        "import pandas as pd\n",
        "import matplotlib.pyplot as plt\n",
        "import tensorflow as tf\n",
        "seed = 2022\n",
        "np.random.seed(seed)\n",
        "tf.random.set_seed(seed)"
      ]
    },
    {
      "cell_type": "code",
      "source": [
        "from tensorflow.keras.datasets import mnist\n",
        "(X_train, y_train), (X_test, y_test) = mnist.load_data()\n",
        "X_train.shape, y_train.shape, X_test.shape, y_test.shape"
      ],
      "metadata": {
        "colab": {
          "base_uri": "https://localhost:8080/"
        },
        "id": "s-20aV_swT3f",
        "outputId": "3de59512-e4e9-41ed-b81c-29ee73986826"
      },
      "execution_count": 3,
      "outputs": [
        {
          "output_type": "stream",
          "name": "stdout",
          "text": [
            "Downloading data from https://storage.googleapis.com/tensorflow/tf-keras-datasets/mnist.npz\n",
            "11493376/11490434 [==============================] - 0s 0us/step\n",
            "11501568/11490434 [==============================] - 0s 0us/step\n"
          ]
        },
        {
          "output_type": "execute_result",
          "data": {
            "text/plain": [
              "((60000, 28, 28), (60000,), (10000, 28, 28), (10000,))"
            ]
          },
          "metadata": {},
          "execution_count": 3
        }
      ]
    },
    {
      "cell_type": "code",
      "source": [
        "plt.imshow(X_train[0], cmap = 'Greys');"
      ],
      "metadata": {
        "colab": {
          "base_uri": "https://localhost:8080/",
          "height": 265
        },
        "id": "Bj-4CIXSwXo2",
        "outputId": "c804d619-d545-4a02-ffb7-ef6d8b36d379"
      },
      "execution_count": 5,
      "outputs": [
        {
          "output_type": "display_data",
          "data": {
            "text/plain": [
              "<Figure size 432x288 with 1 Axes>"
            ],
            "image/png": "[encoded data removed]"
          },
          "metadata": {
            "needs_background": "light"
          }
        }
      ]
    },
    {
      "cell_type": "code",
      "source": [
        "import sys\n",
        "for row in X_train[0]:\n",
        "    for x in row:\n",
        "        sys.stdout.write(f'{x:3d} ')\n",
        "    sys.stdout.write('\\n')"
      ],
      "metadata": {
        "colab": {
          "base_uri": "https://localhost:8080/"
        },
        "id": "8505QECVxTvE",
        "outputId": "ab52c2fd-ea1b-4445-f7bf-46dd16700fa6"
      },
      "execution_count": 8,
      "outputs": [
        {
          "output_type": "stream",
          "name": "stdout",
          "text": [
            "  0   0   0   0   0   0   0   0   0   0   0   0   0   0   0   0   0   0   0   0   0   0   0   0   0   0   0   0 \n",
            "  0   0   0   0   0   0   0   0   0   0   0   0   0   0   0   0   0   0   0   0   0   0   0   0   0   0   0   0 \n",
            "  0   0   0   0   0   0   0   0   0   0   0   0   0   0   0   0   0   0   0   0   0   0   0   0   0   0   0   0 \n",
            "  0   0   0   0   0   0   0   0   0   0   0   0   0   0   0   0   0   0   0   0   0   0   0   0   0   0   0   0 \n",
            "  0   0   0   0   0   0   0   0   0   0   0   0   0   0   0   0   0   0   0   0   0   0   0   0   0   0   0   0 \n",
            "  0   0   0   0   0   0   0   0   0   0   0   0   3  18  18  18 126 136 175  26 166 255 247 127   0   0   0   0 \n",
            "  0   0   0   0   0   0   0   0  30  36  94 154 170 253 253 253 253 253 225 172 253 242 195  64   0   0   0   0 \n",
            "  0   0   0   0   0   0   0  49 238 253 253 253 253 253 253 253 253 251  93  82  82  56  39   0   0   0   0   0 \n",
            "  0   0   0   0   0   0   0  18 219 253 253 253 253 253 198 182 247 241   0   0   0   0   0   0   0   0   0   0 \n",
            "  0   0   0   0   0   0   0   0  80 156 107 253 253 205  11   0  43 154   0   0   0   0   0   0   0   0   0   0 \n",
            "  0   0   0   0   0   0   0   0   0  14   1 154 253  90   0   0   0   0   0   0   0   0   0   0   0   0   0   0 \n",
            "  0   0   0   0   0   0   0   0   0   0   0 139 253 190   2   0   0   0   0   0   0   0   0   0   0   0   0   0 \n",
            "  0   0   0   0   0   0   0   0   0   0   0  11 190 253  70   0   0   0   0   0   0   0   0   0   0   0   0   0 \n",
            "  0   0   0   0   0   0   0   0   0   0   0   0  35 241 225 160 108   1   0   0   0   0   0   0   0   0   0   0 \n",
            "  0   0   0   0   0   0   0   0   0   0   0   0   0  81 240 253 253 119  25   0   0   0   0   0   0   0   0   0 \n",
            "  0   0   0   0   0   0   0   0   0   0   0   0   0   0  45 186 253 253 150  27   0   0   0   0   0   0   0   0 \n",
            "  0   0   0   0   0   0   0   0   0   0   0   0   0   0   0  16  93 252 253 187   0   0   0   0   0   0   0   0 \n",
            "  0   0   0   0   0   0   0   0   0   0   0   0   0   0   0   0   0 249 253 249  64   0   0   0   0   0   0   0 \n",
            "  0   0   0   0   0   0   0   0   0   0   0   0   0   0  46 130 183 253 253 207   2   0   0   0   0   0   0   0 \n",
            "  0   0   0   0   0   0   0   0   0   0   0   0  39 148 229 253 253 253 250 182   0   0   0   0   0   0   0   0 \n",
            "  0   0   0   0   0   0   0   0   0   0  24 114 221 253 253 253 253 201  78   0   0   0   0   0   0   0   0   0 \n",
            "  0   0   0   0   0   0   0   0  23  66 213 253 253 253 253 198  81   2   0   0   0   0   0   0   0   0   0   0 \n",
            "  0   0   0   0   0   0  18 171 219 253 253 253 253 195  80   9   0   0   0   0   0   0   0   0   0   0   0   0 \n",
            "  0   0   0   0  55 172 226 253 253 253 253 244 133  11   0   0   0   0   0   0   0   0   0   0   0   0   0   0 \n",
            "  0   0   0   0 136 253 253 253 212 135 132  16   0   0   0   0   0   0   0   0   0   0   0   0   0   0   0   0 \n",
            "  0   0   0   0   0   0   0   0   0   0   0   0   0   0   0   0   0   0   0   0   0   0   0   0   0   0   0   0 \n",
            "  0   0   0   0   0   0   0   0   0   0   0   0   0   0   0   0   0   0   0   0   0   0   0   0   0   0   0   0 \n",
            "  0   0   0   0   0   0   0   0   0   0   0   0   0   0   0   0   0   0   0   0   0   0   0   0   0   0   0   0 \n"
          ]
        }
      ]
    },
    {
      "cell_type": "code",
      "source": [
        "# 정규화\n",
        "X_train = X_train / 255.\n",
        "X_test = X_test / 255."
      ],
      "metadata": {
        "id": "7JpmoPzoxkZe"
      },
      "execution_count": 9,
      "outputs": []
    },
    {
      "cell_type": "code",
      "source": [
        "# 이미지 차원 변경  : 2차원 -> 1차원\n",
        "X_train = X_train.reshape(60000, -1)\n",
        "X_test = X_test.reshape(-1, 784)   #(28 * 28)"
      ],
      "metadata": {
        "id": "Ua-7tYVIyUi2"
      },
      "execution_count": 10,
      "outputs": []
    },
    {
      "cell_type": "code",
      "source": [
        "# y 값의 분포\n",
        "np.unique(y_train, return_counts=True)"
      ],
      "metadata": {
        "colab": {
          "base_uri": "https://localhost:8080/"
        },
        "id": "HnEMBUCtyU-i",
        "outputId": "c0a62ab1-c1ae-4342-93a3-449077abfd63"
      },
      "execution_count": 11,
      "outputs": [
        {
          "output_type": "execute_result",
          "data": {
            "text/plain": [
              "(array([0, 1, 2, 3, 4, 5, 6, 7, 8, 9], dtype=uint8),\n",
              " array([5923, 6742, 5958, 6131, 5842, 5421, 5918, 6265, 5851, 5949]))"
            ]
          },
          "metadata": {},
          "execution_count": 11
        }
      ]
    },
    {
      "cell_type": "code",
      "source": [
        "from tensorflow.keras.utils import to_categorical\n",
        "Y_train = to_categorical(y_train)\n",
        "Y_test = to_categorical(y_test)\n",
        "Y_train.shape, Y_test.shape"
      ],
      "metadata": {
        "colab": {
          "base_uri": "https://localhost:8080/"
        },
        "id": "fF-mXioRyVAx",
        "outputId": "231ab6a1-c745-452b-c97f-faf8e55d4359"
      },
      "execution_count": 13,
      "outputs": [
        {
          "output_type": "execute_result",
          "data": {
            "text/plain": [
              "((60000, 10), (10000, 10))"
            ]
          },
          "metadata": {},
          "execution_count": 13
        }
      ]
    },
    {
      "cell_type": "code",
      "source": [
        "from tensorflow.keras.models import Sequential, load_model\n",
        "from tensorflow.keras.layers import Dense, Dropout\n",
        "from tensorflow.keras.callbacks import ModelCheckpoint, EarlyStopping"
      ],
      "metadata": {
        "id": "0eLnr89cyVDF"
      },
      "execution_count": 14,
      "outputs": []
    },
    {
      "cell_type": "markdown",
      "source": [
        "## Drop out 없는 경우"
      ],
      "metadata": {
        "id": "la8nYPCY1JeI"
      }
    },
    {
      "cell_type": "code",
      "source": [
        "model1 = Sequential([\n",
        "    Dense(1000, input_dim = 784, activation = 'relu'),\n",
        "    Dense(256, activation = 'relu'),\n",
        "    Dense(48, activation = 'relu'),\n",
        "    Dense(10, activation = 'softmax')\n",
        "])\n",
        "model1.summary()"
      ],
      "metadata": {
        "colab": {
          "base_uri": "https://localhost:8080/"
        },
        "id": "YrdU7CEv1Ace",
        "outputId": "dc5ebfef-4120-401c-bc31-a245a5005864"
      },
      "execution_count": 15,
      "outputs": [
        {
          "output_type": "stream",
          "name": "stdout",
          "text": [
            "Model: \"sequential\"\n",
            "_________________________________________________________________\n",
            " Layer (type)                Output Shape              Param #   \n",
            "=================================================================\n",
            " dense (Dense)               (None, 1000)              785000    \n",
            "                                                                 \n",
            " dense_1 (Dense)             (None, 256)               256256    \n",
            "                                                                 \n",
            " dense_2 (Dense)             (None, 48)                12336     \n",
            "                                                                 \n",
            " dense_3 (Dense)             (None, 10)                490       \n",
            "                                                                 \n",
            "=================================================================\n",
            "Total params: 1,054,082\n",
            "Trainable params: 1,054,082\n",
            "Non-trainable params: 0\n",
            "_________________________________________________________________\n"
          ]
        }
      ]
    },
    {
      "cell_type": "code",
      "source": [
        "model1.compile('adam', 'categorical_crossentropy',['accuracy'])"
      ],
      "metadata": {
        "id": "NPu0qAmM1QPF"
      },
      "execution_count": 29,
      "outputs": []
    },
    {
      "cell_type": "code",
      "source": [
        "mc1 = ModelCheckpoint('mnist_best1.h5', verbose = 1, save_best_only = True)\n",
        "es1 = EarlyStopping(patience = 10)\n",
        "hist1 = model1.fit(X_train, Y_train, validation_split=0.2,\n",
        "                   epochs = 100, batch_size = 200, verbose = 0,\n",
        "                   callbacks = [mc1, es1])"
      ],
      "metadata": {
        "colab": {
          "base_uri": "https://localhost:8080/"
        },
        "id": "WskT5ZhT1aQC",
        "outputId": "7091c05d-5d0b-43c7-d4ac-c1bc380db7cf"
      },
      "execution_count": 30,
      "outputs": [
        {
          "output_type": "stream",
          "name": "stdout",
          "text": [
            "\n",
            "Epoch 1: val_loss improved from inf to 0.12565, saving model to mnist_best1.h5\n",
            "\n",
            "Epoch 2: val_loss improved from 0.12565 to 0.09835, saving model to mnist_best1.h5\n",
            "\n",
            "Epoch 3: val_loss improved from 0.09835 to 0.08339, saving model to mnist_best1.h5\n",
            "\n",
            "Epoch 4: val_loss did not improve from 0.08339\n",
            "\n",
            "Epoch 5: val_loss did not improve from 0.08339\n",
            "\n",
            "Epoch 6: val_loss did not improve from 0.08339\n",
            "\n",
            "Epoch 7: val_loss did not improve from 0.08339\n",
            "\n",
            "Epoch 8: val_loss did not improve from 0.08339\n",
            "\n",
            "Epoch 9: val_loss did not improve from 0.08339\n",
            "\n",
            "Epoch 10: val_loss did not improve from 0.08339\n",
            "\n",
            "Epoch 11: val_loss did not improve from 0.08339\n",
            "\n",
            "Epoch 12: val_loss did not improve from 0.08339\n",
            "\n",
            "Epoch 13: val_loss did not improve from 0.08339\n"
          ]
        }
      ]
    },
    {
      "cell_type": "code",
      "source": [
        "best_model1 = load_model('mnist_best1.h5')\n",
        "best_model1.evaluate(X_test, Y_test)"
      ],
      "metadata": {
        "colab": {
          "base_uri": "https://localhost:8080/"
        },
        "id": "_X7p1x2U1aSC",
        "outputId": "add8876c-cbf6-48c9-8874-0a9dfa708191"
      },
      "execution_count": 31,
      "outputs": [
        {
          "output_type": "stream",
          "name": "stdout",
          "text": [
            "313/313 [==============================] - 1s 4ms/step - loss: 0.0846 - accuracy: 0.9743\n"
          ]
        },
        {
          "output_type": "execute_result",
          "data": {
            "text/plain": [
              "[0.08464588224887848, 0.9743000268936157]"
            ]
          },
          "metadata": {},
          "execution_count": 31
        }
      ]
    },
    {
      "cell_type": "markdown",
      "source": [
        "## Drop out 있는 경우"
      ],
      "metadata": {
        "id": "JqG5KsWy1L58"
      }
    },
    {
      "cell_type": "code",
      "source": [
        "model2 = Sequential([\n",
        "    Dense(1000, input_dim = 784, activation = 'relu'),\n",
        "    Dropout(0.25),      # 1000개 중 250개를 학습 할 때는 끔.(실전에는 사용)\n",
        "    Dense(256, activation = 'relu'),\n",
        "    Dropout(0.25),\n",
        "    Dense(48, activation = 'relu'),\n",
        "    Dense(10, activation = 'softmax')\n",
        "])\n",
        "model2.summary()"
      ],
      "metadata": {
        "colab": {
          "base_uri": "https://localhost:8080/"
        },
        "id": "uVuMkHCG0OSO",
        "outputId": "7f9d1e36-a443-45e3-f6d5-4967122fc26f"
      },
      "execution_count": 24,
      "outputs": [
        {
          "output_type": "stream",
          "name": "stdout",
          "text": [
            "Model: \"sequential_2\"\n",
            "_________________________________________________________________\n",
            " Layer (type)                Output Shape              Param #   \n",
            "=================================================================\n",
            " dense_8 (Dense)             (None, 1000)              785000    \n",
            "                                                                 \n",
            " dropout_2 (Dropout)         (None, 1000)              0         \n",
            "                                                                 \n",
            " dense_9 (Dense)             (None, 256)               256256    \n",
            "                                                                 \n",
            " dropout_3 (Dropout)         (None, 256)               0         \n",
            "                                                                 \n",
            " dense_10 (Dense)            (None, 48)                12336     \n",
            "                                                                 \n",
            " dense_11 (Dense)            (None, 10)                490       \n",
            "                                                                 \n",
            "=================================================================\n",
            "Total params: 1,054,082\n",
            "Trainable params: 1,054,082\n",
            "Non-trainable params: 0\n",
            "_________________________________________________________________\n"
          ]
        }
      ]
    },
    {
      "cell_type": "code",
      "source": [
        "model2.compile('adam', 'categorical_crossentropy',['accuracy'])"
      ],
      "metadata": {
        "id": "DzT7mlnS3CB-"
      },
      "execution_count": 27,
      "outputs": []
    },
    {
      "cell_type": "code",
      "source": [
        "mc2 = ModelCheckpoint('mnist_best2.h5', verbose = 1, save_best_only = True)\n",
        "es2 = EarlyStopping(patience = 10)\n",
        "hist1 = model1.fit(X_train, Y_train, validation_split=0.2,\n",
        "                   epochs = 100, batch_size = 200, verbose = 0,\n",
        "                   callbacks = [mc2, es2])"
      ],
      "metadata": {
        "colab": {
          "base_uri": "https://localhost:8080/"
        },
        "outputId": "b253dce4-b53e-42e4-def1-ca2c24b768cf",
        "id": "h3laEuSO3CCG"
      },
      "execution_count": 32,
      "outputs": [
        {
          "output_type": "stream",
          "name": "stdout",
          "text": [
            "\n",
            "Epoch 1: val_loss improved from inf to 0.10835, saving model to mnist_best2.h5\n",
            "\n",
            "Epoch 2: val_loss did not improve from 0.10835\n",
            "\n",
            "Epoch 3: val_loss did not improve from 0.10835\n",
            "\n",
            "Epoch 4: val_loss did not improve from 0.10835\n",
            "\n",
            "Epoch 5: val_loss improved from 0.10835 to 0.10609, saving model to mnist_best2.h5\n",
            "\n",
            "Epoch 6: val_loss did not improve from 0.10609\n",
            "\n",
            "Epoch 7: val_loss did not improve from 0.10609\n",
            "\n",
            "Epoch 8: val_loss did not improve from 0.10609\n",
            "\n",
            "Epoch 9: val_loss did not improve from 0.10609\n",
            "\n",
            "Epoch 10: val_loss did not improve from 0.10609\n",
            "\n",
            "Epoch 11: val_loss did not improve from 0.10609\n",
            "\n",
            "Epoch 12: val_loss improved from 0.10609 to 0.09919, saving model to mnist_best2.h5\n",
            "\n",
            "Epoch 13: val_loss did not improve from 0.09919\n",
            "\n",
            "Epoch 14: val_loss did not improve from 0.09919\n",
            "\n",
            "Epoch 15: val_loss did not improve from 0.09919\n",
            "\n",
            "Epoch 16: val_loss did not improve from 0.09919\n",
            "\n",
            "Epoch 17: val_loss did not improve from 0.09919\n",
            "\n",
            "Epoch 18: val_loss did not improve from 0.09919\n",
            "\n",
            "Epoch 19: val_loss did not improve from 0.09919\n",
            "\n",
            "Epoch 20: val_loss did not improve from 0.09919\n",
            "\n",
            "Epoch 21: val_loss did not improve from 0.09919\n",
            "\n",
            "Epoch 22: val_loss did not improve from 0.09919\n"
          ]
        }
      ]
    },
    {
      "cell_type": "code",
      "source": [
        "best_model2 = load_model('mnist_best2.h5')\n",
        "best_model2.evaluate(X_test, Y_test)"
      ],
      "metadata": {
        "colab": {
          "base_uri": "https://localhost:8080/"
        },
        "id": "M6Efrmwz1GZs",
        "outputId": "2ecb55e6-042c-4a2a-c5e8-fd8f8e5fb0e9"
      },
      "execution_count": 33,
      "outputs": [
        {
          "output_type": "stream",
          "name": "stdout",
          "text": [
            "313/313 [==============================] - 1s 4ms/step - loss: 0.0785 - accuracy: 0.9835\n"
          ]
        },
        {
          "output_type": "execute_result",
          "data": {
            "text/plain": [
              "[0.07851912081241608, 0.9835000038146973]"
            ]
          },
          "metadata": {},
          "execution_count": 33
        }
      ]
    }
  ]
}