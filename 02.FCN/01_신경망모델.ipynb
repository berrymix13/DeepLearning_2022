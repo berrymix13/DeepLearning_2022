{
  "nbformat": 4,
  "nbformat_minor": 0,
  "metadata": {
    "colab": {
      "name": "01_신경망모델.ipynb",
      "provenance": [],
      "collapsed_sections": []
    },
    "kernelspec": {
      "name": "python3",
      "display_name": "Python 3"
    },
    "language_info": {
      "name": "python"
    }
  },
  "cells": [
    {
      "cell_type": "markdown",
      "source": [
        "# 신경망 모델"
      ],
      "metadata": {
        "id": "9Edq64L8A2Q_"
      }
    },
    {
      "cell_type": "markdown",
      "source": [
        "## 이진분류 : 유방암 예측 사례"
      ],
      "metadata": {
        "id": "YsTJtz_NA8QV"
      }
    },
    {
      "cell_type": "code",
      "execution_count": 1,
      "metadata": {
        "id": "5sODJNj1AwgC"
      },
      "outputs": [],
      "source": [
        "import numpy as np\n",
        "import pandas as pd\n",
        "import matplotlib.pyplot as plt"
      ]
    },
    {
      "cell_type": "markdown",
      "source": [
        "- 데이터 준비"
      ],
      "metadata": {
        "id": "770NeE56DgGR"
      }
    },
    {
      "cell_type": "code",
      "source": [
        "from sklearn.datasets import load_breast_cancer\n",
        "cancer = load_breast_cancer()\n",
        "df = pd.DataFrame(cancer.data, columns = cancer.feature_names)\n",
        "df['target'] = cancer.target\n",
        "df.head()"
      ],
      "metadata": {
        "colab": {
          "base_uri": "https://localhost:8080/",
          "height": 334
        },
        "id": "UwwKgQf4De9x",
        "outputId": "7505f14d-61dc-4f0e-ac3b-1dcac3e14fed"
      },
      "execution_count": 4,
      "outputs": [
        {
          "output_type": "execute_result",
          "data": {
            "text/plain": [
              "   mean radius  mean texture  mean perimeter  mean area  mean smoothness  \\\n",
              "0        17.99         10.38          122.80     1001.0          0.11840   \n",
              "1        20.57         17.77          132.90     1326.0          0.08474   \n",
              "2        19.69         21.25          130.00     1203.0          0.10960   \n",
              "3        11.42         20.38           77.58      386.1          0.14250   \n",
              "4        20.29         14.34          135.10     1297.0          0.10030   \n",
              "\n",
              "   mean compactness  mean concavity  mean concave points  mean symmetry  \\\n",
              "0           0.27760          0.3001              0.14710         0.2419   \n",
              "1           0.07864          0.0869              0.07017         0.1812   \n",
              "2           0.15990          0.1974              0.12790         0.2069   \n",
              "3           0.28390          0.2414              0.10520         0.2597   \n",
              "4           0.13280          0.1980              0.10430         0.1809   \n",
              "\n",
              "   mean fractal dimension  ...  worst texture  worst perimeter  worst area  \\\n",
              "0                 0.07871  ...          17.33           184.60      2019.0   \n",
              "1                 0.05667  ...          23.41           158.80      1956.0   \n",
              "2                 0.05999  ...          25.53           152.50      1709.0   \n",
              "3                 0.09744  ...          26.50            98.87       567.7   \n",
              "4                 0.05883  ...          16.67           152.20      1575.0   \n",
              "\n",
              "   worst smoothness  worst compactness  worst concavity  worst concave points  \\\n",
              "0            0.1622             0.6656           0.7119                0.2654   \n",
              "1            0.1238             0.1866           0.2416                0.1860   \n",
              "2            0.1444             0.4245           0.4504                0.2430   \n",
              "3            0.2098             0.8663           0.6869                0.2575   \n",
              "4            0.1374             0.2050           0.4000                0.1625   \n",
              "\n",
              "   worst symmetry  worst fractal dimension  target  \n",
              "0          0.4601                  0.11890       0  \n",
              "1          0.2750                  0.08902       0  \n",
              "2          0.3613                  0.08758       0  \n",
              "3          0.6638                  0.17300       0  \n",
              "4          0.2364                  0.07678       0  \n",
              "\n",
              "[5 rows x 31 columns]"
            ],
            "text/html": [
              "\n",
              "  <div id=\"df-f82892cb-0fe9-4cb2-b726-f9cb00377f89\">\n",
              "    <div class=\"colab-df-container\">\n",
              "      <div>\n",
              "<style scoped>\n",
              "    .dataframe tbody tr th:only-of-type {\n",
              "        vertical-align: middle;\n",
              "    }\n",
              "\n",
              "    .dataframe tbody tr th {\n",
              "        vertical-align: top;\n",
              "    }\n",
              "\n",
              "    .dataframe thead th {\n",
              "        text-align: right;\n",
              "    }\n",
              "</style>\n",
              "<table border=\"1\" class=\"dataframe\">\n",
              "  <thead>\n",
              "    <tr style=\"text-align: right;\">\n",
              "      <th></th>\n",
              "      <th>mean radius</th>\n",
              "      <th>mean texture</th>\n",
              "      <th>mean perimeter</th>\n",
              "      <th>mean area</th>\n",
              "      <th>mean smoothness</th>\n",
              "      <th>mean compactness</th>\n",
              "      <th>mean concavity</th>\n",
              "      <th>mean concave points</th>\n",
              "      <th>mean symmetry</th>\n",
              "      <th>mean fractal dimension</th>\n",
              "      <th>...</th>\n",
              "      <th>worst texture</th>\n",
              "      <th>worst perimeter</th>\n",
              "      <th>worst area</th>\n",
              "      <th>worst smoothness</th>\n",
              "      <th>worst compactness</th>\n",
              "      <th>worst concavity</th>\n",
              "      <th>worst concave points</th>\n",
              "      <th>worst symmetry</th>\n",
              "      <th>worst fractal dimension</th>\n",
              "      <th>target</th>\n",
              "    </tr>\n",
              "  </thead>\n",
              "  <tbody>\n",
              "    <tr>\n",
              "      <th>0</th>\n",
              "      <td>17.99</td>\n",
              "      <td>10.38</td>\n",
              "      <td>122.80</td>\n",
              "      <td>1001.0</td>\n",
              "      <td>0.11840</td>\n",
              "      <td>0.27760</td>\n",
              "      <td>0.3001</td>\n",
              "      <td>0.14710</td>\n",
              "      <td>0.2419</td>\n",
              "      <td>0.07871</td>\n",
              "      <td>...</td>\n",
              "      <td>17.33</td>\n",
              "      <td>184.60</td>\n",
              "      <td>2019.0</td>\n",
              "      <td>0.1622</td>\n",
              "      <td>0.6656</td>\n",
              "      <td>0.7119</td>\n",
              "      <td>0.2654</td>\n",
              "      <td>0.4601</td>\n",
              "      <td>0.11890</td>\n",
              "      <td>0</td>\n",
              "    </tr>\n",
              "    <tr>\n",
              "      <th>1</th>\n",
              "      <td>20.57</td>\n",
              "      <td>17.77</td>\n",
              "      <td>132.90</td>\n",
              "      <td>1326.0</td>\n",
              "      <td>0.08474</td>\n",
              "      <td>0.07864</td>\n",
              "      <td>0.0869</td>\n",
              "      <td>0.07017</td>\n",
              "      <td>0.1812</td>\n",
              "      <td>0.05667</td>\n",
              "      <td>...</td>\n",
              "      <td>23.41</td>\n",
              "      <td>158.80</td>\n",
              "      <td>1956.0</td>\n",
              "      <td>0.1238</td>\n",
              "      <td>0.1866</td>\n",
              "      <td>0.2416</td>\n",
              "      <td>0.1860</td>\n",
              "      <td>0.2750</td>\n",
              "      <td>0.08902</td>\n",
              "      <td>0</td>\n",
              "    </tr>\n",
              "    <tr>\n",
              "      <th>2</th>\n",
              "      <td>19.69</td>\n",
              "      <td>21.25</td>\n",
              "      <td>130.00</td>\n",
              "      <td>1203.0</td>\n",
              "      <td>0.10960</td>\n",
              "      <td>0.15990</td>\n",
              "      <td>0.1974</td>\n",
              "      <td>0.12790</td>\n",
              "      <td>0.2069</td>\n",
              "      <td>0.05999</td>\n",
              "      <td>...</td>\n",
              "      <td>25.53</td>\n",
              "      <td>152.50</td>\n",
              "      <td>1709.0</td>\n",
              "      <td>0.1444</td>\n",
              "      <td>0.4245</td>\n",
              "      <td>0.4504</td>\n",
              "      <td>0.2430</td>\n",
              "      <td>0.3613</td>\n",
              "      <td>0.08758</td>\n",
              "      <td>0</td>\n",
              "    </tr>\n",
              "    <tr>\n",
              "      <th>3</th>\n",
              "      <td>11.42</td>\n",
              "      <td>20.38</td>\n",
              "      <td>77.58</td>\n",
              "      <td>386.1</td>\n",
              "      <td>0.14250</td>\n",
              "      <td>0.28390</td>\n",
              "      <td>0.2414</td>\n",
              "      <td>0.10520</td>\n",
              "      <td>0.2597</td>\n",
              "      <td>0.09744</td>\n",
              "      <td>...</td>\n",
              "      <td>26.50</td>\n",
              "      <td>98.87</td>\n",
              "      <td>567.7</td>\n",
              "      <td>0.2098</td>\n",
              "      <td>0.8663</td>\n",
              "      <td>0.6869</td>\n",
              "      <td>0.2575</td>\n",
              "      <td>0.6638</td>\n",
              "      <td>0.17300</td>\n",
              "      <td>0</td>\n",
              "    </tr>\n",
              "    <tr>\n",
              "      <th>4</th>\n",
              "      <td>20.29</td>\n",
              "      <td>14.34</td>\n",
              "      <td>135.10</td>\n",
              "      <td>1297.0</td>\n",
              "      <td>0.10030</td>\n",
              "      <td>0.13280</td>\n",
              "      <td>0.1980</td>\n",
              "      <td>0.10430</td>\n",
              "      <td>0.1809</td>\n",
              "      <td>0.05883</td>\n",
              "      <td>...</td>\n",
              "      <td>16.67</td>\n",
              "      <td>152.20</td>\n",
              "      <td>1575.0</td>\n",
              "      <td>0.1374</td>\n",
              "      <td>0.2050</td>\n",
              "      <td>0.4000</td>\n",
              "      <td>0.1625</td>\n",
              "      <td>0.2364</td>\n",
              "      <td>0.07678</td>\n",
              "      <td>0</td>\n",
              "    </tr>\n",
              "  </tbody>\n",
              "</table>\n",
              "<p>5 rows × 31 columns</p>\n",
              "</div>\n",
              "      <button class=\"colab-df-convert\" onclick=\"convertToInteractive('df-f82892cb-0fe9-4cb2-b726-f9cb00377f89')\"\n",
              "              title=\"Convert this dataframe to an interactive table.\"\n",
              "              style=\"display:none;\">\n",
              "        \n",
              "  <svg xmlns=\"http://www.w3.org/2000/svg\" height=\"24px\"viewBox=\"0 0 24 24\"\n",
              "       width=\"24px\">\n",
              "    <path d=\"M0 0h24v24H0V0z\" fill=\"none\"/>\n",
              "    <path d=\"M18.56 5.44l.94 2.06.94-2.06 2.06-.94-2.06-.94-.94-2.06-.94 2.06-2.06.94zm-11 1L8.5 8.5l.94-2.06 2.06-.94-2.06-.94L8.5 2.5l-.94 2.06-2.06.94zm10 10l.94 2.06.94-2.06 2.06-.94-2.06-.94-.94-2.06-.94 2.06-2.06.94z\"/><path d=\"M17.41 7.96l-1.37-1.37c-.4-.4-.92-.59-1.43-.59-.52 0-1.04.2-1.43.59L10.3 9.45l-7.72 7.72c-.78.78-.78 2.05 0 2.83L4 21.41c.39.39.9.59 1.41.59.51 0 1.02-.2 1.41-.59l7.78-7.78 2.81-2.81c.8-.78.8-2.07 0-2.86zM5.41 20L4 18.59l7.72-7.72 1.47 1.35L5.41 20z\"/>\n",
              "  </svg>\n",
              "      </button>\n",
              "      \n",
              "  <style>\n",
              "    .colab-df-container {\n",
              "      display:flex;\n",
              "      flex-wrap:wrap;\n",
              "      gap: 12px;\n",
              "    }\n",
              "\n",
              "    .colab-df-convert {\n",
              "      background-color: #E8F0FE;\n",
              "      border: none;\n",
              "      border-radius: 50%;\n",
              "      cursor: pointer;\n",
              "      display: none;\n",
              "      fill: #1967D2;\n",
              "      height: 32px;\n",
              "      padding: 0 0 0 0;\n",
              "      width: 32px;\n",
              "    }\n",
              "\n",
              "    .colab-df-convert:hover {\n",
              "      background-color: #E2EBFA;\n",
              "      box-shadow: 0px 1px 2px rgba(60, 64, 67, 0.3), 0px 1px 3px 1px rgba(60, 64, 67, 0.15);\n",
              "      fill: #174EA6;\n",
              "    }\n",
              "\n",
              "    [theme=dark] .colab-df-convert {\n",
              "      background-color: #3B4455;\n",
              "      fill: #D2E3FC;\n",
              "    }\n",
              "\n",
              "    [theme=dark] .colab-df-convert:hover {\n",
              "      background-color: #434B5C;\n",
              "      box-shadow: 0px 1px 3px 1px rgba(0, 0, 0, 0.15);\n",
              "      filter: drop-shadow(0px 1px 2px rgba(0, 0, 0, 0.3));\n",
              "      fill: #FFFFFF;\n",
              "    }\n",
              "  </style>\n",
              "\n",
              "      <script>\n",
              "        const buttonEl =\n",
              "          document.querySelector('#df-f82892cb-0fe9-4cb2-b726-f9cb00377f89 button.colab-df-convert');\n",
              "        buttonEl.style.display =\n",
              "          google.colab.kernel.accessAllowed ? 'block' : 'none';\n",
              "\n",
              "        async function convertToInteractive(key) {\n",
              "          const element = document.querySelector('#df-f82892cb-0fe9-4cb2-b726-f9cb00377f89');\n",
              "          const dataTable =\n",
              "            await google.colab.kernel.invokeFunction('convertToInteractive',\n",
              "                                                     [key], {});\n",
              "          if (!dataTable) return;\n",
              "\n",
              "          const docLinkHtml = 'Like what you see? Visit the ' +\n",
              "            '<a target=\"_blank\" href=https://colab.research.google.com/notebooks/data_table.ipynb>data table notebook</a>'\n",
              "            + ' to learn more about interactive tables.';\n",
              "          element.innerHTML = '';\n",
              "          dataTable['output_type'] = 'display_data';\n",
              "          await google.colab.output.renderOutput(dataTable, element);\n",
              "          const docLink = document.createElement('div');\n",
              "          docLink.innerHTML = docLinkHtml;\n",
              "          element.appendChild(docLink);\n",
              "        }\n",
              "      </script>\n",
              "    </div>\n",
              "  </div>\n",
              "  "
            ]
          },
          "metadata": {},
          "execution_count": 4
        }
      ]
    },
    {
      "cell_type": "markdown",
      "source": [
        "- scale 값이 영향이 있는지 확인하기"
      ],
      "metadata": {
        "id": "eFqhEYC6EAM9"
      }
    },
    {
      "cell_type": "code",
      "source": [
        "df.shape"
      ],
      "metadata": {
        "colab": {
          "base_uri": "https://localhost:8080/"
        },
        "id": "FdBMAq0jD1TT",
        "outputId": "85043e94-8774-4347-f2df-fd89d1392f23"
      },
      "execution_count": 5,
      "outputs": [
        {
          "output_type": "execute_result",
          "data": {
            "text/plain": [
              "(569, 31)"
            ]
          },
          "metadata": {},
          "execution_count": 5
        }
      ]
    },
    {
      "cell_type": "markdown",
      "source": [
        "### case1. 데이터 정규화 or 표준화 X"
      ],
      "metadata": {
        "id": "9jVkpAl8EGTu"
      }
    },
    {
      "cell_type": "code",
      "source": [
        "from sklearn.model_selection import train_test_split\n",
        "\n",
        "X_train, X_test, y_train, y_test = train_test_split(\n",
        "    cancer.data, cancer.target, stratify = cancer.target,\n",
        "    test_size = 0.2, random_state = 2022\n",
        ")"
      ],
      "metadata": {
        "id": "D1iidhBAEEgR"
      },
      "execution_count": 7,
      "outputs": []
    },
    {
      "cell_type": "markdown",
      "source": [
        "#### 모델 정의"
      ],
      "metadata": {
        "id": "O2V_dSL6E_2K"
      }
    },
    {
      "cell_type": "code",
      "source": [
        "from tensorflow.keras.models import Sequential  # class\n",
        "from tensorflow.keras.layers import Dense       # Fully onnected Network"
      ],
      "metadata": {
        "id": "VIu0nM_nE87Z"
      },
      "execution_count": 8,
      "outputs": []
    },
    {
      "cell_type": "code",
      "source": [
        "model = Sequential([\n",
        "    Dense(100, input_shape = (30,), activation = 'relu'),   #입력층 함수는 relu\n",
        "    Dense(24, activation = 'relu'),             # 은닉층 함수 relu\n",
        "    Dense(1, activation = 'sigmoid')            # 출력층 함수는 시그모이드\n",
        "])\n",
        "model.summary()"
      ],
      "metadata": {
        "colab": {
          "base_uri": "https://localhost:8080/"
        },
        "id": "0tUMW5PuFZHY",
        "outputId": "4381acf5-a5f3-47b7-e013-5782a27ae2b0"
      },
      "execution_count": 10,
      "outputs": [
        {
          "output_type": "stream",
          "name": "stdout",
          "text": [
            "Model: \"sequential_1\"\n",
            "_________________________________________________________________\n",
            " Layer (type)                Output Shape              Param #   \n",
            "=================================================================\n",
            " dense_3 (Dense)             (None, 100)               3100      \n",
            "                                                                 \n",
            " dense_4 (Dense)             (None, 24)                2424      \n",
            "                                                                 \n",
            " dense_5 (Dense)             (None, 1)                 25        \n",
            "                                                                 \n",
            "=================================================================\n",
            "Total params: 5,549\n",
            "Trainable params: 5,549\n",
            "Non-trainable params: 0\n",
            "_________________________________________________________________\n"
          ]
        }
      ]
    },
    {
      "cell_type": "markdown",
      "source": [
        "#### 모델 설정(컴파일)"
      ],
      "metadata": {
        "id": "z5_NfPq7G62u"
      }
    },
    {
      "cell_type": "code",
      "source": [
        "model.compile(optimizer = 'adam', loss = 'binary_crossentropy', metrics=['accuracy'])"
      ],
      "metadata": {
        "id": "cnmbPnKsGWDJ"
      },
      "execution_count": 22,
      "outputs": []
    },
    {
      "cell_type": "markdown",
      "source": [
        "#### 모델 학습"
      ],
      "metadata": {
        "id": "XirwB45OHQCa"
      }
    },
    {
      "cell_type": "code",
      "source": [
        "history = model.fit(X_train, y_train, validation_split= 0.2, epochs = 100, batch_size = 100)"
      ],
      "metadata": {
        "colab": {
          "base_uri": "https://localhost:8080/"
        },
        "id": "gi5gJXVmHLvh",
        "outputId": "95cb4dfb-d811-4e24-af50-9e757d05f644"
      },
      "execution_count": 23,
      "outputs": [
        {
          "output_type": "stream",
          "name": "stdout",
          "text": [
            "Epoch 1/100\n",
            "4/4 [==============================] - 1s 58ms/step - loss: 13.2296 - accuracy: 0.4368 - val_loss: 8.0837 - val_accuracy: 0.6484\n",
            "Epoch 2/100\n",
            "4/4 [==============================] - 0s 11ms/step - loss: 5.2684 - accuracy: 0.6813 - val_loss: 1.2949 - val_accuracy: 0.5934\n",
            "Epoch 3/100\n",
            "4/4 [==============================] - 0s 12ms/step - loss: 3.2038 - accuracy: 0.4698 - val_loss: 2.6705 - val_accuracy: 0.4835\n",
            "Epoch 4/100\n",
            "4/4 [==============================] - 0s 11ms/step - loss: 1.1837 - accuracy: 0.7253 - val_loss: 1.0600 - val_accuracy: 0.8352\n",
            "Epoch 5/100\n",
            "4/4 [==============================] - 0s 11ms/step - loss: 1.6099 - accuracy: 0.8214 - val_loss: 0.6665 - val_accuracy: 0.8791\n",
            "Epoch 6/100\n",
            "4/4 [==============================] - 0s 11ms/step - loss: 0.5051 - accuracy: 0.9011 - val_loss: 0.8148 - val_accuracy: 0.8022\n",
            "Epoch 7/100\n",
            "4/4 [==============================] - 0s 11ms/step - loss: 0.9058 - accuracy: 0.7747 - val_loss: 0.4720 - val_accuracy: 0.8791\n",
            "Epoch 8/100\n",
            "4/4 [==============================] - 0s 12ms/step - loss: 0.2833 - accuracy: 0.9313 - val_loss: 0.5274 - val_accuracy: 0.9121\n",
            "Epoch 9/100\n",
            "4/4 [==============================] - 0s 10ms/step - loss: 0.6619 - accuracy: 0.8846 - val_loss: 0.3436 - val_accuracy: 0.9231\n",
            "Epoch 10/100\n",
            "4/4 [==============================] - 0s 10ms/step - loss: 0.2860 - accuracy: 0.9313 - val_loss: 0.3980 - val_accuracy: 0.9121\n",
            "Epoch 11/100\n",
            "4/4 [==============================] - 0s 10ms/step - loss: 0.3968 - accuracy: 0.8901 - val_loss: 0.3850 - val_accuracy: 0.9231\n",
            "Epoch 12/100\n",
            "4/4 [==============================] - 0s 10ms/step - loss: 0.3170 - accuracy: 0.9148 - val_loss: 0.3055 - val_accuracy: 0.9121\n",
            "Epoch 13/100\n",
            "4/4 [==============================] - 0s 10ms/step - loss: 0.3294 - accuracy: 0.9396 - val_loss: 0.2653 - val_accuracy: 0.9231\n",
            "Epoch 14/100\n",
            "4/4 [==============================] - 0s 10ms/step - loss: 0.2346 - accuracy: 0.9341 - val_loss: 0.3291 - val_accuracy: 0.9121\n",
            "Epoch 15/100\n",
            "4/4 [==============================] - 0s 10ms/step - loss: 0.2441 - accuracy: 0.9066 - val_loss: 0.3152 - val_accuracy: 0.9231\n",
            "Epoch 16/100\n",
            "4/4 [==============================] - 0s 10ms/step - loss: 0.2181 - accuracy: 0.9258 - val_loss: 0.2770 - val_accuracy: 0.9231\n",
            "Epoch 17/100\n",
            "4/4 [==============================] - 0s 10ms/step - loss: 0.2285 - accuracy: 0.9313 - val_loss: 0.2952 - val_accuracy: 0.9231\n",
            "Epoch 18/100\n",
            "4/4 [==============================] - 0s 10ms/step - loss: 0.2061 - accuracy: 0.9148 - val_loss: 0.3308 - val_accuracy: 0.9231\n",
            "Epoch 19/100\n",
            "4/4 [==============================] - 0s 11ms/step - loss: 0.2076 - accuracy: 0.9176 - val_loss: 0.3066 - val_accuracy: 0.9231\n",
            "Epoch 20/100\n",
            "4/4 [==============================] - 0s 13ms/step - loss: 0.2264 - accuracy: 0.9396 - val_loss: 0.2931 - val_accuracy: 0.9231\n",
            "Epoch 21/100\n",
            "4/4 [==============================] - 0s 10ms/step - loss: 0.2202 - accuracy: 0.9231 - val_loss: 0.3906 - val_accuracy: 0.9011\n",
            "Epoch 22/100\n",
            "4/4 [==============================] - 0s 10ms/step - loss: 0.2015 - accuracy: 0.9203 - val_loss: 0.2958 - val_accuracy: 0.9231\n",
            "Epoch 23/100\n",
            "4/4 [==============================] - 0s 13ms/step - loss: 0.2432 - accuracy: 0.9396 - val_loss: 0.2775 - val_accuracy: 0.9231\n",
            "Epoch 24/100\n",
            "4/4 [==============================] - 0s 10ms/step - loss: 0.2135 - accuracy: 0.9368 - val_loss: 0.3569 - val_accuracy: 0.9231\n",
            "Epoch 25/100\n",
            "4/4 [==============================] - 0s 20ms/step - loss: 0.1981 - accuracy: 0.9231 - val_loss: 0.2791 - val_accuracy: 0.9231\n",
            "Epoch 26/100\n",
            "4/4 [==============================] - 0s 10ms/step - loss: 0.1873 - accuracy: 0.9341 - val_loss: 0.2816 - val_accuracy: 0.9231\n",
            "Epoch 27/100\n",
            "4/4 [==============================] - 0s 11ms/step - loss: 0.1806 - accuracy: 0.9368 - val_loss: 0.2908 - val_accuracy: 0.9231\n",
            "Epoch 28/100\n",
            "4/4 [==============================] - 0s 10ms/step - loss: 0.1728 - accuracy: 0.9341 - val_loss: 0.3132 - val_accuracy: 0.9231\n",
            "Epoch 29/100\n",
            "4/4 [==============================] - 0s 9ms/step - loss: 0.1812 - accuracy: 0.9341 - val_loss: 0.2894 - val_accuracy: 0.9231\n",
            "Epoch 30/100\n",
            "4/4 [==============================] - 0s 11ms/step - loss: 0.1739 - accuracy: 0.9341 - val_loss: 0.2969 - val_accuracy: 0.9341\n",
            "Epoch 31/100\n",
            "4/4 [==============================] - 0s 10ms/step - loss: 0.1690 - accuracy: 0.9396 - val_loss: 0.2720 - val_accuracy: 0.9231\n",
            "Epoch 32/100\n",
            "4/4 [==============================] - 0s 10ms/step - loss: 0.1686 - accuracy: 0.9396 - val_loss: 0.2862 - val_accuracy: 0.9121\n",
            "Epoch 33/100\n",
            "4/4 [==============================] - 0s 11ms/step - loss: 0.1691 - accuracy: 0.9313 - val_loss: 0.2863 - val_accuracy: 0.9121\n",
            "Epoch 34/100\n",
            "4/4 [==============================] - 0s 13ms/step - loss: 0.1733 - accuracy: 0.9313 - val_loss: 0.2718 - val_accuracy: 0.9231\n",
            "Epoch 35/100\n",
            "4/4 [==============================] - 0s 10ms/step - loss: 0.1679 - accuracy: 0.9368 - val_loss: 0.2720 - val_accuracy: 0.9231\n",
            "Epoch 36/100\n",
            "4/4 [==============================] - 0s 11ms/step - loss: 0.1619 - accuracy: 0.9423 - val_loss: 0.2705 - val_accuracy: 0.9121\n",
            "Epoch 37/100\n",
            "4/4 [==============================] - 0s 10ms/step - loss: 0.1624 - accuracy: 0.9341 - val_loss: 0.2783 - val_accuracy: 0.9121\n",
            "Epoch 38/100\n",
            "4/4 [==============================] - 0s 10ms/step - loss: 0.1691 - accuracy: 0.9396 - val_loss: 0.2737 - val_accuracy: 0.9121\n",
            "Epoch 39/100\n",
            "4/4 [==============================] - 0s 11ms/step - loss: 0.1600 - accuracy: 0.9423 - val_loss: 0.2885 - val_accuracy: 0.9231\n",
            "Epoch 40/100\n",
            "4/4 [==============================] - 0s 14ms/step - loss: 0.1589 - accuracy: 0.9341 - val_loss: 0.2579 - val_accuracy: 0.9121\n",
            "Epoch 41/100\n",
            "4/4 [==============================] - 0s 11ms/step - loss: 0.1573 - accuracy: 0.9423 - val_loss: 0.2840 - val_accuracy: 0.9231\n",
            "Epoch 42/100\n",
            "4/4 [==============================] - 0s 12ms/step - loss: 0.1799 - accuracy: 0.9258 - val_loss: 0.2600 - val_accuracy: 0.9121\n",
            "Epoch 43/100\n",
            "4/4 [==============================] - 0s 12ms/step - loss: 0.2221 - accuracy: 0.9313 - val_loss: 0.2387 - val_accuracy: 0.9121\n",
            "Epoch 44/100\n",
            "4/4 [==============================] - 0s 11ms/step - loss: 0.1981 - accuracy: 0.9423 - val_loss: 0.4475 - val_accuracy: 0.8791\n",
            "Epoch 45/100\n",
            "4/4 [==============================] - 0s 11ms/step - loss: 0.2091 - accuracy: 0.9341 - val_loss: 0.2507 - val_accuracy: 0.9231\n",
            "Epoch 46/100\n",
            "4/4 [==============================] - 0s 11ms/step - loss: 0.1857 - accuracy: 0.9451 - val_loss: 0.2977 - val_accuracy: 0.9231\n",
            "Epoch 47/100\n",
            "4/4 [==============================] - 0s 13ms/step - loss: 0.1938 - accuracy: 0.9148 - val_loss: 0.2452 - val_accuracy: 0.9121\n",
            "Epoch 48/100\n",
            "4/4 [==============================] - 0s 10ms/step - loss: 0.1630 - accuracy: 0.9451 - val_loss: 0.2389 - val_accuracy: 0.9121\n",
            "Epoch 49/100\n",
            "4/4 [==============================] - 0s 12ms/step - loss: 0.1534 - accuracy: 0.9451 - val_loss: 0.3011 - val_accuracy: 0.9231\n",
            "Epoch 50/100\n",
            "4/4 [==============================] - 0s 11ms/step - loss: 0.1503 - accuracy: 0.9396 - val_loss: 0.2446 - val_accuracy: 0.9011\n",
            "Epoch 51/100\n",
            "4/4 [==============================] - 0s 11ms/step - loss: 0.1644 - accuracy: 0.9396 - val_loss: 0.2567 - val_accuracy: 0.9121\n",
            "Epoch 52/100\n",
            "4/4 [==============================] - 0s 12ms/step - loss: 0.1465 - accuracy: 0.9423 - val_loss: 0.2735 - val_accuracy: 0.9231\n",
            "Epoch 53/100\n",
            "4/4 [==============================] - 0s 10ms/step - loss: 0.1537 - accuracy: 0.9423 - val_loss: 0.2419 - val_accuracy: 0.9121\n",
            "Epoch 54/100\n",
            "4/4 [==============================] - 0s 12ms/step - loss: 0.1506 - accuracy: 0.9423 - val_loss: 0.2567 - val_accuracy: 0.9121\n",
            "Epoch 55/100\n",
            "4/4 [==============================] - 0s 12ms/step - loss: 0.1533 - accuracy: 0.9478 - val_loss: 0.2587 - val_accuracy: 0.9231\n",
            "Epoch 56/100\n",
            "4/4 [==============================] - 0s 12ms/step - loss: 0.1555 - accuracy: 0.9313 - val_loss: 0.2553 - val_accuracy: 0.9121\n",
            "Epoch 57/100\n",
            "4/4 [==============================] - 0s 11ms/step - loss: 0.1519 - accuracy: 0.9451 - val_loss: 0.2227 - val_accuracy: 0.9011\n",
            "Epoch 58/100\n",
            "4/4 [==============================] - 0s 12ms/step - loss: 0.1895 - accuracy: 0.9341 - val_loss: 0.2657 - val_accuracy: 0.9231\n",
            "Epoch 59/100\n",
            "4/4 [==============================] - 0s 11ms/step - loss: 0.1638 - accuracy: 0.9478 - val_loss: 0.2225 - val_accuracy: 0.9011\n",
            "Epoch 60/100\n",
            "4/4 [==============================] - 0s 10ms/step - loss: 0.1393 - accuracy: 0.9478 - val_loss: 0.3170 - val_accuracy: 0.8901\n",
            "Epoch 61/100\n",
            "4/4 [==============================] - 0s 11ms/step - loss: 0.1636 - accuracy: 0.9368 - val_loss: 0.2354 - val_accuracy: 0.9011\n",
            "Epoch 62/100\n",
            "4/4 [==============================] - 0s 11ms/step - loss: 0.1952 - accuracy: 0.9478 - val_loss: 0.2363 - val_accuracy: 0.9011\n",
            "Epoch 63/100\n",
            "4/4 [==============================] - 0s 11ms/step - loss: 0.1945 - accuracy: 0.9148 - val_loss: 0.2542 - val_accuracy: 0.9231\n",
            "Epoch 64/100\n",
            "4/4 [==============================] - 0s 11ms/step - loss: 0.2354 - accuracy: 0.9368 - val_loss: 0.2124 - val_accuracy: 0.9011\n",
            "Epoch 65/100\n",
            "4/4 [==============================] - 0s 11ms/step - loss: 0.2098 - accuracy: 0.9203 - val_loss: 0.2621 - val_accuracy: 0.9121\n",
            "Epoch 66/100\n",
            "4/4 [==============================] - 0s 11ms/step - loss: 0.1787 - accuracy: 0.9478 - val_loss: 0.2076 - val_accuracy: 0.9011\n",
            "Epoch 67/100\n",
            "4/4 [==============================] - 0s 13ms/step - loss: 0.1682 - accuracy: 0.9423 - val_loss: 0.3137 - val_accuracy: 0.9121\n",
            "Epoch 68/100\n",
            "4/4 [==============================] - 0s 11ms/step - loss: 0.1999 - accuracy: 0.9286 - val_loss: 0.2031 - val_accuracy: 0.9011\n",
            "Epoch 69/100\n",
            "4/4 [==============================] - 0s 12ms/step - loss: 0.1443 - accuracy: 0.9423 - val_loss: 0.3410 - val_accuracy: 0.8901\n",
            "Epoch 70/100\n",
            "4/4 [==============================] - 0s 11ms/step - loss: 0.1537 - accuracy: 0.9396 - val_loss: 0.2208 - val_accuracy: 0.9231\n",
            "Epoch 71/100\n",
            "4/4 [==============================] - 0s 11ms/step - loss: 0.1789 - accuracy: 0.9423 - val_loss: 0.2726 - val_accuracy: 0.9231\n",
            "Epoch 72/100\n",
            "4/4 [==============================] - 0s 11ms/step - loss: 0.1594 - accuracy: 0.9423 - val_loss: 0.2436 - val_accuracy: 0.9011\n",
            "Epoch 73/100\n",
            "4/4 [==============================] - 0s 10ms/step - loss: 0.1299 - accuracy: 0.9423 - val_loss: 0.3400 - val_accuracy: 0.8901\n",
            "Epoch 74/100\n",
            "4/4 [==============================] - 0s 11ms/step - loss: 0.1597 - accuracy: 0.9341 - val_loss: 0.2169 - val_accuracy: 0.9121\n",
            "Epoch 75/100\n",
            "4/4 [==============================] - 0s 11ms/step - loss: 0.1429 - accuracy: 0.9478 - val_loss: 0.3239 - val_accuracy: 0.9011\n",
            "Epoch 76/100\n",
            "4/4 [==============================] - 0s 11ms/step - loss: 0.1522 - accuracy: 0.9423 - val_loss: 0.2207 - val_accuracy: 0.9011\n",
            "Epoch 77/100\n",
            "4/4 [==============================] - 0s 11ms/step - loss: 0.1459 - accuracy: 0.9505 - val_loss: 0.2888 - val_accuracy: 0.9011\n",
            "Epoch 78/100\n",
            "4/4 [==============================] - 0s 11ms/step - loss: 0.1587 - accuracy: 0.9396 - val_loss: 0.2450 - val_accuracy: 0.9121\n",
            "Epoch 79/100\n",
            "4/4 [==============================] - 0s 11ms/step - loss: 0.1467 - accuracy: 0.9451 - val_loss: 0.2517 - val_accuracy: 0.9231\n",
            "Epoch 80/100\n",
            "4/4 [==============================] - 0s 11ms/step - loss: 0.1375 - accuracy: 0.9478 - val_loss: 0.2099 - val_accuracy: 0.9011\n",
            "Epoch 81/100\n",
            "4/4 [==============================] - 0s 10ms/step - loss: 0.1381 - accuracy: 0.9560 - val_loss: 0.2994 - val_accuracy: 0.9121\n",
            "Epoch 82/100\n",
            "4/4 [==============================] - 0s 11ms/step - loss: 0.1424 - accuracy: 0.9396 - val_loss: 0.2253 - val_accuracy: 0.9011\n",
            "Epoch 83/100\n",
            "4/4 [==============================] - 0s 11ms/step - loss: 0.1518 - accuracy: 0.9451 - val_loss: 0.3191 - val_accuracy: 0.8901\n",
            "Epoch 84/100\n",
            "4/4 [==============================] - 0s 11ms/step - loss: 0.1707 - accuracy: 0.9313 - val_loss: 0.2305 - val_accuracy: 0.9231\n",
            "Epoch 85/100\n",
            "4/4 [==============================] - 0s 12ms/step - loss: 0.1812 - accuracy: 0.9423 - val_loss: 0.3003 - val_accuracy: 0.9011\n",
            "Epoch 86/100\n",
            "4/4 [==============================] - 0s 12ms/step - loss: 0.1443 - accuracy: 0.9396 - val_loss: 0.2075 - val_accuracy: 0.9011\n",
            "Epoch 87/100\n",
            "4/4 [==============================] - 0s 12ms/step - loss: 0.1788 - accuracy: 0.9478 - val_loss: 0.2758 - val_accuracy: 0.9121\n",
            "Epoch 88/100\n",
            "4/4 [==============================] - 0s 13ms/step - loss: 0.1931 - accuracy: 0.9286 - val_loss: 0.2123 - val_accuracy: 0.9011\n",
            "Epoch 89/100\n",
            "4/4 [==============================] - 0s 13ms/step - loss: 0.2122 - accuracy: 0.9423 - val_loss: 0.2691 - val_accuracy: 0.9121\n",
            "Epoch 90/100\n",
            "4/4 [==============================] - 0s 12ms/step - loss: 0.1850 - accuracy: 0.9313 - val_loss: 0.2196 - val_accuracy: 0.9011\n",
            "Epoch 91/100\n",
            "4/4 [==============================] - 0s 11ms/step - loss: 0.1754 - accuracy: 0.9396 - val_loss: 0.2494 - val_accuracy: 0.9231\n",
            "Epoch 92/100\n",
            "4/4 [==============================] - 0s 14ms/step - loss: 0.1930 - accuracy: 0.9286 - val_loss: 0.2249 - val_accuracy: 0.9341\n",
            "Epoch 93/100\n",
            "4/4 [==============================] - 0s 13ms/step - loss: 0.2000 - accuracy: 0.9341 - val_loss: 0.2684 - val_accuracy: 0.9121\n",
            "Epoch 94/100\n",
            "4/4 [==============================] - 0s 16ms/step - loss: 0.1711 - accuracy: 0.9286 - val_loss: 0.2077 - val_accuracy: 0.9121\n",
            "Epoch 95/100\n",
            "4/4 [==============================] - 0s 12ms/step - loss: 0.1621 - accuracy: 0.9505 - val_loss: 0.2806 - val_accuracy: 0.9231\n",
            "Epoch 96/100\n",
            "4/4 [==============================] - 0s 12ms/step - loss: 0.1924 - accuracy: 0.9231 - val_loss: 0.2187 - val_accuracy: 0.9231\n",
            "Epoch 97/100\n",
            "4/4 [==============================] - 0s 12ms/step - loss: 0.1793 - accuracy: 0.9451 - val_loss: 0.3529 - val_accuracy: 0.8901\n",
            "Epoch 98/100\n",
            "4/4 [==============================] - 0s 11ms/step - loss: 0.1714 - accuracy: 0.9258 - val_loss: 0.2327 - val_accuracy: 0.9231\n",
            "Epoch 99/100\n",
            "4/4 [==============================] - 0s 11ms/step - loss: 0.1878 - accuracy: 0.9423 - val_loss: 0.3188 - val_accuracy: 0.9121\n",
            "Epoch 100/100\n",
            "4/4 [==============================] - 0s 11ms/step - loss: 0.1867 - accuracy: 0.9258 - val_loss: 0.2044 - val_accuracy: 0.9011\n"
          ]
        }
      ]
    },
    {
      "cell_type": "markdown",
      "source": [
        "#### 모델 평가"
      ],
      "metadata": {
        "id": "51rg6uqQICcl"
      }
    },
    {
      "cell_type": "code",
      "source": [
        "model.evaluate(X_test, y_test)"
      ],
      "metadata": {
        "colab": {
          "base_uri": "https://localhost:8080/"
        },
        "id": "g4ULgfsKHk0f",
        "outputId": "34dced78-f652-4d45-e671-8cdb6aa56fbb"
      },
      "execution_count": 24,
      "outputs": [
        {
          "output_type": "stream",
          "name": "stdout",
          "text": [
            "4/4 [==============================] - 0s 3ms/step - loss: 0.2761 - accuracy: 0.9035\n"
          ]
        },
        {
          "output_type": "execute_result",
          "data": {
            "text/plain": [
              "[0.276083379983902, 0.9035087823867798]"
            ]
          },
          "metadata": {},
          "execution_count": 24
        }
      ]
    },
    {
      "cell_type": "markdown",
      "source": [
        "#### 훈련과정 시각화 \n",
        "- epoch에 따른 accuracy, val_loss변화"
      ],
      "metadata": {
        "id": "K6-llFFYIj5d"
      }
    },
    {
      "cell_type": "code",
      "source": [
        "y_acc = history.history['accuracy']\n",
        "y_vloss = history.history['val_loss']\n",
        "xs = np.arange(1, len(y_acc)+1)"
      ],
      "metadata": {
        "id": "TBqjLMw2IHLP"
      },
      "execution_count": 26,
      "outputs": []
    },
    {
      "cell_type": "code",
      "source": [
        "plt.figure(figsize = (12, 8))\n",
        "plt.plot(xs, y_acc, label = 'train_acc', lw = 2)\n",
        "plt.plot(xs, y_vloss, label = 'val_loss', lw = 2)\n",
        "plt.legend(); plt.grid()\n",
        "plt.ylim([0,1])\n",
        "plt.xlabel('Epoch')\n",
        "plt.title('No feature transform', fontsize = 16)\n",
        "plt.show()"
      ],
      "metadata": {
        "colab": {
          "base_uri": "https://localhost:8080/",
          "height": 515
        },
        "id": "W9sQEvW8JDHQ",
        "outputId": "4ce36287-4522-4e56-9d4b-be8199e52d56"
      },
      "execution_count": 28,
      "outputs": [
        {
          "output_type": "display_data",
          "data": {
            "text/plain": [
              "<Figure size 864x576 with 1 Axes>"
            ],
            "image/png": "[encoded data removed]"
          },
          "metadata": {
            "needs_background": "light"
          }
        }
      ]
    },
    {
      "cell_type": "markdown",
      "source": [
        "### case2. 데이터 정규화, 표준화 함"
      ],
      "metadata": {
        "id": "8sxj59OcKmdo"
      }
    },
    {
      "cell_type": "code",
      "source": [
        "from sklearn.preprocessing import StandardScaler\n",
        "cancer_std = StandardScaler().fit_transform(cancer.data)"
      ],
      "metadata": {
        "id": "uS-6UbrIKvRe"
      },
      "execution_count": 29,
      "outputs": []
    },
    {
      "cell_type": "code",
      "source": [
        "from sklearn.model_selection import train_test_split\n",
        "\n",
        "X_train2, X_test2, y_train2, y_test2 = train_test_split(\n",
        "    cancer_std, cancer.target, stratify = cancer.target,\n",
        "    test_size = 0.2, random_state = 2022\n",
        ")"
      ],
      "metadata": {
        "id": "O6RpaJv3KvRa"
      },
      "execution_count": 31,
      "outputs": []
    },
    {
      "cell_type": "markdown",
      "source": [
        "#### 모델 정의"
      ],
      "metadata": {
        "id": "7U8IXp-2KvRd"
      }
    },
    {
      "cell_type": "code",
      "source": [
        "model2 = Sequential([\n",
        "    Dense(100, input_shape = (30,), activation = 'relu'),   #입력층 함수는 relu\n",
        "    Dense(24, activation = 'relu'),             # 은닉층 함수 relu\n",
        "])\n",
        "model2.add(Dense(1, activation = 'sigmoid'))            # 출력층 함수는 시그모이드)\n",
        "model2.summary()"
      ],
      "metadata": {
        "colab": {
          "base_uri": "https://localhost:8080/"
        },
        "outputId": "579f53ff-246d-43b8-a745-08e23ebd8b42",
        "id": "BhIO4R_NKvRe"
      },
      "execution_count": 34,
      "outputs": [
        {
          "output_type": "stream",
          "name": "stdout",
          "text": [
            "Model: \"sequential_4\"\n",
            "_________________________________________________________________\n",
            " Layer (type)                Output Shape              Param #   \n",
            "=================================================================\n",
            " dense_12 (Dense)            (None, 100)               3100      \n",
            "                                                                 \n",
            " dense_13 (Dense)            (None, 24)                2424      \n",
            "                                                                 \n",
            " dense_14 (Dense)            (None, 1)                 25        \n",
            "                                                                 \n",
            "=================================================================\n",
            "Total params: 5,549\n",
            "Trainable params: 5,549\n",
            "Non-trainable params: 0\n",
            "_________________________________________________________________\n"
          ]
        }
      ]
    },
    {
      "cell_type": "markdown",
      "source": [
        "#### 모델 설정(컴파일)"
      ],
      "metadata": {
        "id": "zIDUGlWNKvRe"
      }
    },
    {
      "cell_type": "code",
      "source": [
        "model2.compile(optimizer = 'adam', loss = 'binary_crossentropy', metrics=['accuracy'])"
      ],
      "metadata": {
        "id": "KPdIPwlrKvRf"
      },
      "execution_count": 35,
      "outputs": []
    },
    {
      "cell_type": "markdown",
      "source": [
        "#### 모델 학습"
      ],
      "metadata": {
        "id": "XwWSV3gwKvRf"
      }
    },
    {
      "cell_type": "code",
      "source": [
        "# validation_split      : 검증 데이터셋 비율\n",
        "history = model2.fit(X_train2, y_train2, validation_split= 0.2, epochs = 100, batch_size = 100)"
      ],
      "metadata": {
        "colab": {
          "base_uri": "https://localhost:8080/"
        },
        "outputId": "b020577b-f24c-4e2d-9401-a35df370a330",
        "id": "y9miQy2aKvRf"
      },
      "execution_count": 36,
      "outputs": [
        {
          "output_type": "stream",
          "name": "stdout",
          "text": [
            "Epoch 1/100\n",
            "4/4 [==============================] - 1s 95ms/step - loss: 0.5691 - accuracy: 0.7885 - val_loss: 0.4434 - val_accuracy: 0.8791\n",
            "Epoch 2/100\n",
            "4/4 [==============================] - 0s 17ms/step - loss: 0.4069 - accuracy: 0.9121 - val_loss: 0.3477 - val_accuracy: 0.9121\n",
            "Epoch 3/100\n",
            "4/4 [==============================] - 0s 16ms/step - loss: 0.3198 - accuracy: 0.9203 - val_loss: 0.2885 - val_accuracy: 0.9121\n",
            "Epoch 4/100\n",
            "4/4 [==============================] - 0s 15ms/step - loss: 0.2606 - accuracy: 0.9286 - val_loss: 0.2486 - val_accuracy: 0.9121\n",
            "Epoch 5/100\n",
            "4/4 [==============================] - 0s 22ms/step - loss: 0.2208 - accuracy: 0.9341 - val_loss: 0.2193 - val_accuracy: 0.9121\n",
            "Epoch 6/100\n",
            "4/4 [==============================] - 0s 17ms/step - loss: 0.1917 - accuracy: 0.9341 - val_loss: 0.1977 - val_accuracy: 0.9121\n",
            "Epoch 7/100\n",
            "4/4 [==============================] - 0s 21ms/step - loss: 0.1682 - accuracy: 0.9396 - val_loss: 0.1816 - val_accuracy: 0.9231\n",
            "Epoch 8/100\n",
            "4/4 [==============================] - 0s 18ms/step - loss: 0.1502 - accuracy: 0.9505 - val_loss: 0.1689 - val_accuracy: 0.9341\n",
            "Epoch 9/100\n",
            "4/4 [==============================] - 0s 15ms/step - loss: 0.1349 - accuracy: 0.9588 - val_loss: 0.1592 - val_accuracy: 0.9451\n",
            "Epoch 10/100\n",
            "4/4 [==============================] - 0s 17ms/step - loss: 0.1225 - accuracy: 0.9615 - val_loss: 0.1516 - val_accuracy: 0.9560\n",
            "Epoch 11/100\n",
            "4/4 [==============================] - 0s 17ms/step - loss: 0.1122 - accuracy: 0.9588 - val_loss: 0.1456 - val_accuracy: 0.9451\n",
            "Epoch 12/100\n",
            "4/4 [==============================] - 0s 17ms/step - loss: 0.1030 - accuracy: 0.9643 - val_loss: 0.1412 - val_accuracy: 0.9451\n",
            "Epoch 13/100\n",
            "4/4 [==============================] - 0s 21ms/step - loss: 0.0961 - accuracy: 0.9670 - val_loss: 0.1381 - val_accuracy: 0.9451\n",
            "Epoch 14/100\n",
            "4/4 [==============================] - 0s 18ms/step - loss: 0.0902 - accuracy: 0.9753 - val_loss: 0.1358 - val_accuracy: 0.9451\n",
            "Epoch 15/100\n",
            "4/4 [==============================] - 0s 11ms/step - loss: 0.0851 - accuracy: 0.9808 - val_loss: 0.1336 - val_accuracy: 0.9451\n",
            "Epoch 16/100\n",
            "4/4 [==============================] - 0s 10ms/step - loss: 0.0807 - accuracy: 0.9808 - val_loss: 0.1316 - val_accuracy: 0.9451\n",
            "Epoch 17/100\n",
            "4/4 [==============================] - 0s 11ms/step - loss: 0.0771 - accuracy: 0.9808 - val_loss: 0.1302 - val_accuracy: 0.9560\n",
            "Epoch 18/100\n",
            "4/4 [==============================] - 0s 11ms/step - loss: 0.0736 - accuracy: 0.9835 - val_loss: 0.1290 - val_accuracy: 0.9560\n",
            "Epoch 19/100\n",
            "4/4 [==============================] - 0s 11ms/step - loss: 0.0704 - accuracy: 0.9835 - val_loss: 0.1282 - val_accuracy: 0.9560\n",
            "Epoch 20/100\n",
            "4/4 [==============================] - 0s 11ms/step - loss: 0.0679 - accuracy: 0.9835 - val_loss: 0.1276 - val_accuracy: 0.9560\n",
            "Epoch 21/100\n",
            "4/4 [==============================] - 0s 15ms/step - loss: 0.0652 - accuracy: 0.9835 - val_loss: 0.1269 - val_accuracy: 0.9560\n",
            "Epoch 22/100\n",
            "4/4 [==============================] - 0s 13ms/step - loss: 0.0628 - accuracy: 0.9835 - val_loss: 0.1263 - val_accuracy: 0.9560\n",
            "Epoch 23/100\n",
            "4/4 [==============================] - 0s 11ms/step - loss: 0.0608 - accuracy: 0.9835 - val_loss: 0.1258 - val_accuracy: 0.9560\n",
            "Epoch 24/100\n",
            "4/4 [==============================] - 0s 12ms/step - loss: 0.0585 - accuracy: 0.9835 - val_loss: 0.1253 - val_accuracy: 0.9560\n",
            "Epoch 25/100\n",
            "4/4 [==============================] - 0s 10ms/step - loss: 0.0563 - accuracy: 0.9863 - val_loss: 0.1249 - val_accuracy: 0.9560\n",
            "Epoch 26/100\n",
            "4/4 [==============================] - 0s 11ms/step - loss: 0.0546 - accuracy: 0.9863 - val_loss: 0.1249 - val_accuracy: 0.9560\n",
            "Epoch 27/100\n",
            "4/4 [==============================] - 0s 10ms/step - loss: 0.0530 - accuracy: 0.9863 - val_loss: 0.1247 - val_accuracy: 0.9560\n",
            "Epoch 28/100\n",
            "4/4 [==============================] - 0s 11ms/step - loss: 0.0511 - accuracy: 0.9863 - val_loss: 0.1243 - val_accuracy: 0.9560\n",
            "Epoch 29/100\n",
            "4/4 [==============================] - 0s 11ms/step - loss: 0.0494 - accuracy: 0.9863 - val_loss: 0.1244 - val_accuracy: 0.9560\n",
            "Epoch 30/100\n",
            "4/4 [==============================] - 0s 11ms/step - loss: 0.0478 - accuracy: 0.9863 - val_loss: 0.1247 - val_accuracy: 0.9560\n",
            "Epoch 31/100\n",
            "4/4 [==============================] - 0s 11ms/step - loss: 0.0463 - accuracy: 0.9863 - val_loss: 0.1254 - val_accuracy: 0.9560\n",
            "Epoch 32/100\n",
            "4/4 [==============================] - 0s 11ms/step - loss: 0.0450 - accuracy: 0.9863 - val_loss: 0.1255 - val_accuracy: 0.9560\n",
            "Epoch 33/100\n",
            "4/4 [==============================] - 0s 14ms/step - loss: 0.0435 - accuracy: 0.9863 - val_loss: 0.1245 - val_accuracy: 0.9560\n",
            "Epoch 34/100\n",
            "4/4 [==============================] - 0s 10ms/step - loss: 0.0421 - accuracy: 0.9863 - val_loss: 0.1248 - val_accuracy: 0.9560\n",
            "Epoch 35/100\n",
            "4/4 [==============================] - 0s 11ms/step - loss: 0.0407 - accuracy: 0.9863 - val_loss: 0.1244 - val_accuracy: 0.9560\n",
            "Epoch 36/100\n",
            "4/4 [==============================] - 0s 11ms/step - loss: 0.0397 - accuracy: 0.9863 - val_loss: 0.1252 - val_accuracy: 0.9560\n",
            "Epoch 37/100\n",
            "4/4 [==============================] - 0s 12ms/step - loss: 0.0382 - accuracy: 0.9863 - val_loss: 0.1252 - val_accuracy: 0.9560\n",
            "Epoch 38/100\n",
            "4/4 [==============================] - 0s 10ms/step - loss: 0.0370 - accuracy: 0.9863 - val_loss: 0.1257 - val_accuracy: 0.9560\n",
            "Epoch 39/100\n",
            "4/4 [==============================] - 0s 11ms/step - loss: 0.0356 - accuracy: 0.9863 - val_loss: 0.1252 - val_accuracy: 0.9560\n",
            "Epoch 40/100\n",
            "4/4 [==============================] - 0s 10ms/step - loss: 0.0345 - accuracy: 0.9863 - val_loss: 0.1250 - val_accuracy: 0.9560\n",
            "Epoch 41/100\n",
            "4/4 [==============================] - 0s 11ms/step - loss: 0.0333 - accuracy: 0.9890 - val_loss: 0.1253 - val_accuracy: 0.9560\n",
            "Epoch 42/100\n",
            "4/4 [==============================] - 0s 12ms/step - loss: 0.0322 - accuracy: 0.9890 - val_loss: 0.1249 - val_accuracy: 0.9560\n",
            "Epoch 43/100\n",
            "4/4 [==============================] - 0s 13ms/step - loss: 0.0312 - accuracy: 0.9890 - val_loss: 0.1261 - val_accuracy: 0.9560\n",
            "Epoch 44/100\n",
            "4/4 [==============================] - 0s 11ms/step - loss: 0.0301 - accuracy: 0.9918 - val_loss: 0.1261 - val_accuracy: 0.9560\n",
            "Epoch 45/100\n",
            "4/4 [==============================] - 0s 11ms/step - loss: 0.0291 - accuracy: 0.9918 - val_loss: 0.1257 - val_accuracy: 0.9560\n",
            "Epoch 46/100\n",
            "4/4 [==============================] - 0s 12ms/step - loss: 0.0279 - accuracy: 0.9918 - val_loss: 0.1255 - val_accuracy: 0.9670\n",
            "Epoch 47/100\n",
            "4/4 [==============================] - 0s 17ms/step - loss: 0.0268 - accuracy: 0.9918 - val_loss: 0.1254 - val_accuracy: 0.9670\n",
            "Epoch 48/100\n",
            "4/4 [==============================] - 0s 13ms/step - loss: 0.0261 - accuracy: 0.9918 - val_loss: 0.1253 - val_accuracy: 0.9670\n",
            "Epoch 49/100\n",
            "4/4 [==============================] - 0s 19ms/step - loss: 0.0252 - accuracy: 0.9918 - val_loss: 0.1256 - val_accuracy: 0.9670\n",
            "Epoch 50/100\n",
            "4/4 [==============================] - 0s 11ms/step - loss: 0.0241 - accuracy: 0.9945 - val_loss: 0.1251 - val_accuracy: 0.9670\n",
            "Epoch 51/100\n",
            "4/4 [==============================] - 0s 11ms/step - loss: 0.0232 - accuracy: 0.9945 - val_loss: 0.1249 - val_accuracy: 0.9670\n",
            "Epoch 52/100\n",
            "4/4 [==============================] - 0s 11ms/step - loss: 0.0224 - accuracy: 0.9945 - val_loss: 0.1244 - val_accuracy: 0.9670\n",
            "Epoch 53/100\n",
            "4/4 [==============================] - 0s 10ms/step - loss: 0.0216 - accuracy: 0.9945 - val_loss: 0.1252 - val_accuracy: 0.9670\n",
            "Epoch 54/100\n",
            "4/4 [==============================] - 0s 11ms/step - loss: 0.0208 - accuracy: 0.9945 - val_loss: 0.1257 - val_accuracy: 0.9670\n",
            "Epoch 55/100\n",
            "4/4 [==============================] - 0s 11ms/step - loss: 0.0201 - accuracy: 0.9945 - val_loss: 0.1264 - val_accuracy: 0.9670\n",
            "Epoch 56/100\n",
            "4/4 [==============================] - 0s 11ms/step - loss: 0.0193 - accuracy: 0.9945 - val_loss: 0.1269 - val_accuracy: 0.9670\n",
            "Epoch 57/100\n",
            "4/4 [==============================] - 0s 11ms/step - loss: 0.0187 - accuracy: 0.9945 - val_loss: 0.1280 - val_accuracy: 0.9670\n",
            "Epoch 58/100\n",
            "4/4 [==============================] - 0s 12ms/step - loss: 0.0181 - accuracy: 0.9945 - val_loss: 0.1281 - val_accuracy: 0.9670\n",
            "Epoch 59/100\n",
            "4/4 [==============================] - 0s 10ms/step - loss: 0.0173 - accuracy: 0.9945 - val_loss: 0.1298 - val_accuracy: 0.9670\n",
            "Epoch 60/100\n",
            "4/4 [==============================] - 0s 11ms/step - loss: 0.0167 - accuracy: 1.0000 - val_loss: 0.1310 - val_accuracy: 0.9670\n",
            "Epoch 61/100\n",
            "4/4 [==============================] - 0s 14ms/step - loss: 0.0160 - accuracy: 1.0000 - val_loss: 0.1312 - val_accuracy: 0.9670\n",
            "Epoch 62/100\n",
            "4/4 [==============================] - 0s 11ms/step - loss: 0.0155 - accuracy: 1.0000 - val_loss: 0.1311 - val_accuracy: 0.9670\n",
            "Epoch 63/100\n",
            "4/4 [==============================] - 0s 11ms/step - loss: 0.0149 - accuracy: 1.0000 - val_loss: 0.1319 - val_accuracy: 0.9670\n",
            "Epoch 64/100\n",
            "4/4 [==============================] - 0s 12ms/step - loss: 0.0144 - accuracy: 1.0000 - val_loss: 0.1328 - val_accuracy: 0.9670\n",
            "Epoch 65/100\n",
            "4/4 [==============================] - 0s 11ms/step - loss: 0.0140 - accuracy: 1.0000 - val_loss: 0.1324 - val_accuracy: 0.9670\n",
            "Epoch 66/100\n",
            "4/4 [==============================] - 0s 10ms/step - loss: 0.0134 - accuracy: 1.0000 - val_loss: 0.1331 - val_accuracy: 0.9670\n",
            "Epoch 67/100\n",
            "4/4 [==============================] - 0s 17ms/step - loss: 0.0129 - accuracy: 1.0000 - val_loss: 0.1348 - val_accuracy: 0.9670\n",
            "Epoch 68/100\n",
            "4/4 [==============================] - 0s 11ms/step - loss: 0.0125 - accuracy: 1.0000 - val_loss: 0.1363 - val_accuracy: 0.9670\n",
            "Epoch 69/100\n",
            "4/4 [==============================] - 0s 11ms/step - loss: 0.0120 - accuracy: 1.0000 - val_loss: 0.1371 - val_accuracy: 0.9670\n",
            "Epoch 70/100\n",
            "4/4 [==============================] - 0s 11ms/step - loss: 0.0116 - accuracy: 1.0000 - val_loss: 0.1375 - val_accuracy: 0.9670\n",
            "Epoch 71/100\n",
            "4/4 [==============================] - 0s 11ms/step - loss: 0.0112 - accuracy: 1.0000 - val_loss: 0.1374 - val_accuracy: 0.9670\n",
            "Epoch 72/100\n",
            "4/4 [==============================] - 0s 12ms/step - loss: 0.0108 - accuracy: 1.0000 - val_loss: 0.1379 - val_accuracy: 0.9670\n",
            "Epoch 73/100\n",
            "4/4 [==============================] - 0s 10ms/step - loss: 0.0105 - accuracy: 1.0000 - val_loss: 0.1377 - val_accuracy: 0.9670\n",
            "Epoch 74/100\n",
            "4/4 [==============================] - 0s 12ms/step - loss: 0.0102 - accuracy: 1.0000 - val_loss: 0.1384 - val_accuracy: 0.9670\n",
            "Epoch 75/100\n",
            "4/4 [==============================] - 0s 12ms/step - loss: 0.0098 - accuracy: 1.0000 - val_loss: 0.1393 - val_accuracy: 0.9670\n",
            "Epoch 76/100\n",
            "4/4 [==============================] - 0s 12ms/step - loss: 0.0095 - accuracy: 1.0000 - val_loss: 0.1402 - val_accuracy: 0.9670\n",
            "Epoch 77/100\n",
            "4/4 [==============================] - 0s 12ms/step - loss: 0.0092 - accuracy: 1.0000 - val_loss: 0.1409 - val_accuracy: 0.9670\n",
            "Epoch 78/100\n",
            "4/4 [==============================] - 0s 13ms/step - loss: 0.0089 - accuracy: 1.0000 - val_loss: 0.1426 - val_accuracy: 0.9670\n",
            "Epoch 79/100\n",
            "4/4 [==============================] - 0s 11ms/step - loss: 0.0086 - accuracy: 1.0000 - val_loss: 0.1430 - val_accuracy: 0.9670\n",
            "Epoch 80/100\n",
            "4/4 [==============================] - 0s 11ms/step - loss: 0.0083 - accuracy: 1.0000 - val_loss: 0.1431 - val_accuracy: 0.9670\n",
            "Epoch 81/100\n",
            "4/4 [==============================] - 0s 13ms/step - loss: 0.0081 - accuracy: 1.0000 - val_loss: 0.1440 - val_accuracy: 0.9670\n",
            "Epoch 82/100\n",
            "4/4 [==============================] - 0s 11ms/step - loss: 0.0079 - accuracy: 1.0000 - val_loss: 0.1445 - val_accuracy: 0.9670\n",
            "Epoch 83/100\n",
            "4/4 [==============================] - 0s 10ms/step - loss: 0.0076 - accuracy: 1.0000 - val_loss: 0.1459 - val_accuracy: 0.9670\n",
            "Epoch 84/100\n",
            "4/4 [==============================] - 0s 11ms/step - loss: 0.0074 - accuracy: 1.0000 - val_loss: 0.1474 - val_accuracy: 0.9670\n",
            "Epoch 85/100\n",
            "4/4 [==============================] - 0s 11ms/step - loss: 0.0072 - accuracy: 1.0000 - val_loss: 0.1477 - val_accuracy: 0.9670\n",
            "Epoch 86/100\n",
            "4/4 [==============================] - 0s 13ms/step - loss: 0.0070 - accuracy: 1.0000 - val_loss: 0.1473 - val_accuracy: 0.9560\n",
            "Epoch 87/100\n",
            "4/4 [==============================] - 0s 12ms/step - loss: 0.0068 - accuracy: 1.0000 - val_loss: 0.1485 - val_accuracy: 0.9560\n",
            "Epoch 88/100\n",
            "4/4 [==============================] - 0s 12ms/step - loss: 0.0065 - accuracy: 1.0000 - val_loss: 0.1487 - val_accuracy: 0.9560\n",
            "Epoch 89/100\n",
            "4/4 [==============================] - 0s 10ms/step - loss: 0.0064 - accuracy: 1.0000 - val_loss: 0.1492 - val_accuracy: 0.9560\n",
            "Epoch 90/100\n",
            "4/4 [==============================] - 0s 11ms/step - loss: 0.0062 - accuracy: 1.0000 - val_loss: 0.1497 - val_accuracy: 0.9560\n",
            "Epoch 91/100\n",
            "4/4 [==============================] - 0s 11ms/step - loss: 0.0060 - accuracy: 1.0000 - val_loss: 0.1500 - val_accuracy: 0.9560\n",
            "Epoch 92/100\n",
            "4/4 [==============================] - 0s 11ms/step - loss: 0.0059 - accuracy: 1.0000 - val_loss: 0.1511 - val_accuracy: 0.9560\n",
            "Epoch 93/100\n",
            "4/4 [==============================] - 0s 12ms/step - loss: 0.0057 - accuracy: 1.0000 - val_loss: 0.1509 - val_accuracy: 0.9560\n",
            "Epoch 94/100\n",
            "4/4 [==============================] - 0s 11ms/step - loss: 0.0055 - accuracy: 1.0000 - val_loss: 0.1511 - val_accuracy: 0.9560\n",
            "Epoch 95/100\n",
            "4/4 [==============================] - 0s 11ms/step - loss: 0.0054 - accuracy: 1.0000 - val_loss: 0.1517 - val_accuracy: 0.9560\n",
            "Epoch 96/100\n",
            "4/4 [==============================] - 0s 11ms/step - loss: 0.0052 - accuracy: 1.0000 - val_loss: 0.1522 - val_accuracy: 0.9560\n",
            "Epoch 97/100\n",
            "4/4 [==============================] - 0s 11ms/step - loss: 0.0051 - accuracy: 1.0000 - val_loss: 0.1522 - val_accuracy: 0.9560\n",
            "Epoch 98/100\n",
            "4/4 [==============================] - 0s 17ms/step - loss: 0.0049 - accuracy: 1.0000 - val_loss: 0.1535 - val_accuracy: 0.9560\n",
            "Epoch 99/100\n",
            "4/4 [==============================] - 0s 13ms/step - loss: 0.0048 - accuracy: 1.0000 - val_loss: 0.1541 - val_accuracy: 0.9560\n",
            "Epoch 100/100\n",
            "4/4 [==============================] - 0s 12ms/step - loss: 0.0047 - accuracy: 1.0000 - val_loss: 0.1540 - val_accuracy: 0.9560\n"
          ]
        }
      ]
    },
    {
      "cell_type": "markdown",
      "source": [
        "#### 모델 평가"
      ],
      "metadata": {
        "id": "Xb1f3F7WKvRf"
      }
    },
    {
      "cell_type": "code",
      "source": [
        "model2.evaluate(X_test2, y_test2)"
      ],
      "metadata": {
        "colab": {
          "base_uri": "https://localhost:8080/"
        },
        "outputId": "217db866-7879-4b3e-f7a5-89bff6724961",
        "id": "Z4KnEH7EKvRg"
      },
      "execution_count": 40,
      "outputs": [
        {
          "output_type": "stream",
          "name": "stdout",
          "text": [
            "4/4 [==============================] - 0s 5ms/step - loss: 0.0378 - accuracy: 0.9912\n"
          ]
        },
        {
          "output_type": "execute_result",
          "data": {
            "text/plain": [
              "[0.037827204912900925, 0.9912280440330505]"
            ]
          },
          "metadata": {},
          "execution_count": 40
        }
      ]
    },
    {
      "cell_type": "markdown",
      "source": [
        "#### 훈련과정 시각화 \n",
        "- epoch에 따른 accuracy, val_loss변화"
      ],
      "metadata": {
        "id": "WhafOWiOKvRg"
      }
    },
    {
      "cell_type": "code",
      "source": [
        "y_acc = history.history['accuracy']\n",
        "y_vloss = history.history['val_loss']\n",
        "xs = np.arange(1, len(y_acc)+1)"
      ],
      "metadata": {
        "id": "OwSZQaGmKvRg"
      },
      "execution_count": 41,
      "outputs": []
    },
    {
      "cell_type": "code",
      "source": [
        "plt.figure(figsize = (12, 8))\n",
        "plt.plot(xs, y_acc, label = 'train_acc', lw = 2)\n",
        "plt.plot(xs, y_vloss, label = 'val_loss', lw = 2)\n",
        "plt.legend(); plt.grid()\n",
        "plt.xlabel('Epoch')\n",
        "plt.title('feature transform', fontsize = 16)\n",
        "plt.show()"
      ],
      "metadata": {
        "colab": {
          "base_uri": "https://localhost:8080/",
          "height": 515
        },
        "outputId": "a5ebe521-56a9-4aef-ada9-492397e9717a",
        "id": "pvQHxMZFKvRh"
      },
      "execution_count": 45,
      "outputs": [
        {
          "output_type": "display_data",
          "data": {
            "text/plain": [
              "<Figure size 864x576 with 1 Axes>"
            ],
            "image/png": "[encoded data removed]"
          },
          "metadata": {
            "needs_background": "light"
          }
        }
      ]
    },
    {
      "cell_type": "code",
      "source": [
        ""
      ],
      "metadata": {
        "id": "3oBnr9KqJklw"
      },
      "execution_count": null,
      "outputs": []
    }
  ]
}