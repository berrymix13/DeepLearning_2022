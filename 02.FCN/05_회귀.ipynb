{
  "nbformat": 4,
  "nbformat_minor": 0,
  "metadata": {
    "colab": {
      "name": "05_회귀.ipynb",
      "provenance": [],
      "collapsed_sections": []
    },
    "kernelspec": {
      "name": "python3",
      "display_name": "Python 3"
    },
    "language_info": {
      "name": "python"
    }
  },
  "cells": [
    {
      "cell_type": "code",
      "execution_count": 1,
      "metadata": {
        "id": "PrzHBQevb_Es"
      },
      "outputs": [],
      "source": [
        "import numpy as np\n",
        "import pandas as pd\n",
        "import matplotlib.pyplot as plt\n",
        "import tensorflow as tf\n",
        "seed = 2022\n",
        "np.random.seed(seed)\n",
        "tf.random.set_seed(seed)"
      ]
    },
    {
      "cell_type": "code",
      "source": [
        "from sklearn.datasets import fetch_california_housing\n",
        "house = fetch_california_housing()"
      ],
      "metadata": {
        "id": "ovFIYrd8cDmP"
      },
      "execution_count": 2,
      "outputs": []
    },
    {
      "cell_type": "code",
      "source": [
        "df = pd.DataFrame(house.data, columns = house.feature_names)\n",
        "df['target'] = house.target\n",
        "df.head()"
      ],
      "metadata": {
        "colab": {
          "base_uri": "https://localhost:8080/",
          "height": 250
        },
        "id": "SaEI6ZQEcUHP",
        "outputId": "77f6207b-486d-4cf8-f0a0-3d859f7867de"
      },
      "execution_count": 4,
      "outputs": [
        {
          "output_type": "execute_result",
          "data": {
            "text/plain": [
              "   MedInc  HouseAge  AveRooms  AveBedrms  Population  AveOccup  Latitude  \\\n",
              "0  8.3252      41.0  6.984127   1.023810       322.0  2.555556     37.88   \n",
              "1  8.3014      21.0  6.238137   0.971880      2401.0  2.109842     37.86   \n",
              "2  7.2574      52.0  8.288136   1.073446       496.0  2.802260     37.85   \n",
              "3  5.6431      52.0  5.817352   1.073059       558.0  2.547945     37.85   \n",
              "4  3.8462      52.0  6.281853   1.081081       565.0  2.181467     37.85   \n",
              "\n",
              "   Longitude  target  \n",
              "0    -122.23   4.526  \n",
              "1    -122.22   3.585  \n",
              "2    -122.24   3.521  \n",
              "3    -122.25   3.413  \n",
              "4    -122.25   3.422  "
            ],
            "text/html": [
              "\n",
              "  <div id=\"df-4d5b8ac5-6bd9-4f85-a9ef-b28a3da0b94f\">\n",
              "    <div class=\"colab-df-container\">\n",
              "      <div>\n",
              "<style scoped>\n",
              "    .dataframe tbody tr th:only-of-type {\n",
              "        vertical-align: middle;\n",
              "    }\n",
              "\n",
              "    .dataframe tbody tr th {\n",
              "        vertical-align: top;\n",
              "    }\n",
              "\n",
              "    .dataframe thead th {\n",
              "        text-align: right;\n",
              "    }\n",
              "</style>\n",
              "<table border=\"1\" class=\"dataframe\">\n",
              "  <thead>\n",
              "    <tr style=\"text-align: right;\">\n",
              "      <th></th>\n",
              "      <th>MedInc</th>\n",
              "      <th>HouseAge</th>\n",
              "      <th>AveRooms</th>\n",
              "      <th>AveBedrms</th>\n",
              "      <th>Population</th>\n",
              "      <th>AveOccup</th>\n",
              "      <th>Latitude</th>\n",
              "      <th>Longitude</th>\n",
              "      <th>target</th>\n",
              "    </tr>\n",
              "  </thead>\n",
              "  <tbody>\n",
              "    <tr>\n",
              "      <th>0</th>\n",
              "      <td>8.3252</td>\n",
              "      <td>41.0</td>\n",
              "      <td>6.984127</td>\n",
              "      <td>1.023810</td>\n",
              "      <td>322.0</td>\n",
              "      <td>2.555556</td>\n",
              "      <td>37.88</td>\n",
              "      <td>-122.23</td>\n",
              "      <td>4.526</td>\n",
              "    </tr>\n",
              "    <tr>\n",
              "      <th>1</th>\n",
              "      <td>8.3014</td>\n",
              "      <td>21.0</td>\n",
              "      <td>6.238137</td>\n",
              "      <td>0.971880</td>\n",
              "      <td>2401.0</td>\n",
              "      <td>2.109842</td>\n",
              "      <td>37.86</td>\n",
              "      <td>-122.22</td>\n",
              "      <td>3.585</td>\n",
              "    </tr>\n",
              "    <tr>\n",
              "      <th>2</th>\n",
              "      <td>7.2574</td>\n",
              "      <td>52.0</td>\n",
              "      <td>8.288136</td>\n",
              "      <td>1.073446</td>\n",
              "      <td>496.0</td>\n",
              "      <td>2.802260</td>\n",
              "      <td>37.85</td>\n",
              "      <td>-122.24</td>\n",
              "      <td>3.521</td>\n",
              "    </tr>\n",
              "    <tr>\n",
              "      <th>3</th>\n",
              "      <td>5.6431</td>\n",
              "      <td>52.0</td>\n",
              "      <td>5.817352</td>\n",
              "      <td>1.073059</td>\n",
              "      <td>558.0</td>\n",
              "      <td>2.547945</td>\n",
              "      <td>37.85</td>\n",
              "      <td>-122.25</td>\n",
              "      <td>3.413</td>\n",
              "    </tr>\n",
              "    <tr>\n",
              "      <th>4</th>\n",
              "      <td>3.8462</td>\n",
              "      <td>52.0</td>\n",
              "      <td>6.281853</td>\n",
              "      <td>1.081081</td>\n",
              "      <td>565.0</td>\n",
              "      <td>2.181467</td>\n",
              "      <td>37.85</td>\n",
              "      <td>-122.25</td>\n",
              "      <td>3.422</td>\n",
              "    </tr>\n",
              "  </tbody>\n",
              "</table>\n",
              "</div>\n",
              "      <button class=\"colab-df-convert\" onclick=\"convertToInteractive('df-4d5b8ac5-6bd9-4f85-a9ef-b28a3da0b94f')\"\n",
              "              title=\"Convert this dataframe to an interactive table.\"\n",
              "              style=\"display:none;\">\n",
              "        \n",
              "  <svg xmlns=\"http://www.w3.org/2000/svg\" height=\"24px\"viewBox=\"0 0 24 24\"\n",
              "       width=\"24px\">\n",
              "    <path d=\"M0 0h24v24H0V0z\" fill=\"none\"/>\n",
              "    <path d=\"M18.56 5.44l.94 2.06.94-2.06 2.06-.94-2.06-.94-.94-2.06-.94 2.06-2.06.94zm-11 1L8.5 8.5l.94-2.06 2.06-.94-2.06-.94L8.5 2.5l-.94 2.06-2.06.94zm10 10l.94 2.06.94-2.06 2.06-.94-2.06-.94-.94-2.06-.94 2.06-2.06.94z\"/><path d=\"M17.41 7.96l-1.37-1.37c-.4-.4-.92-.59-1.43-.59-.52 0-1.04.2-1.43.59L10.3 9.45l-7.72 7.72c-.78.78-.78 2.05 0 2.83L4 21.41c.39.39.9.59 1.41.59.51 0 1.02-.2 1.41-.59l7.78-7.78 2.81-2.81c.8-.78.8-2.07 0-2.86zM5.41 20L4 18.59l7.72-7.72 1.47 1.35L5.41 20z\"/>\n",
              "  </svg>\n",
              "      </button>\n",
              "      \n",
              "  <style>\n",
              "    .colab-df-container {\n",
              "      display:flex;\n",
              "      flex-wrap:wrap;\n",
              "      gap: 12px;\n",
              "    }\n",
              "\n",
              "    .colab-df-convert {\n",
              "      background-color: #E8F0FE;\n",
              "      border: none;\n",
              "      border-radius: 50%;\n",
              "      cursor: pointer;\n",
              "      display: none;\n",
              "      fill: #1967D2;\n",
              "      height: 32px;\n",
              "      padding: 0 0 0 0;\n",
              "      width: 32px;\n",
              "    }\n",
              "\n",
              "    .colab-df-convert:hover {\n",
              "      background-color: #E2EBFA;\n",
              "      box-shadow: 0px 1px 2px rgba(60, 64, 67, 0.3), 0px 1px 3px 1px rgba(60, 64, 67, 0.15);\n",
              "      fill: #174EA6;\n",
              "    }\n",
              "\n",
              "    [theme=dark] .colab-df-convert {\n",
              "      background-color: #3B4455;\n",
              "      fill: #D2E3FC;\n",
              "    }\n",
              "\n",
              "    [theme=dark] .colab-df-convert:hover {\n",
              "      background-color: #434B5C;\n",
              "      box-shadow: 0px 1px 3px 1px rgba(0, 0, 0, 0.15);\n",
              "      filter: drop-shadow(0px 1px 2px rgba(0, 0, 0, 0.3));\n",
              "      fill: #FFFFFF;\n",
              "    }\n",
              "  </style>\n",
              "\n",
              "      <script>\n",
              "        const buttonEl =\n",
              "          document.querySelector('#df-4d5b8ac5-6bd9-4f85-a9ef-b28a3da0b94f button.colab-df-convert');\n",
              "        buttonEl.style.display =\n",
              "          google.colab.kernel.accessAllowed ? 'block' : 'none';\n",
              "\n",
              "        async function convertToInteractive(key) {\n",
              "          const element = document.querySelector('#df-4d5b8ac5-6bd9-4f85-a9ef-b28a3da0b94f');\n",
              "          const dataTable =\n",
              "            await google.colab.kernel.invokeFunction('convertToInteractive',\n",
              "                                                     [key], {});\n",
              "          if (!dataTable) return;\n",
              "\n",
              "          const docLinkHtml = 'Like what you see? Visit the ' +\n",
              "            '<a target=\"_blank\" href=https://colab.research.google.com/notebooks/data_table.ipynb>data table notebook</a>'\n",
              "            + ' to learn more about interactive tables.';\n",
              "          element.innerHTML = '';\n",
              "          dataTable['output_type'] = 'display_data';\n",
              "          await google.colab.output.renderOutput(dataTable, element);\n",
              "          const docLink = document.createElement('div');\n",
              "          docLink.innerHTML = docLinkHtml;\n",
              "          element.appendChild(docLink);\n",
              "        }\n",
              "      </script>\n",
              "    </div>\n",
              "  </div>\n",
              "  "
            ]
          },
          "metadata": {},
          "execution_count": 4
        }
      ]
    },
    {
      "cell_type": "code",
      "source": [
        "df.shape"
      ],
      "metadata": {
        "colab": {
          "base_uri": "https://localhost:8080/"
        },
        "id": "mtrsoDBCcf0Q",
        "outputId": "790c0d76-abad-4c73-aedb-e9087dfde5c2"
      },
      "execution_count": 5,
      "outputs": [
        {
          "output_type": "execute_result",
          "data": {
            "text/plain": [
              "(20640, 9)"
            ]
          },
          "metadata": {},
          "execution_count": 5
        }
      ]
    },
    {
      "cell_type": "code",
      "source": [
        "from sklearn.model_selection import train_test_split\n",
        "X_train, X_test, y_train, y_test = train_test_split(\n",
        "    house.data, house.target, random_state = seed, test_size = 0.2\n",
        ")\n",
        "X_train.shape, X_test.shape, y_train.shape, y_test.shape"
      ],
      "metadata": {
        "colab": {
          "base_uri": "https://localhost:8080/"
        },
        "id": "eqb7GYYYcvX-",
        "outputId": "778df4a4-41d8-4b81-953c-f09b177c60df"
      },
      "execution_count": 7,
      "outputs": [
        {
          "output_type": "execute_result",
          "data": {
            "text/plain": [
              "((16512, 8), (4128, 8), (16512,), (4128,))"
            ]
          },
          "metadata": {},
          "execution_count": 7
        }
      ]
    },
    {
      "cell_type": "markdown",
      "source": [
        "### 모델정의"
      ],
      "metadata": {
        "id": "2kHxxWMeduMw"
      }
    },
    {
      "cell_type": "code",
      "source": [
        "from tensorflow.keras.models import Sequential\n",
        "from tensorflow.keras.layers import Dense\n",
        "\n",
        "# input_dim = X_data의 열의 수\n",
        "model = Sequential([\n",
        "    Dense(20, input_dim = 8, activation = 'relu'),  # 입력층\n",
        "    Dense(6, activation = 'relu'),\n",
        "    Dense(1)\n",
        "    # 회귀에서의 출력층의 노드 수 = 1       \n",
        "    # !!!!활성함수는 사용하지 않는다!!!!!\n",
        "])\n",
        "model.summary()"
      ],
      "metadata": {
        "colab": {
          "base_uri": "https://localhost:8080/"
        },
        "id": "-3LBEv_5drR4",
        "outputId": "36839c0d-8ddb-4fb2-b1ed-bca7afa56823"
      },
      "execution_count": 8,
      "outputs": [
        {
          "output_type": "stream",
          "name": "stdout",
          "text": [
            "Model: \"sequential\"\n",
            "_________________________________________________________________\n",
            " Layer (type)                Output Shape              Param #   \n",
            "=================================================================\n",
            " dense (Dense)               (None, 20)                180       \n",
            "                                                                 \n",
            " dense_1 (Dense)             (None, 6)                 126       \n",
            "                                                                 \n",
            " dense_2 (Dense)             (None, 1)                 7         \n",
            "                                                                 \n",
            "=================================================================\n",
            "Total params: 313\n",
            "Trainable params: 313\n",
            "Non-trainable params: 0\n",
            "_________________________________________________________________\n"
          ]
        }
      ]
    },
    {
      "cell_type": "code",
      "source": [
        "# 회귀에서의 loss 는 MSE\n",
        "# metrics에서는 사용하지 않음\n",
        "# optimizer 의 default는 pmsprob이라서 생략\n",
        "model.compile(loss = 'mean_squared_error')"
      ],
      "metadata": {
        "id": "zDnQ7sC0d9X3"
      },
      "execution_count": 9,
      "outputs": []
    },
    {
      "cell_type": "code",
      "source": [
        "hist = model.fit(X_train, y_train, validation_split= 0.1,\n",
        "                 epochs = 100, batch_size = 256)"
      ],
      "metadata": {
        "colab": {
          "base_uri": "https://localhost:8080/"
        },
        "id": "Qsu50aG-eboz",
        "outputId": "0cc98892-e7e6-4130-bf38-21f6ba76c9e4"
      },
      "execution_count": 10,
      "outputs": [
        {
          "output_type": "stream",
          "name": "stdout",
          "text": [
            "Epoch 1/100\n",
            "59/59 [==============================] - 2s 8ms/step - loss: 30581.4082 - val_loss: 957.4070\n",
            "Epoch 2/100\n",
            "59/59 [==============================] - 0s 3ms/step - loss: 383.2949 - val_loss: 89.2693\n",
            "Epoch 3/100\n",
            "59/59 [==============================] - 0s 5ms/step - loss: 111.1375 - val_loss: 86.3022\n",
            "Epoch 4/100\n",
            "59/59 [==============================] - 0s 5ms/step - loss: 79.8120 - val_loss: 7.6804\n",
            "Epoch 5/100\n",
            "59/59 [==============================] - 0s 4ms/step - loss: 72.3022 - val_loss: 23.5109\n",
            "Epoch 6/100\n",
            "59/59 [==============================] - 0s 6ms/step - loss: 73.9922 - val_loss: 32.9987\n",
            "Epoch 7/100\n",
            "59/59 [==============================] - 0s 4ms/step - loss: 76.9692 - val_loss: 5.6146\n",
            "Epoch 8/100\n",
            "59/59 [==============================] - 0s 5ms/step - loss: 73.5694 - val_loss: 11.6884\n",
            "Epoch 9/100\n",
            "59/59 [==============================] - 0s 4ms/step - loss: 68.5618 - val_loss: 3.4555\n",
            "Epoch 10/100\n",
            "59/59 [==============================] - 0s 4ms/step - loss: 77.9948 - val_loss: 8.0754\n",
            "Epoch 11/100\n",
            "59/59 [==============================] - 0s 3ms/step - loss: 69.7430 - val_loss: 3.1069\n",
            "Epoch 12/100\n",
            "59/59 [==============================] - 0s 4ms/step - loss: 64.5609 - val_loss: 100.7613\n",
            "Epoch 13/100\n",
            "59/59 [==============================] - 0s 3ms/step - loss: 77.1971 - val_loss: 2.3438\n",
            "Epoch 14/100\n",
            "59/59 [==============================] - 0s 4ms/step - loss: 68.4801 - val_loss: 6.7352\n",
            "Epoch 15/100\n",
            "59/59 [==============================] - 0s 3ms/step - loss: 65.5663 - val_loss: 55.3166\n",
            "Epoch 16/100\n",
            "59/59 [==============================] - 0s 3ms/step - loss: 66.6943 - val_loss: 3.5509\n",
            "Epoch 17/100\n",
            "59/59 [==============================] - 0s 3ms/step - loss: 57.8846 - val_loss: 120.4674\n",
            "Epoch 18/100\n",
            "59/59 [==============================] - 0s 4ms/step - loss: 62.4948 - val_loss: 97.2737\n",
            "Epoch 19/100\n",
            "59/59 [==============================] - 0s 3ms/step - loss: 68.3832 - val_loss: 10.8373\n",
            "Epoch 20/100\n",
            "59/59 [==============================] - 0s 4ms/step - loss: 60.8499 - val_loss: 34.6053\n",
            "Epoch 21/100\n",
            "59/59 [==============================] - 0s 4ms/step - loss: 56.3089 - val_loss: 35.8442\n",
            "Epoch 22/100\n",
            "59/59 [==============================] - 0s 5ms/step - loss: 64.7407 - val_loss: 226.5620\n",
            "Epoch 23/100\n",
            "59/59 [==============================] - 0s 4ms/step - loss: 65.2742 - val_loss: 3.2507\n",
            "Epoch 24/100\n",
            "59/59 [==============================] - 0s 3ms/step - loss: 50.4541 - val_loss: 2.4037\n",
            "Epoch 25/100\n",
            "59/59 [==============================] - 0s 3ms/step - loss: 52.9219 - val_loss: 29.5667\n",
            "Epoch 26/100\n",
            "59/59 [==============================] - 0s 3ms/step - loss: 64.4953 - val_loss: 2.0874\n",
            "Epoch 27/100\n",
            "59/59 [==============================] - 0s 4ms/step - loss: 60.2863 - val_loss: 2.3577\n",
            "Epoch 28/100\n",
            "59/59 [==============================] - 0s 3ms/step - loss: 53.1000 - val_loss: 2.1500\n",
            "Epoch 29/100\n",
            "59/59 [==============================] - 0s 4ms/step - loss: 51.5007 - val_loss: 17.8985\n",
            "Epoch 30/100\n",
            "59/59 [==============================] - 0s 4ms/step - loss: 55.8458 - val_loss: 196.5553\n",
            "Epoch 31/100\n",
            "59/59 [==============================] - 0s 4ms/step - loss: 57.0199 - val_loss: 43.4484\n",
            "Epoch 32/100\n",
            "59/59 [==============================] - 0s 3ms/step - loss: 50.5495 - val_loss: 158.3671\n",
            "Epoch 33/100\n",
            "59/59 [==============================] - 0s 4ms/step - loss: 53.8892 - val_loss: 1.7261\n",
            "Epoch 34/100\n",
            "59/59 [==============================] - 0s 4ms/step - loss: 54.7005 - val_loss: 3.9177\n",
            "Epoch 35/100\n",
            "59/59 [==============================] - 0s 4ms/step - loss: 54.9129 - val_loss: 1.5539\n",
            "Epoch 36/100\n",
            "59/59 [==============================] - 0s 4ms/step - loss: 46.6950 - val_loss: 160.2286\n",
            "Epoch 37/100\n",
            "59/59 [==============================] - 0s 4ms/step - loss: 65.9322 - val_loss: 2.1672\n",
            "Epoch 38/100\n",
            "59/59 [==============================] - 0s 4ms/step - loss: 36.2959 - val_loss: 6.8996\n",
            "Epoch 39/100\n",
            "59/59 [==============================] - 0s 4ms/step - loss: 62.1518 - val_loss: 1.8918\n",
            "Epoch 40/100\n",
            "59/59 [==============================] - 0s 4ms/step - loss: 57.2367 - val_loss: 185.0327\n",
            "Epoch 41/100\n",
            "59/59 [==============================] - 0s 3ms/step - loss: 49.9224 - val_loss: 28.4925\n",
            "Epoch 42/100\n",
            "59/59 [==============================] - 0s 3ms/step - loss: 55.7742 - val_loss: 1.4978\n",
            "Epoch 43/100\n",
            "59/59 [==============================] - 0s 3ms/step - loss: 51.9686 - val_loss: 266.9117\n",
            "Epoch 44/100\n",
            "59/59 [==============================] - 0s 3ms/step - loss: 51.6997 - val_loss: 1.9393\n",
            "Epoch 45/100\n",
            "59/59 [==============================] - 0s 4ms/step - loss: 54.8966 - val_loss: 417.2132\n",
            "Epoch 46/100\n",
            "59/59 [==============================] - 0s 4ms/step - loss: 48.5603 - val_loss: 53.8747\n",
            "Epoch 47/100\n",
            "59/59 [==============================] - 0s 3ms/step - loss: 49.2113 - val_loss: 9.2582\n",
            "Epoch 48/100\n",
            "59/59 [==============================] - 0s 3ms/step - loss: 49.6901 - val_loss: 797.3077\n",
            "Epoch 49/100\n",
            "59/59 [==============================] - 0s 3ms/step - loss: 53.0054 - val_loss: 9.6915\n",
            "Epoch 50/100\n",
            "59/59 [==============================] - 0s 4ms/step - loss: 54.0511 - val_loss: 17.3721\n",
            "Epoch 51/100\n",
            "59/59 [==============================] - 0s 3ms/step - loss: 38.6908 - val_loss: 62.0809\n",
            "Epoch 52/100\n",
            "59/59 [==============================] - 0s 4ms/step - loss: 55.4343 - val_loss: 1.9832\n",
            "Epoch 53/100\n",
            "59/59 [==============================] - 0s 4ms/step - loss: 52.4185 - val_loss: 9.2064\n",
            "Epoch 54/100\n",
            "59/59 [==============================] - 0s 6ms/step - loss: 51.5370 - val_loss: 15.0175\n",
            "Epoch 55/100\n",
            "59/59 [==============================] - 0s 4ms/step - loss: 59.6964 - val_loss: 2.0406\n",
            "Epoch 56/100\n",
            "59/59 [==============================] - 0s 3ms/step - loss: 37.8276 - val_loss: 36.2404\n",
            "Epoch 57/100\n",
            "59/59 [==============================] - 0s 3ms/step - loss: 55.8143 - val_loss: 9.9439\n",
            "Epoch 58/100\n",
            "59/59 [==============================] - 0s 3ms/step - loss: 50.6607 - val_loss: 1.5212\n",
            "Epoch 59/100\n",
            "59/59 [==============================] - 0s 4ms/step - loss: 45.0669 - val_loss: 18.8217\n",
            "Epoch 60/100\n",
            "59/59 [==============================] - 0s 3ms/step - loss: 53.1199 - val_loss: 5.9539\n",
            "Epoch 61/100\n",
            "59/59 [==============================] - 0s 4ms/step - loss: 52.0792 - val_loss: 2.1751\n",
            "Epoch 62/100\n",
            "59/59 [==============================] - 0s 4ms/step - loss: 45.8573 - val_loss: 14.3787\n",
            "Epoch 63/100\n",
            "59/59 [==============================] - 0s 4ms/step - loss: 51.6308 - val_loss: 1.4107\n",
            "Epoch 64/100\n",
            "59/59 [==============================] - 0s 3ms/step - loss: 51.1558 - val_loss: 4.1761\n",
            "Epoch 65/100\n",
            "59/59 [==============================] - 0s 5ms/step - loss: 44.1652 - val_loss: 26.4489\n",
            "Epoch 66/100\n",
            "59/59 [==============================] - 0s 5ms/step - loss: 46.8804 - val_loss: 1.3854\n",
            "Epoch 67/100\n",
            "59/59 [==============================] - 0s 5ms/step - loss: 44.9737 - val_loss: 1.5979\n",
            "Epoch 68/100\n",
            "59/59 [==============================] - 0s 4ms/step - loss: 50.4324 - val_loss: 4.8070\n",
            "Epoch 69/100\n",
            "59/59 [==============================] - 0s 4ms/step - loss: 49.2209 - val_loss: 29.0846\n",
            "Epoch 70/100\n",
            "59/59 [==============================] - 0s 4ms/step - loss: 52.3050 - val_loss: 18.3124\n",
            "Epoch 71/100\n",
            "59/59 [==============================] - 0s 4ms/step - loss: 41.3242 - val_loss: 328.2485\n",
            "Epoch 72/100\n",
            "59/59 [==============================] - 0s 4ms/step - loss: 51.9445 - val_loss: 1.9281\n",
            "Epoch 73/100\n",
            "59/59 [==============================] - 0s 3ms/step - loss: 44.6599 - val_loss: 4.2501\n",
            "Epoch 74/100\n",
            "59/59 [==============================] - 0s 3ms/step - loss: 51.4740 - val_loss: 3.2251\n",
            "Epoch 75/100\n",
            "59/59 [==============================] - 0s 4ms/step - loss: 51.7271 - val_loss: 2.9460\n",
            "Epoch 76/100\n",
            "59/59 [==============================] - 0s 3ms/step - loss: 45.1092 - val_loss: 1.5439\n",
            "Epoch 77/100\n",
            "59/59 [==============================] - 0s 4ms/step - loss: 41.8218 - val_loss: 1.3907\n",
            "Epoch 78/100\n",
            "59/59 [==============================] - 0s 4ms/step - loss: 43.7603 - val_loss: 7.6387\n",
            "Epoch 79/100\n",
            "59/59 [==============================] - 0s 5ms/step - loss: 49.7122 - val_loss: 2.0038\n",
            "Epoch 80/100\n",
            "59/59 [==============================] - 0s 4ms/step - loss: 41.5123 - val_loss: 2.0677\n",
            "Epoch 81/100\n",
            "59/59 [==============================] - 0s 4ms/step - loss: 48.5936 - val_loss: 2.4175\n",
            "Epoch 82/100\n",
            "59/59 [==============================] - 0s 4ms/step - loss: 43.7074 - val_loss: 1.4711\n",
            "Epoch 83/100\n",
            "59/59 [==============================] - 0s 5ms/step - loss: 40.5120 - val_loss: 1.6454\n",
            "Epoch 84/100\n",
            "59/59 [==============================] - 0s 4ms/step - loss: 47.5209 - val_loss: 1.4185\n",
            "Epoch 85/100\n",
            "59/59 [==============================] - 0s 4ms/step - loss: 41.6328 - val_loss: 1.4074\n",
            "Epoch 86/100\n",
            "59/59 [==============================] - 0s 4ms/step - loss: 43.6619 - val_loss: 25.0489\n",
            "Epoch 87/100\n",
            "59/59 [==============================] - 0s 4ms/step - loss: 40.5143 - val_loss: 6.8655\n",
            "Epoch 88/100\n",
            "59/59 [==============================] - 0s 3ms/step - loss: 49.5718 - val_loss: 5.3322\n",
            "Epoch 89/100\n",
            "59/59 [==============================] - 0s 3ms/step - loss: 37.9898 - val_loss: 410.6556\n",
            "Epoch 90/100\n",
            "59/59 [==============================] - 0s 3ms/step - loss: 44.8692 - val_loss: 23.0822\n",
            "Epoch 91/100\n",
            "59/59 [==============================] - 0s 4ms/step - loss: 42.2965 - val_loss: 2.1533\n",
            "Epoch 92/100\n",
            "59/59 [==============================] - 0s 4ms/step - loss: 39.0521 - val_loss: 268.0899\n",
            "Epoch 93/100\n",
            "59/59 [==============================] - 0s 4ms/step - loss: 44.6452 - val_loss: 64.6687\n",
            "Epoch 94/100\n",
            "59/59 [==============================] - 0s 4ms/step - loss: 39.3078 - val_loss: 214.4040\n",
            "Epoch 95/100\n",
            "59/59 [==============================] - 0s 5ms/step - loss: 41.8578 - val_loss: 5.6242\n",
            "Epoch 96/100\n",
            "59/59 [==============================] - 0s 4ms/step - loss: 42.6707 - val_loss: 3.7306\n",
            "Epoch 97/100\n",
            "59/59 [==============================] - 0s 3ms/step - loss: 40.4946 - val_loss: 1.3228\n",
            "Epoch 98/100\n",
            "59/59 [==============================] - 0s 3ms/step - loss: 42.6618 - val_loss: 33.9453\n",
            "Epoch 99/100\n",
            "59/59 [==============================] - 0s 3ms/step - loss: 52.3865 - val_loss: 1.7540\n",
            "Epoch 100/100\n",
            "59/59 [==============================] - 0s 4ms/step - loss: 35.2394 - val_loss: 1.4181\n"
          ]
        }
      ]
    },
    {
      "cell_type": "code",
      "source": [
        "y_loss = hist.history['loss']\n",
        "y_vloss = hist.history['val_loss']\n",
        "xs = np.arange(1, len(y_loss)+1)\n",
        "\n",
        "plt.figure(figsize = (10, 7))\n",
        "plt.plot(xs, y_loss, label = 'train_loss')\n",
        "plt.plot(xs, y_vloss, label = 'validation_vloss')\n",
        "plt.legend()\n",
        "plt.xlabel('Epoch')\n",
        "plt.ylim([0,1000])\n",
        "plt.show()\n",
        "\n",
        "# train_loss 는 계속 줄지만..\n",
        "# validation_lass는 계속 튐"
      ],
      "metadata": {
        "colab": {
          "base_uri": "https://localhost:8080/",
          "height": 446
        },
        "id": "Cgz3bRi-esOm",
        "outputId": "4ec979e5-31a5-4eed-fdd8-9a15d07f513d"
      },
      "execution_count": 18,
      "outputs": [
        {
          "output_type": "display_data",
          "data": {
            "text/plain": [
              "<Figure size 720x504 with 1 Axes>"
            ],
            "image/png": "[encoded data removed]"
          },
          "metadata": {
            "needs_background": "light"
          }
        }
      ]
    },
    {
      "cell_type": "markdown",
      "source": [
        "### 평가"
      ],
      "metadata": {
        "id": "B9gVFMp7f5Iy"
      }
    },
    {
      "cell_type": "code",
      "source": [
        "pred = model.predict(X_test)"
      ],
      "metadata": {
        "id": "LVsQhuBafYee"
      },
      "execution_count": 19,
      "outputs": []
    },
    {
      "cell_type": "code",
      "source": [
        "dft = pd.DataFrame({'y_test' : y_test, 'pred' : pred.flatten()})\n",
        "dft.head()"
      ],
      "metadata": {
        "colab": {
          "base_uri": "https://localhost:8080/",
          "height": 206
        },
        "id": "thuyswe_f9Pd",
        "outputId": "bda47285-bf20-436a-aa12-beefdf7219cd"
      },
      "execution_count": 22,
      "outputs": [
        {
          "output_type": "execute_result",
          "data": {
            "text/plain": [
              "   y_test      pred\n",
              "0   4.771  3.891151\n",
              "1   1.371  2.013074\n",
              "2   1.233  1.546014\n",
              "3   0.938  1.052222\n",
              "4   3.260  3.074772"
            ],
            "text/html": [
              "\n",
              "  <div id=\"df-265b8526-86b3-497a-8be5-066920a588b5\">\n",
              "    <div class=\"colab-df-container\">\n",
              "      <div>\n",
              "<style scoped>\n",
              "    .dataframe tbody tr th:only-of-type {\n",
              "        vertical-align: middle;\n",
              "    }\n",
              "\n",
              "    .dataframe tbody tr th {\n",
              "        vertical-align: top;\n",
              "    }\n",
              "\n",
              "    .dataframe thead th {\n",
              "        text-align: right;\n",
              "    }\n",
              "</style>\n",
              "<table border=\"1\" class=\"dataframe\">\n",
              "  <thead>\n",
              "    <tr style=\"text-align: right;\">\n",
              "      <th></th>\n",
              "      <th>y_test</th>\n",
              "      <th>pred</th>\n",
              "    </tr>\n",
              "  </thead>\n",
              "  <tbody>\n",
              "    <tr>\n",
              "      <th>0</th>\n",
              "      <td>4.771</td>\n",
              "      <td>3.891151</td>\n",
              "    </tr>\n",
              "    <tr>\n",
              "      <th>1</th>\n",
              "      <td>1.371</td>\n",
              "      <td>2.013074</td>\n",
              "    </tr>\n",
              "    <tr>\n",
              "      <th>2</th>\n",
              "      <td>1.233</td>\n",
              "      <td>1.546014</td>\n",
              "    </tr>\n",
              "    <tr>\n",
              "      <th>3</th>\n",
              "      <td>0.938</td>\n",
              "      <td>1.052222</td>\n",
              "    </tr>\n",
              "    <tr>\n",
              "      <th>4</th>\n",
              "      <td>3.260</td>\n",
              "      <td>3.074772</td>\n",
              "    </tr>\n",
              "  </tbody>\n",
              "</table>\n",
              "</div>\n",
              "      <button class=\"colab-df-convert\" onclick=\"convertToInteractive('df-265b8526-86b3-497a-8be5-066920a588b5')\"\n",
              "              title=\"Convert this dataframe to an interactive table.\"\n",
              "              style=\"display:none;\">\n",
              "        \n",
              "  <svg xmlns=\"http://www.w3.org/2000/svg\" height=\"24px\"viewBox=\"0 0 24 24\"\n",
              "       width=\"24px\">\n",
              "    <path d=\"M0 0h24v24H0V0z\" fill=\"none\"/>\n",
              "    <path d=\"M18.56 5.44l.94 2.06.94-2.06 2.06-.94-2.06-.94-.94-2.06-.94 2.06-2.06.94zm-11 1L8.5 8.5l.94-2.06 2.06-.94-2.06-.94L8.5 2.5l-.94 2.06-2.06.94zm10 10l.94 2.06.94-2.06 2.06-.94-2.06-.94-.94-2.06-.94 2.06-2.06.94z\"/><path d=\"M17.41 7.96l-1.37-1.37c-.4-.4-.92-.59-1.43-.59-.52 0-1.04.2-1.43.59L10.3 9.45l-7.72 7.72c-.78.78-.78 2.05 0 2.83L4 21.41c.39.39.9.59 1.41.59.51 0 1.02-.2 1.41-.59l7.78-7.78 2.81-2.81c.8-.78.8-2.07 0-2.86zM5.41 20L4 18.59l7.72-7.72 1.47 1.35L5.41 20z\"/>\n",
              "  </svg>\n",
              "      </button>\n",
              "      \n",
              "  <style>\n",
              "    .colab-df-container {\n",
              "      display:flex;\n",
              "      flex-wrap:wrap;\n",
              "      gap: 12px;\n",
              "    }\n",
              "\n",
              "    .colab-df-convert {\n",
              "      background-color: #E8F0FE;\n",
              "      border: none;\n",
              "      border-radius: 50%;\n",
              "      cursor: pointer;\n",
              "      display: none;\n",
              "      fill: #1967D2;\n",
              "      height: 32px;\n",
              "      padding: 0 0 0 0;\n",
              "      width: 32px;\n",
              "    }\n",
              "\n",
              "    .colab-df-convert:hover {\n",
              "      background-color: #E2EBFA;\n",
              "      box-shadow: 0px 1px 2px rgba(60, 64, 67, 0.3), 0px 1px 3px 1px rgba(60, 64, 67, 0.15);\n",
              "      fill: #174EA6;\n",
              "    }\n",
              "\n",
              "    [theme=dark] .colab-df-convert {\n",
              "      background-color: #3B4455;\n",
              "      fill: #D2E3FC;\n",
              "    }\n",
              "\n",
              "    [theme=dark] .colab-df-convert:hover {\n",
              "      background-color: #434B5C;\n",
              "      box-shadow: 0px 1px 3px 1px rgba(0, 0, 0, 0.15);\n",
              "      filter: drop-shadow(0px 1px 2px rgba(0, 0, 0, 0.3));\n",
              "      fill: #FFFFFF;\n",
              "    }\n",
              "  </style>\n",
              "\n",
              "      <script>\n",
              "        const buttonEl =\n",
              "          document.querySelector('#df-265b8526-86b3-497a-8be5-066920a588b5 button.colab-df-convert');\n",
              "        buttonEl.style.display =\n",
              "          google.colab.kernel.accessAllowed ? 'block' : 'none';\n",
              "\n",
              "        async function convertToInteractive(key) {\n",
              "          const element = document.querySelector('#df-265b8526-86b3-497a-8be5-066920a588b5');\n",
              "          const dataTable =\n",
              "            await google.colab.kernel.invokeFunction('convertToInteractive',\n",
              "                                                     [key], {});\n",
              "          if (!dataTable) return;\n",
              "\n",
              "          const docLinkHtml = 'Like what you see? Visit the ' +\n",
              "            '<a target=\"_blank\" href=https://colab.research.google.com/notebooks/data_table.ipynb>data table notebook</a>'\n",
              "            + ' to learn more about interactive tables.';\n",
              "          element.innerHTML = '';\n",
              "          dataTable['output_type'] = 'display_data';\n",
              "          await google.colab.output.renderOutput(dataTable, element);\n",
              "          const docLink = document.createElement('div');\n",
              "          docLink.innerHTML = docLinkHtml;\n",
              "          element.appendChild(docLink);\n",
              "        }\n",
              "      </script>\n",
              "    </div>\n",
              "  </div>\n",
              "  "
            ]
          },
          "metadata": {},
          "execution_count": 22
        }
      ]
    },
    {
      "cell_type": "markdown",
      "source": [
        "### score 구하기"
      ],
      "metadata": {
        "id": "2x23clKbgaDO"
      }
    },
    {
      "cell_type": "code",
      "source": [
        "from sklearn.metrics import mean_squared_error, r2_score\n",
        "\n",
        "# 여기서는 pred에 flatten을 해주지 않아도 됨.\n",
        "mean_squared_error(y_test, pred), r2_score(y_test, pred)"
      ],
      "metadata": {
        "colab": {
          "base_uri": "https://localhost:8080/"
        },
        "id": "_XOhuxy9gKcN",
        "outputId": "08828661-b744-461e-a474-a72a45756efc"
      },
      "execution_count": 24,
      "outputs": [
        {
          "output_type": "execute_result",
          "data": {
            "text/plain": [
              "(1.53574474243818, -0.1867381228201359)"
            ]
          },
          "metadata": {},
          "execution_count": 24
        }
      ]
    },
    {
      "cell_type": "code",
      "source": [
        ""
      ],
      "metadata": {
        "id": "7t3dYP6dgpsE"
      },
      "execution_count": null,
      "outputs": []
    }
  ]
}